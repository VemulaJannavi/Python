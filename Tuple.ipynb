{
 "cells": [
  {
   "cell_type": "markdown",
   "id": "03575f7d-25fd-4d17-9810-b87715695d11",
   "metadata": {},
   "source": [
    "## Tuple creation"
   ]
  },
  {
   "cell_type": "code",
   "execution_count": 7,
   "id": "56d2955b-21e4-4428-ad95-f93c3df2460f",
   "metadata": {},
   "outputs": [],
   "source": [
    "tup1=()"
   ]
  },
  {
   "cell_type": "code",
   "execution_count": 9,
   "id": "5737de0d-5149-46bf-a229-9b09bbddece9",
   "metadata": {},
   "outputs": [],
   "source": [
    "tup2=(10,30,60)"
   ]
  },
  {
   "cell_type": "code",
   "execution_count": 11,
   "id": "02a33994-2c77-4794-821e-05a05a404aa8",
   "metadata": {},
   "outputs": [],
   "source": [
    "tup3=(10,77,30,66,60,89)"
   ]
  },
  {
   "cell_type": "code",
   "execution_count": 13,
   "id": "d11385b6-d2c6-4097-b517-64504b8c2fc6",
   "metadata": {},
   "outputs": [],
   "source": [
    "tup4=('one','two',\"three\")"
   ]
  },
  {
   "cell_type": "code",
   "execution_count": 15,
   "id": "5989a4d4-95b2-401b-9dfe-493a93cf3b0b",
   "metadata": {},
   "outputs": [],
   "source": [
    "tup5=('Asif',25,(50,100),(150,90))"
   ]
  },
  {
   "cell_type": "code",
   "execution_count": 21,
   "id": "c5f4d60b-9e34-4266-b58d-41a8e398d212",
   "metadata": {},
   "outputs": [],
   "source": [
    "tup6=(100,'Asif',17,765)"
   ]
  },
  {
   "cell_type": "code",
   "execution_count": 23,
   "id": "3d1d3a0d-b027-4a1d-8190-d19f0b8fcdbb",
   "metadata": {},
   "outputs": [],
   "source": [
    "tup7=('Asif',25,[50,100],[150,90],{'John','DAvid'},(99,22,33))"
   ]
  },
  {
   "cell_type": "code",
   "execution_count": 25,
   "id": "65017748-75c1-4c44-99ea-3d4d7a022178",
   "metadata": {},
   "outputs": [
    {
     "data": {
      "text/plain": [
       "6"
      ]
     },
     "execution_count": 25,
     "metadata": {},
     "output_type": "execute_result"
    }
   ],
   "source": [
    "len(tup7)"
   ]
  },
  {
   "cell_type": "markdown",
   "id": "7ca538b9-906b-4611-978a-ff12c65363cc",
   "metadata": {},
   "source": [
    "## Tuple indexing"
   ]
  },
  {
   "cell_type": "code",
   "execution_count": 28,
   "id": "d79bd2d9-b52c-493f-9739-58c664105d45",
   "metadata": {},
   "outputs": [
    {
     "data": {
      "text/plain": [
       "10"
      ]
     },
     "execution_count": 28,
     "metadata": {},
     "output_type": "execute_result"
    }
   ],
   "source": [
    "tup2[0]"
   ]
  },
  {
   "cell_type": "code",
   "execution_count": 30,
   "id": "5600f086-5f46-4100-874d-4292f5fd070e",
   "metadata": {},
   "outputs": [
    {
     "data": {
      "text/plain": [
       "'one'"
      ]
     },
     "execution_count": 30,
     "metadata": {},
     "output_type": "execute_result"
    }
   ],
   "source": [
    "tup4[0]"
   ]
  },
  {
   "cell_type": "code",
   "execution_count": 40,
   "id": "e616671e-2b73-4cd0-88fc-119ba98d1afb",
   "metadata": {},
   "outputs": [
    {
     "data": {
      "text/plain": [
       "'o'"
      ]
     },
     "execution_count": 40,
     "metadata": {},
     "output_type": "execute_result"
    }
   ],
   "source": [
    "tup4[0][0]"
   ]
  },
  {
   "cell_type": "code",
   "execution_count": 44,
   "id": "3a49e9ac-42a3-4830-b847-807c20ea2086",
   "metadata": {},
   "outputs": [
    {
     "data": {
      "text/plain": [
       "'three'"
      ]
     },
     "execution_count": 44,
     "metadata": {},
     "output_type": "execute_result"
    }
   ],
   "source": [
    "tup4[-1]"
   ]
  },
  {
   "cell_type": "markdown",
   "id": "51be5b71-5d01-4963-919d-235517368698",
   "metadata": {},
   "source": [
    "## Tuple Slicing"
   ]
  },
  {
   "cell_type": "code",
   "execution_count": 47,
   "id": "d671d608-3912-4c5b-b96d-2de410812963",
   "metadata": {},
   "outputs": [],
   "source": [
    "mytuple=('one','two','three','four','five','six','seven','eight')"
   ]
  },
  {
   "cell_type": "code",
   "execution_count": 49,
   "id": "96d928a0-d6ae-4e62-8fc0-ac6fb951f62b",
   "metadata": {},
   "outputs": [
    {
     "data": {
      "text/plain": [
       "('one', 'two', 'three')"
      ]
     },
     "execution_count": 49,
     "metadata": {},
     "output_type": "execute_result"
    }
   ],
   "source": [
    "mytuple[0:3]"
   ]
  },
  {
   "cell_type": "code",
   "execution_count": 51,
   "id": "f0b1f1e9-3108-40ff-9d37-9d28667267e5",
   "metadata": {},
   "outputs": [
    {
     "data": {
      "text/plain": [
       "('three', 'four', 'five')"
      ]
     },
     "execution_count": 51,
     "metadata": {},
     "output_type": "execute_result"
    }
   ],
   "source": [
    "mytuple[2:5]"
   ]
  },
  {
   "cell_type": "code",
   "execution_count": 53,
   "id": "aa07a113-7a2f-4a21-9d6b-423da6ee4a0a",
   "metadata": {},
   "outputs": [
    {
     "data": {
      "text/plain": [
       "('one', 'two', 'three')"
      ]
     },
     "execution_count": 53,
     "metadata": {},
     "output_type": "execute_result"
    }
   ],
   "source": [
    "mytuple[:3]"
   ]
  },
  {
   "cell_type": "code",
   "execution_count": 55,
   "id": "f589636a-5f7e-4170-bcdb-4eee677d815c",
   "metadata": {},
   "outputs": [
    {
     "data": {
      "text/plain": [
       "('one', 'two')"
      ]
     },
     "execution_count": 55,
     "metadata": {},
     "output_type": "execute_result"
    }
   ],
   "source": [
    "mytuple[:2]"
   ]
  },
  {
   "cell_type": "code",
   "execution_count": 57,
   "id": "5f735e05-95dc-4f7a-9735-bd2a3546b99a",
   "metadata": {},
   "outputs": [
    {
     "data": {
      "text/plain": [
       "('six', 'seven', 'eight')"
      ]
     },
     "execution_count": 57,
     "metadata": {},
     "output_type": "execute_result"
    }
   ],
   "source": [
    "mytuple[-3:]"
   ]
  },
  {
   "cell_type": "code",
   "execution_count": 59,
   "id": "5d5a6866-036b-457f-9bf5-2dc10011539d",
   "metadata": {},
   "outputs": [
    {
     "data": {
      "text/plain": [
       "('seven', 'eight')"
      ]
     },
     "execution_count": 59,
     "metadata": {},
     "output_type": "execute_result"
    }
   ],
   "source": [
    "mytuple[-2:]"
   ]
  },
  {
   "cell_type": "code",
   "execution_count": 61,
   "id": "540276fb-5572-479e-af1a-537f3e3123ce",
   "metadata": {},
   "outputs": [
    {
     "data": {
      "text/plain": [
       "'eight'"
      ]
     },
     "execution_count": 61,
     "metadata": {},
     "output_type": "execute_result"
    }
   ],
   "source": [
    "mytuple[-1]"
   ]
  },
  {
   "cell_type": "code",
   "execution_count": 63,
   "id": "db473859-b3e8-424b-a6c0-474dde809d90",
   "metadata": {},
   "outputs": [
    {
     "data": {
      "text/plain": [
       "('one', 'two', 'three', 'four', 'five', 'six', 'seven', 'eight')"
      ]
     },
     "execution_count": 63,
     "metadata": {},
     "output_type": "execute_result"
    }
   ],
   "source": [
    "mytuple[:]"
   ]
  },
  {
   "cell_type": "code",
   "execution_count": 65,
   "id": "7da2403e-1629-43b9-a44a-a62b4cdfcd76",
   "metadata": {},
   "outputs": [
    {
     "ename": "TypeError",
     "evalue": "'tuple' object doesn't support item deletion",
     "output_type": "error",
     "traceback": [
      "\u001b[1;31m---------------------------------------------------------------------------\u001b[0m",
      "\u001b[1;31mTypeError\u001b[0m                                 Traceback (most recent call last)",
      "Cell \u001b[1;32mIn[65], line 1\u001b[0m\n\u001b[1;32m----> 1\u001b[0m \u001b[38;5;28;01mdel\u001b[39;00m mytuple[\u001b[38;5;241m0\u001b[39m]\n",
      "\u001b[1;31mTypeError\u001b[0m: 'tuple' object doesn't support item deletion"
     ]
    }
   ],
   "source": [
    "del mytuple[0]"
   ]
  },
  {
   "cell_type": "code",
   "execution_count": 69,
   "id": "c2dde160-e380-4ebc-a5fc-a59efb1b0af2",
   "metadata": {},
   "outputs": [
    {
     "ename": "TypeError",
     "evalue": "'tuple' object does not support item assignment",
     "output_type": "error",
     "traceback": [
      "\u001b[1;31m---------------------------------------------------------------------------\u001b[0m",
      "\u001b[1;31mTypeError\u001b[0m                                 Traceback (most recent call last)",
      "Cell \u001b[1;32mIn[69], line 1\u001b[0m\n\u001b[1;32m----> 1\u001b[0m mytuple[\u001b[38;5;241m0\u001b[39m]\u001b[38;5;241m=\u001b[39m\u001b[38;5;241m1\u001b[39m\n",
      "\u001b[1;31mTypeError\u001b[0m: 'tuple' object does not support item assignment"
     ]
    }
   ],
   "source": [
    "mytuple[0]=1"
   ]
  },
  {
   "cell_type": "code",
   "execution_count": 71,
   "id": "3cad8435-9644-4a34-a4ea-868f4938bf5a",
   "metadata": {},
   "outputs": [],
   "source": [
    "del mytuple"
   ]
  },
  {
   "cell_type": "markdown",
   "id": "aa3ce875-41c9-488d-b53e-a4a46696db86",
   "metadata": {},
   "source": [
    "## Loop throuh a tuple"
   ]
  },
  {
   "cell_type": "code",
   "execution_count": 78,
   "id": "d51c18b3-2fa6-45eb-8227-dd5f3de6150b",
   "metadata": {},
   "outputs": [],
   "source": [
    "mytuple=('jrg','sai','hunt','raju','sweet','up','to','in')"
   ]
  },
  {
   "cell_type": "code",
   "execution_count": 80,
   "id": "695fd831-d869-45f7-9378-4261175fb054",
   "metadata": {},
   "outputs": [
    {
     "data": {
      "text/plain": [
       "('jrg', 'sai', 'hunt', 'raju', 'sweet', 'up', 'to', 'in')"
      ]
     },
     "execution_count": 80,
     "metadata": {},
     "output_type": "execute_result"
    }
   ],
   "source": [
    "mytuple"
   ]
  },
  {
   "cell_type": "code",
   "execution_count": 82,
   "id": "bf0f1bd8-a1ad-4952-a618-480f6d35ca98",
   "metadata": {},
   "outputs": [
    {
     "name": "stdout",
     "output_type": "stream",
     "text": [
      "jrg\n",
      "sai\n",
      "hunt\n",
      "raju\n",
      "sweet\n",
      "up\n",
      "to\n",
      "in\n"
     ]
    }
   ],
   "source": [
    "for i in mytuple:\n",
    "    print(i)"
   ]
  },
  {
   "cell_type": "code",
   "execution_count": 86,
   "id": "d01cf077-4858-477f-b782-c5611b17ace9",
   "metadata": {},
   "outputs": [
    {
     "name": "stdout",
     "output_type": "stream",
     "text": [
      "(0, 'jrg')\n",
      "(1, 'sai')\n",
      "(2, 'hunt')\n",
      "(3, 'raju')\n",
      "(4, 'sweet')\n",
      "(5, 'up')\n",
      "(6, 'to')\n",
      "(7, 'in')\n"
     ]
    }
   ],
   "source": [
    "for i in enumerate(mytuple):\n",
    "    print(i)"
   ]
  },
  {
   "cell_type": "markdown",
   "id": "e4e7731d-b653-4d4e-a69e-b027c95e1204",
   "metadata": {},
   "source": [
    "## Tuple Mumbership"
   ]
  },
  {
   "cell_type": "code",
   "execution_count": 89,
   "id": "e63904fc-26df-4959-9342-621b9de85eab",
   "metadata": {},
   "outputs": [
    {
     "data": {
      "text/plain": [
       "('jrg', 'sai', 'hunt', 'raju', 'sweet', 'up', 'to', 'in')"
      ]
     },
     "execution_count": 89,
     "metadata": {},
     "output_type": "execute_result"
    }
   ],
   "source": [
    "mytuple"
   ]
  },
  {
   "cell_type": "code",
   "execution_count": 93,
   "id": "c7c301cd-d0e9-4837-a4dd-b16bc8f68102",
   "metadata": {},
   "outputs": [
    {
     "data": {
      "text/plain": [
       "True"
      ]
     },
     "execution_count": 93,
     "metadata": {},
     "output_type": "execute_result"
    }
   ],
   "source": [
    "'jrg' in mytuple"
   ]
  },
  {
   "cell_type": "code",
   "execution_count": 95,
   "id": "9516563e-4432-419a-b464-5f7e61a0ca12",
   "metadata": {},
   "outputs": [
    {
     "data": {
      "text/plain": [
       "False"
      ]
     },
     "execution_count": 95,
     "metadata": {},
     "output_type": "execute_result"
    }
   ],
   "source": [
    "'one'in mytuple"
   ]
  },
  {
   "cell_type": "code",
   "execution_count": 103,
   "id": "d30981e6-ffda-4df7-a0de-40532c9f576d",
   "metadata": {},
   "outputs": [
    {
     "name": "stdout",
     "output_type": "stream",
     "text": [
      "eleven is present in the tuple\n"
     ]
    }
   ],
   "source": [
    "if 'three' in mytuple:\n",
    "    print('even is not present in the tuple')\n",
    "else:\n",
    "    print('eleven is present in the tuple')"
   ]
  },
  {
   "cell_type": "markdown",
   "id": "5f9a2d10-3d31-4f6c-9b1b-1daa7b199b13",
   "metadata": {},
   "source": [
    "## Index Position"
   ]
  },
  {
   "cell_type": "code",
   "execution_count": 105,
   "id": "18663c4b-c01a-4cda-ae51-131b0877c39c",
   "metadata": {},
   "outputs": [
    {
     "data": {
      "text/plain": [
       "('jrg', 'sai', 'hunt', 'raju', 'sweet', 'up', 'to', 'in')"
      ]
     },
     "execution_count": 105,
     "metadata": {},
     "output_type": "execute_result"
    }
   ],
   "source": [
    "mytuple"
   ]
  },
  {
   "cell_type": "code",
   "execution_count": 109,
   "id": "6724edc5-1729-49ea-8271-0aaebcc3f996",
   "metadata": {},
   "outputs": [
    {
     "data": {
      "text/plain": [
       "0"
      ]
     },
     "execution_count": 109,
     "metadata": {},
     "output_type": "execute_result"
    }
   ],
   "source": [
    "mytuple.index('jrg')"
   ]
  },
  {
   "cell_type": "code",
   "execution_count": 111,
   "id": "162d74ea-a5b6-42d6-8c84-14c1ad13d9c0",
   "metadata": {},
   "outputs": [
    {
     "data": {
      "text/plain": [
       "('jrg', 'sai', 'hunt', 'raju', 'sweet', 'up', 'to', 'in')"
      ]
     },
     "execution_count": 111,
     "metadata": {},
     "output_type": "execute_result"
    }
   ],
   "source": [
    "mytuple"
   ]
  },
  {
   "cell_type": "code",
   "execution_count": 115,
   "id": "b9431778-a20d-4f11-ac7b-51f59d8d7da0",
   "metadata": {},
   "outputs": [
    {
     "data": {
      "text/plain": [
       "0"
      ]
     },
     "execution_count": 115,
     "metadata": {},
     "output_type": "execute_result"
    }
   ],
   "source": [
    "mytuple.index('jrg')"
   ]
  },
  {
   "cell_type": "code",
   "execution_count": 119,
   "id": "333cea55-dd8f-4d99-bc87-16c501ab515e",
   "metadata": {},
   "outputs": [
    {
     "data": {
      "text/plain": [
       "4"
      ]
     },
     "execution_count": 119,
     "metadata": {},
     "output_type": "execute_result"
    }
   ],
   "source": [
    "mytuple.index('sweet')"
   ]
  },
  {
   "cell_type": "code",
   "execution_count": 127,
   "id": "b7cc127f-7a1f-44a0-a077-136ce50ebdbb",
   "metadata": {
    "scrolled": true
   },
   "outputs": [
    {
     "data": {
      "text/plain": [
       "('raju', 'hunt', 'eye', 'dog', 'fan', 'lakshmi', 'got', 'cow')"
      ]
     },
     "execution_count": 127,
     "metadata": {},
     "output_type": "execute_result"
    }
   ],
   "source": [
    "mytuple1=('raju','hunt','eye','dog','fan','lakshmi','got','cow')\n",
    "mytuple1"
   ]
  },
  {
   "cell_type": "code",
   "execution_count": 129,
   "id": "8864bcc9-c6be-4487-bc1f-89ab4af58ae5",
   "metadata": {},
   "outputs": [
    {
     "data": {
      "text/plain": [
       "0"
      ]
     },
     "execution_count": 129,
     "metadata": {},
     "output_type": "execute_result"
    }
   ],
   "source": [
    "mytuple1.index('raju')"
   ]
  },
  {
   "cell_type": "markdown",
   "id": "6e06a70a-58d3-4b3a-8155-2907c9d0ab0c",
   "metadata": {},
   "source": [
    "## Sorting"
   ]
  },
  {
   "cell_type": "code",
   "execution_count": 132,
   "id": "8823f18f-a777-4746-a9fb-aa481f8cf749",
   "metadata": {},
   "outputs": [],
   "source": [
    "mytuple2=(43,67,99,12,6,90,67)"
   ]
  },
  {
   "cell_type": "code",
   "execution_count": 134,
   "id": "42e656e3-7686-4926-8fd5-dcce9c1a89f1",
   "metadata": {},
   "outputs": [
    {
     "data": {
      "text/plain": [
       "[6, 12, 43, 67, 67, 90, 99]"
      ]
     },
     "execution_count": 134,
     "metadata": {},
     "output_type": "execute_result"
    }
   ],
   "source": [
    "sorted(mytuple2)"
   ]
  },
  {
   "cell_type": "code",
   "execution_count": 136,
   "id": "6b73334a-d412-438d-8e00-1c01b52fdc73",
   "metadata": {},
   "outputs": [
    {
     "data": {
      "text/plain": [
       "[99, 90, 67, 67, 43, 12, 6]"
      ]
     },
     "execution_count": 136,
     "metadata": {},
     "output_type": "execute_result"
    }
   ],
   "source": [
    "sorted(mytuple2, reverse=True)"
   ]
  }
 ],
 "metadata": {
  "kernelspec": {
   "display_name": "Python 3 (ipykernel)",
   "language": "python",
   "name": "python3"
  },
  "language_info": {
   "codemirror_mode": {
    "name": "ipython",
    "version": 3
   },
   "file_extension": ".py",
   "mimetype": "text/x-python",
   "name": "python",
   "nbconvert_exporter": "python",
   "pygments_lexer": "ipython3",
   "version": "3.12.7"
  }
 },
 "nbformat": 4,
 "nbformat_minor": 5
}
