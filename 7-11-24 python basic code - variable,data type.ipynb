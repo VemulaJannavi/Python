{
 "cells": [
  {
   "cell_type": "markdown",
   "id": "bd3508fb-bc30-4881-8df0-940327d5c7f3",
   "metadata": {},
   "source": [
    "## Python Tutorial"
   ]
  },
  {
   "cell_type": "code",
   "execution_count": 7,
   "id": "3c15a7b6-2c9a-4477-ae07-3b38ba5bdbd2",
   "metadata": {},
   "outputs": [],
   "source": [
    "import sys \n",
    "import keyword \n",
    "import operator \n",
    "from datetime import datetime\n",
    "import os"
   ]
  },
  {
   "cell_type": "markdown",
   "id": "48afd585-62a2-47c1-a25a-87acd4270aed",
   "metadata": {},
   "source": [
    "## keywords"
   ]
  },
  {
   "cell_type": "markdown",
   "id": "ccd89767-01a3-4bfc-8289-ffdf667204ee",
   "metadata": {},
   "source": [
    "Keywords are the reserved words in Python and can't be used as an identifier"
   ]
  },
  {
   "cell_type": "code",
   "execution_count": 10,
   "id": "f4957cf9-82fb-4a54-8e6d-ec49946c3d77",
   "metadata": {},
   "outputs": [
    {
     "name": "stdout",
     "output_type": "stream",
     "text": [
      "['False', 'None', 'True', 'and', 'as', 'assert', 'async', 'await', 'break', 'class', 'continue', 'def', 'del', 'elif', 'else', 'except', 'finally', 'for', 'from', 'global', 'if', 'import', 'in', 'is', 'lambda', 'nonlocal', 'not', 'or', 'pass', 'raise', 'return', 'try', 'while', 'with', 'yield']\n"
     ]
    }
   ],
   "source": [
    "print(keyword.kwlist) # List all Python Keywords"
   ]
  },
  {
   "cell_type": "code",
   "execution_count": 12,
   "id": "767f40fa-732c-4793-bdd9-144c693c3ab1",
   "metadata": {},
   "outputs": [
    {
     "data": {
      "text/plain": [
       "35"
      ]
     },
     "execution_count": 12,
     "metadata": {},
     "output_type": "execute_result"
    }
   ],
   "source": [
    "len(keyword.kwlist) # Python contains 35 keywords"
   ]
  },
  {
   "cell_type": "markdown",
   "id": "615d5499-151b-4e3c-8dc7-aa3623a7c2d9",
   "metadata": {},
   "source": [
    "## Identiers"
   ]
  },
  {
   "cell_type": "markdown",
   "id": "a074c5ad-1460-4aaa-bc3e-b9586cbf7e93",
   "metadata": {},
   "source": [
    "An identifier is a name given to entities like class, functions, variables, etc. It helps to differentiate \n",
    "one entity from another."
   ]
  },
  {
   "cell_type": "code",
   "execution_count": 17,
   "id": "3c8e7d15-8853-4f94-938a-ffcc76c496ea",
   "metadata": {},
   "outputs": [
    {
     "ename": "SyntaxError",
     "evalue": "invalid decimal literal (2087397812.py, line 1)",
     "output_type": "error",
     "traceback": [
      "\u001b[1;36m  Cell \u001b[1;32mIn[17], line 1\u001b[1;36m\u001b[0m\n\u001b[1;33m    1var = 10 # Identifier can't start with a digit\u001b[0m\n\u001b[1;37m    ^\u001b[0m\n\u001b[1;31mSyntaxError\u001b[0m\u001b[1;31m:\u001b[0m invalid decimal literal\n"
     ]
    }
   ],
   "source": [
    "1var = 10 # Identifier can't start with a digit"
   ]
  },
  {
   "cell_type": "code",
   "execution_count": 19,
   "id": "6d0ff094-39ac-4d41-bcc9-3d5492a550dd",
   "metadata": {},
   "outputs": [
    {
     "ename": "SyntaxError",
     "evalue": "invalid syntax (619048856.py, line 1)",
     "output_type": "error",
     "traceback": [
      "\u001b[1;36m  Cell \u001b[1;32mIn[19], line 1\u001b[1;36m\u001b[0m\n\u001b[1;33m    val2@ = 35 # Identifier can't use special symbols\u001b[0m\n\u001b[1;37m          ^\u001b[0m\n\u001b[1;31mSyntaxError\u001b[0m\u001b[1;31m:\u001b[0m invalid syntax\n"
     ]
    }
   ],
   "source": [
    "val2@ = 35 # Identifier can't use special symbols"
   ]
  },
  {
   "cell_type": "code",
   "execution_count": 21,
   "id": "584aa2bd-7cdf-489d-83f5-a6834b1702ac",
   "metadata": {},
   "outputs": [
    {
     "ename": "SyntaxError",
     "evalue": "invalid syntax (2492423719.py, line 1)",
     "output_type": "error",
     "traceback": [
      "\u001b[1;36m  Cell \u001b[1;32mIn[21], line 1\u001b[1;36m\u001b[0m\n\u001b[1;33m    import = 125 # Keywords can't be used as identifiers\u001b[0m\n\u001b[1;37m           ^\u001b[0m\n\u001b[1;31mSyntaxError\u001b[0m\u001b[1;31m:\u001b[0m invalid syntax\n"
     ]
    }
   ],
   "source": [
    "import = 125 # Keywords can't be used as identifiers"
   ]
  },
  {
   "cell_type": "code",
   "execution_count": 26,
   "id": "f6df8d79-bfec-4bed-9ea7-eb3cc71f710f",
   "metadata": {},
   "outputs": [],
   "source": [
    "\"\"\" \n",
    "Correct way of defining an identifier \n",
    "(Identifiers can be a combination of letters in lowercase (a to z) or uppercase \n",
    "\"\"\" \n",
    "val2 = 10"
   ]
  },
  {
   "cell_type": "code",
   "execution_count": 28,
   "id": "4f93b906-3da3-4043-a1a6-ba029e0b25df",
   "metadata": {},
   "outputs": [],
   "source": [
    "val_ = 99"
   ]
  },
  {
   "cell_type": "markdown",
   "id": "9f6b2a75-7e76-4348-b6f8-a34f8d97c38f",
   "metadata": {},
   "source": [
    "## Comments in python"
   ]
  },
  {
   "cell_type": "markdown",
   "id": "745935d9-daf8-47c3-b9c1-2db8b56f916d",
   "metadata": {},
   "source": [
    "Comments can be used to explain the code for more readabilty."
   ]
  },
  {
   "cell_type": "code",
   "execution_count": 31,
   "id": "831bd4c8-0a98-470e-8c1c-3fad6a97df0d",
   "metadata": {},
   "outputs": [],
   "source": [
    "# Single line comment \n",
    "val1 = 10"
   ]
  },
  {
   "cell_type": "code",
   "execution_count": 33,
   "id": "2780f133-211d-442c-84f5-0de80152c720",
   "metadata": {},
   "outputs": [],
   "source": [
    "# Multiple \n",
    "# line \n",
    "# comment \n",
    "val1 = 10 "
   ]
  },
  {
   "cell_type": "code",
   "execution_count": 35,
   "id": "80ca0b29-ad67-46d9-a0d2-f66edb575a45",
   "metadata": {},
   "outputs": [],
   "source": [
    "''' \n",
    "Multiple \n",
    "line \n",
    "comment \n",
    "''' \n",
    "val1 = 10"
   ]
  },
  {
   "cell_type": "code",
   "execution_count": 37,
   "id": "249ceadc-bcee-45a6-a4d7-e511ba49b88e",
   "metadata": {},
   "outputs": [],
   "source": [
    "\"\"\" \n",
    "Multiple \n",
    "line \n",
    "comment \n",
    "\"\"\" \n",
    "val1 = 10"
   ]
  },
  {
   "cell_type": "markdown",
   "id": "0c72a2b6-9f2b-4edf-8edd-e530c91aefc3",
   "metadata": {},
   "source": [
    "## Statements"
   ]
  },
  {
   "cell_type": "markdown",
   "id": "cd22a966-0d45-4a88-acc2-24c756415b89",
   "metadata": {},
   "source": [
    "Instructions that a Python interpreter can execute."
   ]
  },
  {
   "cell_type": "code",
   "execution_count": 40,
   "id": "8007d1ea-aa29-4861-9c5f-5667f989b875",
   "metadata": {},
   "outputs": [
    {
     "data": {
      "text/plain": [
       "(20, int, '0x7ff8136f2c18')"
      ]
     },
     "execution_count": 40,
     "metadata": {},
     "output_type": "execute_result"
    }
   ],
   "source": [
    " \n",
    "p = 20 #Creates an integer object with value 20 and assigns the variable p to p \n",
    "q = 20 # Create new reference q which will point to value 20. p & q will be poi \n",
    "r = q # variable r will also point to the same location where p & q are pointin \n",
    "p , type(p), hex(id(p)) # Variable P is pointing to memory location '0x7fff6d71a"
   ]
  },
  {
   "cell_type": "code",
   "execution_count": 42,
   "id": "ef374668-8aee-46ba-bd53-c327c25837f4",
   "metadata": {},
   "outputs": [
    {
     "data": {
      "text/plain": [
       "(20, int, '0x7ff8136f2c18')"
      ]
     },
     "execution_count": 42,
     "metadata": {},
     "output_type": "execute_result"
    }
   ],
   "source": [
    "q , type(q), hex(id(q))"
   ]
  },
  {
   "cell_type": "code",
   "execution_count": 44,
   "id": "174ef305-9136-45bd-a618-0c709271a9a4",
   "metadata": {},
   "outputs": [
    {
     "data": {
      "text/plain": [
       "(20, int, '0x7ff8136f2c18')"
      ]
     },
     "execution_count": 44,
     "metadata": {},
     "output_type": "execute_result"
    }
   ],
   "source": [
    "r , type(r), hex(id(r))"
   ]
  },
  {
   "cell_type": "code",
   "execution_count": 46,
   "id": "a28a5841-bae1-4508-a4bf-dd4c022de4af",
   "metadata": {},
   "outputs": [
    {
     "data": {
      "text/plain": [
       "30"
      ]
     },
     "execution_count": 46,
     "metadata": {},
     "output_type": "execute_result"
    }
   ],
   "source": [
    "p = 20 \n",
    "p = p + 10 # Variable Overwriting\n",
    "p"
   ]
  },
  {
   "cell_type": "markdown",
   "id": "24a4bce5-0fed-4a0c-ba58-6a73d9d22a64",
   "metadata": {},
   "source": [
    "## Variable Assigment"
   ]
  },
  {
   "cell_type": "code",
   "execution_count": 51,
   "id": "35d54641-6ca2-42aa-9485-5d370e434f67",
   "metadata": {},
   "outputs": [
    {
     "name": "stdout",
     "output_type": "stream",
     "text": [
      "10\n",
      "2.57\n",
      "Python Language\n"
     ]
    }
   ],
   "source": [
    "intvar = 10 # Integer variable \n",
    "floatvar = 2.57 # Float Variable \n",
    "strvar = \"Python Language\" # String variable \n",
    "print(intvar) \n",
    "print(floatvar) \n",
    "print(strvar)"
   ]
  },
  {
   "cell_type": "markdown",
   "id": "1652b6dc-5def-475e-a3ff-8c5dc4d98bd7",
   "metadata": {},
   "source": [
    "## Multiple Assignments"
   ]
  },
  {
   "cell_type": "code",
   "execution_count": 54,
   "id": "8866b3f1-17db-41ae-a5a8-acee4bf35584",
   "metadata": {},
   "outputs": [
    {
     "name": "stdout",
     "output_type": "stream",
     "text": [
      "10\n",
      "2.57\n",
      "Python Language\n"
     ]
    }
   ],
   "source": [
    "intvar , floatvar , strvar = 10,2.57,\"Python Language\" # Using commas to separat \n",
    "print(intvar) \n",
    "print(floatvar) \n",
    "print(strvar)"
   ]
  },
  {
   "cell_type": "code",
   "execution_count": 56,
   "id": "c99d0704-79af-4ccd-b577-a0c7b15d22bd",
   "metadata": {},
   "outputs": [
    {
     "name": "stdout",
     "output_type": "stream",
     "text": [
      "44 44 44 44\n"
     ]
    }
   ],
   "source": [
    "p1 = p2 = p3 = p4 = 44 # All variables pointing to same value \n",
    "print(p1,p2,p3,p4)"
   ]
  },
  {
   "cell_type": "markdown",
   "id": "362b31b2-409a-4a36-8eb0-cefdbacd6f28",
   "metadata": {},
   "source": [
    "## Data Types"
   ]
  },
  {
   "cell_type": "markdown",
   "id": "3b8c5fbe-783e-4dff-84ed-e33729944880",
   "metadata": {},
   "source": [
    "#### Numeric"
   ]
  },
  {
   "cell_type": "code",
   "execution_count": 60,
   "id": "bb36d31b-6fc1-4b30-b683-49d887a05f90",
   "metadata": {},
   "outputs": [
    {
     "name": "stdout",
     "output_type": "stream",
     "text": [
      "10\n",
      "<class 'int'>\n",
      "28\n",
      "10  is Integer? True\n"
     ]
    }
   ],
   "source": [
    "val1 = 10 # Integer data type \n",
    "print(val1) \n",
    "print(type(val1)) # type of object \n",
    "print(sys.getsizeof(val1)) # size of integer object in bytes \n",
    "print(val1, \" is Integer?\", isinstance(val1, int)) # val1 is an instance of int"
   ]
  },
  {
   "cell_type": "code",
   "execution_count": 62,
   "id": "d4d7aa10-75c0-46f2-906e-be27aa5784f7",
   "metadata": {},
   "outputs": [
    {
     "name": "stdout",
     "output_type": "stream",
     "text": [
      "92.78\n",
      "<class 'float'>\n",
      "24\n",
      "92.78  is float? True\n"
     ]
    }
   ],
   "source": [
    "val2 = 92.78 # Float data type \n",
    "print(val2) \n",
    "print(type(val2)) # type of object \n",
    "print(sys.getsizeof(val2)) # size of float object in bytes \n",
    "print(val2, \" is float?\", isinstance(val2, float)) # Val2 is an instance of float"
   ]
  },
  {
   "cell_type": "code",
   "execution_count": 64,
   "id": "398d5e55-b42b-4a99-86c8-a97faa40a0ab",
   "metadata": {},
   "outputs": [
    {
     "name": "stdout",
     "output_type": "stream",
     "text": [
      "(25+10j)\n",
      "<class 'complex'>\n",
      "32\n",
      "(25+10j)  is complex? True\n"
     ]
    }
   ],
   "source": [
    "val3 = 25 + 10j # Complex data type \n",
    "print(val3) \n",
    "print(type(val3)) # type of object \n",
    "print(sys.getsizeof(val3)) # size of float object in bytes \n",
    "print(val3, \" is complex?\", isinstance(val3, complex)) # val3 is an instance of"
   ]
  },
  {
   "cell_type": "code",
   "execution_count": 72,
   "id": "31e514ef-ca1c-46df-a290-b63599e10b7f",
   "metadata": {},
   "outputs": [
    {
     "data": {
      "text/plain": [
       "28"
      ]
     },
     "execution_count": 72,
     "metadata": {},
     "output_type": "execute_result"
    }
   ],
   "source": [
    "sys.getsizeof(int()) # size of integer object in bytes"
   ]
  },
  {
   "cell_type": "code",
   "execution_count": 70,
   "id": "3d7a30a3-d0c2-4969-904a-a99268cc3d17",
   "metadata": {},
   "outputs": [
    {
     "data": {
      "text/plain": [
       "24"
      ]
     },
     "execution_count": 70,
     "metadata": {},
     "output_type": "execute_result"
    }
   ],
   "source": [
    "sys.getsizeof(float()) # size of float object in bytes"
   ]
  },
  {
   "cell_type": "code",
   "execution_count": 74,
   "id": "1ab6ceba-e70f-4737-93fe-e7e7a49b0a53",
   "metadata": {},
   "outputs": [
    {
     "data": {
      "text/plain": [
       "32"
      ]
     },
     "execution_count": 74,
     "metadata": {},
     "output_type": "execute_result"
    }
   ],
   "source": [
    "sys.getsizeof(complex()) # size of complex object in bytes"
   ]
  },
  {
   "cell_type": "markdown",
   "id": "9719ba95-5e41-474c-9804-888c888c0c4d",
   "metadata": {},
   "source": [
    "## Boolean"
   ]
  },
  {
   "cell_type": "markdown",
   "id": "2079b0b9-6665-4328-8e9c-36aa7b407651",
   "metadata": {},
   "source": [
    "Boolean data type can have only two possible values true or false."
   ]
  },
  {
   "cell_type": "code",
   "execution_count": 79,
   "id": "8d2965e5-68a4-4e74-a0f3-b96467e85e8a",
   "metadata": {},
   "outputs": [],
   "source": [
    "bool1 = True"
   ]
  },
  {
   "cell_type": "code",
   "execution_count": 81,
   "id": "0a8fdf27-c0f4-431a-b058-1001b78260dc",
   "metadata": {},
   "outputs": [],
   "source": [
    "bool2 = False"
   ]
  },
  {
   "cell_type": "code",
   "execution_count": 83,
   "id": "69628f56-885f-4600-a5a3-34ba0eec1129",
   "metadata": {},
   "outputs": [
    {
     "name": "stdout",
     "output_type": "stream",
     "text": [
      "<class 'bool'>\n"
     ]
    }
   ],
   "source": [
    "print(type(bool1)) "
   ]
  },
  {
   "cell_type": "code",
   "execution_count": 85,
   "id": "53aec8c1-2be5-49ce-b381-d56af9f07586",
   "metadata": {},
   "outputs": [
    {
     "name": "stdout",
     "output_type": "stream",
     "text": [
      "<class 'bool'>\n"
     ]
    }
   ],
   "source": [
    "print(type(bool2))"
   ]
  },
  {
   "cell_type": "code",
   "execution_count": 87,
   "id": "8bd9f4e2-0fd8-4094-b63b-2d52d16d3489",
   "metadata": {},
   "outputs": [
    {
     "data": {
      "text/plain": [
       "True"
      ]
     },
     "execution_count": 87,
     "metadata": {},
     "output_type": "execute_result"
    }
   ],
   "source": [
    "isinstance(bool1, bool) "
   ]
  },
  {
   "cell_type": "code",
   "execution_count": 89,
   "id": "7191d096-171a-4179-b95e-e21d2cfaf517",
   "metadata": {},
   "outputs": [
    {
     "data": {
      "text/plain": [
       "False"
      ]
     },
     "execution_count": 89,
     "metadata": {},
     "output_type": "execute_result"
    }
   ],
   "source": [
    "bool(0)"
   ]
  },
  {
   "cell_type": "code",
   "execution_count": 91,
   "id": "25746ad0-4ca6-4cf6-8985-21392a0e1cdb",
   "metadata": {},
   "outputs": [
    {
     "data": {
      "text/plain": [
       "True"
      ]
     },
     "execution_count": 91,
     "metadata": {},
     "output_type": "execute_result"
    }
   ],
   "source": [
    "bool(1)"
   ]
  },
  {
   "cell_type": "code",
   "execution_count": 93,
   "id": "e400f2a1-f0e2-454f-9ccb-62a38df552ea",
   "metadata": {},
   "outputs": [
    {
     "data": {
      "text/plain": [
       "False"
      ]
     },
     "execution_count": 93,
     "metadata": {},
     "output_type": "execute_result"
    }
   ],
   "source": [
    "bool(None)"
   ]
  },
  {
   "cell_type": "code",
   "execution_count": 95,
   "id": "2ffdb1cf-8d4c-4c81-b0c5-8ed6d7061e6e",
   "metadata": {},
   "outputs": [
    {
     "data": {
      "text/plain": [
       "False"
      ]
     },
     "execution_count": 95,
     "metadata": {},
     "output_type": "execute_result"
    }
   ],
   "source": [
    "bool(False)"
   ]
  },
  {
   "cell_type": "markdown",
   "id": "61a7ddf9-833e-4940-9bbd-1a6f2a5fab50",
   "metadata": {},
   "source": [
    "## Strings"
   ]
  },
  {
   "cell_type": "markdown",
   "id": "fe7e7275-d9c9-421c-8438-be56b382caec",
   "metadata": {},
   "source": [
    "## String Creation"
   ]
  },
  {
   "cell_type": "code",
   "execution_count": 100,
   "id": "6530f625-7ac0-4601-934a-a4111db7d815",
   "metadata": {},
   "outputs": [
    {
     "name": "stdout",
     "output_type": "stream",
     "text": [
      "HELLO PYTHON\n"
     ]
    }
   ],
   "source": [
    "str1 = 'HELLO PYTHON'\n",
    "\n",
    "print(str1)"
   ]
  },
  {
   "cell_type": "code",
   "execution_count": 106,
   "id": "ba639e4c-a811-4533-b306-bd32d7851630",
   "metadata": {},
   "outputs": [
    {
     "name": "stdout",
     "output_type": "stream",
     "text": [
      "Hello World\n"
     ]
    }
   ],
   "source": [
    "mystr = 'Hello World' # Define string using single quotes \n",
    "print(mystr)"
   ]
  },
  {
   "cell_type": "code",
   "execution_count": 108,
   "id": "58ecb6a8-d130-4fc4-97e1-42ad6b72e7c5",
   "metadata": {},
   "outputs": [
    {
     "name": "stdout",
     "output_type": "stream",
     "text": [
      "Hello World\n"
     ]
    }
   ],
   "source": [
    "mystr = \"Hello World\" # Define string using double quotes \n",
    "print(mystr)"
   ]
  },
  {
   "cell_type": "code",
   "execution_count": 110,
   "id": "0e60d738-a1ce-41ce-b475-958c79c765e4",
   "metadata": {},
   "outputs": [
    {
     "name": "stdout",
     "output_type": "stream",
     "text": [
      "Hello \n",
      "            World \n"
     ]
    }
   ],
   "source": [
    "mystr = '''Hello \n",
    "            World ''' # Define string using triple quotes \n",
    "print(mystr) "
   ]
  },
  {
   "cell_type": "code",
   "execution_count": 114,
   "id": "eba64771-cfcf-4c43-b911-92b38443f6f9",
   "metadata": {},
   "outputs": [
    {
     "name": "stdout",
     "output_type": "stream",
     "text": [
      "Hello \n",
      "           World\n"
     ]
    }
   ],
   "source": [
    "mystr = \"\"\"Hello \n",
    "           World\"\"\" # Define string using triple quotes \n",
    "print(mystr)"
   ]
  },
  {
   "cell_type": "code",
   "execution_count": 116,
   "id": "67fb1f3f-1563-4e00-b55d-b4d6214f320b",
   "metadata": {},
   "outputs": [
    {
     "name": "stdout",
     "output_type": "stream",
     "text": [
      "Happy Monday Everyone\n"
     ]
    }
   ],
   "source": [
    "mystr = ('Happy ' \n",
    "         'Monday ' \n",
    "         'Everyone')\n",
    "print(mystr)"
   ]
  },
  {
   "cell_type": "code",
   "execution_count": 120,
   "id": "fa8654f5-5341-49c4-9e9b-c2109bcf63a4",
   "metadata": {},
   "outputs": [
    {
     "data": {
      "text/plain": [
       "'Woohoo Woohoo Woohoo Woohoo Woohoo '"
      ]
     },
     "execution_count": 120,
     "metadata": {},
     "output_type": "execute_result"
    }
   ],
   "source": [
    "mystr2 = 'Woohoo ' \n",
    "mystr2 = mystr2*5\n",
    "mystr2"
   ]
  },
  {
   "cell_type": "code",
   "execution_count": 122,
   "id": "872c6f93-6c92-4be3-91e8-152dec6a077b",
   "metadata": {},
   "outputs": [
    {
     "data": {
      "text/plain": [
       "35"
      ]
     },
     "execution_count": 122,
     "metadata": {},
     "output_type": "execute_result"
    }
   ],
   "source": [
    "len(mystr2) # Length of string "
   ]
  },
  {
   "cell_type": "markdown",
   "id": "e2f127a6-aecd-406b-9e32-d984999e8323",
   "metadata": {},
   "source": [
    "#### strings Indexing"
   ]
  },
  {
   "cell_type": "code",
   "execution_count": 126,
   "id": "5452113a-9e13-489b-9913-894aee210cdb",
   "metadata": {},
   "outputs": [
    {
     "data": {
      "text/plain": [
       "'HELLO PYTHON'"
      ]
     },
     "execution_count": 126,
     "metadata": {},
     "output_type": "execute_result"
    }
   ],
   "source": [
    "str1"
   ]
  },
  {
   "cell_type": "code",
   "execution_count": 128,
   "id": "652f6605-7b57-4471-b79c-85b0e75a5d38",
   "metadata": {},
   "outputs": [
    {
     "data": {
      "text/plain": [
       "'H'"
      ]
     },
     "execution_count": 128,
     "metadata": {},
     "output_type": "execute_result"
    }
   ],
   "source": [
    "str1[0] # First character in string \"str1\""
   ]
  },
  {
   "cell_type": "code",
   "execution_count": 130,
   "id": "93154f9d-adc0-4e0b-aee8-e2c00d6a2540",
   "metadata": {},
   "outputs": [
    {
     "data": {
      "text/plain": [
       "'N'"
      ]
     },
     "execution_count": 130,
     "metadata": {},
     "output_type": "execute_result"
    }
   ],
   "source": [
    "str1[len(str1)-1] # Last character in string using len function"
   ]
  },
  {
   "cell_type": "code",
   "execution_count": 132,
   "id": "7a0e8638-81d3-4e7c-9cba-3bdbb05adf76",
   "metadata": {},
   "outputs": [
    {
     "data": {
      "text/plain": [
       "'N'"
      ]
     },
     "execution_count": 132,
     "metadata": {},
     "output_type": "execute_result"
    }
   ],
   "source": [
    "str1[-1] # Last character in string"
   ]
  },
  {
   "cell_type": "code",
   "execution_count": 134,
   "id": "0291b278-87c0-4caa-aa9f-673b81595215",
   "metadata": {},
   "outputs": [
    {
     "data": {
      "text/plain": [
       "'P'"
      ]
     },
     "execution_count": 134,
     "metadata": {},
     "output_type": "execute_result"
    }
   ],
   "source": [
    "str1[6] #Fetch 7th element of the string"
   ]
  },
  {
   "cell_type": "code",
   "execution_count": 136,
   "id": "bbf392fe-dfad-4790-8519-75aee569cbc9",
   "metadata": {},
   "outputs": [
    {
     "data": {
      "text/plain": [
       "' '"
      ]
     },
     "execution_count": 136,
     "metadata": {},
     "output_type": "execute_result"
    }
   ],
   "source": [
    "str1[5]"
   ]
  },
  {
   "cell_type": "markdown",
   "id": "ad47dac6-884e-4e47-b266-37b78493c61a",
   "metadata": {},
   "source": [
    "#### string sclicing"
   ]
  },
  {
   "cell_type": "code",
   "execution_count": 139,
   "id": "395fe5b0-e1c5-42c5-b637-31666bdc08c3",
   "metadata": {},
   "outputs": [
    {
     "data": {
      "text/plain": [
       "'HELLO'"
      ]
     },
     "execution_count": 139,
     "metadata": {},
     "output_type": "execute_result"
    }
   ],
   "source": [
    "str1[0:5] # String slicing - Fetch all characters from 0 to 5 index location exc"
   ]
  },
  {
   "cell_type": "code",
   "execution_count": 141,
   "id": "02c9c8e9-98e5-456f-b51d-97b541bf4478",
   "metadata": {},
   "outputs": [
    {
     "data": {
      "text/plain": [
       "'THON'"
      ]
     },
     "execution_count": 141,
     "metadata": {},
     "output_type": "execute_result"
    }
   ],
   "source": [
    "str1[-4:] # Retreive last four characters of the string"
   ]
  },
  {
   "cell_type": "code",
   "execution_count": 143,
   "id": "fa8fd8ca-91b2-4dd8-b3a9-113ddc6bea61",
   "metadata": {},
   "outputs": [
    {
     "data": {
      "text/plain": [
       "'PYTHON'"
      ]
     },
     "execution_count": 143,
     "metadata": {},
     "output_type": "execute_result"
    }
   ],
   "source": [
    "str1[-6:] # Retreive last six characters of the string"
   ]
  },
  {
   "cell_type": "code",
   "execution_count": 145,
   "id": "b2f9dc62-f6ad-4725-b66e-620816d48c14",
   "metadata": {},
   "outputs": [
    {
     "data": {
      "text/plain": [
       "'HELL'"
      ]
     },
     "execution_count": 145,
     "metadata": {},
     "output_type": "execute_result"
    }
   ],
   "source": [
    "str1[:4] # Retreive first four characters of the string"
   ]
  },
  {
   "cell_type": "code",
   "execution_count": 147,
   "id": "8af4f513-c42f-4a6e-a52e-a19e364d4919",
   "metadata": {},
   "outputs": [
    {
     "data": {
      "text/plain": [
       "'HELLO '"
      ]
     },
     "execution_count": 147,
     "metadata": {},
     "output_type": "execute_result"
    }
   ],
   "source": [
    "str1[:6] # Retreive first six characters of the string"
   ]
  },
  {
   "cell_type": "markdown",
   "id": "7c29a673-ba8b-4483-8b4d-d963d807f5db",
   "metadata": {},
   "source": [
    "#### Update & Delete string"
   ]
  },
  {
   "cell_type": "code",
   "execution_count": 150,
   "id": "857e7bde-a535-4325-a957-24e78285ccd1",
   "metadata": {},
   "outputs": [
    {
     "data": {
      "text/plain": [
       "'HELLO PYTHON'"
      ]
     },
     "execution_count": 150,
     "metadata": {},
     "output_type": "execute_result"
    }
   ],
   "source": [
    "str1"
   ]
  },
  {
   "cell_type": "code",
   "execution_count": 152,
   "id": "005f9cb5-829d-46ac-bfe7-9ad1b1d66b46",
   "metadata": {},
   "outputs": [
    {
     "ename": "TypeError",
     "evalue": "'str' object does not support item assignment",
     "output_type": "error",
     "traceback": [
      "\u001b[1;31m---------------------------------------------------------------------------\u001b[0m",
      "\u001b[1;31mTypeError\u001b[0m                                 Traceback (most recent call last)",
      "Cell \u001b[1;32mIn[152], line 2\u001b[0m\n\u001b[0;32m      1\u001b[0m \u001b[38;5;66;03m#Strings are immutable which means elements of a string cannot be changed once t\u001b[39;00m\n\u001b[1;32m----> 2\u001b[0m str1[\u001b[38;5;241m0\u001b[39m:\u001b[38;5;241m5\u001b[39m] \u001b[38;5;241m=\u001b[39m \u001b[38;5;124m'\u001b[39m\u001b[38;5;124mHOLAA\u001b[39m\u001b[38;5;124m'\u001b[39m\n",
      "\u001b[1;31mTypeError\u001b[0m: 'str' object does not support item assignment"
     ]
    }
   ],
   "source": [
    "#Strings are immutable which means elements of a string cannot be changed once t\n",
    "str1[0:5] = 'HOLAA'"
   ]
  },
  {
   "cell_type": "code",
   "execution_count": 154,
   "id": "b005d944-65d9-4c3a-b32d-31f5ddc43d4e",
   "metadata": {},
   "outputs": [
    {
     "ename": "NameError",
     "evalue": "name 'srt1' is not defined",
     "output_type": "error",
     "traceback": [
      "\u001b[1;31m---------------------------------------------------------------------------\u001b[0m",
      "\u001b[1;31mNameError\u001b[0m                                 Traceback (most recent call last)",
      "Cell \u001b[1;32mIn[154], line 2\u001b[0m\n\u001b[0;32m      1\u001b[0m \u001b[38;5;28;01mdel\u001b[39;00m str1 \u001b[38;5;66;03m# Delete a string \u001b[39;00m\n\u001b[1;32m----> 2\u001b[0m \u001b[38;5;28mprint\u001b[39m(srt1)\n",
      "\u001b[1;31mNameError\u001b[0m: name 'srt1' is not defined"
     ]
    }
   ],
   "source": [
    "del str1 # Delete a string \n",
    "print(srt1)"
   ]
  },
  {
   "cell_type": "markdown",
   "id": "1046cc29-4220-4325-978f-e378a8219d8f",
   "metadata": {},
   "source": [
    "#### string concatenation"
   ]
  },
  {
   "cell_type": "code",
   "execution_count": 157,
   "id": "358b7c29-a634-4b81-b6e6-b3087c453888",
   "metadata": {},
   "outputs": [
    {
     "name": "stdout",
     "output_type": "stream",
     "text": [
      "HelloAsif\n"
     ]
    }
   ],
   "source": [
    "# String concatenation \n",
    "s1 = \"Hello\" \n",
    "s2 = \"Asif\" \n",
    "s3 = s1 + s2 \n",
    "print(s3)"
   ]
  }
 ],
 "metadata": {
  "kernelspec": {
   "display_name": "Python 3 (ipykernel)",
   "language": "python",
   "name": "python3"
  },
  "language_info": {
   "codemirror_mode": {
    "name": "ipython",
    "version": 3
   },
   "file_extension": ".py",
   "mimetype": "text/x-python",
   "name": "python",
   "nbconvert_exporter": "python",
   "pygments_lexer": "ipython3",
   "version": "3.12.7"
  }
 },
 "nbformat": 4,
 "nbformat_minor": 5
}
