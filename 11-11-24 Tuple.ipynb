{
 "cells": [
  {
   "cell_type": "markdown",
   "id": "93fd86d4-8b55-4f94-b07d-09efbc95e071",
   "metadata": {},
   "source": [
    "## Tuples"
   ]
  },
  {
   "cell_type": "markdown",
   "id": "21f219cf-1e50-45da-bbdf-436e1c94b266",
   "metadata": {},
   "source": [
    "1. Tuple is similar to List except that the objects in tuple are immutable which means we cannot\n",
    "   change the elements of a tuple once assigned."
   ]
  },
  {
   "cell_type": "markdown",
   "id": "2b7fb92a-7294-480a-b742-f5f4c0d7cf31",
   "metadata": {},
   "source": [
    "2. When we do not want to change the data over time, tuple is a preferred data type."
   ]
  },
  {
   "cell_type": "markdown",
   "id": "e7c4ddee-7ad4-4290-8b0c-c261437c4599",
   "metadata": {},
   "source": [
    "3. Iterating over the elements of a tuple is faster compared to iterating over a list."
   ]
  },
  {
   "cell_type": "markdown",
   "id": "03575f7d-25fd-4d17-9810-b87715695d11",
   "metadata": {},
   "source": [
    "## Tuple creation"
   ]
  },
  {
   "cell_type": "code",
   "execution_count": 164,
   "id": "56d2955b-21e4-4428-ad95-f93c3df2460f",
   "metadata": {},
   "outputs": [],
   "source": [
    "tup1=() # Empty tuple"
   ]
  },
  {
   "cell_type": "code",
   "execution_count": 166,
   "id": "5737de0d-5149-46bf-a229-9b09bbddece9",
   "metadata": {},
   "outputs": [],
   "source": [
    "tup2=(10,30,60) # tuple of integers numbers"
   ]
  },
  {
   "cell_type": "code",
   "execution_count": 168,
   "id": "02a33994-2c77-4794-821e-05a05a404aa8",
   "metadata": {},
   "outputs": [],
   "source": [
    "tup3=(10,77,30,66,60,89) # tuple of floot numbers"
   ]
  },
  {
   "cell_type": "code",
   "execution_count": 170,
   "id": "d11385b6-d2c6-4097-b517-64504b8c2fc6",
   "metadata": {},
   "outputs": [],
   "source": [
    "tup4=('one','two',\"three\") # tuple of strings"
   ]
  },
  {
   "cell_type": "code",
   "execution_count": 172,
   "id": "5989a4d4-95b2-401b-9dfe-493a93cf3b0b",
   "metadata": {},
   "outputs": [],
   "source": [
    "tup5=('Asif',25,(50,100),(150,90)) # Nested tuples"
   ]
  },
  {
   "cell_type": "code",
   "execution_count": 174,
   "id": "c5f4d60b-9e34-4266-b58d-41a8e398d212",
   "metadata": {},
   "outputs": [],
   "source": [
    "tup6=(100,'Asif',17,765) # Tuple of mixed data types"
   ]
  },
  {
   "cell_type": "code",
   "execution_count": 176,
   "id": "3d1d3a0d-b027-4a1d-8190-d19f0b8fcdbb",
   "metadata": {},
   "outputs": [],
   "source": [
    "tup7=('Asif',25,[50,100],[150,90],{'John','DAvid'},(99,22,33))"
   ]
  },
  {
   "cell_type": "code",
   "execution_count": 178,
   "id": "65017748-75c1-4c44-99ea-3d4d7a022178",
   "metadata": {},
   "outputs": [
    {
     "data": {
      "text/plain": [
       "6"
      ]
     },
     "execution_count": 178,
     "metadata": {},
     "output_type": "execute_result"
    }
   ],
   "source": [
    "len(tup7) # Length of list"
   ]
  },
  {
   "cell_type": "markdown",
   "id": "7ca538b9-906b-4611-978a-ff12c65363cc",
   "metadata": {},
   "source": [
    "## Tuple indexing"
   ]
  },
  {
   "cell_type": "code",
   "execution_count": 181,
   "id": "d79bd2d9-b52c-493f-9739-58c664105d45",
   "metadata": {},
   "outputs": [
    {
     "data": {
      "text/plain": [
       "10"
      ]
     },
     "execution_count": 181,
     "metadata": {},
     "output_type": "execute_result"
    }
   ],
   "source": [
    "tup2[0] # Retreive frist element of the tuple"
   ]
  },
  {
   "cell_type": "code",
   "execution_count": 183,
   "id": "5600f086-5f46-4100-874d-4292f5fd070e",
   "metadata": {},
   "outputs": [
    {
     "data": {
      "text/plain": [
       "'one'"
      ]
     },
     "execution_count": 183,
     "metadata": {},
     "output_type": "execute_result"
    }
   ],
   "source": [
    "tup4[0] # Retrive frist element of the tuple"
   ]
  },
  {
   "cell_type": "code",
   "execution_count": 185,
   "id": "e616671e-2b73-4cd0-88fc-119ba98d1afb",
   "metadata": {},
   "outputs": [
    {
     "data": {
      "text/plain": [
       "'o'"
      ]
     },
     "execution_count": 185,
     "metadata": {},
     "output_type": "execute_result"
    }
   ],
   "source": [
    "tup4[0][0] # Nested indexing - Access the frist character of the frist tuple element"
   ]
  },
  {
   "cell_type": "code",
   "execution_count": 187,
   "id": "3a49e9ac-42a3-4830-b847-807c20ea2086",
   "metadata": {},
   "outputs": [
    {
     "data": {
      "text/plain": [
       "'three'"
      ]
     },
     "execution_count": 187,
     "metadata": {},
     "output_type": "execute_result"
    }
   ],
   "source": [
    "tup4[-1] # last item of the tuple"
   ]
  },
  {
   "cell_type": "code",
   "execution_count": 189,
   "id": "ebd56b82-ba0d-4841-8de3-8e2f9c638725",
   "metadata": {},
   "outputs": [
    {
     "data": {
      "text/plain": [
       "(150, 90)"
      ]
     },
     "execution_count": 189,
     "metadata": {},
     "output_type": "execute_result"
    }
   ],
   "source": [
    "tup5[-1] # Last item of the tuple"
   ]
  },
  {
   "cell_type": "markdown",
   "id": "51be5b71-5d01-4963-919d-235517368698",
   "metadata": {},
   "source": [
    "## Tuple Slicing"
   ]
  },
  {
   "cell_type": "code",
   "execution_count": 192,
   "id": "d671d608-3912-4c5b-b96d-2de410812963",
   "metadata": {},
   "outputs": [],
   "source": [
    "mytuple=('one','two','three','four','five','six','seven','eight')"
   ]
  },
  {
   "cell_type": "code",
   "execution_count": 194,
   "id": "96d928a0-d6ae-4e62-8fc0-ac6fb951f62b",
   "metadata": {},
   "outputs": [
    {
     "data": {
      "text/plain": [
       "('one', 'two', 'three')"
      ]
     },
     "execution_count": 194,
     "metadata": {},
     "output_type": "execute_result"
    }
   ],
   "source": [
    "mytuple[0:3] # Return all items from 0th to 3rd index location excluding the iteam"
   ]
  },
  {
   "cell_type": "code",
   "execution_count": 196,
   "id": "f0b1f1e9-3108-40ff-9d37-9d28667267e5",
   "metadata": {},
   "outputs": [
    {
     "data": {
      "text/plain": [
       "('three', 'four', 'five')"
      ]
     },
     "execution_count": 196,
     "metadata": {},
     "output_type": "execute_result"
    }
   ],
   "source": [
    "mytuple[2:5] # List all items from 2nd to 5th index Location excluding the item "
   ]
  },
  {
   "cell_type": "code",
   "execution_count": 198,
   "id": "aa07a113-7a2f-4a21-9d6b-423da6ee4a0a",
   "metadata": {},
   "outputs": [
    {
     "data": {
      "text/plain": [
       "('one', 'two', 'three')"
      ]
     },
     "execution_count": 198,
     "metadata": {},
     "output_type": "execute_result"
    }
   ],
   "source": [
    "mytuple[:3] # Returns frist three items"
   ]
  },
  {
   "cell_type": "code",
   "execution_count": 200,
   "id": "f589636a-5f7e-4170-bcdb-4eee677d815c",
   "metadata": {},
   "outputs": [
    {
     "data": {
      "text/plain": [
       "('one', 'two')"
      ]
     },
     "execution_count": 200,
     "metadata": {},
     "output_type": "execute_result"
    }
   ],
   "source": [
    "mytuple[:2] # Returns frist two items"
   ]
  },
  {
   "cell_type": "code",
   "execution_count": 202,
   "id": "5f735e05-95dc-4f7a-9735-bd2a3546b99a",
   "metadata": {},
   "outputs": [
    {
     "data": {
      "text/plain": [
       "('six', 'seven', 'eight')"
      ]
     },
     "execution_count": 202,
     "metadata": {},
     "output_type": "execute_result"
    }
   ],
   "source": [
    "mytuple[-3:] # Return last three items"
   ]
  },
  {
   "cell_type": "code",
   "execution_count": 204,
   "id": "5d5a6866-036b-457f-9bf5-2dc10011539d",
   "metadata": {},
   "outputs": [
    {
     "data": {
      "text/plain": [
       "('seven', 'eight')"
      ]
     },
     "execution_count": 204,
     "metadata": {},
     "output_type": "execute_result"
    }
   ],
   "source": [
    "mytuple[-2:] # Returns last two items"
   ]
  },
  {
   "cell_type": "code",
   "execution_count": 206,
   "id": "540276fb-5572-479e-af1a-537f3e3123ce",
   "metadata": {},
   "outputs": [
    {
     "data": {
      "text/plain": [
       "'eight'"
      ]
     },
     "execution_count": 206,
     "metadata": {},
     "output_type": "execute_result"
    }
   ],
   "source": [
    "mytuple[-1] # Rturn last item of the tuple"
   ]
  },
  {
   "cell_type": "code",
   "execution_count": 208,
   "id": "db473859-b3e8-424b-a6c0-474dde809d90",
   "metadata": {},
   "outputs": [
    {
     "data": {
      "text/plain": [
       "('one', 'two', 'three', 'four', 'five', 'six', 'seven', 'eight')"
      ]
     },
     "execution_count": 208,
     "metadata": {},
     "output_type": "execute_result"
    }
   ],
   "source": [
    "mytuple[:] # Return whole tuple"
   ]
  },
  {
   "cell_type": "markdown",
   "id": "1c6fcf18-152f-4444-947f-38fceca01ebf",
   "metadata": {},
   "source": [
    "## Remove & Change Items"
   ]
  },
  {
   "cell_type": "code",
   "execution_count": 211,
   "id": "cec390c7-3409-4044-86a1-e32284b7583b",
   "metadata": {},
   "outputs": [
    {
     "data": {
      "text/plain": [
       "('one', 'two', 'three', 'four', 'five', 'six', 'seven', 'eight')"
      ]
     },
     "execution_count": 211,
     "metadata": {},
     "output_type": "execute_result"
    }
   ],
   "source": [
    "mytuple"
   ]
  },
  {
   "cell_type": "code",
   "execution_count": 213,
   "id": "e2a058f7-21a5-4cab-97b4-d30ec8487f4b",
   "metadata": {},
   "outputs": [
    {
     "ename": "TypeError",
     "evalue": "'tuple' object doesn't support item deletion",
     "output_type": "error",
     "traceback": [
      "\u001b[1;31m---------------------------------------------------------------------------\u001b[0m",
      "\u001b[1;31mTypeError\u001b[0m                                 Traceback (most recent call last)",
      "Cell \u001b[1;32mIn[213], line 1\u001b[0m\n\u001b[1;32m----> 1\u001b[0m \u001b[38;5;28;01mdel\u001b[39;00m mytuple[\u001b[38;5;241m0\u001b[39m]\n",
      "\u001b[1;31mTypeError\u001b[0m: 'tuple' object doesn't support item deletion"
     ]
    }
   ],
   "source": [
    "del mytuple[0] # Tuples are immutable which means we can't DELETE tuple iteams"
   ]
  },
  {
   "cell_type": "code",
   "execution_count": 215,
   "id": "c2dde160-e380-4ebc-a5fc-a59efb1b0af2",
   "metadata": {},
   "outputs": [
    {
     "ename": "TypeError",
     "evalue": "'tuple' object does not support item assignment",
     "output_type": "error",
     "traceback": [
      "\u001b[1;31m---------------------------------------------------------------------------\u001b[0m",
      "\u001b[1;31mTypeError\u001b[0m                                 Traceback (most recent call last)",
      "Cell \u001b[1;32mIn[215], line 1\u001b[0m\n\u001b[1;32m----> 1\u001b[0m mytuple[\u001b[38;5;241m0\u001b[39m]\u001b[38;5;241m=\u001b[39m\u001b[38;5;241m1\u001b[39m\n",
      "\u001b[1;31mTypeError\u001b[0m: 'tuple' object does not support item assignment"
     ]
    }
   ],
   "source": [
    "mytuple[0]=1 # Tuples are immtable which means we can't CHANGE tuple items"
   ]
  },
  {
   "cell_type": "code",
   "execution_count": 217,
   "id": "3cad8435-9644-4a34-a4ea-868f4938bf5a",
   "metadata": {},
   "outputs": [],
   "source": [
    "del mytuple # Deleting entire tuple object is possible"
   ]
  },
  {
   "cell_type": "markdown",
   "id": "aa3ce875-41c9-488d-b53e-a4a46696db86",
   "metadata": {},
   "source": [
    "## Loop throuh a tuple"
   ]
  },
  {
   "cell_type": "code",
   "execution_count": 222,
   "id": "695fd831-d869-45f7-9378-4261175fb054",
   "metadata": {},
   "outputs": [],
   "source": [
    "mytuple=('one','two','three','four','five','six','seven','eight')"
   ]
  },
  {
   "cell_type": "code",
   "execution_count": 224,
   "id": "bf0f1bd8-a1ad-4952-a618-480f6d35ca98",
   "metadata": {},
   "outputs": [
    {
     "name": "stdout",
     "output_type": "stream",
     "text": [
      "one\n",
      "two\n",
      "three\n",
      "four\n",
      "five\n",
      "six\n",
      "seven\n",
      "eight\n"
     ]
    }
   ],
   "source": [
    "for i in mytuple:\n",
    "    print(i)"
   ]
  },
  {
   "cell_type": "code",
   "execution_count": 226,
   "id": "d01cf077-4858-477f-b782-c5611b17ace9",
   "metadata": {},
   "outputs": [
    {
     "name": "stdout",
     "output_type": "stream",
     "text": [
      "(0, 'one')\n",
      "(1, 'two')\n",
      "(2, 'three')\n",
      "(3, 'four')\n",
      "(4, 'five')\n",
      "(5, 'six')\n",
      "(6, 'seven')\n",
      "(7, 'eight')\n"
     ]
    }
   ],
   "source": [
    "for i in enumerate(mytuple):\n",
    "    print(i)"
   ]
  },
  {
   "cell_type": "markdown",
   "id": "e4e7731d-b653-4d4e-a69e-b027c95e1204",
   "metadata": {},
   "source": [
    "## Tuple Mumbership"
   ]
  },
  {
   "cell_type": "code",
   "execution_count": 228,
   "id": "e63904fc-26df-4959-9342-621b9de85eab",
   "metadata": {},
   "outputs": [
    {
     "data": {
      "text/plain": [
       "('one', 'two', 'three', 'four', 'five', 'six', 'seven', 'eight')"
      ]
     },
     "execution_count": 228,
     "metadata": {},
     "output_type": "execute_result"
    }
   ],
   "source": [
    "mytuple"
   ]
  },
  {
   "cell_type": "code",
   "execution_count": 230,
   "id": "c7c301cd-d0e9-4837-a4dd-b16bc8f68102",
   "metadata": {},
   "outputs": [
    {
     "data": {
      "text/plain": [
       "True"
      ]
     },
     "execution_count": 230,
     "metadata": {},
     "output_type": "execute_result"
    }
   ],
   "source": [
    "'one' in mytuple # check if 'one' exit in the list"
   ]
  },
  {
   "cell_type": "code",
   "execution_count": 232,
   "id": "9516563e-4432-419a-b464-5f7e61a0ca12",
   "metadata": {},
   "outputs": [
    {
     "data": {
      "text/plain": [
       "False"
      ]
     },
     "execution_count": 232,
     "metadata": {},
     "output_type": "execute_result"
    }
   ],
   "source": [
    "'ten'in mytuple # check if 'ten' exist in the list"
   ]
  },
  {
   "cell_type": "code",
   "execution_count": 236,
   "id": "d30981e6-ffda-4df7-a0de-40532c9f576d",
   "metadata": {},
   "outputs": [
    {
     "name": "stdout",
     "output_type": "stream",
     "text": [
      "even is not present in the tuple\n"
     ]
    }
   ],
   "source": [
    "if 'three' in mytuple: # check if 'three' exist in the list\n",
    "    print('even is not present in the tuple')\n",
    "else:\n",
    "    print('eleven is present in the tuple')"
   ]
  },
  {
   "cell_type": "markdown",
   "id": "5f9a2d10-3d31-4f6c-9b1b-1daa7b199b13",
   "metadata": {},
   "source": [
    "## Index Position"
   ]
  },
  {
   "cell_type": "code",
   "execution_count": 239,
   "id": "18663c4b-c01a-4cda-ae51-131b0877c39c",
   "metadata": {},
   "outputs": [
    {
     "data": {
      "text/plain": [
       "('one', 'two', 'three', 'four', 'five', 'six', 'seven', 'eight')"
      ]
     },
     "execution_count": 239,
     "metadata": {},
     "output_type": "execute_result"
    }
   ],
   "source": [
    "mytuple"
   ]
  },
  {
   "cell_type": "code",
   "execution_count": 241,
   "id": "6724edc5-1729-49ea-8271-0aaebcc3f996",
   "metadata": {},
   "outputs": [
    {
     "data": {
      "text/plain": [
       "0"
      ]
     },
     "execution_count": 241,
     "metadata": {},
     "output_type": "execute_result"
    }
   ],
   "source": [
    "mytuple.index('one') # Index of frist element equal to 'one'"
   ]
  },
  {
   "cell_type": "code",
   "execution_count": 243,
   "id": "eec7df54-9fe6-4af4-94d7-53722543c2c6",
   "metadata": {},
   "outputs": [
    {
     "data": {
      "text/plain": [
       "4"
      ]
     },
     "execution_count": 243,
     "metadata": {},
     "output_type": "execute_result"
    }
   ],
   "source": [
    "mytuple.index('five') # Index of first element equal to 'five'"
   ]
  },
  {
   "cell_type": "code",
   "execution_count": 247,
   "id": "162d74ea-a5b6-42d6-8c84-14c1ad13d9c0",
   "metadata": {},
   "outputs": [
    {
     "data": {
      "text/plain": [
       "('one', 'two', 'three', 'four', 'five', 'six', 'seven', 'eight')"
      ]
     },
     "execution_count": 247,
     "metadata": {},
     "output_type": "execute_result"
    }
   ],
   "source": [
    "mytuple"
   ]
  },
  {
   "cell_type": "code",
   "execution_count": 249,
   "id": "b9431778-a20d-4f11-ac7b-51f59d8d7da0",
   "metadata": {},
   "outputs": [
    {
     "data": {
      "text/plain": [
       "0"
      ]
     },
     "execution_count": 249,
     "metadata": {},
     "output_type": "execute_result"
    }
   ],
   "source": [
    "mytuple.index('one') # Index of first element equal to 'one'"
   ]
  },
  {
   "cell_type": "markdown",
   "id": "6e06a70a-58d3-4b3a-8155-2907c9d0ab0c",
   "metadata": {},
   "source": [
    "## Sorting"
   ]
  },
  {
   "cell_type": "code",
   "execution_count": 252,
   "id": "8823f18f-a777-4746-a9fb-aa481f8cf749",
   "metadata": {},
   "outputs": [],
   "source": [
    "mytuple2=(43,67,99,12,6,90,67)"
   ]
  },
  {
   "cell_type": "code",
   "execution_count": 254,
   "id": "42e656e3-7686-4926-8fd5-dcce9c1a89f1",
   "metadata": {},
   "outputs": [
    {
     "data": {
      "text/plain": [
       "[6, 12, 43, 67, 67, 90, 99]"
      ]
     },
     "execution_count": 254,
     "metadata": {},
     "output_type": "execute_result"
    }
   ],
   "source": [
    "sorted(mytuple2) # Returns a new sorted list and doesn't change orginal tuple"
   ]
  },
  {
   "cell_type": "code",
   "execution_count": 258,
   "id": "6b73334a-d412-438d-8e00-1c01b52fdc73",
   "metadata": {},
   "outputs": [
    {
     "data": {
      "text/plain": [
       "[99, 90, 67, 67, 43, 12, 6]"
      ]
     },
     "execution_count": 258,
     "metadata": {},
     "output_type": "execute_result"
    }
   ],
   "source": [
    "sorted(mytuple2, reverse=True) # Sort in descending order"
   ]
  }
 ],
 "metadata": {
  "kernelspec": {
   "display_name": "Python 3 (ipykernel)",
   "language": "python",
   "name": "python3"
  },
  "language_info": {
   "codemirror_mode": {
    "name": "ipython",
    "version": 3
   },
   "file_extension": ".py",
   "mimetype": "text/x-python",
   "name": "python",
   "nbconvert_exporter": "python",
   "pygments_lexer": "ipython3",
   "version": "3.12.7"
  }
 },
 "nbformat": 4,
 "nbformat_minor": 5
}
