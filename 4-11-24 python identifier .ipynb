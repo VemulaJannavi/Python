{
 "cells": [
  {
   "cell_type": "code",
   "execution_count": 1,
   "id": "55d9e9a8-e2d2-43a1-800a-f8d20ca02d55",
   "metadata": {},
   "outputs": [
    {
     "data": {
      "text/plain": [
       "'welcome to nit'"
      ]
     },
     "execution_count": 1,
     "metadata": {},
     "output_type": "execute_result"
    }
   ],
   "source": [
    "'welcome to nit'"
   ]
  },
  {
   "cell_type": "code",
   "execution_count": 3,
   "id": "6fe49dee-1315-4e66-baca-c34721a92fed",
   "metadata": {},
   "outputs": [
    {
     "data": {
      "text/plain": [
       "5"
      ]
     },
     "execution_count": 3,
     "metadata": {},
     "output_type": "execute_result"
    }
   ],
   "source": [
    "2+3"
   ]
  },
  {
   "cell_type": "code",
   "execution_count": 5,
   "id": "e971c275-e99b-44bd-8ac8-5b077037aed2",
   "metadata": {},
   "outputs": [
    {
     "ename": "ZeroDivisionError",
     "evalue": "division by zero",
     "output_type": "error",
     "traceback": [
      "\u001b[1;31m---------------------------------------------------------------------------\u001b[0m",
      "\u001b[1;31mZeroDivisionError\u001b[0m                         Traceback (most recent call last)",
      "Cell \u001b[1;32mIn[5], line 1\u001b[0m\n\u001b[1;32m----> 1\u001b[0m \u001b[38;5;241m1\u001b[39m\u001b[38;5;241m/\u001b[39m\u001b[38;5;241m0\u001b[39m\n",
      "\u001b[1;31mZeroDivisionError\u001b[0m: division by zero"
     ]
    }
   ],
   "source": [
    "1/0"
   ]
  },
  {
   "cell_type": "code",
   "execution_count": 7,
   "id": "44cc4a39-0c5b-4c46-b589-cc5c2725e547",
   "metadata": {},
   "outputs": [
    {
     "data": {
      "text/plain": [
       "0.0"
      ]
     },
     "execution_count": 7,
     "metadata": {},
     "output_type": "execute_result"
    }
   ],
   "source": [
    "0/1"
   ]
  },
  {
   "cell_type": "code",
   "execution_count": 9,
   "id": "513aef36-c8e9-4d09-bc28-6eefca841b57",
   "metadata": {},
   "outputs": [
    {
     "data": {
      "text/plain": [
       "'3.12.7 | packaged by Anaconda, Inc. | (main, Oct  4 2024, 13:17:27) [MSC v.1929 64 bit (AMD64)]'"
      ]
     },
     "execution_count": 9,
     "metadata": {},
     "output_type": "execute_result"
    }
   ],
   "source": [
    "import sys\n",
    "sys.version"
   ]
  },
  {
   "cell_type": "markdown",
   "id": "3ad00630-4ae5-463f-8dfa-0267ac4a75ad",
   "metadata": {},
   "source": [
    "## 2nd Nov"
   ]
  },
  {
   "cell_type": "code",
   "execution_count": 12,
   "id": "dc2e6fe9-6618-40bf-a3a3-581465ffcf6c",
   "metadata": {},
   "outputs": [
    {
     "data": {
      "text/plain": [
       "str"
      ]
     },
     "execution_count": 12,
     "metadata": {},
     "output_type": "execute_result"
    }
   ],
   "source": [
    "a = '5.5'\n",
    "type(a)"
   ]
  },
  {
   "cell_type": "code",
   "execution_count": 14,
   "id": "dee3d819-48ab-4e2f-bd74-547c09a77a52",
   "metadata": {},
   "outputs": [
    {
     "name": "stdout",
     "output_type": "stream",
     "text": [
      "hello\n",
      "hello\n",
      "hello\n",
      "hello\n"
     ]
    }
   ],
   "source": [
    "def greet():\n",
    "    print('hello')\n",
    "greet();\n",
    "\n",
    "def greet():\n",
    "    print('hello')\n",
    "greet();\n",
    "\n",
    "def greet():\n",
    "    print('hello')\n",
    "greet();\n",
    "\n",
    "def greet():\n",
    "    print('hello')\n",
    "greet();"
   ]
  },
  {
   "cell_type": "code",
   "execution_count": 16,
   "id": "70037e62-805c-4fda-a291-19b1b3cec024",
   "metadata": {},
   "outputs": [
    {
     "name": "stdout",
     "output_type": "stream",
     "text": [
      "hello\n",
      "hello\n",
      "hello\n",
      "hello\n"
     ]
    }
   ],
   "source": [
    "def greet():\n",
    "    print('hello')\n",
    "greet();\n",
    "\n",
    "greet();\n",
    "\n",
    "greet();\n",
    "\n",
    "greet();"
   ]
  },
  {
   "cell_type": "markdown",
   "id": "dab57ecd-06d8-489d-bbb5-816ea8351d21",
   "metadata": {},
   "source": [
    "## python identifier or python variable or python object"
   ]
  },
  {
   "cell_type": "code",
   "execution_count": 19,
   "id": "3d6a0d91-4af4-49b5-baf9-b29f70989507",
   "metadata": {},
   "outputs": [
    {
     "data": {
      "text/plain": [
       "5.5"
      ]
     },
     "execution_count": 19,
     "metadata": {},
     "output_type": "execute_result"
    }
   ],
   "source": [
    "a = 5.5\n",
    "a"
   ]
  },
  {
   "cell_type": "code",
   "execution_count": 21,
   "id": "d0995b24-4b53-4b1e-9e59-49af61ee8a6f",
   "metadata": {},
   "outputs": [
    {
     "data": {
      "text/plain": [
       "float"
      ]
     },
     "execution_count": 21,
     "metadata": {},
     "output_type": "execute_result"
    }
   ],
   "source": [
    "type(a)"
   ]
  },
  {
   "cell_type": "code",
   "execution_count": 23,
   "id": "d9002e67-a5a1-40c0-8ee5-d28e1f4cf1d7",
   "metadata": {},
   "outputs": [
    {
     "data": {
      "text/plain": [
       "2350491532400"
      ]
     },
     "execution_count": 23,
     "metadata": {},
     "output_type": "execute_result"
    }
   ],
   "source": [
    "id(a)"
   ]
  },
  {
   "cell_type": "code",
   "execution_count": 25,
   "id": "92f7dfc0-c610-45f8-843b-2f14e4fb935e",
   "metadata": {},
   "outputs": [
    {
     "data": {
      "text/plain": [
       "6"
      ]
     },
     "execution_count": 25,
     "metadata": {},
     "output_type": "execute_result"
    }
   ],
   "source": [
    "a = 6\n",
    "a"
   ]
  },
  {
   "cell_type": "code",
   "execution_count": 27,
   "id": "40ba55c2-581b-45b6-87d4-d0196989ddd8",
   "metadata": {},
   "outputs": [
    {
     "data": {
      "text/plain": [
       "140703670020696"
      ]
     },
     "execution_count": 27,
     "metadata": {},
     "output_type": "execute_result"
    }
   ],
   "source": [
    "id(a)"
   ]
  },
  {
   "cell_type": "code",
   "execution_count": 29,
   "id": "724f0a75-8466-428b-a44e-f4c764128d0a",
   "metadata": {},
   "outputs": [
    {
     "data": {
      "text/plain": [
       "6"
      ]
     },
     "execution_count": 29,
     "metadata": {},
     "output_type": "execute_result"
    }
   ],
   "source": [
    "a = 6\n",
    "a"
   ]
  },
  {
   "cell_type": "code",
   "execution_count": 31,
   "id": "945300a6-4c3f-4da9-bcbf-d8a088746766",
   "metadata": {},
   "outputs": [
    {
     "data": {
      "text/plain": [
       "140703670020696"
      ]
     },
     "execution_count": 31,
     "metadata": {},
     "output_type": "execute_result"
    }
   ],
   "source": [
    "id(a)"
   ]
  },
  {
   "cell_type": "markdown",
   "id": "f3d95050-cc86-4e74-b486-fe3ed3b7c7fa",
   "metadata": {},
   "source": [
    "## 4th Nov"
   ]
  },
  {
   "cell_type": "code",
   "execution_count": 34,
   "id": "c7bdd6b2-fa35-4da8-a4a1-0b64f28fa164",
   "metadata": {},
   "outputs": [
    {
     "data": {
      "text/plain": [
       "5"
      ]
     },
     "execution_count": 34,
     "metadata": {},
     "output_type": "execute_result"
    }
   ],
   "source": [
    "v = 5\n",
    "v"
   ]
  },
  {
   "cell_type": "code",
   "execution_count": 36,
   "id": "d68c12d6-f786-414b-b1ab-d53bb993f793",
   "metadata": {},
   "outputs": [
    {
     "ename": "SyntaxError",
     "evalue": "cannot assign to literal here. Maybe you meant '==' instead of '='? (237110408.py, line 1)",
     "output_type": "error",
     "traceback": [
      "\u001b[1;36m  Cell \u001b[1;32mIn[36], line 1\u001b[1;36m\u001b[0m\n\u001b[1;33m    5 = v\u001b[0m\n\u001b[1;37m    ^\u001b[0m\n\u001b[1;31mSyntaxError\u001b[0m\u001b[1;31m:\u001b[0m cannot assign to literal here. Maybe you meant '==' instead of '='?\n"
     ]
    }
   ],
   "source": [
    "5 = v"
   ]
  },
  {
   "cell_type": "code",
   "execution_count": 38,
   "id": "c8905510-7230-4a69-96c0-dfb3ad2c2315",
   "metadata": {},
   "outputs": [
    {
     "data": {
      "text/plain": [
       "140703670020664"
      ]
     },
     "execution_count": 38,
     "metadata": {},
     "output_type": "execute_result"
    }
   ],
   "source": [
    "id(v)"
   ]
  },
  {
   "cell_type": "code",
   "execution_count": 40,
   "id": "a2bf10fc-c91e-45ed-a9b4-97da24c3f83c",
   "metadata": {},
   "outputs": [
    {
     "data": {
      "text/plain": [
       "5"
      ]
     },
     "execution_count": 40,
     "metadata": {},
     "output_type": "execute_result"
    }
   ],
   "source": [
    "v"
   ]
  },
  {
   "cell_type": "code",
   "execution_count": 42,
   "id": "ac272e9e-2e33-46e8-a137-3c483e5a84e7",
   "metadata": {},
   "outputs": [
    {
     "data": {
      "text/plain": [
       "5"
      ]
     },
     "execution_count": 42,
     "metadata": {},
     "output_type": "execute_result"
    }
   ],
   "source": [
    "i = 5\n",
    "i"
   ]
  },
  {
   "cell_type": "code",
   "execution_count": 44,
   "id": "29cd8f67-6471-4825-9cdd-8b468a3409d3",
   "metadata": {},
   "outputs": [
    {
     "name": "stdout",
     "output_type": "stream",
     "text": [
      "140703670020664\n",
      "140703670020664\n"
     ]
    }
   ],
   "source": [
    "print(id(v))\n",
    "print(id(i))"
   ]
  },
  {
   "cell_type": "code",
   "execution_count": 50,
   "id": "19ec18ab-f67b-466c-826d-1b55c130290d",
   "metadata": {},
   "outputs": [
    {
     "data": {
      "text/plain": [
       "6"
      ]
     },
     "execution_count": 50,
     "metadata": {},
     "output_type": "execute_result"
    }
   ],
   "source": [
    "o = 6\n",
    "o"
   ]
  },
  {
   "cell_type": "code",
   "execution_count": 52,
   "id": "bbce6c59-83c1-478e-9e17-899dca6d57c4",
   "metadata": {},
   "outputs": [
    {
     "name": "stdout",
     "output_type": "stream",
     "text": [
      "140703670020664\n",
      "140703670020664\n",
      "140703670020696\n"
     ]
    }
   ],
   "source": [
    "print(id(v)) # addres of v variable \n",
    "print(id(i)) # address of i variable or\n",
    "print(id(o))"
   ]
  },
  {
   "cell_type": "markdown",
   "id": "0fc35795-afd5-416d-b453-7eb5945f8964",
   "metadata": {},
   "source": [
    "write python program to add 2 variable and i should get of 10 ?"
   ]
  },
  {
   "cell_type": "code",
   "execution_count": 59,
   "id": "c975ab4f-d3b9-43a8-8d89-e1bbd616b272",
   "metadata": {},
   "outputs": [
    {
     "data": {
      "text/plain": [
       "10"
      ]
     },
     "execution_count": 59,
     "metadata": {},
     "output_type": "execute_result"
    }
   ],
   "source": [
    "a = 5\n",
    "b = 5\n",
    "a + b"
   ]
  },
  {
   "cell_type": "code",
   "execution_count": 61,
   "id": "77670619-7173-437d-9a0d-de496702953c",
   "metadata": {},
   "outputs": [
    {
     "data": {
      "text/plain": [
       "5"
      ]
     },
     "execution_count": 61,
     "metadata": {},
     "output_type": "execute_result"
    }
   ],
   "source": [
    "v"
   ]
  },
  {
   "cell_type": "markdown",
   "id": "0cd0c47d-cb4f-41df-9005-7009607393f5",
   "metadata": {},
   "source": [
    "## rule to define python identifer"
   ]
  },
  {
   "cell_type": "code",
   "execution_count": 68,
   "id": "6787c266-a07c-4d0d-833c-380db63df23c",
   "metadata": {},
   "outputs": [
    {
     "ename": "NameError",
     "evalue": "name 'NIT' is not defined",
     "output_type": "error",
     "traceback": [
      "\u001b[1;31m---------------------------------------------------------------------------\u001b[0m",
      "\u001b[1;31mNameError\u001b[0m                                 Traceback (most recent call last)",
      "Cell \u001b[1;32mIn[68], line 2\u001b[0m\n\u001b[0;32m      1\u001b[0m nit \u001b[38;5;241m=\u001b[39m \u001b[38;5;241m21\u001b[39m\n\u001b[1;32m----> 2\u001b[0m NIT\n",
      "\u001b[1;31mNameError\u001b[0m: name 'NIT' is not defined"
     ]
    }
   ],
   "source": [
    "nit = 21\n",
    "NIT"
   ]
  },
  {
   "cell_type": "code",
   "execution_count": 70,
   "id": "d3095cf7-f4c8-4a85-9a8e-2aba04fa9eef",
   "metadata": {},
   "outputs": [
    {
     "data": {
      "text/plain": [
       "21"
      ]
     },
     "execution_count": 70,
     "metadata": {},
     "output_type": "execute_result"
    }
   ],
   "source": [
    "nit"
   ]
  },
  {
   "cell_type": "code",
   "execution_count": 72,
   "id": "b25cdb4f-63d8-4463-bfe1-19c58fc9cc8a",
   "metadata": {},
   "outputs": [
    {
     "ename": "SyntaxError",
     "evalue": "invalid decimal literal (3634445868.py, line 1)",
     "output_type": "error",
     "traceback": [
      "\u001b[1;36m  Cell \u001b[1;32mIn[72], line 1\u001b[1;36m\u001b[0m\n\u001b[1;33m    2v = 50\u001b[0m\n\u001b[1;37m    ^\u001b[0m\n\u001b[1;31mSyntaxError\u001b[0m\u001b[1;31m:\u001b[0m invalid decimal literal\n"
     ]
    }
   ],
   "source": [
    "2v = 50\n",
    "2v"
   ]
  },
  {
   "cell_type": "code",
   "execution_count": 74,
   "id": "6c8eb113-7bed-4665-aa31-31c2779242b4",
   "metadata": {},
   "outputs": [
    {
     "ename": "SyntaxError",
     "evalue": "invalid decimal literal (586185135.py, line 2)",
     "output_type": "error",
     "traceback": [
      "\u001b[1;36m  Cell \u001b[1;32mIn[74], line 2\u001b[1;36m\u001b[0m\n\u001b[1;33m    2v\u001b[0m\n\u001b[1;37m    ^\u001b[0m\n\u001b[1;31mSyntaxError\u001b[0m\u001b[1;31m:\u001b[0m invalid decimal literal\n"
     ]
    }
   ],
   "source": [
    "v2 = 50\n",
    "2v"
   ]
  },
  {
   "cell_type": "code",
   "execution_count": 76,
   "id": "377f01a3-bcb3-481d-8119-e76f6fed6c72",
   "metadata": {},
   "outputs": [
    {
     "data": {
      "text/plain": [
       "50"
      ]
     },
     "execution_count": 76,
     "metadata": {},
     "output_type": "execute_result"
    }
   ],
   "source": [
    "v2 = 50\n",
    "v2"
   ]
  },
  {
   "cell_type": "code",
   "execution_count": 78,
   "id": "70dc34ae-2b67-42be-8c3a-1169cc578220",
   "metadata": {},
   "outputs": [
    {
     "ename": "SyntaxError",
     "evalue": "invalid syntax (1462762268.py, line 1)",
     "output_type": "error",
     "traceback": [
      "\u001b[1;36m  Cell \u001b[1;32mIn[78], line 1\u001b[1;36m\u001b[0m\n\u001b[1;33m    v3* = 78\u001b[0m\n\u001b[1;37m        ^\u001b[0m\n\u001b[1;31mSyntaxError\u001b[0m\u001b[1;31m:\u001b[0m invalid syntax\n"
     ]
    }
   ],
   "source": [
    "v3* = 78\n"
   ]
  },
  {
   "cell_type": "code",
   "execution_count": 80,
   "id": "c83c97c7-479d-4648-bfad-f379623a1b87",
   "metadata": {},
   "outputs": [
    {
     "data": {
      "text/plain": [
       "67"
      ]
     },
     "execution_count": 80,
     "metadata": {},
     "output_type": "execute_result"
    }
   ],
   "source": [
    "v3_ = 67\n",
    "v3_"
   ]
  },
  {
   "cell_type": "code",
   "execution_count": 82,
   "id": "606ff7cd-a905-43ed-95b9-2b5c66672ede",
   "metadata": {},
   "outputs": [
    {
     "data": {
      "text/plain": [
       "35"
      ]
     },
     "execution_count": 82,
     "metadata": {},
     "output_type": "execute_result"
    }
   ],
   "source": [
    "import keyword\n",
    "len(keyword.kwlist)"
   ]
  },
  {
   "cell_type": "code",
   "execution_count": 84,
   "id": "57ff04d9-9ce6-4402-a60e-c2880f1e4588",
   "metadata": {},
   "outputs": [
    {
     "ename": "SyntaxError",
     "evalue": "invalid syntax (3076455996.py, line 1)",
     "output_type": "error",
     "traceback": [
      "\u001b[1;36m  Cell \u001b[1;32mIn[84], line 1\u001b[1;36m\u001b[0m\n\u001b[1;33m    and = 78\u001b[0m\n\u001b[1;37m    ^\u001b[0m\n\u001b[1;31mSyntaxError\u001b[0m\u001b[1;31m:\u001b[0m invalid syntax\n"
     ]
    }
   ],
   "source": [
    "and = 78"
   ]
  },
  {
   "cell_type": "code",
   "execution_count": 86,
   "id": "ddbc9f0b-4b9d-446f-add1-e34a58b99934",
   "metadata": {},
   "outputs": [
    {
     "ename": "SyntaxError",
     "evalue": "invalid syntax (514723562.py, line 1)",
     "output_type": "error",
     "traceback": [
      "\u001b[1;36m  Cell \u001b[1;32mIn[86], line 1\u001b[1;36m\u001b[0m\n\u001b[1;33m    continue = 7\u001b[0m\n\u001b[1;37m             ^\u001b[0m\n\u001b[1;31mSyntaxError\u001b[0m\u001b[1;31m:\u001b[0m invalid syntax\n"
     ]
    }
   ],
   "source": [
    "continue = 7"
   ]
  },
  {
   "cell_type": "code",
   "execution_count": 88,
   "id": "aa9e604a-93a7-4ab3-be01-67c6d3ea4c88",
   "metadata": {},
   "outputs": [
    {
     "ename": "SyntaxError",
     "evalue": "cannot assign to True (3093263138.py, line 1)",
     "output_type": "error",
     "traceback": [
      "\u001b[1;36m  Cell \u001b[1;32mIn[88], line 1\u001b[1;36m\u001b[0m\n\u001b[1;33m    True = 45\u001b[0m\n\u001b[1;37m    ^\u001b[0m\n\u001b[1;31mSyntaxError\u001b[0m\u001b[1;31m:\u001b[0m cannot assign to True\n"
     ]
    }
   ],
   "source": [
    "True = 45"
   ]
  },
  {
   "cell_type": "code",
   "execution_count": 90,
   "id": "814bf1b5-236a-41d9-a44e-4c64c09cd00b",
   "metadata": {},
   "outputs": [
    {
     "data": {
      "text/plain": [
       "100"
      ]
     },
     "execution_count": 90,
     "metadata": {},
     "output_type": "execute_result"
    }
   ],
   "source": [
    "vvvvvvvvvvvvvvvvvvvvvvvvvvvvvvvvvvvvvvvvvvvvvvvvvvvvvvvvvvvvvvvv = 100\n",
    "vvvvvvvvvvvvvvvvvvvvvvvvvvvvvvvvvvvvvvvvvvvvvvvvvvvvvvvvvvvvvvvv"
   ]
  },
  {
   "cell_type": "code",
   "execution_count": 96,
   "id": "1c83ea3d-f85e-4ca5-b35c-f9b9c79c2f47",
   "metadata": {},
   "outputs": [
    {
     "name": "stdout",
     "output_type": "stream",
     "text": [
      "10.3\n",
      "nit\n"
     ]
    }
   ],
   "source": [
    "name = 'nit'\n",
    "student = 10.30\n",
    "\n",
    "print(student)\n",
    "print(name)"
   ]
  },
  {
   "cell_type": "markdown",
   "id": "5133daa1-40ed-4d16-aa79-babdc2bf434f",
   "metadata": {},
   "source": [
    ". Q & A for valid / Invalid identifier - 1>123AMX 2>Amx123 3>ml2ai 4>_abc_def_gef 5>def>    6>else 7>ELSE"
   ]
  },
  {
   "cell_type": "markdown",
   "id": "ace45433-317c-4ab6-bd82-cbfb46394af1",
   "metadata": {},
   "source": [
    ". ----- RULES OF PYTHON IDENTIFIER ------ 1> A to Z, a to z, 0 - 9 2> Doesnot starts with   digit 3> Case sensitive 4> Reserved words or keywords cannot be a identifier 5>           Identifier cannot have a lenght limit 6> _ only allowed 7> NO special character is        allowed\n",
    "\n"
   ]
  },
  {
   "cell_type": "markdown",
   "id": "3e2366a9-bfc4-4cd4-ad7a-48dfc1ca8f6f",
   "metadata": {},
   "source": [
    ". ========================= WE LEARNT ABOUT PYTHON IDENTIFIER IN DETAILS                    ============================"
   ]
  },
  {
   "cell_type": "code",
   "execution_count": 98,
   "id": "9593491f-6808-4dd4-b9e0-4af92a31542d",
   "metadata": {},
   "outputs": [
    {
     "ename": "SyntaxError",
     "evalue": "invalid syntax (1235973109.py, line 1)",
     "output_type": "error",
     "traceback": [
      "\u001b[1;36m  Cell \u001b[1;32mIn[98], line 1\u001b[1;36m\u001b[0m\n\u001b[1;33m    else = 56\u001b[0m\n\u001b[1;37m    ^\u001b[0m\n\u001b[1;31mSyntaxError\u001b[0m\u001b[1;31m:\u001b[0m invalid syntax\n"
     ]
    }
   ],
   "source": [
    "else = 56\n",
    "else"
   ]
  }
 ],
 "metadata": {
  "kernelspec": {
   "display_name": "Python 3 (ipykernel)",
   "language": "python",
   "name": "python3"
  },
  "language_info": {
   "codemirror_mode": {
    "name": "ipython",
    "version": 3
   },
   "file_extension": ".py",
   "mimetype": "text/x-python",
   "name": "python",
   "nbconvert_exporter": "python",
   "pygments_lexer": "ipython3",
   "version": "3.12.7"
  }
 },
 "nbformat": 4,
 "nbformat_minor": 5
}
