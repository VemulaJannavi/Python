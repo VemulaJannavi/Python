{
 "cells": [
  {
   "cell_type": "code",
   "execution_count": 297,
   "id": "a823fe77-62ad-425f-8f4b-1a3530579c85",
   "metadata": {},
   "outputs": [
    {
     "data": {
      "text/plain": [
       "2"
      ]
     },
     "execution_count": 297,
     "metadata": {},
     "output_type": "execute_result"
    }
   ],
   "source": [
    "1 + 1 # ADDITION "
   ]
  },
  {
   "cell_type": "code",
   "execution_count": 298,
   "id": "f5e33868-09a2-4f26-bba3-6f23f3625ae2",
   "metadata": {},
   "outputs": [
    {
     "data": {
      "text/plain": [
       "1"
      ]
     },
     "execution_count": 298,
     "metadata": {},
     "output_type": "execute_result"
    }
   ],
   "source": [
    "2-1"
   ]
  },
  {
   "cell_type": "code",
   "execution_count": 301,
   "id": "5041e6a8-5038-472f-98a5-589818fcffd7",
   "metadata": {},
   "outputs": [
    {
     "data": {
      "text/plain": [
       "12"
      ]
     },
     "execution_count": 301,
     "metadata": {},
     "output_type": "execute_result"
    }
   ],
   "source": [
    "3*4"
   ]
  },
  {
   "cell_type": "code",
   "execution_count": 303,
   "id": "f8e0effb-28f4-47f9-96a6-68c4e5a9c5ca",
   "metadata": {},
   "outputs": [
    {
     "data": {
      "text/plain": [
       "2.0"
      ]
     },
     "execution_count": 303,
     "metadata": {},
     "output_type": "execute_result"
    }
   ],
   "source": [
    "8 / 4 # Division"
   ]
  },
  {
   "cell_type": "code",
   "execution_count": 304,
   "id": "e0145a83-37f0-4add-935c-b27fb651719d",
   "metadata": {},
   "outputs": [
    {
     "data": {
      "text/plain": [
       "1.6"
      ]
     },
     "execution_count": 304,
     "metadata": {},
     "output_type": "execute_result"
    }
   ],
   "source": [
    "8 / 5 #float division"
   ]
  },
  {
   "cell_type": "code",
   "execution_count": 307,
   "id": "cb8f7430-08b3-4400-a1a9-83eb2badba15",
   "metadata": {},
   "outputs": [
    {
     "data": {
      "text/plain": [
       "1.6"
      ]
     },
     "execution_count": 307,
     "metadata": {},
     "output_type": "execute_result"
    }
   ],
   "source": [
    "8 / 5 #float division"
   ]
  },
  {
   "cell_type": "code",
   "execution_count": 308,
   "id": "13a380a9-8621-433a-97e2-88f7f7f6c9ff",
   "metadata": {},
   "outputs": [
    {
     "data": {
      "text/plain": [
       "2"
      ]
     },
     "execution_count": 308,
     "metadata": {},
     "output_type": "execute_result"
    }
   ],
   "source": [
    "8 // 4 #integer division"
   ]
  },
  {
   "cell_type": "code",
   "execution_count": 309,
   "id": "e27f1d90-4737-41f4-a09a-e2219661b6c1",
   "metadata": {},
   "outputs": [
    {
     "data": {
      "text/plain": [
       "10"
      ]
     },
     "execution_count": 309,
     "metadata": {},
     "output_type": "execute_result"
    }
   ],
   "source": [
    "8 + 9 - 7"
   ]
  },
  {
   "cell_type": "code",
   "execution_count": 310,
   "id": "2ff8814a-d290-43f5-8780-5b88d85a4183",
   "metadata": {},
   "outputs": [
    {
     "ename": "SyntaxError",
     "evalue": "invalid syntax (1452213586.py, line 1)",
     "output_type": "error",
     "traceback": [
      "\u001b[1;36m  Cell \u001b[1;32mIn[310], line 1\u001b[1;36m\u001b[0m\n\u001b[1;33m    8 + 8 - #syntax error:\u001b[0m\n\u001b[1;37m            ^\u001b[0m\n\u001b[1;31mSyntaxError\u001b[0m\u001b[1;31m:\u001b[0m invalid syntax\n"
     ]
    }
   ],
   "source": [
    "8 + 8 - #syntax error:"
   ]
  },
  {
   "cell_type": "code",
   "execution_count": 315,
   "id": "b0f45ea0-eeef-4c5a-acae-00e1edb0af03",
   "metadata": {},
   "outputs": [
    {
     "data": {
      "text/plain": [
       "30"
      ]
     },
     "execution_count": 315,
     "metadata": {},
     "output_type": "execute_result"
    }
   ],
   "source": [
    "5 + 5 * 5"
   ]
  },
  {
   "cell_type": "code",
   "execution_count": 317,
   "id": "dbf01321-a59f-4a6f-9421-afe6de3f9a84",
   "metadata": {},
   "outputs": [
    {
     "data": {
      "text/plain": [
       "50"
      ]
     },
     "execution_count": 317,
     "metadata": {},
     "output_type": "execute_result"
    }
   ],
   "source": [
    "(5 + 5) * 5 # BODMAS (Bracket || Oders || Divide || Multiply || Add || Substact)"
   ]
  },
  {
   "cell_type": "code",
   "execution_count": 319,
   "id": "f59b2f9c-6f51-4f65-97dc-6d7488e7ec3a",
   "metadata": {},
   "outputs": [
    {
     "data": {
      "text/plain": [
       "32"
      ]
     },
     "execution_count": 319,
     "metadata": {},
     "output_type": "execute_result"
    }
   ],
   "source": [
    "2 * 2 * 2 * 2 * 2 # exponentaion"
   ]
  },
  {
   "cell_type": "code",
   "execution_count": 321,
   "id": "9139e89e-de64-4f5e-a13c-a2cbf2abc97c",
   "metadata": {},
   "outputs": [
    {
     "data": {
      "text/plain": [
       "32"
      ]
     },
     "execution_count": 321,
     "metadata": {},
     "output_type": "execute_result"
    }
   ],
   "source": [
    "2 ** 5"
   ]
  },
  {
   "cell_type": "code",
   "execution_count": 323,
   "id": "bfb85d60-a714-4869-b7fa-fd2a5c98f4c6",
   "metadata": {},
   "outputs": [
    {
     "data": {
      "text/plain": [
       "5.0"
      ]
     },
     "execution_count": 323,
     "metadata": {},
     "output_type": "execute_result"
    }
   ],
   "source": [
    "15 / 3"
   ]
  },
  {
   "cell_type": "code",
   "execution_count": 325,
   "id": "be3e5842-127b-4940-9823-0612abca72fc",
   "metadata": {},
   "outputs": [
    {
     "data": {
      "text/plain": [
       "3"
      ]
     },
     "execution_count": 325,
     "metadata": {},
     "output_type": "execute_result"
    }
   ],
   "source": [
    "10 // 3"
   ]
  },
  {
   "cell_type": "code",
   "execution_count": 327,
   "id": "771b5271-7ba7-40d9-9491-f783cd304de2",
   "metadata": {},
   "outputs": [
    {
     "data": {
      "text/plain": [
       "0"
      ]
     },
     "execution_count": 327,
     "metadata": {},
     "output_type": "execute_result"
    }
   ],
   "source": [
    "14 % 2 # Modulus"
   ]
  },
  {
   "cell_type": "code",
   "execution_count": 329,
   "id": "41398d7c-f5be-4e00-83e3-effce815a69e",
   "metadata": {},
   "outputs": [
    {
     "ename": "SyntaxError",
     "evalue": "invalid syntax (1768330815.py, line 1)",
     "output_type": "error",
     "traceback": [
      "\u001b[1;36m  Cell \u001b[1;32mIn[329], line 1\u001b[1;36m\u001b[0m\n\u001b[1;33m    15 %% 2\u001b[0m\n\u001b[1;37m        ^\u001b[0m\n\u001b[1;31mSyntaxError\u001b[0m\u001b[1;31m:\u001b[0m invalid syntax\n"
     ]
    }
   ],
   "source": [
    "15 %% 2"
   ]
  },
  {
   "cell_type": "code",
   "execution_count": 331,
   "id": "821cd6c5-b76a-46b4-9adb-7dc8cbfb4755",
   "metadata": {},
   "outputs": [
    {
     "name": "stdout",
     "output_type": "stream",
     "text": [
      "15\n",
      "7.8\n",
      "nit\n",
      "(8+9j)\n",
      "True\n"
     ]
    }
   ],
   "source": [
    "a,b,c,d,e = 15, 7.8, 'nit', 8+9j, True\n",
    "\n",
    "print(a)\n",
    "print(b)\n",
    "print(c)\n",
    "print(d)\n",
    "print(e)"
   ]
  },
  {
   "cell_type": "code",
   "execution_count": 332,
   "id": "5ceb5661-97b0-414a-afff-e8dcfdd4d72e",
   "metadata": {},
   "outputs": [
    {
     "name": "stdout",
     "output_type": "stream",
     "text": [
      "<class 'int'>\n",
      "<class 'float'>\n",
      "<class 'str'>\n",
      "<class 'complex'>\n",
      "<class 'bool'>\n"
     ]
    }
   ],
   "source": [
    "print(type(a))\n",
    "print(type(b))\n",
    "print(type(c))\n",
    "print(type(d))\n",
    "print(type(e))"
   ]
  },
  {
   "cell_type": "code",
   "execution_count": 333,
   "id": "8fc3b9fe-8db7-451c-ad6c-f7009bf660dc",
   "metadata": {},
   "outputs": [
    {
     "data": {
      "text/plain": [
       "str"
      ]
     },
     "execution_count": 333,
     "metadata": {},
     "output_type": "execute_result"
    }
   ],
   "source": [
    "type(c)"
   ]
  },
  {
   "cell_type": "markdown",
   "id": "13a8c61d-603a-4c72-89c8-594b124fe2ca",
   "metadata": {},
   "source": [
    ". So far we code with numbers(integer)"
   ]
  },
  {
   "cell_type": "markdown",
   "id": "a0f52959-85bc-4cd6-bfb8-f536168d6967",
   "metadata": {},
   "source": [
    ". Lets work with string"
   ]
  },
  {
   "cell_type": "code",
   "execution_count": 338,
   "id": "d3510e57-c3ff-4c48-88f0-131c590a306c",
   "metadata": {},
   "outputs": [
    {
     "data": {
      "text/plain": [
       "'Naresh IT'"
      ]
     },
     "execution_count": 338,
     "metadata": {},
     "output_type": "execute_result"
    }
   ],
   "source": [
    "'Naresh IT'"
   ]
  },
  {
   "cell_type": "markdown",
   "id": "804501dc-336c-4ede-b6b8-cce53194b4b6",
   "metadata": {},
   "source": [
    "python inbuild function - print & you need to pass the parameter in print()"
   ]
  },
  {
   "cell_type": "markdown",
   "id": "3702e8ad-6fef-4db4-9554-34cbae25bc04",
   "metadata": {},
   "source": [
    "A function is a block of code which only runs when it is called. You can pass data, known as parameters, into a function. A function can return data as a result."
   ]
  },
  {
   "cell_type": "code",
   "execution_count": 343,
   "id": "98ddc97f-3231-4094-aac3-a394210e1f94",
   "metadata": {},
   "outputs": [
    {
     "name": "stdout",
     "output_type": "stream",
     "text": [
      "naresh it\n"
     ]
    }
   ],
   "source": [
    "print('naresh it')"
   ]
  },
  {
   "cell_type": "code",
   "execution_count": 345,
   "id": "a424282b-cb60-455c-b098-f49c9a6b536a",
   "metadata": {},
   "outputs": [
    {
     "data": {
      "text/plain": [
       "'max it technology'"
      ]
     },
     "execution_count": 345,
     "metadata": {},
     "output_type": "execute_result"
    }
   ],
   "source": [
    "\"max it technology\""
   ]
  },
  {
   "cell_type": "code",
   "execution_count": 347,
   "id": "1d6e3edd-9fcc-4188-ba22-e092a2f28566",
   "metadata": {},
   "outputs": [
    {
     "data": {
      "text/plain": [
       "'naresh it technology'"
      ]
     },
     "execution_count": 347,
     "metadata": {},
     "output_type": "execute_result"
    }
   ],
   "source": [
    "s1 = 'naresh it technology'\n",
    "s1"
   ]
  },
  {
   "cell_type": "code",
   "execution_count": 349,
   "id": "32b27964-6501-4313-8ec9-ba0039d971f0",
   "metadata": {},
   "outputs": [
    {
     "data": {
      "text/plain": [
       "5"
      ]
     },
     "execution_count": 349,
     "metadata": {},
     "output_type": "execute_result"
    }
   ],
   "source": [
    "a = 2\n",
    "b = 3\n",
    "a + b"
   ]
  },
  {
   "cell_type": "code",
   "execution_count": 351,
   "id": "45d4406f-bc28-4955-8bf9-0eb8268f4e44",
   "metadata": {},
   "outputs": [
    {
     "data": {
      "text/plain": [
       "5"
      ]
     },
     "execution_count": 351,
     "metadata": {},
     "output_type": "execute_result"
    }
   ],
   "source": [
    "c = a + b\n",
    "c"
   ]
  },
  {
   "cell_type": "code",
   "execution_count": 353,
   "id": "8d6ac088-f8f4-4c5f-a1f4-1e2b03fb274f",
   "metadata": {},
   "outputs": [
    {
     "data": {
      "text/plain": [
       "str"
      ]
     },
     "execution_count": 353,
     "metadata": {},
     "output_type": "execute_result"
    }
   ],
   "source": [
    "a = 3\n",
    "b = 'hi'\n",
    "type(b)"
   ]
  },
  {
   "cell_type": "code",
   "execution_count": 355,
   "id": "359e750e-2f40-4a69-8428-02ad342f50ba",
   "metadata": {},
   "outputs": [
    {
     "ename": "TypeError",
     "evalue": "unsupported operand type(s) for +: 'int' and 'str'",
     "output_type": "error",
     "traceback": [
      "\u001b[1;31m---------------------------------------------------------------------------\u001b[0m",
      "\u001b[1;31mTypeError\u001b[0m                                 Traceback (most recent call last)",
      "Cell \u001b[1;32mIn[355], line 1\u001b[0m\n\u001b[1;32m----> 1\u001b[0m a \u001b[38;5;241m+\u001b[39m b\n",
      "\u001b[1;31mTypeError\u001b[0m: unsupported operand type(s) for +: 'int' and 'str'"
     ]
    }
   ],
   "source": [
    "a + b"
   ]
  },
  {
   "cell_type": "code",
   "execution_count": null,
   "id": "ce5b9817-21c9-4709-9fe9-1ceffb74b068",
   "metadata": {},
   "outputs": [],
   "source": [
    "print('naresh it's 'Technology')"
   ]
  },
  {
   "cell_type": "code",
   "execution_count": null,
   "id": "bf3273a3-4988-4839-8fe6-edd02c0b87a8",
   "metadata": {},
   "outputs": [],
   "source": [
    "print('naresh it\\'s\"Technology\"') #\\ has some special meaning to ignore the error"
   ]
  },
  {
   "cell_type": "code",
   "execution_count": null,
   "id": "48223391-2fe5-4fab-9cd2-3cb172b07bb0",
   "metadata": {},
   "outputs": [],
   "source": [
    "print('naresh it',  'Technology')"
   ]
  },
  {
   "cell_type": "code",
   "execution_count": null,
   "id": "f9509e52-fb87-4952-9bc9-025c9c64a1ae",
   "metadata": {},
   "outputs": [],
   "source": [
    "print(\"naresh it',  'Technology\")"
   ]
  },
  {
   "cell_type": "code",
   "execution_count": 359,
   "id": "45a94a30-4513-417e-a7f5-4943675b4516",
   "metadata": {},
   "outputs": [
    {
     "name": "stdout",
     "output_type": "stream",
     "text": [
      "naresh it',  'Technology\n"
     ]
    }
   ],
   "source": [
    "print(\"naresh it',  'Technology\")"
   ]
  },
  {
   "cell_type": "code",
   "execution_count": 362,
   "id": "d661ea0d-f8f5-4f63-aea9-9514b85c5e39",
   "metadata": {},
   "outputs": [
    {
     "data": {
      "text/plain": [
       "'nit nit'"
      ]
     },
     "execution_count": 362,
     "metadata": {},
     "output_type": "execute_result"
    }
   ],
   "source": [
    "# print the nit 2 times \n",
    "'nit' + ' nit'"
   ]
  },
  {
   "cell_type": "code",
   "execution_count": 365,
   "id": "1eae3a7c-186b-497b-bed2-2944624df821",
   "metadata": {},
   "outputs": [
    {
     "data": {
      "text/plain": [
       "'nit nit'"
      ]
     },
     "execution_count": 365,
     "metadata": {},
     "output_type": "execute_result"
    }
   ],
   "source": [
    "'nit'  ' nit'"
   ]
  },
  {
   "cell_type": "code",
   "execution_count": 367,
   "id": "226db219-eb26-44a8-a89d-1f575030df7f",
   "metadata": {},
   "outputs": [
    {
     "data": {
      "text/plain": [
       "'nitnitnitnitnit'"
      ]
     },
     "execution_count": 367,
     "metadata": {},
     "output_type": "execute_result"
    }
   ],
   "source": [
    "#5 time print\n",
    "5 * 'nit'"
   ]
  },
  {
   "cell_type": "code",
   "execution_count": 369,
   "id": "0ee5d4cb-7e8e-40ed-9787-781e1edeb310",
   "metadata": {},
   "outputs": [
    {
     "data": {
      "text/plain": [
       "' nit  nit  nit  nit  nit '"
      ]
     },
     "execution_count": 369,
     "metadata": {},
     "output_type": "execute_result"
    }
   ],
   "source": [
    "5 *' nit ' # soace between words"
   ]
  },
  {
   "cell_type": "code",
   "execution_count": 371,
   "id": "693a9015-03e1-4176-8577-9696a2f9c585",
   "metadata": {},
   "outputs": [
    {
     "name": "stdout",
     "output_type": "stream",
     "text": [
      "c:\n",
      "it\n"
     ]
    }
   ],
   "source": [
    "print('c:\\nit') #\\n -- new line"
   ]
  },
  {
   "cell_type": "code",
   "execution_count": 373,
   "id": "db8d4b39-770a-42d5-80d1-f83655e23387",
   "metadata": {},
   "outputs": [
    {
     "name": "stdout",
     "output_type": "stream",
     "text": [
      "c:\\nit\n"
     ]
    }
   ],
   "source": [
    "print(r'c:\\nit') #raw string"
   ]
  },
  {
   "cell_type": "code",
   "execution_count": 374,
   "id": "1ec89610-281a-4cdb-b5d1-2c3c47e1b52c",
   "metadata": {},
   "outputs": [
    {
     "data": {
      "text/plain": [
       "2"
      ]
     },
     "execution_count": 374,
     "metadata": {},
     "output_type": "execute_result"
    }
   ],
   "source": [
    "2"
   ]
  },
  {
   "cell_type": "code",
   "execution_count": 375,
   "id": "7e86546b-b498-4650-89f3-721de9291245",
   "metadata": {},
   "outputs": [
    {
     "data": {
      "text/plain": [
       "2"
      ]
     },
     "execution_count": 375,
     "metadata": {},
     "output_type": "execute_result"
    }
   ],
   "source": [
    "x = 2 #x is variable/identifier/objec, 2 is the value\n",
    "x"
   ]
  },
  {
   "cell_type": "code",
   "execution_count": 378,
   "id": "025fde78-c0f9-428f-bdbf-06ffd4ab2204",
   "metadata": {},
   "outputs": [
    {
     "data": {
      "text/plain": [
       "5"
      ]
     },
     "execution_count": 378,
     "metadata": {},
     "output_type": "execute_result"
    }
   ],
   "source": [
    "x + 3"
   ]
  },
  {
   "cell_type": "code",
   "execution_count": 380,
   "id": "fda0fe9e-693e-40de-bb98-6098c392ed34",
   "metadata": {},
   "outputs": [
    {
     "data": {
      "text/plain": [
       "3"
      ]
     },
     "execution_count": 380,
     "metadata": {},
     "output_type": "execute_result"
    }
   ],
   "source": [
    "y = 3\n",
    "y"
   ]
  },
  {
   "cell_type": "code",
   "execution_count": 381,
   "id": "41cfbaf1-882b-464d-a8b9-bd5336d94dbc",
   "metadata": {},
   "outputs": [
    {
     "data": {
      "text/plain": [
       "5"
      ]
     },
     "execution_count": 381,
     "metadata": {},
     "output_type": "execute_result"
    }
   ],
   "source": [
    "x + y"
   ]
  },
  {
   "cell_type": "code",
   "execution_count": 382,
   "id": "798b351b-93a3-4cc7-937b-251799e3bddd",
   "metadata": {},
   "outputs": [
    {
     "data": {
      "text/plain": [
       "9"
      ]
     },
     "execution_count": 382,
     "metadata": {},
     "output_type": "execute_result"
    }
   ],
   "source": [
    "x = 9\n",
    "x"
   ]
  },
  {
   "cell_type": "code",
   "execution_count": 385,
   "id": "2e356663-e94c-4282-8a98-0efc6d2b9448",
   "metadata": {},
   "outputs": [
    {
     "data": {
      "text/plain": [
       "12"
      ]
     },
     "execution_count": 385,
     "metadata": {},
     "output_type": "execute_result"
    }
   ],
   "source": [
    "x + y"
   ]
  },
  {
   "cell_type": "code",
   "execution_count": 387,
   "id": "c2d36c9a-7a9d-47ba-929b-8cdcd7d33e3f",
   "metadata": {},
   "outputs": [
    {
     "data": {
      "text/plain": [
       "19"
      ]
     },
     "execution_count": 387,
     "metadata": {},
     "output_type": "execute_result"
    }
   ],
   "source": [
    "x + 10"
   ]
  },
  {
   "cell_type": "code",
   "execution_count": 389,
   "id": "10d1e368-7f64-454a-aa47-1be6b4b176e9",
   "metadata": {},
   "outputs": [
    {
     "data": {
      "text/plain": [
       "3"
      ]
     },
     "execution_count": 389,
     "metadata": {},
     "output_type": "execute_result"
    }
   ],
   "source": [
    "y"
   ]
  },
  {
   "cell_type": "code",
   "execution_count": 392,
   "id": "8b296175-b954-4127-a07a-278408f8e92a",
   "metadata": {},
   "outputs": [
    {
     "ename": "TypeError",
     "evalue": "can only concatenate str (not \"int\") to str",
     "output_type": "error",
     "traceback": [
      "\u001b[1;31m---------------------------------------------------------------------------\u001b[0m",
      "\u001b[1;31mTypeError\u001b[0m                                 Traceback (most recent call last)",
      "Cell \u001b[1;32mIn[392], line 1\u001b[0m\n\u001b[1;32m----> 1\u001b[0m _ \u001b[38;5;241m+\u001b[39m y\n",
      "\u001b[1;31mTypeError\u001b[0m: can only concatenate str (not \"int\") to str"
     ]
    }
   ],
   "source": [
    "_ + y # _ understand the previous result of the"
   ]
  },
  {
   "cell_type": "code",
   "execution_count": 393,
   "id": "ed05324a-7ead-4d23-862d-6f119d758828",
   "metadata": {},
   "outputs": [
    {
     "data": {
      "text/plain": [
       "3"
      ]
     },
     "execution_count": 393,
     "metadata": {},
     "output_type": "execute_result"
    }
   ],
   "source": [
    "y"
   ]
  },
  {
   "cell_type": "code",
   "execution_count": 394,
   "id": "c5815a6d-8b62-4a84-a844-519841fde9d7",
   "metadata": {},
   "outputs": [
    {
     "data": {
      "text/plain": [
       "6"
      ]
     },
     "execution_count": 394,
     "metadata": {},
     "output_type": "execute_result"
    }
   ],
   "source": [
    "_ + y"
   ]
  },
  {
   "cell_type": "code",
   "execution_count": 396,
   "id": "64046b37-6447-4b4e-a537-af3369545a1e",
   "metadata": {},
   "outputs": [
    {
     "ename": "TypeError",
     "evalue": "can only concatenate str (not \"int\") to str",
     "output_type": "error",
     "traceback": [
      "\u001b[1;31m---------------------------------------------------------------------------\u001b[0m",
      "\u001b[1;31mTypeError\u001b[0m                                 Traceback (most recent call last)",
      "Cell \u001b[1;32mIn[396], line 1\u001b[0m\n\u001b[1;32m----> 1\u001b[0m _ \u001b[38;5;241m+\u001b[39m y\n",
      "\u001b[1;31mTypeError\u001b[0m: can only concatenate str (not \"int\") to str"
     ]
    }
   ],
   "source": [
    "_ + y"
   ]
  },
  {
   "cell_type": "code",
   "execution_count": 399,
   "id": "d5b1d832-0eca-4cff-a378-66407dee4554",
   "metadata": {},
   "outputs": [],
   "source": [
    "# string variable \n",
    "name = 'mit'"
   ]
  },
  {
   "cell_type": "code",
   "execution_count": 400,
   "id": "be11e203-bad3-4212-b75b-ce15a1fe99aa",
   "metadata": {},
   "outputs": [
    {
     "data": {
      "text/plain": [
       "'mit'"
      ]
     },
     "execution_count": 400,
     "metadata": {},
     "output_type": "execute_result"
    }
   ],
   "source": [
    "name"
   ]
  },
  {
   "cell_type": "code",
   "execution_count": 401,
   "id": "c7682719-4c6a-4dfa-83e3-024e0bdd7de0",
   "metadata": {},
   "outputs": [
    {
     "data": {
      "text/plain": [
       "'mittechnology'"
      ]
     },
     "execution_count": 401,
     "metadata": {},
     "output_type": "execute_result"
    }
   ],
   "source": [
    "name + 'technology'"
   ]
  },
  {
   "cell_type": "code",
   "execution_count": 403,
   "id": "a74abae4-dafb-4c27-b919-82b2ce142c3c",
   "metadata": {},
   "outputs": [
    {
     "data": {
      "text/plain": [
       "'mit technology'"
      ]
     },
     "execution_count": 403,
     "metadata": {},
     "output_type": "execute_result"
    }
   ],
   "source": [
    "name + ' technology'"
   ]
  },
  {
   "cell_type": "code",
   "execution_count": 404,
   "id": "be48c858-b28d-444e-a897-c4b4089b2605",
   "metadata": {},
   "outputs": [
    {
     "data": {
      "text/plain": [
       "'mit technology'"
      ]
     },
     "execution_count": 404,
     "metadata": {},
     "output_type": "execute_result"
    }
   ],
   "source": [
    "name + ' technology'"
   ]
  },
  {
   "cell_type": "code",
   "execution_count": 410,
   "id": "bcb150fb-333f-4961-acd4-deaa6cf5eb89",
   "metadata": {},
   "outputs": [
    {
     "ename": "SyntaxError",
     "evalue": "unterminated string literal (detected at line 1) (1074027776.py, line 1)",
     "output_type": "error",
     "traceback": [
      "\u001b[1;36m  Cell \u001b[1;32mIn[410], line 1\u001b[1;36m\u001b[0m\n\u001b[1;33m    name 'technology\u001b[0m\n\u001b[1;37m         ^\u001b[0m\n\u001b[1;31mSyntaxError\u001b[0m\u001b[1;31m:\u001b[0m unterminated string literal (detected at line 1)\n"
     ]
    }
   ],
   "source": [
    "name 'technology"
   ]
  },
  {
   "cell_type": "code",
   "execution_count": 413,
   "id": "0b49a5e4-568a-4d0a-a98a-10682f30b984",
   "metadata": {},
   "outputs": [
    {
     "data": {
      "text/plain": [
       "'mit'"
      ]
     },
     "execution_count": 413,
     "metadata": {},
     "output_type": "execute_result"
    }
   ],
   "source": [
    "name"
   ]
  },
  {
   "cell_type": "code",
   "execution_count": 414,
   "id": "998a81aa-9f69-4466-a5ff-9698fd1770db",
   "metadata": {},
   "outputs": [
    {
     "data": {
      "text/plain": [
       "3"
      ]
     },
     "execution_count": 414,
     "metadata": {},
     "output_type": "execute_result"
    }
   ],
   "source": [
    "len(name)"
   ]
  },
  {
   "cell_type": "code",
   "execution_count": 417,
   "id": "cbeadb31-b64c-43cd-85c0-2de5195697c2",
   "metadata": {},
   "outputs": [
    {
     "data": {
      "text/plain": [
       "'m'"
      ]
     },
     "execution_count": 417,
     "metadata": {},
     "output_type": "execute_result"
    }
   ],
   "source": [
    "name[0] #python index begins with 0"
   ]
  },
  {
   "cell_type": "code",
   "execution_count": 419,
   "id": "65acc349-46a9-445f-975d-ad140fe471d3",
   "metadata": {},
   "outputs": [
    {
     "ename": "IndexError",
     "evalue": "string index out of range",
     "output_type": "error",
     "traceback": [
      "\u001b[1;31m---------------------------------------------------------------------------\u001b[0m",
      "\u001b[1;31mIndexError\u001b[0m                                Traceback (most recent call last)",
      "Cell \u001b[1;32mIn[419], line 1\u001b[0m\n\u001b[1;32m----> 1\u001b[0m name[\u001b[38;5;241m5\u001b[39m]\n",
      "\u001b[1;31mIndexError\u001b[0m: string index out of range"
     ]
    }
   ],
   "source": [
    "name[5]"
   ]
  },
  {
   "cell_type": "code",
   "execution_count": 421,
   "id": "af2d7d74-b79b-42e4-91f6-30f41d471fe4",
   "metadata": {},
   "outputs": [
    {
     "ename": "IndexError",
     "evalue": "string index out of range",
     "output_type": "error",
     "traceback": [
      "\u001b[1;31m---------------------------------------------------------------------------\u001b[0m",
      "\u001b[1;31mIndexError\u001b[0m                                Traceback (most recent call last)",
      "Cell \u001b[1;32mIn[421], line 1\u001b[0m\n\u001b[1;32m----> 1\u001b[0m name[\u001b[38;5;241m7\u001b[39m]\n",
      "\u001b[1;31mIndexError\u001b[0m: string index out of range"
     ]
    }
   ],
   "source": [
    "name[7]"
   ]
  },
  {
   "cell_type": "code",
   "execution_count": 423,
   "id": "f6c0828c-d619-4104-9aa6-1d1ae991ba77",
   "metadata": {},
   "outputs": [
    {
     "data": {
      "text/plain": [
       "'t'"
      ]
     },
     "execution_count": 423,
     "metadata": {},
     "output_type": "execute_result"
    }
   ],
   "source": [
    "name[-1]"
   ]
  },
  {
   "cell_type": "code",
   "execution_count": 425,
   "id": "ae1bc3e2-16f8-4711-a837-8af33470688f",
   "metadata": {},
   "outputs": [
    {
     "data": {
      "text/plain": [
       "'i'"
      ]
     },
     "execution_count": 425,
     "metadata": {},
     "output_type": "execute_result"
    }
   ],
   "source": [
    "name[-2]"
   ]
  },
  {
   "cell_type": "code",
   "execution_count": 427,
   "id": "d5f925c6-563d-491f-9ece-204cf8d47db9",
   "metadata": {},
   "outputs": [
    {
     "ename": "IndexError",
     "evalue": "string index out of range",
     "output_type": "error",
     "traceback": [
      "\u001b[1;31m---------------------------------------------------------------------------\u001b[0m",
      "\u001b[1;31mIndexError\u001b[0m                                Traceback (most recent call last)",
      "Cell \u001b[1;32mIn[427], line 1\u001b[0m\n\u001b[1;32m----> 1\u001b[0m name[\u001b[38;5;241m-\u001b[39m\u001b[38;5;241m6\u001b[39m]\n",
      "\u001b[1;31mIndexError\u001b[0m: string index out of range"
     ]
    }
   ],
   "source": [
    "name[-6]"
   ]
  },
  {
   "cell_type": "markdown",
   "id": "e00fdce3-5af4-4648-986a-722e691001a7",
   "metadata": {},
   "source": [
    "## slicing"
   ]
  },
  {
   "cell_type": "code",
   "execution_count": 430,
   "id": "7562b6c6-db81-4ab6-953b-0d6214e28dfa",
   "metadata": {},
   "outputs": [
    {
     "data": {
      "text/plain": [
       "'mit'"
      ]
     },
     "execution_count": 430,
     "metadata": {},
     "output_type": "execute_result"
    }
   ],
   "source": [
    "name"
   ]
  },
  {
   "cell_type": "code",
   "execution_count": 432,
   "id": "dc7ef940-e826-4c19-8b5f-18c06ad7c774",
   "metadata": {},
   "outputs": [
    {
     "data": {
      "text/plain": [
       "'m'"
      ]
     },
     "execution_count": 432,
     "metadata": {},
     "output_type": "execute_result"
    }
   ],
   "source": [
    "name[0:1] #to print 2 character  "
   ]
  },
  {
   "cell_type": "code",
   "execution_count": 434,
   "id": "29df17f8-834c-4bbc-b197-4139a67c4d5e",
   "metadata": {},
   "outputs": [
    {
     "data": {
      "text/plain": [
       "'mi'"
      ]
     },
     "execution_count": 434,
     "metadata": {},
     "output_type": "execute_result"
    }
   ],
   "source": [
    "name[0:2]"
   ]
  },
  {
   "cell_type": "code",
   "execution_count": 436,
   "id": "ab1430be-41ec-4587-a584-99e62eaa3e31",
   "metadata": {},
   "outputs": [
    {
     "data": {
      "text/plain": [
       "'it'"
      ]
     },
     "execution_count": 436,
     "metadata": {},
     "output_type": "execute_result"
    }
   ],
   "source": [
    "name[1:4]"
   ]
  },
  {
   "cell_type": "code",
   "execution_count": 438,
   "id": "970deaaa-0790-422b-96f3-fa9229ad9b98",
   "metadata": {},
   "outputs": [
    {
     "data": {
      "text/plain": [
       "'mit'"
      ]
     },
     "execution_count": 438,
     "metadata": {},
     "output_type": "execute_result"
    }
   ],
   "source": [
    "name"
   ]
  },
  {
   "cell_type": "code",
   "execution_count": 440,
   "id": "a7c635f0-3b19-4f3f-97c9-f4af68af69b2",
   "metadata": {},
   "outputs": [
    {
     "data": {
      "text/plain": [
       "'it'"
      ]
     },
     "execution_count": 440,
     "metadata": {},
     "output_type": "execute_result"
    }
   ],
   "source": [
    "name[1:]"
   ]
  },
  {
   "cell_type": "code",
   "execution_count": 442,
   "id": "6eaa0580-7229-45fd-9db7-7eb0fedfc2ef",
   "metadata": {},
   "outputs": [
    {
     "data": {
      "text/plain": [
       "'mit'"
      ]
     },
     "execution_count": 442,
     "metadata": {},
     "output_type": "execute_result"
    }
   ],
   "source": [
    "name[:4]"
   ]
  },
  {
   "cell_type": "code",
   "execution_count": 444,
   "id": "1ffbf498-7aba-4854-b618-9c20b3c24ac4",
   "metadata": {},
   "outputs": [
    {
     "data": {
      "text/plain": [
       "''"
      ]
     },
     "execution_count": 444,
     "metadata": {},
     "output_type": "execute_result"
    }
   ],
   "source": [
    "name[3:9]"
   ]
  },
  {
   "cell_type": "code",
   "execution_count": 446,
   "id": "2c8dc627-bfe9-4190-8a68-e6c9edbae088",
   "metadata": {},
   "outputs": [
    {
     "data": {
      "text/plain": [
       "'fine'"
      ]
     },
     "execution_count": 446,
     "metadata": {},
     "output_type": "execute_result"
    }
   ],
   "source": [
    "name1 = 'fine'\n",
    "name1"
   ]
  },
  {
   "cell_type": "code",
   "execution_count": 448,
   "id": "e3c45603-0940-4415-af9f-93d228e67876",
   "metadata": {},
   "outputs": [
    {
     "data": {
      "text/plain": [
       "'fine'"
      ]
     },
     "execution_count": 448,
     "metadata": {},
     "output_type": "execute_result"
    }
   ],
   "source": [
    "name1 = 'fine'\n",
    "name1"
   ]
  },
  {
   "cell_type": "code",
   "execution_count": 449,
   "id": "4423f1d3-4320-4306-8115-a1586e9f175e",
   "metadata": {},
   "outputs": [
    {
     "ename": "NameError",
     "evalue": "name 'v' is not defined",
     "output_type": "error",
     "traceback": [
      "\u001b[1;31m---------------------------------------------------------------------------\u001b[0m",
      "\u001b[1;31mNameError\u001b[0m                                 Traceback (most recent call last)",
      "Cell \u001b[1;32mIn[449], line 1\u001b[0m\n\u001b[1;32m----> 1\u001b[0m v\n",
      "\u001b[1;31mNameError\u001b[0m: name 'v' is not defined"
     ]
    }
   ],
   "source": [
    "v"
   ]
  },
  {
   "cell_type": "code",
   "execution_count": 450,
   "id": "e9429f24-1eee-4f87-8239-e764ca7d6f18",
   "metadata": {},
   "outputs": [
    {
     "ename": "TypeError",
     "evalue": "'str' object does not support item assignment",
     "output_type": "error",
     "traceback": [
      "\u001b[1;31m---------------------------------------------------------------------------\u001b[0m",
      "\u001b[1;31mTypeError\u001b[0m                                 Traceback (most recent call last)",
      "Cell \u001b[1;32mIn[450], line 1\u001b[0m\n\u001b[1;32m----> 1\u001b[0m name1[\u001b[38;5;241m0\u001b[39m:\u001b[38;5;241m1\u001b[39m] \u001b[38;5;241m=\u001b[39m \u001b[38;5;124m'\u001b[39m\u001b[38;5;124md\u001b[39m\u001b[38;5;124m'\u001b[39m\n",
      "\u001b[1;31mTypeError\u001b[0m: 'str' object does not support item assignment"
     ]
    }
   ],
   "source": [
    "name1[0:1] = 'd' # i want to change 1st character of naresh (n) - t"
   ]
  },
  {
   "cell_type": "code",
   "execution_count": 453,
   "id": "28cfafd3-ff8b-45b3-a737-8e1f441a637c",
   "metadata": {},
   "outputs": [
    {
     "data": {
      "text/plain": [
       "'fine'"
      ]
     },
     "execution_count": 453,
     "metadata": {},
     "output_type": "execute_result"
    }
   ],
   "source": [
    "name1"
   ]
  },
  {
   "cell_type": "code",
   "execution_count": 455,
   "id": "209b004c-abd3-4de8-a9e2-5023b9bd4b8e",
   "metadata": {},
   "outputs": [
    {
     "ename": "TypeError",
     "evalue": "'str' object does not support item assignment",
     "output_type": "error",
     "traceback": [
      "\u001b[1;31m---------------------------------------------------------------------------\u001b[0m",
      "\u001b[1;31mTypeError\u001b[0m                                 Traceback (most recent call last)",
      "Cell \u001b[1;32mIn[455], line 1\u001b[0m\n\u001b[1;32m----> 1\u001b[0m name1[\u001b[38;5;241m0\u001b[39m] \u001b[38;5;241m=\u001b[39m \u001b[38;5;124m'\u001b[39m\u001b[38;5;124md\u001b[39m\u001b[38;5;124m'\u001b[39m\n",
      "\u001b[1;31mTypeError\u001b[0m: 'str' object does not support item assignment"
     ]
    }
   ],
   "source": [
    "name1[0] = 'd' #strings in python are immutable"
   ]
  },
  {
   "cell_type": "code",
   "execution_count": 457,
   "id": "0b5ffa03-4298-40c1-97b8-2efb6e6f618d",
   "metadata": {},
   "outputs": [
    {
     "data": {
      "text/plain": [
       "'fine'"
      ]
     },
     "execution_count": 457,
     "metadata": {},
     "output_type": "execute_result"
    }
   ],
   "source": [
    "name1"
   ]
  },
  {
   "cell_type": "code",
   "execution_count": 460,
   "id": "d2df8092-ccd3-4fd7-aca6-a4d9c1955090",
   "metadata": {},
   "outputs": [
    {
     "data": {
      "text/plain": [
       "'ine'"
      ]
     },
     "execution_count": 460,
     "metadata": {},
     "output_type": "execute_result"
    }
   ],
   "source": [
    "name1[1:]"
   ]
  },
  {
   "cell_type": "code",
   "execution_count": 462,
   "id": "c12abcf8-531b-4b74-8906-a02625acde8b",
   "metadata": {},
   "outputs": [
    {
     "data": {
      "text/plain": [
       "'dine'"
      ]
     },
     "execution_count": 462,
     "metadata": {},
     "output_type": "execute_result"
    }
   ],
   "source": [
    "'d' + name1[1:] #i want to change fine to dine"
   ]
  },
  {
   "cell_type": "code",
   "execution_count": 463,
   "id": "9773e2eb-ada5-4b6c-be78-b9460885b2f2",
   "metadata": {},
   "outputs": [
    {
     "data": {
      "text/plain": [
       "4"
      ]
     },
     "execution_count": 463,
     "metadata": {},
     "output_type": "execute_result"
    }
   ],
   "source": [
    "len(name1) #python inbuild function "
   ]
  },
  {
   "cell_type": "markdown",
   "id": "b4de8fe1-6751-4c98-abc0-c28b929dd1c5",
   "metadata": {},
   "source": [
    "## List"
   ]
  },
  {
   "cell_type": "code",
   "execution_count": 465,
   "id": "5979e6e3-4554-40a0-a06b-4920fdd07b77",
   "metadata": {},
   "outputs": [
    {
     "data": {
      "text/plain": [
       "[10, 20, 30]"
      ]
     },
     "execution_count": 465,
     "metadata": {},
     "output_type": "execute_result"
    }
   ],
   "source": [
    "# LIST LIST LIST\n",
    "nums = [10,20,30]\n",
    "nums"
   ]
  },
  {
   "cell_type": "code",
   "execution_count": 466,
   "id": "30f9a7f8-27ca-4d2b-94cb-d706dcf09879",
   "metadata": {},
   "outputs": [
    {
     "data": {
      "text/plain": [
       "10"
      ]
     },
     "execution_count": 466,
     "metadata": {},
     "output_type": "execute_result"
    }
   ],
   "source": [
    "nums[0]"
   ]
  },
  {
   "cell_type": "code",
   "execution_count": 467,
   "id": "761435fa-e8ac-4112-8e61-9bd08c62af48",
   "metadata": {},
   "outputs": [
    {
     "data": {
      "text/plain": [
       "30"
      ]
     },
     "execution_count": 467,
     "metadata": {},
     "output_type": "execute_result"
    }
   ],
   "source": [
    "nums[-1]"
   ]
  },
  {
   "cell_type": "code",
   "execution_count": 468,
   "id": "c649eade-fe02-473b-beb9-e181ed3f51d8",
   "metadata": {},
   "outputs": [
    {
     "data": {
      "text/plain": [
       "[20, 30]"
      ]
     },
     "execution_count": 468,
     "metadata": {},
     "output_type": "execute_result"
    }
   ],
   "source": [
    "nums[1:]"
   ]
  },
  {
   "cell_type": "code",
   "execution_count": 469,
   "id": "9b430bd8-f11e-48f4-8d8b-8f403d3d570d",
   "metadata": {},
   "outputs": [],
   "source": [
    "num1 = ['hi', 'hallo']"
   ]
  },
  {
   "cell_type": "code",
   "execution_count": 470,
   "id": "dc2b25a7-4ba7-4b44-8896-af6438ff3249",
   "metadata": {},
   "outputs": [
    {
     "data": {
      "text/plain": [
       "['hi', 'hallo']"
      ]
     },
     "execution_count": 470,
     "metadata": {},
     "output_type": "execute_result"
    }
   ],
   "source": [
    "num1"
   ]
  },
  {
   "cell_type": "code",
   "execution_count": 471,
   "id": "55fbeba2-5f7b-44aa-a376-8bf118279b4c",
   "metadata": {},
   "outputs": [
    {
     "data": {
      "text/plain": [
       "['hi', 8.9, 34]"
      ]
     },
     "execution_count": 471,
     "metadata": {},
     "output_type": "execute_result"
    }
   ],
   "source": [
    "num2 = ['hi', 8.9, 34] # we can assign multiple variable \n",
    "num2"
   ]
  },
  {
   "cell_type": "code",
   "execution_count": 481,
   "id": "78266d29-2b52-464d-ac3b-7c407eb37b1e",
   "metadata": {},
   "outputs": [],
   "source": [
    "# can we have 2 list together\n",
    "num3 = [nums, num1]"
   ]
  },
  {
   "cell_type": "code",
   "execution_count": 482,
   "id": "3bc6fb6b-6e74-4b56-82a7-46f942a3abd6",
   "metadata": {},
   "outputs": [
    {
     "data": {
      "text/plain": [
       "[[10, 20, 30], ['hi', 'hallo']]"
      ]
     },
     "execution_count": 482,
     "metadata": {},
     "output_type": "execute_result"
    }
   ],
   "source": [
    "num3"
   ]
  },
  {
   "cell_type": "code",
   "execution_count": 485,
   "id": "d341b2c4-0897-433f-abda-e2864d8caae4",
   "metadata": {},
   "outputs": [],
   "source": [
    "num4 = [nums, num1, num2]"
   ]
  },
  {
   "cell_type": "code",
   "execution_count": 487,
   "id": "e784eb54-36b3-4f3f-ac45-ec08c26c20d3",
   "metadata": {},
   "outputs": [
    {
     "data": {
      "text/plain": [
       "[[10, 20, 30], ['hi', 'hallo'], ['hi', 8.9, 34]]"
      ]
     },
     "execution_count": 487,
     "metadata": {},
     "output_type": "execute_result"
    }
   ],
   "source": [
    "num4"
   ]
  },
  {
   "cell_type": "code",
   "execution_count": 489,
   "id": "efac66f9-6c0c-4e6e-a679-0338d99d5aa0",
   "metadata": {},
   "outputs": [
    {
     "data": {
      "text/plain": [
       "[10, 20, 30]"
      ]
     },
     "execution_count": 489,
     "metadata": {},
     "output_type": "execute_result"
    }
   ],
   "source": [
    "nums"
   ]
  },
  {
   "cell_type": "code",
   "execution_count": 491,
   "id": "e25ce80b-9d4b-4621-b952-e78deabcb2c6",
   "metadata": {},
   "outputs": [],
   "source": [
    "nums.append(45)"
   ]
  },
  {
   "cell_type": "code",
   "execution_count": 492,
   "id": "349ea11e-0b05-4ef9-a0a7-b0d1f8248a56",
   "metadata": {},
   "outputs": [
    {
     "data": {
      "text/plain": [
       "[10, 20, 30, 45]"
      ]
     },
     "execution_count": 492,
     "metadata": {},
     "output_type": "execute_result"
    }
   ],
   "source": [
    "nums"
   ]
  },
  {
   "cell_type": "code",
   "execution_count": 494,
   "id": "a1ff40d9-935e-412c-abff-8984715d13fe",
   "metadata": {},
   "outputs": [],
   "source": [
    "nums.remove(45)"
   ]
  },
  {
   "cell_type": "code",
   "execution_count": 497,
   "id": "b8362076-3186-4530-ae42-2726db4f2b55",
   "metadata": {},
   "outputs": [
    {
     "data": {
      "text/plain": [
       "[10, 20, 30]"
      ]
     },
     "execution_count": 497,
     "metadata": {},
     "output_type": "execute_result"
    }
   ],
   "source": [
    "nums"
   ]
  },
  {
   "cell_type": "code",
   "execution_count": 499,
   "id": "0efa12e9-ee8d-4fe0-b0d2-b52a21ba84d0",
   "metadata": {},
   "outputs": [
    {
     "data": {
      "text/plain": [
       "20"
      ]
     },
     "execution_count": 499,
     "metadata": {},
     "output_type": "execute_result"
    }
   ],
   "source": [
    "nums.pop(1)"
   ]
  },
  {
   "cell_type": "code",
   "execution_count": 500,
   "id": "fd7cf844-bd5f-4093-b99f-0e56a4661ef1",
   "metadata": {},
   "outputs": [
    {
     "data": {
      "text/plain": [
       "[10, 30]"
      ]
     },
     "execution_count": 500,
     "metadata": {},
     "output_type": "execute_result"
    }
   ],
   "source": [
    "nums"
   ]
  },
  {
   "cell_type": "code",
   "execution_count": 502,
   "id": "6a901ecb-fb3d-41c2-b897-48ae993fcd9e",
   "metadata": {},
   "outputs": [
    {
     "data": {
      "text/plain": [
       "30"
      ]
     },
     "execution_count": 502,
     "metadata": {},
     "output_type": "execute_result"
    }
   ],
   "source": [
    "nums.pop() #if you dont assign the index element then it will consider by default last index"
   ]
  },
  {
   "cell_type": "code",
   "execution_count": 504,
   "id": "7b0a0aca-c1ed-4bdd-8bab-d60b476efcbc",
   "metadata": {},
   "outputs": [
    {
     "data": {
      "text/plain": [
       "[10]"
      ]
     },
     "execution_count": 504,
     "metadata": {},
     "output_type": "execute_result"
    }
   ],
   "source": [
    "nums"
   ]
  },
  {
   "cell_type": "code",
   "execution_count": 506,
   "id": "babf8b0f-82d7-4fa2-8ce0-3bceb7e1a9ae",
   "metadata": {},
   "outputs": [
    {
     "data": {
      "text/plain": [
       "['hi', 'hallo']"
      ]
     },
     "execution_count": 506,
     "metadata": {},
     "output_type": "execute_result"
    }
   ],
   "source": [
    "num1"
   ]
  },
  {
   "cell_type": "code",
   "execution_count": 508,
   "id": "7e7c46a0-5145-41d1-a754-d818f7698175",
   "metadata": {},
   "outputs": [],
   "source": [
    "num1.insert(2,'nit') #insert the value as per index values i.e 2nd index we are assigning nit"
   ]
  },
  {
   "cell_type": "code",
   "execution_count": 510,
   "id": "b9da4712-20e9-4e6c-9212-8932aeb488fd",
   "metadata": {},
   "outputs": [
    {
     "data": {
      "text/plain": [
       "['hi', 'hallo', 'nit']"
      ]
     },
     "execution_count": 510,
     "metadata": {},
     "output_type": "execute_result"
    }
   ],
   "source": [
    "num1"
   ]
  },
  {
   "cell_type": "code",
   "execution_count": 512,
   "id": "076cf9d4-9965-463d-8ff9-0175dc7ec08f",
   "metadata": {},
   "outputs": [],
   "source": [
    "num1.insert(0, 1)"
   ]
  },
  {
   "cell_type": "code",
   "execution_count": 515,
   "id": "b40bdcbe-f3f4-48eb-b0c6-ccf347677d17",
   "metadata": {},
   "outputs": [
    {
     "data": {
      "text/plain": [
       "[1, 'hi', 'hallo', 'nit']"
      ]
     },
     "execution_count": 515,
     "metadata": {},
     "output_type": "execute_result"
    }
   ],
   "source": [
    "num1"
   ]
  },
  {
   "cell_type": "code",
   "execution_count": 517,
   "id": "e9fcea5a-51e7-433f-8c4c-ff268613e2f2",
   "metadata": {},
   "outputs": [
    {
     "data": {
      "text/plain": [
       "['hi', 8.9, 34]"
      ]
     },
     "execution_count": 517,
     "metadata": {},
     "output_type": "execute_result"
    }
   ],
   "source": [
    "#if you want to delate multiple value \n",
    "num2"
   ]
  },
  {
   "cell_type": "code",
   "execution_count": 519,
   "id": "833da4ca-2338-441a-acf9-283a22a2e059",
   "metadata": {},
   "outputs": [],
   "source": [
    "del num2[2:]"
   ]
  },
  {
   "cell_type": "code",
   "execution_count": 520,
   "id": "067f39b9-6c63-4b5c-8ed8-2db5ae54d5cc",
   "metadata": {},
   "outputs": [
    {
     "data": {
      "text/plain": [
       "['hi', 8.9]"
      ]
     },
     "execution_count": 520,
     "metadata": {},
     "output_type": "execute_result"
    }
   ],
   "source": [
    "num2"
   ]
  },
  {
   "cell_type": "code",
   "execution_count": 521,
   "id": "cf94630e-6b49-4e71-b318-aaf1ea704d64",
   "metadata": {},
   "outputs": [],
   "source": [
    "# if you need to add multiple values \n",
    "num2.extend([29,15,20])"
   ]
  },
  {
   "cell_type": "code",
   "execution_count": 522,
   "id": "ff918989-4ef7-4d86-8188-d7aee5105dfb",
   "metadata": {},
   "outputs": [
    {
     "data": {
      "text/plain": [
       "['hi', 8.9, 29, 15, 20]"
      ]
     },
     "execution_count": 522,
     "metadata": {},
     "output_type": "execute_result"
    }
   ],
   "source": [
    "num2"
   ]
  },
  {
   "cell_type": "code",
   "execution_count": 524,
   "id": "b78c1e1d-fe11-4115-84b6-7f53967ca414",
   "metadata": {},
   "outputs": [
    {
     "data": {
      "text/plain": [
       "[[10], [1, 'hi', 'hallo', 'nit']]"
      ]
     },
     "execution_count": 524,
     "metadata": {},
     "output_type": "execute_result"
    }
   ],
   "source": [
    "num3"
   ]
  },
  {
   "cell_type": "code",
   "execution_count": 525,
   "id": "a1cc80da-fe34-436c-80d0-315c3ad91e75",
   "metadata": {},
   "outputs": [],
   "source": [
    "num3.extend(['a', 5, 6.7])"
   ]
  },
  {
   "cell_type": "code",
   "execution_count": 526,
   "id": "2168b8a8-5fca-4e03-b75c-6117d08d2a63",
   "metadata": {},
   "outputs": [
    {
     "data": {
      "text/plain": [
       "[[10], [1, 'hi', 'hallo', 'nit'], 'a', 5, 6.7]"
      ]
     },
     "execution_count": 526,
     "metadata": {},
     "output_type": "execute_result"
    }
   ],
   "source": [
    "num3"
   ]
  },
  {
   "cell_type": "code",
   "execution_count": 529,
   "id": "2432a66d-5d96-4cd0-9762-11e353aec18e",
   "metadata": {},
   "outputs": [
    {
     "data": {
      "text/plain": [
       "[10]"
      ]
     },
     "execution_count": 529,
     "metadata": {},
     "output_type": "execute_result"
    }
   ],
   "source": [
    "nums"
   ]
  },
  {
   "cell_type": "code",
   "execution_count": 535,
   "id": "31f284f9-d09f-4ea0-a7e0-cabfb7160254",
   "metadata": {},
   "outputs": [
    {
     "data": {
      "text/plain": [
       "10"
      ]
     },
     "execution_count": 535,
     "metadata": {},
     "output_type": "execute_result"
    }
   ],
   "source": [
    "min(nums) #inbuild function"
   ]
  },
  {
   "cell_type": "code",
   "execution_count": 536,
   "id": "23ebcfbb-94a6-42f4-be14-40b7b3623777",
   "metadata": {},
   "outputs": [
    {
     "data": {
      "text/plain": [
       "10"
      ]
     },
     "execution_count": 536,
     "metadata": {},
     "output_type": "execute_result"
    }
   ],
   "source": [
    "max(nums) #inbuild function "
   ]
  },
  {
   "cell_type": "code",
   "execution_count": 539,
   "id": "28d36985-5276-4e55-92d1-38cfe7dc0bbe",
   "metadata": {},
   "outputs": [
    {
     "data": {
      "text/plain": [
       "[1, 'hi', 'hallo', 'nit']"
      ]
     },
     "execution_count": 539,
     "metadata": {},
     "output_type": "execute_result"
    }
   ],
   "source": [
    "num1"
   ]
  },
  {
   "cell_type": "code",
   "execution_count": 541,
   "id": "2531ef1f-1047-45c3-a5bf-d97e0fa0f1ce",
   "metadata": {},
   "outputs": [
    {
     "ename": "TypeError",
     "evalue": "'<' not supported between instances of 'str' and 'int'",
     "output_type": "error",
     "traceback": [
      "\u001b[1;31m---------------------------------------------------------------------------\u001b[0m",
      "\u001b[1;31mTypeError\u001b[0m                                 Traceback (most recent call last)",
      "Cell \u001b[1;32mIn[541], line 1\u001b[0m\n\u001b[1;32m----> 1\u001b[0m \u001b[38;5;28mmin\u001b[39m(num1)\n",
      "\u001b[1;31mTypeError\u001b[0m: '<' not supported between instances of 'str' and 'int'"
     ]
    }
   ],
   "source": [
    "min(num1)"
   ]
  },
  {
   "cell_type": "code",
   "execution_count": 543,
   "id": "ca5ea3f2-3ea2-4ff5-bb83-23a8d7b84e40",
   "metadata": {},
   "outputs": [
    {
     "data": {
      "text/plain": [
       "10"
      ]
     },
     "execution_count": 543,
     "metadata": {},
     "output_type": "execute_result"
    }
   ],
   "source": [
    "sum(nums) #inbuild function"
   ]
  },
  {
   "cell_type": "code",
   "execution_count": 544,
   "id": "366ac77b-58f7-428e-aea7-ee131c4c73bb",
   "metadata": {},
   "outputs": [],
   "source": [
    "nums.sort() #sort method"
   ]
  },
  {
   "cell_type": "code",
   "execution_count": 545,
   "id": "a2f95c80-0bb8-4619-800c-380bfd147347",
   "metadata": {},
   "outputs": [
    {
     "data": {
      "text/plain": [
       "[10]"
      ]
     },
     "execution_count": 545,
     "metadata": {},
     "output_type": "execute_result"
    }
   ],
   "source": [
    "nums"
   ]
  },
  {
   "cell_type": "markdown",
   "id": "f32b7d5e-d06b-4e9a-87c6-c2813aa062e6",
   "metadata": {},
   "source": [
    "## Tuple"
   ]
  },
  {
   "cell_type": "code",
   "execution_count": 550,
   "id": "66d317de-178f-4e18-8340-0bb05910c387",
   "metadata": {},
   "outputs": [
    {
     "data": {
      "text/plain": [
       "(15, 25, 35)"
      ]
     },
     "execution_count": 550,
     "metadata": {},
     "output_type": "execute_result"
    }
   ],
   "source": [
    "# TUPLE TUPLE TUPLE\n",
    "tup = (15,25, 35)\n",
    "tup"
   ]
  },
  {
   "cell_type": "code",
   "execution_count": 552,
   "id": "069256f9-28b2-43f8-afff-f25b909556fc",
   "metadata": {},
   "outputs": [
    {
     "data": {
      "text/plain": [
       "15"
      ]
     },
     "execution_count": 552,
     "metadata": {},
     "output_type": "execute_result"
    }
   ],
   "source": [
    "tup[0]"
   ]
  },
  {
   "cell_type": "code",
   "execution_count": 554,
   "id": "9d3eb0ea-5230-4dca-9411-b9a7521afee3",
   "metadata": {},
   "outputs": [
    {
     "ename": "TypeError",
     "evalue": "'tuple' object does not support item assignment",
     "output_type": "error",
     "traceback": [
      "\u001b[1;31m---------------------------------------------------------------------------\u001b[0m",
      "\u001b[1;31mTypeError\u001b[0m                                 Traceback (most recent call last)",
      "Cell \u001b[1;32mIn[554], line 1\u001b[0m\n\u001b[1;32m----> 1\u001b[0m tup[\u001b[38;5;241m0\u001b[39m] \u001b[38;5;241m=\u001b[39m \u001b[38;5;241m10\u001b[39m\n",
      "\u001b[1;31mTypeError\u001b[0m: 'tuple' object does not support item assignment"
     ]
    }
   ],
   "source": [
    "tup[0] = 10"
   ]
  },
  {
   "cell_type": "markdown",
   "id": "9f39e3d4-9af0-423b-8224-5259cc66a1f5",
   "metadata": {},
   "source": [
    "as we are unable to change any value or parameter in tuple so iteration very faster in tuple compare to list"
   ]
  },
  {
   "cell_type": "markdown",
   "id": "41710d71-d1fe-41c2-ad05-faacc5dbcceb",
   "metadata": {},
   "source": [
    "## SET"
   ]
  },
  {
   "cell_type": "code",
   "execution_count": 558,
   "id": "cb1dc9fc-d499-4845-a03e-feb0f3f16113",
   "metadata": {},
   "outputs": [],
   "source": [
    "# SET SET SET \n",
    "S = {}"
   ]
  },
  {
   "cell_type": "code",
   "execution_count": 560,
   "id": "cb9e73f6-27ee-44b6-a8fc-efd757534cbb",
   "metadata": {},
   "outputs": [],
   "source": [
    "s1 = {21,6,34,58,5} "
   ]
  },
  {
   "cell_type": "code",
   "execution_count": 562,
   "id": "11791f74-7cc9-467c-ac9d-0d9315892768",
   "metadata": {},
   "outputs": [
    {
     "data": {
      "text/plain": [
       "{5, 6, 21, 34, 58}"
      ]
     },
     "execution_count": 562,
     "metadata": {},
     "output_type": "execute_result"
    }
   ],
   "source": [
    "s1"
   ]
  },
  {
   "cell_type": "code",
   "execution_count": 564,
   "id": "f0b851ff-e73b-448d-8329-96dc9365190e",
   "metadata": {},
   "outputs": [],
   "source": [
    "s3= {50,35,53,'nit', 53}"
   ]
  },
  {
   "cell_type": "code",
   "execution_count": 566,
   "id": "48b75c66-2e3b-4e09-a6a5-d72c0cde8ea1",
   "metadata": {},
   "outputs": [
    {
     "data": {
      "text/plain": [
       "{35, 50, 53, 'nit'}"
      ]
     },
     "execution_count": 566,
     "metadata": {},
     "output_type": "execute_result"
    }
   ],
   "source": [
    "s3"
   ]
  },
  {
   "cell_type": "markdown",
   "id": "8b449eb3-b17a-4c14-9cf5-10754c1a6a55",
   "metadata": {},
   "source": [
    "s1[1] #as we dont have proper sequencing thats why indexing not subscriptable"
   ]
  },
  {
   "cell_type": "markdown",
   "id": "00854807-96a4-4b4b-b2c8-9e0017f6329f",
   "metadata": {},
   "source": [
    "## DICTONARY"
   ]
  },
  {
   "cell_type": "code",
   "execution_count": 570,
   "id": "5e0c8a43-596c-4f53-88ab-71ca2bbb08cb",
   "metadata": {},
   "outputs": [
    {
     "data": {
      "text/plain": [
       "{1: 'apple', 2: 'banana', 4: 'orange'}"
      ]
     },
     "execution_count": 570,
     "metadata": {},
     "output_type": "execute_result"
    }
   ],
   "source": [
    "# DICTIONARY DICTIONARY DICTIONARY\n",
    "data = {1:'apple', 2:'banana',4:'orange'}\n",
    "data"
   ]
  },
  {
   "cell_type": "code",
   "execution_count": 571,
   "id": "c0514e87-9044-4c69-97ae-6c54485be573",
   "metadata": {},
   "outputs": [
    {
     "data": {
      "text/plain": [
       "'orange'"
      ]
     },
     "execution_count": 571,
     "metadata": {},
     "output_type": "execute_result"
    }
   ],
   "source": [
    "data[4]"
   ]
  },
  {
   "cell_type": "code",
   "execution_count": 572,
   "id": "7efee545-2006-4d7f-866a-9d1dcbfa05a4",
   "metadata": {},
   "outputs": [
    {
     "ename": "KeyError",
     "evalue": "3",
     "output_type": "error",
     "traceback": [
      "\u001b[1;31m---------------------------------------------------------------------------\u001b[0m",
      "\u001b[1;31mKeyError\u001b[0m                                  Traceback (most recent call last)",
      "Cell \u001b[1;32mIn[572], line 1\u001b[0m\n\u001b[1;32m----> 1\u001b[0m data[\u001b[38;5;241m3\u001b[39m]\n",
      "\u001b[1;31mKeyError\u001b[0m: 3"
     ]
    }
   ],
   "source": [
    "data[3]"
   ]
  },
  {
   "cell_type": "code",
   "execution_count": 574,
   "id": "2262097b-777e-41c9-b68c-3b794fff68ce",
   "metadata": {},
   "outputs": [
    {
     "data": {
      "text/plain": [
       "'banana'"
      ]
     },
     "execution_count": 574,
     "metadata": {},
     "output_type": "execute_result"
    }
   ],
   "source": [
    "data.get(2)"
   ]
  },
  {
   "cell_type": "code",
   "execution_count": 577,
   "id": "fb85c016-c52c-44eb-a365-68c4bf8f7bf0",
   "metadata": {},
   "outputs": [],
   "source": [
    "data.get(3)"
   ]
  },
  {
   "cell_type": "code",
   "execution_count": 579,
   "id": "274eea3b-99a6-4231-acc2-fd8060047031",
   "metadata": {},
   "outputs": [
    {
     "name": "stdout",
     "output_type": "stream",
     "text": [
      "None\n"
     ]
    }
   ],
   "source": [
    "print(data.get(3))"
   ]
  },
  {
   "cell_type": "code",
   "execution_count": 581,
   "id": "a14e6eae-fd40-4b70-b024-e79311b2c20b",
   "metadata": {},
   "outputs": [
    {
     "data": {
      "text/plain": [
       "'apple'"
      ]
     },
     "execution_count": 581,
     "metadata": {},
     "output_type": "execute_result"
    }
   ],
   "source": [
    "data.get(1,'Not Fount')"
   ]
  },
  {
   "cell_type": "code",
   "execution_count": 583,
   "id": "b81236d5-41b1-423e-a07f-7a67d4667678",
   "metadata": {},
   "outputs": [
    {
     "data": {
      "text/plain": [
       "'Not Found'"
      ]
     },
     "execution_count": 583,
     "metadata": {},
     "output_type": "execute_result"
    }
   ],
   "source": [
    "data.get(3,'Not Found')"
   ]
  },
  {
   "cell_type": "code",
   "execution_count": 584,
   "id": "2c82d9a8-3918-4013-ad64-ae13ad98c648",
   "metadata": {},
   "outputs": [],
   "source": [
    "data[5] = 'five'"
   ]
  },
  {
   "cell_type": "code",
   "execution_count": 588,
   "id": "e2464b0e-22d1-41dc-8a8a-e0a3f6cb8916",
   "metadata": {},
   "outputs": [
    {
     "data": {
      "text/plain": [
       "{1: 'apple', 2: 'banana', 4: 'orange', 5: 'five'}"
      ]
     },
     "execution_count": 588,
     "metadata": {},
     "output_type": "execute_result"
    }
   ],
   "source": [
    "data"
   ]
  },
  {
   "cell_type": "code",
   "execution_count": 590,
   "id": "06a263c6-c60c-4b07-aee6-fb8853fe2b9c",
   "metadata": {},
   "outputs": [],
   "source": [
    "del data [5]"
   ]
  },
  {
   "cell_type": "code",
   "execution_count": 592,
   "id": "2e929f6e-3d5b-4821-9ee1-f0b4466ee3b4",
   "metadata": {},
   "outputs": [
    {
     "data": {
      "text/plain": [
       "{1: 'apple', 2: 'banana', 4: 'orange'}"
      ]
     },
     "execution_count": 592,
     "metadata": {},
     "output_type": "execute_result"
    }
   ],
   "source": [
    "data"
   ]
  },
  {
   "cell_type": "code",
   "execution_count": 594,
   "id": "ca53e595-da06-42fd-b30e-0e5539e8414b",
   "metadata": {},
   "outputs": [],
   "source": [
    "#list in the dictionary\n",
    "prog = {'python':['vscode', 'pycharm'], 'machine learning' : 'sklearn', 'datascience':['jupyter','spyder'] }"
   ]
  },
  {
   "cell_type": "code",
   "execution_count": 596,
   "id": "3dd019a8-4c72-4cce-a226-ec27639fba6a",
   "metadata": {},
   "outputs": [
    {
     "data": {
      "text/plain": [
       "{'python': ['vscode', 'pycharm'],\n",
       " 'machine learning': 'sklearn',\n",
       " 'datascience': ['jupyter', 'spyder']}"
      ]
     },
     "execution_count": 596,
     "metadata": {},
     "output_type": "execute_result"
    }
   ],
   "source": [
    "prog"
   ]
  },
  {
   "cell_type": "code",
   "execution_count": 598,
   "id": "d905b33c-62e1-4abf-bd8d-9f2bc95c6327",
   "metadata": {},
   "outputs": [
    {
     "data": {
      "text/plain": [
       "['vscode', 'pycharm']"
      ]
     },
     "execution_count": 598,
     "metadata": {},
     "output_type": "execute_result"
    }
   ],
   "source": [
    "prog['python']"
   ]
  },
  {
   "cell_type": "code",
   "execution_count": 599,
   "id": "2efeaa22-d79f-4f72-bf79-000bed77dd4a",
   "metadata": {},
   "outputs": [
    {
     "data": {
      "text/plain": [
       "'sklearn'"
      ]
     },
     "execution_count": 599,
     "metadata": {},
     "output_type": "execute_result"
    }
   ],
   "source": [
    "prog['machine learning']"
   ]
  },
  {
   "cell_type": "code",
   "execution_count": 600,
   "id": "10059ef7-8fb9-4c7e-abad-617e8514d664",
   "metadata": {},
   "outputs": [
    {
     "data": {
      "text/plain": [
       "['jupyter', 'spyder']"
      ]
     },
     "execution_count": 600,
     "metadata": {},
     "output_type": "execute_result"
    }
   ],
   "source": [
    "prog['datascience']"
   ]
  },
  {
   "cell_type": "markdown",
   "id": "0360350a-0780-405f-bb1e-b3182515d946",
   "metadata": {},
   "source": [
    "## How to create environment variable"
   ]
  },
  {
   "cell_type": "markdown",
   "id": "8a356ed3-4a92-41d2-95f6-8d32a63bcd4f",
   "metadata": {},
   "source": [
    ". STEPS TO SET UP EXECUTE PYTHON IN SYSTEM CMD (TO CREATE ENVIRONMENT VARIABLE)"
   ]
  },
  {
   "cell_type": "markdown",
   "id": "52de6bbb-fe1a-490f-bfc6-8eacd3d2cad5",
   "metadata": {},
   "source": [
    ". Open cmd # python (You will get error when you execute 1st time)"
   ]
  },
  {
   "cell_type": "markdown",
   "id": "a943af2a-a1ec-4e0b-8bac-055e24a82133",
   "metadata": {},
   "source": [
    ". search with environment variable - system variable:(C:\\Users\\kdata\\AppData\\Local\\Microsoft\\WindowsApps)"
   ]
  },
  {
   "cell_type": "markdown",
   "id": "252cbbe2-05b2-4fca-91c1-7b90ddf8ab70",
   "metadata": {},
   "source": [
    ". restart the cmd & type python in cmd it will work now"
   ]
  },
  {
   "cell_type": "markdown",
   "id": "56a6cdea-3238-4314-aadb-764454d315eb",
   "metadata": {},
   "source": [
    "## to find help"
   ]
  },
  {
   "cell_type": "markdown",
   "id": "ee94da31-dc17-4730-86c2-46b47fb3e221",
   "metadata": {},
   "source": [
    "STEPS TO FIND HELP OPTION --> 1- help() | 2- topics | 3- search as per requirments | 4- quit if you want help on any command then help(list) || help(tuple)"
   ]
  },
  {
   "cell_type": "code",
   "execution_count": null,
   "id": "48bd14e4-064d-4f08-9fdf-e36ca4059f4d",
   "metadata": {},
   "outputs": [
    {
     "name": "stdout",
     "output_type": "stream",
     "text": [
      "Welcome to Python 3.12's help utility! If this is your first time using\n",
      "Python, you should definitely check out the tutorial at\n",
      "https://docs.python.org/3.12/tutorial/.\n",
      "\n",
      "Enter the name of any module, keyword, or topic to get help on writing\n",
      "Python programs and using Python modules.  To get a list of available\n",
      "modules, keywords, symbols, or topics, enter \"modules\", \"keywords\",\n",
      "\"symbols\", or \"topics\".\n",
      "\n",
      "Each module also comes with a one-line summary of what it does; to list\n",
      "the modules whose name or summary contain a given string such as \"spam\",\n",
      "enter \"modules spam\".\n",
      "\n",
      "To quit this help utility and return to the interpreter,\n",
      "enter \"q\" or \"quit\".\n",
      "\n"
     ]
    }
   ],
   "source": [
    "help()"
   ]
  },
  {
   "cell_type": "code",
   "execution_count": null,
   "id": "2720a398-0220-4f85-8050-33d7000fd244",
   "metadata": {},
   "outputs": [],
   "source": [
    "help(list)"
   ]
  },
  {
   "cell_type": "code",
   "execution_count": null,
   "id": "952026d1-774b-45a4-91ba-8af4c3a21312",
   "metadata": {},
   "outputs": [],
   "source": [
    "help(tuple)"
   ]
  },
  {
   "cell_type": "markdown",
   "id": "321743b5-940d-44fd-920b-37f456982915",
   "metadata": {},
   "source": [
    "## interoduce to ID ()"
   ]
  },
  {
   "cell_type": "code",
   "execution_count": null,
   "id": "0d55e5cd-3f89-4d23-8e07-523ad850ab51",
   "metadata": {},
   "outputs": [],
   "source": [
    "# variable address\n",
    "num = 5\n",
    "id(num)"
   ]
  },
  {
   "cell_type": "code",
   "execution_count": null,
   "id": "958ba891-59c6-4502-a810-c2ebcb00aba8",
   "metadata": {},
   "outputs": [],
   "source": [
    "name = 'nit'\n",
    "id(name) #Address will be different for both"
   ]
  },
  {
   "cell_type": "code",
   "execution_count": null,
   "id": "eab0e531-295c-44ba-8911-a0ed9bc7ff9a",
   "metadata": {},
   "outputs": [],
   "source": [
    "a = 10\n",
    "id(a)"
   ]
  },
  {
   "cell_type": "code",
   "execution_count": null,
   "id": "431b3f0a-85c2-454b-8d37-63ea8a51658a",
   "metadata": {},
   "outputs": [],
   "source": [
    "b = a #thats why python is more memory efficient "
   ]
  },
  {
   "cell_type": "code",
   "execution_count": null,
   "id": "53ee1d10-df2a-448a-91c4-ad8defad2b27",
   "metadata": {},
   "outputs": [],
   "source": [
    "id(b)"
   ]
  },
  {
   "cell_type": "code",
   "execution_count": null,
   "id": "452a8783-09f4-463f-989f-df60cd2941c9",
   "metadata": {},
   "outputs": [],
   "source": [
    "id(10)"
   ]
  },
  {
   "cell_type": "code",
   "execution_count": null,
   "id": "5a4559de-2ba8-4a1c-839c-55c435078b29",
   "metadata": {},
   "outputs": [],
   "source": [
    "k = 10 \n",
    "id(k)"
   ]
  },
  {
   "cell_type": "code",
   "execution_count": null,
   "id": "a8f6b5f5-0cfa-486e-b478-91ff2d1a8b07",
   "metadata": {},
   "outputs": [],
   "source": [
    "a = 20  # as we change the value of a then address will change\n",
    "id(a)"
   ]
  },
  {
   "cell_type": "code",
   "execution_count": null,
   "id": "7075cafc-fbc1-489c-af18-2305bd774029",
   "metadata": {},
   "outputs": [],
   "source": [
    "id(b)"
   ]
  },
  {
   "cell_type": "markdown",
   "id": "c0a2097a-5b67-41ce-af14-8fa2d5682f1b",
   "metadata": {},
   "source": [
    "what ever the variale we assigned the memory and we not assigned anywhere then we can use as garbage collection.|| VARIABLE - we can change the values || CONSTANT - we cannot change the value -can we make VARIABLE as a CONSTANT (note - in python you cannot make variable as constant)"
   ]
  },
  {
   "cell_type": "code",
   "execution_count": null,
   "id": "9e2f8513-12e6-4c55-b584-f1c14309461e",
   "metadata": {},
   "outputs": [],
   "source": [
    "PI = 3.14  #in math this is alway constant but python we can chang\n",
    "PI"
   ]
  },
  {
   "cell_type": "code",
   "execution_count": null,
   "id": "dabfdeac-cfc3-45b4-b426-70236e5deaaf",
   "metadata": {},
   "outputs": [],
   "source": [
    "PI = 3.18\n",
    "PI"
   ]
  },
  {
   "cell_type": "code",
   "execution_count": null,
   "id": "77985e94-5f0e-43e2-8829-0812cacbf204",
   "metadata": {},
   "outputs": [],
   "source": [
    "type(PI)"
   ]
  },
  {
   "cell_type": "markdown",
   "id": "09022787-f15b-4080-815c-f259291eb7ec",
   "metadata": {},
   "source": [
    "## DATA TYPES & DATA STRUCTURES-->"
   ]
  },
  {
   "cell_type": "markdown",
   "id": "626b1808-a022-4a37-83db-6a339a13061e",
   "metadata": {},
   "source": [
    "1- NUMERIC || 2-LIST || 3-TUPLE || 4-SET || 5-STRING || 6-RANGE || 7-DICTIONARY"
   ]
  },
  {
   "cell_type": "code",
   "execution_count": null,
   "id": "674f712c-e829-4f82-94de-4623b6da6678",
   "metadata": {},
   "outputs": [],
   "source": [
    "w = 2.5\n",
    "type(w)"
   ]
  },
  {
   "cell_type": "code",
   "execution_count": null,
   "id": "ea3d12ad-8565-408f-ae95-67e346a1cd2b",
   "metadata": {},
   "outputs": [],
   "source": [
    "a"
   ]
  },
  {
   "cell_type": "code",
   "execution_count": null,
   "id": "82db4f32-95ad-474e-87ed-4663ce9a5b00",
   "metadata": {},
   "outputs": [],
   "source": [
    "(a)"
   ]
  },
  {
   "cell_type": "code",
   "execution_count": null,
   "id": "1b973fbd-c1c6-4af2-ad0d-c1dc01709745",
   "metadata": {},
   "outputs": [],
   "source": [
    "w2 = 2 + 3j #so hear j is represent as root of -1\n",
    "type(w2)"
   ]
  },
  {
   "cell_type": "code",
   "execution_count": null,
   "id": "5a35dd26-1ebb-40e4-96ae-fa328f785c07",
   "metadata": {},
   "outputs": [],
   "source": [
    "#convert flot to integer \n",
    "a = 5.6\n",
    "b = int(a)"
   ]
  },
  {
   "cell_type": "code",
   "execution_count": null,
   "id": "51c615d8-1973-4075-a76e-ea4fc8fcf24b",
   "metadata": {},
   "outputs": [],
   "source": [
    "b"
   ]
  },
  {
   "cell_type": "code",
   "execution_count": null,
   "id": "9f94a930-7e76-4a45-a1fb-2b5ecf579d81",
   "metadata": {},
   "outputs": [],
   "source": [
    "type(b)"
   ]
  },
  {
   "cell_type": "code",
   "execution_count": null,
   "id": "73aa7b00-1af4-422e-96bc-82e9cc7a1312",
   "metadata": {},
   "outputs": [],
   "source": [
    "type(b)"
   ]
  },
  {
   "cell_type": "code",
   "execution_count": null,
   "id": "75ac5051-b359-48be-a4ad-100705043c20",
   "metadata": {},
   "outputs": [],
   "source": [
    "type(a)"
   ]
  },
  {
   "cell_type": "code",
   "execution_count": null,
   "id": "442a8c54-7bae-4378-98e6-93febf997e50",
   "metadata": {},
   "outputs": [],
   "source": [
    "k = float(b)"
   ]
  },
  {
   "cell_type": "code",
   "execution_count": null,
   "id": "7359c0b3-36ea-4c88-a8d1-bbced9e6fec7",
   "metadata": {},
   "outputs": [],
   "source": [
    "k"
   ]
  },
  {
   "cell_type": "code",
   "execution_count": null,
   "id": "2ea01749-5115-4a82-a50b-079572ab1b99",
   "metadata": {},
   "outputs": [],
   "source": [
    "print(a)\n",
    "print(b)\n",
    "print(k)"
   ]
  },
  {
   "cell_type": "code",
   "execution_count": null,
   "id": "86a0c60b-f212-4450-8959-cf993f773848",
   "metadata": {},
   "outputs": [],
   "source": [
    "k1 = complex(b,k)"
   ]
  },
  {
   "cell_type": "code",
   "execution_count": null,
   "id": "e9d1fa6f-7394-4487-9541-b3741bd48cf8",
   "metadata": {},
   "outputs": [],
   "source": [
    "print(k1)\n",
    "type(k1)"
   ]
  },
  {
   "cell_type": "code",
   "execution_count": null,
   "id": "4485a559-d219-4e26-a3bd-7f8d953c558e",
   "metadata": {},
   "outputs": [],
   "source": [
    "b < k"
   ]
  },
  {
   "cell_type": "code",
   "execution_count": null,
   "id": "2468b63c-96ce-4e27-834f-156925e54a36",
   "metadata": {},
   "outputs": [],
   "source": [
    "condition = b<k\n",
    "condition"
   ]
  },
  {
   "cell_type": "code",
   "execution_count": null,
   "id": "4ca87436-f581-47c9-9da3-0c817a8b5e62",
   "metadata": {},
   "outputs": [],
   "source": [
    "type(condition)"
   ]
  },
  {
   "cell_type": "code",
   "execution_count": null,
   "id": "cafadad8-9aff-48bb-af2f-9c3c18682ed8",
   "metadata": {},
   "outputs": [],
   "source": [
    "int(True)"
   ]
  },
  {
   "cell_type": "code",
   "execution_count": null,
   "id": "b873cb80-dfee-4fd7-9667-0f038c85d41b",
   "metadata": {},
   "outputs": [],
   "source": [
    "int(False)"
   ]
  },
  {
   "cell_type": "code",
   "execution_count": null,
   "id": "c2d73be3-dcd8-4dc3-a252-52809b36e28c",
   "metadata": {},
   "outputs": [],
   "source": [
    "l = [1,2,3,4]\n",
    "print(l)\n",
    "type(l)"
   ]
  },
  {
   "cell_type": "code",
   "execution_count": null,
   "id": "e42bffd8-a301-4995-a251-9779a113b161",
   "metadata": {},
   "outputs": [],
   "source": [
    "l = [1,2,3,4]\n",
    "print(l)\n",
    "type(l)"
   ]
  },
  {
   "cell_type": "code",
   "execution_count": null,
   "id": "36f3896a-281b-4de8-86ca-de845da5b626",
   "metadata": {},
   "outputs": [],
   "source": [
    "c"
   ]
  },
  {
   "cell_type": "code",
   "execution_count": null,
   "id": "c66c0639-9d96-41ea-a870-425b790f0f39",
   "metadata": {},
   "outputs": [],
   "source": [
    "type(s)"
   ]
  },
  {
   "cell_type": "code",
   "execution_count": null,
   "id": "d29741b0-01b0-485d-a86a-dff61906342f",
   "metadata": {},
   "outputs": [],
   "source": [
    "s1 = {1,2,3,4,4,3,11} #duplicates are not allowed\n",
    "s1"
   ]
  },
  {
   "cell_type": "code",
   "execution_count": null,
   "id": "928d0156-8c63-4f76-9ed8-2bf9a4cc5531",
   "metadata": {},
   "outputs": [],
   "source": [
    "t = (10,20,30)\n",
    "t"
   ]
  },
  {
   "cell_type": "code",
   "execution_count": null,
   "id": "20ebb198-8425-4211-8d8f-47120cbac17f",
   "metadata": {},
   "outputs": [],
   "source": [
    "type(t)"
   ]
  },
  {
   "cell_type": "code",
   "execution_count": null,
   "id": "dfab770d-09f2-468b-9984-48a8ff9ca8c5",
   "metadata": {},
   "outputs": [],
   "source": [
    "str = 'nit' #we dont have character in python \n",
    "type(str)"
   ]
  },
  {
   "cell_type": "code",
   "execution_count": null,
   "id": "f003d9c7-eda3-447a-96cc-974234dc80b6",
   "metadata": {},
   "outputs": [],
   "source": [
    "st = 'n'\n",
    "type(st)"
   ]
  },
  {
   "cell_type": "markdown",
   "id": "6a20fd38-4871-4906-9d08-6ff9df4b138a",
   "metadata": {},
   "source": [
    "## range()"
   ]
  },
  {
   "cell_type": "code",
   "execution_count": null,
   "id": "6eaa5156-c06d-4bff-82d8-86456ccbdf1d",
   "metadata": {},
   "outputs": [],
   "source": [
    "r = range(0,10)\n",
    "r"
   ]
  },
  {
   "cell_type": "code",
   "execution_count": null,
   "id": "dc35b1f4-1149-4562-9ccd-674b9170e974",
   "metadata": {},
   "outputs": [],
   "source": [
    "type(r)"
   ]
  },
  {
   "cell_type": "code",
   "execution_count": null,
   "id": "8d7116dc-5aac-4960-8e77-e5427ed2d79f",
   "metadata": {},
   "outputs": [],
   "source": [
    "# if you want to print even number\n",
    "even_number = list(range(2,10,2))\n",
    "even_number"
   ]
  },
  {
   "cell_type": "code",
   "execution_count": null,
   "id": "bddf1984-2f16-4038-8843-18b2805ccc6d",
   "metadata": {},
   "outputs": [],
   "source": [
    "d= {1:'one', 2:'two', 3:'three'}\n",
    "d    "
   ]
  },
  {
   "cell_type": "code",
   "execution_count": null,
   "id": "d0290e0e-2307-4e19-b30c-a88d9518ad71",
   "metadata": {},
   "outputs": [],
   "source": [
    "type(d)"
   ]
  },
  {
   "cell_type": "code",
   "execution_count": null,
   "id": "e45ce22f-4e4b-4ba9-840a-5669eb5de776",
   "metadata": {},
   "outputs": [],
   "source": [
    "# print the keys \n",
    "d.keys()"
   ]
  },
  {
   "cell_type": "code",
   "execution_count": null,
   "id": "c2db9bb9-a964-469e-996c-0b4da4ceded9",
   "metadata": {},
   "outputs": [],
   "source": [
    "d.values()"
   ]
  },
  {
   "cell_type": "code",
   "execution_count": null,
   "id": "78957d46-e649-4f8c-bcbf-a7aedc777e26",
   "metadata": {},
   "outputs": [],
   "source": [
    "# how to get particular value \n",
    "d[2]"
   ]
  },
  {
   "cell_type": "code",
   "execution_count": null,
   "id": "1d2ae31e-86ae-4647-9030-d185f472ee30",
   "metadata": {},
   "outputs": [],
   "source": [
    "# other way to get value as\n",
    "d.get(2)"
   ]
  },
  {
   "cell_type": "markdown",
   "id": "a9ea4ae8-499a-463a-a736-080bcce2f21d",
   "metadata": {},
   "source": [
    "- ARITHMETIC OPERATOR ( + , -, *, /, %, %%, **, ^ 2- ASSIGNMEN OPERATOR (=) 3- RELATIONAL OPERATOR 4- LOGICAL OPERATOR 5- UNARY OPERATOR"
   ]
  },
  {
   "cell_type": "markdown",
   "id": "006825a1-7d04-45de-b6de-ed57f913b744",
   "metadata": {},
   "source": [
    "## Arithmetic operator"
   ]
  },
  {
   "cell_type": "code",
   "execution_count": null,
   "id": "c4d1839b-e94f-421a-85a4-80a563e51eb1",
   "metadata": {},
   "outputs": [],
   "source": [
    "x1, y1 = 10, 5"
   ]
  },
  {
   "cell_type": "code",
   "execution_count": null,
   "id": "5fd25d2b-9320-48fb-bbe1-3a10f0b79bdb",
   "metadata": {},
   "outputs": [],
   "source": [
    "x1  + y1 "
   ]
  },
  {
   "cell_type": "code",
   "execution_count": null,
   "id": "5f63b087-87c8-4de8-9535-2699a14b2cc0",
   "metadata": {},
   "outputs": [],
   "source": [
    "x1  +-y1 "
   ]
  },
  {
   "cell_type": "code",
   "execution_count": null,
   "id": "584c9b59-7920-48cf-b6b3-36525524a6eb",
   "metadata": {},
   "outputs": [],
   "source": [
    "x1 * y1"
   ]
  },
  {
   "cell_type": "code",
   "execution_count": null,
   "id": "540e962c-d490-42dd-a4fc-783bf3b99c2b",
   "metadata": {},
   "outputs": [],
   "source": [
    "x1 / y1"
   ]
  },
  {
   "cell_type": "code",
   "execution_count": null,
   "id": "8c5a05e0-3174-4ab1-9ea1-7d80e835dc2b",
   "metadata": {},
   "outputs": [],
   "source": [
    "x1 // y1"
   ]
  },
  {
   "cell_type": "code",
   "execution_count": null,
   "id": "273c28ab-5a4b-4ddf-a8c1-76d0d9fcc945",
   "metadata": {},
   "outputs": [],
   "source": [
    "x1 % y1"
   ]
  },
  {
   "cell_type": "code",
   "execution_count": null,
   "id": "d1dc559f-553e-4057-9490-981b21fca237",
   "metadata": {},
   "outputs": [],
   "source": [
    "x1 ** y1"
   ]
  },
  {
   "cell_type": "code",
   "execution_count": null,
   "id": "6dc843c8-087b-4ee4-a563-38c4e104fee1",
   "metadata": {},
   "outputs": [],
   "source": [
    "2 ** 3"
   ]
  },
  {
   "cell_type": "markdown",
   "id": "ba341dbf-bfa8-4bfe-9d11-c531ebd418ae",
   "metadata": {},
   "source": [
    "Assignment operator"
   ]
  },
  {
   "cell_type": "code",
   "execution_count": null,
   "id": "e02a41e2-8c19-4dbd-b2a8-a33f1b5bff7e",
   "metadata": {},
   "outputs": [],
   "source": [
    "x = 2"
   ]
  },
  {
   "cell_type": "code",
   "execution_count": null,
   "id": "df603f59-f958-4b0d-94fa-c47ef6063f37",
   "metadata": {},
   "outputs": [],
   "source": [
    "x = x + 2"
   ]
  },
  {
   "cell_type": "code",
   "execution_count": null,
   "id": "0841ca3d-7999-407b-9b29-2b5c526e90e7",
   "metadata": {},
   "outputs": [],
   "source": [
    "x"
   ]
  },
  {
   "cell_type": "code",
   "execution_count": null,
   "id": "992c2bc4-a91c-47dc-babc-b0417e9c01f9",
   "metadata": {},
   "outputs": [],
   "source": [
    "x += 2"
   ]
  },
  {
   "cell_type": "code",
   "execution_count": null,
   "id": "b56e4b47-0995-4702-83e3-bcc3f8e9885f",
   "metadata": {},
   "outputs": [],
   "source": [
    "x"
   ]
  },
  {
   "cell_type": "code",
   "execution_count": null,
   "id": "ac67b71b-659c-4df5-93ce-2c195151fe82",
   "metadata": {},
   "outputs": [],
   "source": [
    "x += 2"
   ]
  },
  {
   "cell_type": "code",
   "execution_count": null,
   "id": "db9f58a2-811c-4589-a27c-454b0ae5d16b",
   "metadata": {},
   "outputs": [],
   "source": [
    "x"
   ]
  },
  {
   "cell_type": "code",
   "execution_count": null,
   "id": "f0c9ed63-c5a3-4e32-859e-dafcff63766e",
   "metadata": {},
   "outputs": [],
   "source": [
    "x *= 2"
   ]
  },
  {
   "cell_type": "code",
   "execution_count": null,
   "id": "760833ab-eae9-46a1-aa81-561e9dcec94b",
   "metadata": {},
   "outputs": [],
   "source": [
    "x"
   ]
  },
  {
   "cell_type": "code",
   "execution_count": null,
   "id": "80cb1a66-23cc-43c2-a4c3-d461a553c90a",
   "metadata": {},
   "outputs": [],
   "source": [
    "x -= 2"
   ]
  },
  {
   "cell_type": "code",
   "execution_count": null,
   "id": "f0e2aa08-f615-48b2-8f37-6091b47df9c3",
   "metadata": {},
   "outputs": [],
   "source": [
    "x"
   ]
  },
  {
   "cell_type": "code",
   "execution_count": null,
   "id": "3a31e7e8-5898-49c1-ae4f-b9cfc8a7dd45",
   "metadata": {},
   "outputs": [],
   "source": [
    "x /= 2"
   ]
  },
  {
   "cell_type": "code",
   "execution_count": null,
   "id": "b8eb6979-02e4-48d5-a7fe-45fd60133c9f",
   "metadata": {},
   "outputs": [],
   "source": [
    "x"
   ]
  },
  {
   "cell_type": "code",
   "execution_count": null,
   "id": "d2d24cb8-4efb-47ec-8b39-71834e5295d8",
   "metadata": {},
   "outputs": [],
   "source": [
    "a, b = 5,6"
   ]
  },
  {
   "cell_type": "code",
   "execution_count": null,
   "id": "34244f3e-a6ac-4479-a99b-56d5e21df3ec",
   "metadata": {},
   "outputs": [],
   "source": [
    "a"
   ]
  },
  {
   "cell_type": "code",
   "execution_count": null,
   "id": "adb2d7d1-9fde-4714-a368-1a2e35b3b6a5",
   "metadata": {},
   "outputs": [],
   "source": [
    "b"
   ]
  },
  {
   "cell_type": "markdown",
   "id": "c86d1c28-5b04-4661-b7f2-7c544bd2e1e8",
   "metadata": {},
   "source": [
    "## unary operator"
   ]
  },
  {
   "cell_type": "markdown",
   "id": "4c006114-7ce7-4634-9c97-ef5468aba36a",
   "metadata": {},
   "source": [
    "Here we are applying unary minus operator(-) on the operand n; the value of m becomes -7, which indicates it as a negative val"
   ]
  },
  {
   "cell_type": "code",
   "execution_count": null,
   "id": "1ec01370-fd32-40a2-99a5-a7fc353a2e18",
   "metadata": {},
   "outputs": [],
   "source": [
    "n = 7 #negattion"
   ]
  },
  {
   "cell_type": "code",
   "execution_count": null,
   "id": "5b8a487e-5109-4d25-9bb9-8ee222f66369",
   "metadata": {},
   "outputs": [],
   "source": [
    "m = -(n)"
   ]
  },
  {
   "cell_type": "code",
   "execution_count": null,
   "id": "471eed4e-5ff5-4512-b526-29b589ffb662",
   "metadata": {},
   "outputs": [],
   "source": [
    "m"
   ]
  },
  {
   "cell_type": "code",
   "execution_count": null,
   "id": "a5bddc96-e355-4927-98b6-c4ee83a30a55",
   "metadata": {},
   "outputs": [],
   "source": [
    "n"
   ]
  },
  {
   "cell_type": "markdown",
   "id": "a9f29ced-9a85-4cf2-914e-db8443627292",
   "metadata": {},
   "source": [
    "## relational operator"
   ]
  },
  {
   "cell_type": "markdown",
   "id": "e7649b17-5d10-4770-8f46-924409924251",
   "metadata": {},
   "source": [
    "we are using this operator for comparing"
   ]
  },
  {
   "cell_type": "code",
   "execution_count": null,
   "id": "b964f3ad-cf52-4c58-909f-c324bf277db1",
   "metadata": {},
   "outputs": [],
   "source": [
    "a = 5\n",
    "b = 7"
   ]
  },
  {
   "cell_type": "code",
   "execution_count": null,
   "id": "7402d297-700f-4ea5-be86-0d4a88b46a3f",
   "metadata": {},
   "outputs": [],
   "source": [
    "a == b"
   ]
  },
  {
   "cell_type": "code",
   "execution_count": null,
   "id": "d2a4d09d-2ede-421a-8080-0da8bacf159f",
   "metadata": {},
   "outputs": [],
   "source": [
    "a<b"
   ]
  },
  {
   "cell_type": "code",
   "execution_count": null,
   "id": "2ea60585-4297-4baa-8a34-5e6f5460dff5",
   "metadata": {},
   "outputs": [],
   "source": [
    "a>b"
   ]
  },
  {
   "cell_type": "code",
   "execution_count": null,
   "id": "29bad818-bda2-4de1-a3ea-a6361b80e1b7",
   "metadata": {},
   "outputs": [],
   "source": [
    "# a = b # we cannot use = operatro that means it is assigning "
   ]
  },
  {
   "cell_type": "code",
   "execution_count": null,
   "id": "1c20929d-75bd-49ec-bbae-df10968af1af",
   "metadata": {},
   "outputs": [],
   "source": [
    "a == b"
   ]
  },
  {
   "cell_type": "code",
   "execution_count": null,
   "id": "b242c956-1630-45ec-91b7-523c721d7c59",
   "metadata": {},
   "outputs": [],
   "source": [
    "a = 10"
   ]
  },
  {
   "cell_type": "code",
   "execution_count": null,
   "id": "022bdf0e-6765-4f9e-bbe1-2b663d793d11",
   "metadata": {},
   "outputs": [],
   "source": [
    "a != b"
   ]
  },
  {
   "cell_type": "code",
   "execution_count": null,
   "id": "aceb2a96-d171-4559-a105-09a05d506922",
   "metadata": {},
   "outputs": [],
   "source": [
    "# hear if i change b = 6\n",
    "b = 10"
   ]
  },
  {
   "cell_type": "code",
   "execution_count": null,
   "id": "34fee8cb-71d1-4e78-b7c6-0c514db76b35",
   "metadata": {},
   "outputs": [],
   "source": [
    "a == b"
   ]
  },
  {
   "cell_type": "code",
   "execution_count": null,
   "id": "4a00a1a4-40df-4b4f-a067-19f9bc951803",
   "metadata": {},
   "outputs": [],
   "source": [
    "a >= b"
   ]
  },
  {
   "cell_type": "code",
   "execution_count": null,
   "id": "f14cb4b4-654b-4211-96f3-7b5287acc1e2",
   "metadata": {},
   "outputs": [],
   "source": [
    "a <= b"
   ]
  },
  {
   "cell_type": "code",
   "execution_count": null,
   "id": "7615dcc0-148d-41a5-a6b5-18f2bb710081",
   "metadata": {},
   "outputs": [],
   "source": [
    "a < b"
   ]
  },
  {
   "cell_type": "code",
   "execution_count": null,
   "id": "b876f880-c7e0-44e7-b18e-3a1fe1a5079f",
   "metadata": {},
   "outputs": [],
   "source": [
    "a>b"
   ]
  },
  {
   "cell_type": "code",
   "execution_count": null,
   "id": "f7ae0dba-88e9-4ece-a598-9b6548194868",
   "metadata": {},
   "outputs": [],
   "source": [
    "b = 7"
   ]
  },
  {
   "cell_type": "code",
   "execution_count": null,
   "id": "95b4d3e3-377f-4b43-a585-a7c2a7164829",
   "metadata": {},
   "outputs": [],
   "source": [
    "a != b"
   ]
  },
  {
   "cell_type": "markdown",
   "id": "4ec1e026-25bc-4e80-901a-edea3c815175",
   "metadata": {},
   "source": [
    "## LOGICAL OPERATOR"
   ]
  },
  {
   "cell_type": "markdown",
   "id": "58f362f2-852b-423e-9a71-be8ddf31dad3",
   "metadata": {},
   "source": [
    "AND,OR,NOT"
   ]
  },
  {
   "cell_type": "code",
   "execution_count": null,
   "id": "ac0a0c96-ea54-4c42-8136-4e8efb2ac2fa",
   "metadata": {},
   "outputs": [],
   "source": [
    "a = 5\n",
    "b = 4"
   ]
  },
  {
   "cell_type": "code",
   "execution_count": null,
   "id": "01d435d7-1761-48de-9f3e-3f828ac420c8",
   "metadata": {},
   "outputs": [],
   "source": [
    "a < 8 and b < 5 #refer to the truth table"
   ]
  },
  {
   "cell_type": "code",
   "execution_count": null,
   "id": "44d55b6f-1707-4543-97d6-1f6c795807df",
   "metadata": {},
   "outputs": [],
   "source": [
    "a < 8 and b < 2"
   ]
  },
  {
   "cell_type": "code",
   "execution_count": null,
   "id": "32aa5030-aa66-4c31-92dc-d66b60528649",
   "metadata": {},
   "outputs": [],
   "source": [
    "a < 8 or b < 2"
   ]
  },
  {
   "cell_type": "code",
   "execution_count": null,
   "id": "bc4774ef-06e9-48e7-87b7-d97589c5ecd3",
   "metadata": {},
   "outputs": [],
   "source": [
    "a>8 or b<2"
   ]
  },
  {
   "cell_type": "code",
   "execution_count": null,
   "id": "492d7d0d-b905-47ca-b70e-4795ffcf431c",
   "metadata": {},
   "outputs": [],
   "source": [
    "x = False\n",
    "x"
   ]
  },
  {
   "cell_type": "code",
   "execution_count": null,
   "id": "27766d93-26f6-4395-ad3d-cc0944c86d04",
   "metadata": {},
   "outputs": [],
   "source": [
    "not x  # you can reverse the operation"
   ]
  },
  {
   "cell_type": "code",
   "execution_count": null,
   "id": "0dde9f42-99d9-44c9-a7b4-c79f58f5bb88",
   "metadata": {},
   "outputs": [],
   "source": [
    "x = not x\n",
    "x"
   ]
  },
  {
   "cell_type": "code",
   "execution_count": null,
   "id": "8d342698-c54c-4120-93a5-6861c0b42e83",
   "metadata": {},
   "outputs": [],
   "source": [
    "x"
   ]
  },
  {
   "cell_type": "code",
   "execution_count": null,
   "id": "7c709560-711f-4763-bc12-cfafbffe9aed",
   "metadata": {},
   "outputs": [],
   "source": [
    "not x"
   ]
  },
  {
   "cell_type": "markdown",
   "id": "d70a1de8-75c6-4831-bcb6-a0ea6d355da9",
   "metadata": {},
   "source": [
    "## Number system coverstion (bit-binary digit)\n",
    "\n",
    "binary : base (0-1) --> please divide 15/2 & count in reverse order octal : base (0-7) hexadecimal : base (0-9 & then a-f) when you check ipaddress you will these format --> cmd - ipconfig\n",
    "\n"
   ]
  },
  {
   "cell_type": "code",
   "execution_count": null,
   "id": "9ae92aed-785d-4a55-8aee-28a165f95fa7",
   "metadata": {},
   "outputs": [],
   "source": [
    "25"
   ]
  },
  {
   "cell_type": "code",
   "execution_count": null,
   "id": "15594b12-d492-4bae-8123-cb67e03b26d5",
   "metadata": {},
   "outputs": [],
   "source": [
    "bin(25)"
   ]
  },
  {
   "cell_type": "code",
   "execution_count": null,
   "id": "71a42455-e061-4a79-8740-40adf8adc5bb",
   "metadata": {},
   "outputs": [],
   "source": [
    "0b11001"
   ]
  },
  {
   "cell_type": "code",
   "execution_count": null,
   "id": "97adbadf-6de5-4cbd-84e8-fb0e34697295",
   "metadata": {},
   "outputs": [],
   "source": [
    "int(0b11001)"
   ]
  },
  {
   "cell_type": "code",
   "execution_count": null,
   "id": "ffb64748-cc07-40ed-b65a-664d2232ff86",
   "metadata": {},
   "outputs": [],
   "source": [
    "bin(35)"
   ]
  },
  {
   "cell_type": "code",
   "execution_count": null,
   "id": "9d9e250e-da8a-4355-a87c-b9f29e008081",
   "metadata": {},
   "outputs": [],
   "source": [
    "int(0b100011)"
   ]
  },
  {
   "cell_type": "code",
   "execution_count": null,
   "id": "86b0fdfe-e5c5-4201-bf37-5b891e8ffd98",
   "metadata": {},
   "outputs": [],
   "source": [
    "bin(20)"
   ]
  },
  {
   "cell_type": "code",
   "execution_count": null,
   "id": "c9845901-db8a-42f6-93b2-4927076da86e",
   "metadata": {},
   "outputs": [],
   "source": [
    "int(0b10100)"
   ]
  },
  {
   "cell_type": "code",
   "execution_count": null,
   "id": "f7617993-16a2-47ef-9d81-599dd467926d",
   "metadata": {},
   "outputs": [],
   "source": [
    "0b1111"
   ]
  },
  {
   "cell_type": "code",
   "execution_count": null,
   "id": "4f4cd7b6-1798-4c9d-ad5a-60c66d23b1da",
   "metadata": {},
   "outputs": [],
   "source": [
    "oct(15)"
   ]
  },
  {
   "cell_type": "code",
   "execution_count": null,
   "id": "36859418-fe08-4e82-a8cc-2cdb424061b1",
   "metadata": {},
   "outputs": [],
   "source": [
    "0o17"
   ]
  },
  {
   "cell_type": "code",
   "execution_count": null,
   "id": "6982fb02-7b35-41c7-b663-2fc4993ab2bc",
   "metadata": {},
   "outputs": [],
   "source": [
    "hex(9)"
   ]
  },
  {
   "cell_type": "code",
   "execution_count": null,
   "id": "c3838fee-8cb5-49fc-895e-b6c7048af97f",
   "metadata": {},
   "outputs": [],
   "source": [
    "0xf"
   ]
  },
  {
   "cell_type": "code",
   "execution_count": null,
   "id": "964b80b0-dd4f-4508-ad98-fedccc6676a8",
   "metadata": {},
   "outputs": [],
   "source": [
    "h0xfex(10)"
   ]
  },
  {
   "cell_type": "code",
   "execution_count": null,
   "id": "d628ef07-a0fb-491b-a182-fa7ffbc3b589",
   "metadata": {},
   "outputs": [],
   "source": [
    "0xa"
   ]
  },
  {
   "cell_type": "code",
   "execution_count": null,
   "id": "a2eef9aa-9938-4e7b-8abc-6ec22507b2b4",
   "metadata": {},
   "outputs": [],
   "source": [
    "hex(25)"
   ]
  },
  {
   "cell_type": "code",
   "execution_count": null,
   "id": "eed79e0e-2ae9-4e85-8c02-4921c0a06c34",
   "metadata": {},
   "outputs": [],
   "source": [
    "0x19"
   ]
  },
  {
   "cell_type": "code",
   "execution_count": null,
   "id": "3a35a1b7-37d2-413a-b8a2-5d3517e99ee2",
   "metadata": {},
   "outputs": [],
   "source": [
    "0x15"
   ]
  },
  {
   "cell_type": "markdown",
   "id": "ab01e5aa-c328-45c0-833f-60fc7b698015",
   "metadata": {},
   "source": [
    "## swap variable in python\n",
    "(a,b = 5,6) After swap we should get ==> (a, b = 6,5 )"
   ]
  },
  {
   "cell_type": "code",
   "execution_count": null,
   "id": "7a6c8684-c4ec-473a-8721-9e142cb165f8",
   "metadata": {},
   "outputs": [],
   "source": [
    "a = 5\n",
    "b = 6"
   ]
  },
  {
   "cell_type": "code",
   "execution_count": null,
   "id": "79b10768-9738-40c6-b08d-20ec575e7127",
   "metadata": {},
   "outputs": [],
   "source": [
    "a = 5\n",
    "b = 6"
   ]
  },
  {
   "cell_type": "code",
   "execution_count": null,
   "id": "45b6f6e3-d034-4865-a743-2c03e1969c57",
   "metadata": {},
   "outputs": [],
   "source": [
    "a,b = b,a "
   ]
  },
  {
   "cell_type": "code",
   "execution_count": null,
   "id": "fb838b14-9073-42de-8770-726007b9e8c1",
   "metadata": {},
   "outputs": [],
   "source": [
    "print(a)\n",
    "print(b)"
   ]
  },
  {
   "cell_type": "code",
   "execution_count": null,
   "id": "d6a29a98-54f4-4233-bae7-f21d80c69154",
   "metadata": {},
   "outputs": [],
   "source": [
    "# in above scenario we lost the value 5 \n",
    "a1 = 7\n",
    "b1 = 8"
   ]
  },
  {
   "cell_type": "code",
   "execution_count": null,
   "id": "9265f1e9-7b69-47b4-a751-9a06cb3a2df0",
   "metadata": {},
   "outputs": [],
   "source": [
    "temp = a1 \n",
    "a1 = b1\n",
    "b1 = temp"
   ]
  },
  {
   "cell_type": "code",
   "execution_count": null,
   "id": "494ea8a7-27a1-4665-bc00-1db400985e4c",
   "metadata": {},
   "outputs": [],
   "source": [
    "print(a1)\n",
    "print(b1)"
   ]
  },
  {
   "cell_type": "code",
   "execution_count": null,
   "id": "89d533a1-25a0-435f-96f9-4c9531bb2049",
   "metadata": {},
   "outputs": [],
   "source": [
    "a2 = 5\n",
    "b2 = 6"
   ]
  },
  {
   "cell_type": "code",
   "execution_count": null,
   "id": "8f89177f-b0ed-43e9-aaff-68f4e995cc07",
   "metadata": {},
   "outputs": [],
   "source": [
    "#swap variable formulas\n",
    "a2 = a2 + b2\n",
    "b2 = a2 - b2\n",
    "a2 = a2 - b2"
   ]
  },
  {
   "cell_type": "code",
   "execution_count": null,
   "id": "bd52c360-2bc4-4085-a559-271468909d22",
   "metadata": {},
   "outputs": [],
   "source": [
    "print(a2)\n",
    "print(b2)"
   ]
  },
  {
   "cell_type": "code",
   "execution_count": null,
   "id": "58ca9e19-444f-424d-9eb4-789975c5ac5f",
   "metadata": {},
   "outputs": [],
   "source": [
    "print(0b101) # 101 is 3 bit \n",
    "print(0b110) # 110 also 3bit "
   ]
  },
  {
   "cell_type": "code",
   "execution_count": null,
   "id": "24b9107c-5b34-4324-8782-5f6d9c784a44",
   "metadata": {},
   "outputs": [],
   "source": [
    "#but when we use a2 + b2 then we get 11 that means we will get 4 bit which is 1 bit extra \n",
    "print(bin(11))\n",
    "print(0b1011)"
   ]
  },
  {
   "cell_type": "code",
   "execution_count": null,
   "id": "bd9e0d4a-420a-4798-973e-f6f8a1415800",
   "metadata": {},
   "outputs": [],
   "source": [
    "#there is other way to work using swap variable also which is XOR because it will not waste extra bit \n",
    "a2 = a2 ^ b2\n",
    "b2 = a2 ^ b2\n",
    "a2 = a2 ^ b2"
   ]
  },
  {
   "cell_type": "code",
   "execution_count": null,
   "id": "1f2cdf99-c031-4c37-9c42-4349c12c5363",
   "metadata": {},
   "outputs": [],
   "source": [
    "print(a2)\n",
    "print(b2)"
   ]
  },
  {
   "cell_type": "code",
   "execution_count": null,
   "id": "8aeb0f33-d353-4d61-92d8-48c0c8280c3a",
   "metadata": {},
   "outputs": [],
   "source": [
    "print(a2)\n",
    "print(b2)"
   ]
  },
  {
   "cell_type": "code",
   "execution_count": null,
   "id": "cb5d9321-5933-4487-9d24-bca70ea611e7",
   "metadata": {},
   "outputs": [],
   "source": [
    "a2 , b2 = b2, a2"
   ]
  },
  {
   "cell_type": "code",
   "execution_count": null,
   "id": "9eca5cb9-4552-4d2f-8b82-b8cc2a718fa3",
   "metadata": {},
   "outputs": [],
   "source": [
    "print(a2)\n",
    "print(b2)"
   ]
  },
  {
   "cell_type": "markdown",
   "id": "4dee8347-f2fe-4d6b-b032-52e646f9621f",
   "metadata": {},
   "source": [
    "## BIT WISE OPERATOR\n",
    "\n",
    ". WE HAVE 6 OPERATORS COMPLEMENT ( ~ ) || AND ( & ) || OR ( | ) || XOR ( ^ ) || LEFT SHIFT ( << ) || RIGHT SHIFT ( >> )\n"
   ]
  },
  {
   "cell_type": "code",
   "execution_count": null,
   "id": "45e2acfb-9d65-4568-8f0a-73d8dbea18e7",
   "metadata": {},
   "outputs": [],
   "source": [
    "print(bin(12))\n",
    "print(bin(13))"
   ]
  },
  {
   "cell_type": "markdown",
   "id": "70a709e6-a133-4872-b68c-21363cca5f31",
   "metadata": {},
   "source": [
    "## complement --> you will get this key below esc character\n",
    "\n",
    "12 ==> 1100 || first thing we need to understand what is mean by complement. complement means it will do reverse of the binary format i.e. - ~0 it will give you 1 ~1 it will give 0 12 binary format is 00001100 ( complement of ~00001100 reverse the number - 11110011 which is (-13)\n",
    "\n",
    "but the question is why we got -13 to understand this concept ( we have concept of 2's complement 2's complement mean (1's complement + 1) in the system we can store +Ve number but how to store -ve number\n",
    "\n",
    "lets understand binary form of 13 - 00001101 + 1 "
   ]
  },
  {
   "cell_type": "code",
   "execution_count": null,
   "id": "546cebb6-35cf-4918-80de-82c9a3bb3bad",
   "metadata": {},
   "outputs": [],
   "source": [
    "# COMPLEMENT (~) (TILDE  OR TILD)\n",
    "~12 # why we get -13 . first we understand what is complment means (reversr of binary format)"
   ]
  },
  {
   "cell_type": "code",
   "execution_count": null,
   "id": "17efdfbd-f13d-4973-9562-33b4abc17500",
   "metadata": {},
   "outputs": [],
   "source": [
    "~45"
   ]
  },
  {
   "cell_type": "code",
   "execution_count": null,
   "id": "2de23c66-22e1-4840-b5ee-257da9b9b264",
   "metadata": {},
   "outputs": [],
   "source": [
    "~6"
   ]
  },
  {
   "cell_type": "code",
   "execution_count": null,
   "id": "876fd0fe-a8d1-4e35-9865-8cd7beb71c9c",
   "metadata": {},
   "outputs": [],
   "source": [
    "~6"
   ]
  },
  {
   "cell_type": "code",
   "execution_count": null,
   "id": "e057da32-69d9-4a4b-a965-07a076bdcc49",
   "metadata": {},
   "outputs": [],
   "source": [
    "~1"
   ]
  },
  {
   "cell_type": "markdown",
   "id": "c81db446-fb5d-4939-a4c4-352058afd4b9",
   "metadata": {},
   "source": [
    "## bit wise and operator\n",
    "AND - LOGICAL OPERATOR ||| & - BITWISE AND OPERATOR\n",
    "(we know that 1 & 1 is 1) 12 - 00001100 13 - 00001101 when we are add both then then outut we will get as 12"
   ]
  },
  {
   "cell_type": "code",
   "execution_count": null,
   "id": "68876860-bca8-4cb7-a241-64018e42a396",
   "metadata": {},
   "outputs": [],
   "source": [
    "12 & 13"
   ]
  },
  {
   "cell_type": "code",
   "execution_count": null,
   "id": "4fb5a712-df84-4a73-bb1a-949bd5318af1",
   "metadata": {},
   "outputs": [],
   "source": [
    "1 & 1"
   ]
  },
  {
   "cell_type": "code",
   "execution_count": null,
   "id": "2e978d26-1d3a-497f-b712-928d5fa01546",
   "metadata": {},
   "outputs": [],
   "source": [
    "1 | 0"
   ]
  },
  {
   "cell_type": "code",
   "execution_count": null,
   "id": "b5636741-ebab-474b-9540-8c5a4d4f2de7",
   "metadata": {},
   "outputs": [],
   "source": [
    "1 & 0"
   ]
  },
  {
   "cell_type": "code",
   "execution_count": null,
   "id": "96a3f13c-fd68-401a-9d4b-b4398347f58e",
   "metadata": {},
   "outputs": [],
   "source": [
    "12 | 13"
   ]
  },
  {
   "cell_type": "code",
   "execution_count": null,
   "id": "87d1d749-2132-4c9a-8941-124a9f5cdc09",
   "metadata": {},
   "outputs": [],
   "source": [
    "35 & 40 #please do the homework conververt 35,40 to binary format"
   ]
  },
  {
   "cell_type": "code",
   "execution_count": null,
   "id": "97b5079d-125b-41ca-bc4f-1d884875955f",
   "metadata": {},
   "outputs": [],
   "source": [
    "35 | 40"
   ]
  },
  {
   "cell_type": "code",
   "execution_count": null,
   "id": "8487d885-fc40-4718-a9d6-0ecccdc9989d",
   "metadata": {},
   "outputs": [],
   "source": [
    "# in XOR if the both number are different then we will get 1 or else we will get 0\n",
    "\n",
    "12 ^ 13"
   ]
  },
  {
   "cell_type": "code",
   "execution_count": null,
   "id": "66e5e20f-7851-4dba-82a8-bd6af4cb1e5b",
   "metadata": {},
   "outputs": [],
   "source": [
    "25 ^ 30"
   ]
  },
  {
   "cell_type": "code",
   "execution_count": null,
   "id": "c780ea7f-1b00-47d6-980b-5d2bd6c2256e",
   "metadata": {},
   "outputs": [],
   "source": [
    "bin(25)"
   ]
  },
  {
   "cell_type": "code",
   "execution_count": null,
   "id": "81c6d8df-7ffc-43c6-8db5-02f33777dd84",
   "metadata": {},
   "outputs": [],
   "source": [
    "bin(30)"
   ]
  },
  {
   "cell_type": "code",
   "execution_count": null,
   "id": "06b7e59e-1df8-4659-9161-7ea79eda765a",
   "metadata": {},
   "outputs": [],
   "source": [
    "int(0b000111)"
   ]
  },
  {
   "cell_type": "code",
   "execution_count": null,
   "id": "1ec2458c-ce29-4925-b9f1-b1f7ba8221ef",
   "metadata": {},
   "outputs": [],
   "source": [
    "# BIT WISE LEFT OPERATOR\n",
    "#bit wise left operator bydefault you will take 2 zeros ( )\n",
    "#10 binary operator is 1010 | also i can say 1010\n",
    "10<<2"
   ]
  },
  {
   "cell_type": "code",
   "execution_count": null,
   "id": "c590c6f4-60e4-44e9-9740-ed77f9e6db41",
   "metadata": {},
   "outputs": [],
   "source": [
    "20<<4 #can we do this"
   ]
  },
  {
   "cell_type": "markdown",
   "id": "f68d3eae-4b1f-433a-aea5-b96f09993479",
   "metadata": {},
   "source": [
    "## BITWISE RIGHTSHIFT OPERATOR"
   ]
  },
  {
   "cell_type": "code",
   "execution_count": null,
   "id": "7e7af6c3-5506-4af1-8308-08b803be6ddb",
   "metadata": {},
   "outputs": [],
   "source": [
    "10>>2"
   ]
  },
  {
   "cell_type": "code",
   "execution_count": null,
   "id": "5dac9aa2-d9cf-44e5-8755-fca6d5e9de5e",
   "metadata": {},
   "outputs": [],
   "source": [
    "bin(20)"
   ]
  },
  {
   "cell_type": "code",
   "execution_count": null,
   "id": "2bb65a6a-bcac-42af-9f03-b6ae826b7eeb",
   "metadata": {},
   "outputs": [],
   "source": [
    "20>>4"
   ]
  },
  {
   "cell_type": "markdown",
   "id": "f93aacf1-03d4-48ab-a603-6310666bc8e5",
   "metadata": {},
   "source": [
    "## import math module\n",
    "https://docs.python.org/3/library/math.html"
   ]
  },
  {
   "cell_type": "code",
   "execution_count": null,
   "id": "8de26828-26ce-4ec3-b573-a89ad807097b",
   "metadata": {},
   "outputs": [],
   "source": [
    "x = sqrt(25) #sqrt is inbuild function "
   ]
  },
  {
   "cell_type": "code",
   "execution_count": null,
   "id": "3894a889-83f7-4882-bef1-3e335470b749",
   "metadata": {},
   "outputs": [],
   "source": [
    "import math # math is module"
   ]
  },
  {
   "cell_type": "code",
   "execution_count": null,
   "id": "15d7528d-8d32-4f67-83ff-0f5cc5181d15",
   "metadata": {},
   "outputs": [],
   "source": [
    "x = math.sqrt(25)\n",
    "x"
   ]
  },
  {
   "cell_type": "code",
   "execution_count": null,
   "id": "97ebafa3-f7a9-40c3-bd1b-fb645e953e53",
   "metadata": {},
   "outputs": [],
   "source": [
    "x1 = math.sqrt(15)\n",
    "x1"
   ]
  },
  {
   "cell_type": "code",
   "execution_count": null,
   "id": "62353569-8124-406f-9816-1bc577d1adb6",
   "metadata": {},
   "outputs": [],
   "source": [
    "print(math.floor(2.9)) #floor - minimum or least value "
   ]
  },
  {
   "cell_type": "code",
   "execution_count": null,
   "id": "9c26edc3-a7dd-4240-8d51-468d3edc731d",
   "metadata": {},
   "outputs": [],
   "source": [
    "print(math.ceil(2.9)) #ceil - maximum or highest value"
   ]
  },
  {
   "cell_type": "code",
   "execution_count": null,
   "id": "89409092-2099-4276-9b3b-1749949d786c",
   "metadata": {},
   "outputs": [],
   "source": [
    "print(math.pow(3,2))"
   ]
  },
  {
   "cell_type": "code",
   "execution_count": null,
   "id": "96c8860a-2324-4169-8cbd-8c5b3cc3ed94",
   "metadata": {},
   "outputs": [],
   "source": [
    "print(math.pi) #these are constant"
   ]
  },
  {
   "cell_type": "code",
   "execution_count": null,
   "id": "911ec66b-1df6-4294-9d81-701f3c43c1ed",
   "metadata": {},
   "outputs": [],
   "source": [
    "print(math.e) #these are constant"
   ]
  },
  {
   "cell_type": "code",
   "execution_count": null,
   "id": "f3254237-ff85-44de-af6e-67d436b7833c",
   "metadata": {},
   "outputs": [],
   "source": [
    "from math import sqrt,pow # math has many function if you want to call specific function then you use from \n",
    "pow(2,3)"
   ]
  },
  {
   "cell_type": "code",
   "execution_count": null,
   "id": "bd6d46d7-679f-4cde-92b0-554193da7156",
   "metadata": {},
   "outputs": [],
   "source": [
    "round(pow(2,3))"
   ]
  },
  {
   "cell_type": "code",
   "execution_count": null,
   "id": "15aca209-42ae-447a-839f-d9a1caf2d9d6",
   "metadata": {},
   "outputs": [],
   "source": [
    "help(math)"
   ]
  },
  {
   "cell_type": "markdown",
   "id": "14be1b48-3397-4e24-adb9-c9e56e9b2f48",
   "metadata": {},
   "source": [
    "#### pycharm run debug\n",
    "#### how to install python idle\n",
    "#### how to install pycharm & starts working on pycharm"
   ]
  },
  {
   "cell_type": "markdown",
   "id": "0edd853d-b25b-4fcb-a5ad-f25db2788f5f",
   "metadata": {},
   "source": [
    "## user input function in python || command line input"
   ]
  },
  {
   "cell_type": "code",
   "execution_count": 295,
   "id": "71a47e04-a3b2-410e-8cee-38588e1d1fee",
   "metadata": {},
   "outputs": [
    {
     "name": "stdin",
     "output_type": "stream",
     "text": [
      " 5\n",
      " 6\n"
     ]
    },
    {
     "name": "stdout",
     "output_type": "stream",
     "text": [
      "56\n"
     ]
    }
   ],
   "source": [
    "x = input()\n",
    "y = input()\n",
    "z = x + y\n",
    "print(z) # console is waiting for user to enter input \n",
    "# also if you work in idle"
   ]
  },
  {
   "cell_type": "code",
   "execution_count": 1,
   "id": "49817ca0-2237-4803-96f3-852e96a9860d",
   "metadata": {},
   "outputs": [
    {
     "name": "stdin",
     "output_type": "stream",
     "text": [
      "Enter the 1st number 5\n",
      "Enter the 2nd number 6\n"
     ]
    },
    {
     "name": "stdout",
     "output_type": "stream",
     "text": [
      "56\n"
     ]
    }
   ],
   "source": [
    "x1 = input('Enter the 1st number') #whenevery you works in input function it always give you string \n",
    "y1 = input('Enter the 2nd number') # it wont understand as arithmetic operator\n",
    "z1 = x1 + y1\n",
    "print(z1)"
   ]
  },
  {
   "cell_type": "code",
   "execution_count": 3,
   "id": "614fa9b5-2658-4e19-b08e-4c0739c85615",
   "metadata": {},
   "outputs": [
    {
     "data": {
      "text/plain": [
       "str"
      ]
     },
     "execution_count": 3,
     "metadata": {},
     "output_type": "execute_result"
    }
   ],
   "source": [
    "type(x1)\n",
    "type(y1)"
   ]
  },
  {
   "cell_type": "code",
   "execution_count": 5,
   "id": "0fa804b6-2557-49c3-8527-cc6ebc322765",
   "metadata": {},
   "outputs": [
    {
     "name": "stdin",
     "output_type": "stream",
     "text": [
      "Enter the 1st number 5\n",
      "Enter the 2nd number 6\n"
     ]
    },
    {
     "name": "stdout",
     "output_type": "stream",
     "text": [
      "11\n"
     ]
    }
   ],
   "source": [
    "x1 = input('Enter the 1st number') #whenevery you works in input function it always give you string \n",
    "a1 = int(x1)\n",
    "y1 = input('Enter the 2nd number') # it wont understand as arithmetic operator\n",
    "b1 = int(y1)\n",
    "z1 = a1 + b1\n",
    "print(z1)"
   ]
  },
  {
   "cell_type": "markdown",
   "id": "e0f327e3-cd71-41a6-af47-2a48002bad1c",
   "metadata": {},
   "source": [
    "for the above code notice we are using many lines because fo that wasting some memory spaces as well"
   ]
  },
  {
   "cell_type": "code",
   "execution_count": 8,
   "id": "0fe7a0a6-047b-4f02-9491-778f6854e842",
   "metadata": {},
   "outputs": [
    {
     "name": "stdin",
     "output_type": "stream",
     "text": [
      "Enter the 1st number 2\n",
      "Enter the 2nd number 3\n"
     ]
    },
    {
     "data": {
      "text/plain": [
       "5"
      ]
     },
     "execution_count": 8,
     "metadata": {},
     "output_type": "execute_result"
    }
   ],
   "source": [
    "x2 = int(input('Enter the 1st number'))\n",
    "y2 = int(input('Enter the 2nd number'))\n",
    "z2 = x2 + y2\n",
    "z2"
   ]
  },
  {
   "cell_type": "markdown",
   "id": "8cc9abfb-b12d-4299-aae7-c84dcc5e00b5",
   "metadata": {},
   "source": [
    "lets take input from the user in char format, but we dont have char format in python"
   ]
  },
  {
   "cell_type": "code",
   "execution_count": 10,
   "id": "e69ff366-6d9e-4b50-89f0-20e93d485440",
   "metadata": {},
   "outputs": [
    {
     "name": "stdin",
     "output_type": "stream",
     "text": [
      "enter a char hello\n"
     ]
    },
    {
     "name": "stdout",
     "output_type": "stream",
     "text": [
      "hello\n"
     ]
    }
   ],
   "source": [
    "ch = input('enter a char')\n",
    "print(ch)"
   ]
  },
  {
   "cell_type": "code",
   "execution_count": 12,
   "id": "0d0d9e21-09d2-47f3-a0d0-c1d6b146ca72",
   "metadata": {},
   "outputs": [
    {
     "name": "stdout",
     "output_type": "stream",
     "text": [
      "h\n"
     ]
    }
   ],
   "source": [
    "print(ch[0])"
   ]
  },
  {
   "cell_type": "code",
   "execution_count": 14,
   "id": "32323b04-b6d4-408f-a357-9d49f5307266",
   "metadata": {},
   "outputs": [
    {
     "name": "stdout",
     "output_type": "stream",
     "text": [
      "o\n"
     ]
    }
   ],
   "source": [
    "print(ch[-1])"
   ]
  },
  {
   "cell_type": "code",
   "execution_count": 20,
   "id": "e1357a2f-f0e3-435e-92d4-0c8ed255fd80",
   "metadata": {},
   "outputs": [
    {
     "name": "stdin",
     "output_type": "stream",
     "text": [
      "enter a char 2+3-4+10\n"
     ]
    },
    {
     "name": "stdout",
     "output_type": "stream",
     "text": [
      "2\n"
     ]
    }
   ],
   "source": [
    "ch = input('enter a char')[0]\n",
    "print(ch)"
   ]
  },
  {
   "cell_type": "markdown",
   "id": "803982f3-b500-496b-b33b-b1e3f7f10031",
   "metadata": {},
   "source": [
    "EVAL function using input"
   ]
  },
  {
   "cell_type": "markdown",
   "id": "d0421c1c-8279-4586-9e87-0b2e34f9891a",
   "metadata": {},
   "source": [
    "if you want to pass the value in cmd can we pass the value like this"
   ]
  },
  {
   "cell_type": "markdown",
   "id": "ded5ede6-0b3c-408f-816b-b466c3fae6ea",
   "metadata": {},
   "source": [
    "when we run the above code in cmd then we get the value to 11 only but how to add them then we need to use very important concept called (argv) -- (argument values) what it does if you pass 1 value then 1 value it will display but if you pass 2 value then it will display 2 values"
   ]
  },
  {
   "cell_type": "markdown",
   "id": "9f48ac38-230a-4e12-b456-32ead2608190",
   "metadata": {},
   "source": [
    "argv--it will understand based on index number & bydefault index number 0 means that is file namw"
   ]
  },
  {
   "cell_type": "code",
   "execution_count": null,
   "id": "3bb306dd-0fd7-4eac-bbe4-c94f7ed1879f",
   "metadata": {},
   "outputs": [],
   "source": []
  },
  {
   "cell_type": "code",
   "execution_count": null,
   "id": "06752d87-27b9-4220-9277-ae8639851182",
   "metadata": {},
   "outputs": [],
   "source": []
  }
 ],
 "metadata": {
  "kernelspec": {
   "display_name": "Python 3 (ipykernel)",
   "language": "python",
   "name": "python3"
  },
  "language_info": {
   "codemirror_mode": {
    "name": "ipython",
    "version": 3
   },
   "file_extension": ".py",
   "mimetype": "text/x-python",
   "name": "python",
   "nbconvert_exporter": "python",
   "pygments_lexer": "ipython3",
   "version": "3.12.7"
  }
 },
 "nbformat": 4,
 "nbformat_minor": 5
}
