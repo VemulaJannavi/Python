{
 "cells": [
  {
   "cell_type": "code",
   "execution_count": null,
   "id": "6e5e7ddc-eced-4c65-991c-0b4c5bffe226",
   "metadata": {},
   "outputs": [],
   "source": [
    "Indexing---> python index begins with 0(n-1)\n",
    "  forward index --- > left to right index start with 0 (n-1)\n",
    "backward index ---> right to left (index start with -1)\n",
    "slicing ---> :"
   ]
  },
  {
   "cell_type": "markdown",
   "id": "8b5af03f-0465-44bf-b32d-e6fc5742d2a8",
   "metadata": {},
   "source": [
    "7 basic phython"
   ]
  },
  {
   "cell_type": "code",
   "execution_count": 22,
   "id": "eaa30317-4424-476e-a0f2-e0d486e665a5",
   "metadata": {},
   "outputs": [],
   "source": [
    "st= \"hellopython\"\n"
   ]
  },
  {
   "cell_type": "code",
   "execution_count": 28,
   "id": "e2ed85ae-229b-4507-9198-0e5a8f152e8c",
   "metadata": {},
   "outputs": [
    {
     "data": {
      "text/plain": [
       "'h'"
      ]
     },
     "execution_count": 28,
     "metadata": {},
     "output_type": "execute_result"
    }
   ],
   "source": [
    "st[0]"
   ]
  },
  {
   "cell_type": "code",
   "execution_count": 30,
   "id": "3e49086d-a338-473b-a693-936fd7e90f88",
   "metadata": {},
   "outputs": [
    {
     "data": {
      "text/plain": [
       "'n'"
      ]
     },
     "execution_count": 30,
     "metadata": {},
     "output_type": "execute_result"
    }
   ],
   "source": [
    "st[-1]"
   ]
  },
  {
   "cell_type": "code",
   "execution_count": 32,
   "id": "ca6350b6-c7ce-49af-b5b3-e11e54c7c266",
   "metadata": {},
   "outputs": [
    {
     "ename": "IndexError",
     "evalue": "string index out of range",
     "output_type": "error",
     "traceback": [
      "\u001b[1;31m---------------------------------------------------------------------------\u001b[0m",
      "\u001b[1;31mIndexError\u001b[0m                                Traceback (most recent call last)",
      "Cell \u001b[1;32mIn[32], line 1\u001b[0m\n\u001b[1;32m----> 1\u001b[0m st[\u001b[38;5;241m20\u001b[39m]\n",
      "\u001b[1;31mIndexError\u001b[0m: string index out of range"
     ]
    }
   ],
   "source": [
    "st[20]"
   ]
  },
  {
   "cell_type": "code",
   "execution_count": 35,
   "id": "99ff350b-ad58-4797-9e3d-d1c8ae76e95a",
   "metadata": {},
   "outputs": [
    {
     "data": {
      "text/plain": [
       "'y'"
      ]
     },
     "execution_count": 35,
     "metadata": {},
     "output_type": "execute_result"
    }
   ],
   "source": [
    "st[6]"
   ]
  },
  {
   "cell_type": "code",
   "execution_count": null,
   "id": "61110bf0-c330-453b-924a-e637704b0544",
   "metadata": {},
   "outputs": [],
   "source": [
    "# slicing"
   ]
  },
  {
   "cell_type": "code",
   "execution_count": null,
   "id": "4c818e4a-8cbc-49e4-885c-dd89d14c6af7",
   "metadata": {},
   "outputs": [],
   "source": [
    "st'hellopython'"
   ]
  },
  {
   "cell_type": "code",
   "execution_count": 37,
   "id": "ededdc3c-130c-47e7-a59c-5e194f8cbe8e",
   "metadata": {},
   "outputs": [
    {
     "data": {
      "text/plain": [
       "'hellopython'"
      ]
     },
     "execution_count": 37,
     "metadata": {},
     "output_type": "execute_result"
    }
   ],
   "source": [
    "st[:]"
   ]
  },
  {
   "cell_type": "code",
   "execution_count": 42,
   "id": "eabcc9cb-f7ef-433c-93d5-5a1c8f51178c",
   "metadata": {},
   "outputs": [
    {
     "data": {
      "text/plain": [
       "'llopy'"
      ]
     },
     "execution_count": 42,
     "metadata": {},
     "output_type": "execute_result"
    }
   ],
   "source": [
    "st[2:7]"
   ]
  },
  {
   "cell_type": "code",
   "execution_count": 44,
   "id": "ef3659a8-6293-4f71-a9dd-6c1c9d7da504",
   "metadata": {},
   "outputs": [
    {
     "data": {
      "text/plain": [
       "'llopyt'"
      ]
     },
     "execution_count": 44,
     "metadata": {},
     "output_type": "execute_result"
    }
   ],
   "source": [
    "st[2:8]"
   ]
  },
  {
   "cell_type": "code",
   "execution_count": 46,
   "id": "bb803af6-84af-4e40-901e-142aa8bf2613",
   "metadata": {},
   "outputs": [
    {
     "data": {
      "text/plain": [
       "'hellopython'"
      ]
     },
     "execution_count": 46,
     "metadata": {},
     "output_type": "execute_result"
    }
   ],
   "source": [
    "st"
   ]
  },
  {
   "cell_type": "code",
   "execution_count": 50,
   "id": "f60e04d5-fbfa-4979-83a7-661f07ec2841",
   "metadata": {},
   "outputs": [
    {
     "data": {
      "text/plain": [
       "'hel'"
      ]
     },
     "execution_count": 50,
     "metadata": {},
     "output_type": "execute_result"
    }
   ],
   "source": [
    "st[0:3]"
   ]
  },
  {
   "cell_type": "code",
   "execution_count": 52,
   "id": "d9dfa625-735b-4475-a23a-458ad91ef53e",
   "metadata": {},
   "outputs": [
    {
     "data": {
      "text/plain": [
       "'ball'"
      ]
     },
     "execution_count": 52,
     "metadata": {},
     "output_type": "execute_result"
    }
   ],
   "source": [
    "st1='ball'\n",
    "st1"
   ]
  },
  {
   "cell_type": "code",
   "execution_count": 56,
   "id": "298d3c27-cb90-43b4-a39f-978a1f4be259",
   "metadata": {},
   "outputs": [
    {
     "data": {
      "text/plain": [
       "'dall'"
      ]
     },
     "execution_count": 56,
     "metadata": {},
     "output_type": "execute_result"
    }
   ],
   "source": [
    "'d'+st1[1:]"
   ]
  },
  {
   "cell_type": "code",
   "execution_count": 62,
   "id": "a3a2f342-9b5d-4163-a641-16b2d7640c93",
   "metadata": {},
   "outputs": [
    {
     "data": {
      "text/plain": [
       "'appleballcow'"
      ]
     },
     "execution_count": 62,
     "metadata": {},
     "output_type": "execute_result"
    }
   ],
   "source": [
    "'apple'+'ball'+'cow'"
   ]
  },
  {
   "cell_type": "code",
   "execution_count": 64,
   "id": "78652822-30de-4c84-977f-6f36bfb363fc",
   "metadata": {},
   "outputs": [
    {
     "data": {
      "text/plain": [
       "'vemulajannavi'"
      ]
     },
     "execution_count": 64,
     "metadata": {},
     "output_type": "execute_result"
    }
   ],
   "source": [
    "st2='vemulajannavi'\n",
    "st2"
   ]
  },
  {
   "cell_type": "code",
   "execution_count": 66,
   "id": "eb7d5323-35e5-4d98-8540-1cde94f8c55d",
   "metadata": {},
   "outputs": [
    {
     "data": {
      "text/plain": [
       "'vemulajannavi'"
      ]
     },
     "execution_count": 66,
     "metadata": {},
     "output_type": "execute_result"
    }
   ],
   "source": [
    "st2[:]"
   ]
  },
  {
   "cell_type": "code",
   "execution_count": 68,
   "id": "bd292e5d-b38e-42af-b54c-07730141f6df",
   "metadata": {},
   "outputs": [
    {
     "data": {
      "text/plain": [
       "'em'"
      ]
     },
     "execution_count": 68,
     "metadata": {},
     "output_type": "execute_result"
    }
   ],
   "source": [
    "st2[1:3]"
   ]
  },
  {
   "cell_type": "markdown",
   "id": "f8d56cdd-910a-49ec-8d47-db65c6ee5ce0",
   "metadata": {},
   "source": [
    ":-print all elements or entire string\n",
    "2:5--print values from 2nd index index to 5th index (5-1)\n",
    ":5--print values starting to 5th index(5-1) \n",
    "5:--print the values from 5th index to last\n",
    "\n",
    "mechine learning -\n",
    "                                    \n",
    "                                            "
   ]
  },
  {
   "cell_type": "code",
   "execution_count": 70,
   "id": "65460183-8238-40b3-bd0c-8e32a12c05b7",
   "metadata": {},
   "outputs": [
    {
     "data": {
      "text/plain": [
       "'vemulajannavi'"
      ]
     },
     "execution_count": 70,
     "metadata": {},
     "output_type": "execute_result"
    }
   ],
   "source": [
    "st2"
   ]
  },
  {
   "cell_type": "code",
   "execution_count": 83,
   "id": "cc079dee-b185-443d-b53f-6ce868da5230",
   "metadata": {},
   "outputs": [
    {
     "name": "stdout",
     "output_type": "stream",
     "text": [
      "vemulajannavi\n"
     ]
    }
   ],
   "source": [
    "print(st2[:])"
   ]
  },
  {
   "cell_type": "code",
   "execution_count": 80,
   "id": "3abc7514-fafe-4307-be0d-b96739039abe",
   "metadata": {},
   "outputs": [
    {
     "name": "stdout",
     "output_type": "stream",
     "text": [
      "vemulajannavi\n",
      "u\n",
      "hell\n",
      "lajannavi\n"
     ]
    }
   ],
   "source": [
    "print(st2[:])\n",
    "print(st2[3:4])\n",
    "print(st[:4])\n",
    "print(st2[4:])\n",
    "\n",
    "\n"
   ]
  },
  {
   "cell_type": "code",
   "execution_count": null,
   "id": "42ba6a27-7d79-4e86-a680-4f1724a10b0a",
   "metadata": {},
   "outputs": [],
   "source": []
  },
  {
   "cell_type": "code",
   "execution_count": null,
   "id": "4e2c2ec8-c524-48c5-9d51-eccf0c8003e6",
   "metadata": {},
   "outputs": [],
   "source": []
  },
  {
   "cell_type": "code",
   "execution_count": null,
   "id": "571f9985-85ca-42a5-9410-eb83bb5409d5",
   "metadata": {},
   "outputs": [],
   "source": []
  },
  {
   "cell_type": "code",
   "execution_count": null,
   "id": "c8c0ac01-84b0-47ec-9fb0-a1e597c6817b",
   "metadata": {},
   "outputs": [],
   "source": []
  },
  {
   "cell_type": "code",
   "execution_count": null,
   "id": "af81616c-3413-4e9d-83bc-4210e3b4a432",
   "metadata": {},
   "outputs": [],
   "source": []
  },
  {
   "cell_type": "code",
   "execution_count": null,
   "id": "86f486db-d313-4c6f-b6d8-a3131e7afbab",
   "metadata": {},
   "outputs": [],
   "source": []
  },
  {
   "cell_type": "code",
   "execution_count": null,
   "id": "1132f17c-be46-4644-8bfe-40bb3479d3f5",
   "metadata": {},
   "outputs": [],
   "source": []
  },
  {
   "cell_type": "code",
   "execution_count": null,
   "id": "5538e39e-2bca-4121-8908-7ea30405c752",
   "metadata": {},
   "outputs": [],
   "source": []
  },
  {
   "cell_type": "code",
   "execution_count": null,
   "id": "974cca02-aa78-4215-98ca-8ff4da1a53f6",
   "metadata": {},
   "outputs": [],
   "source": []
  },
  {
   "cell_type": "code",
   "execution_count": null,
   "id": "25421fac-7e28-4fc4-a4c3-1d1f79eb7c8b",
   "metadata": {},
   "outputs": [],
   "source": []
  }
 ],
 "metadata": {
  "kernelspec": {
   "display_name": "Python 3 (ipykernel)",
   "language": "python",
   "name": "python3"
  },
  "language_info": {
   "codemirror_mode": {
    "name": "ipython",
    "version": 3
   },
   "file_extension": ".py",
   "mimetype": "text/x-python",
   "name": "python",
   "nbconvert_exporter": "python",
   "pygments_lexer": "ipython3",
   "version": "3.12.7"
  }
 },
 "nbformat": 4,
 "nbformat_minor": 5
}
