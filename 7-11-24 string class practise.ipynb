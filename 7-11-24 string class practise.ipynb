{
 "cells": [
  {
   "cell_type": "markdown",
   "id": "ed287d0b-6ac6-45c1-8068-ab503073e200",
   "metadata": {},
   "source": [
    "## 7th -- basic python"
   ]
  },
  {
   "cell_type": "markdown",
   "id": "1e31e3c8-158b-40c6-8013-966080053613",
   "metadata": {},
   "source": [
    "## Strings"
   ]
  },
  {
   "cell_type": "code",
   "execution_count": 2,
   "id": "4a49ed79-ab26-46e1-b2e8-3ce7e49e6d4a",
   "metadata": {},
   "outputs": [
    {
     "data": {
      "text/plain": [
       "'hellopython'"
      ]
     },
     "execution_count": 2,
     "metadata": {},
     "output_type": "execute_result"
    }
   ],
   "source": [
    "st = 'hellopython'\n",
    "st"
   ]
  },
  {
   "cell_type": "code",
   "execution_count": 4,
   "id": "043fc9eb-a740-4c6c-bf52-48bedba85660",
   "metadata": {},
   "outputs": [
    {
     "data": {
      "text/plain": [
       "'h'"
      ]
     },
     "execution_count": 4,
     "metadata": {},
     "output_type": "execute_result"
    }
   ],
   "source": [
    "st[0]"
   ]
  },
  {
   "cell_type": "code",
   "execution_count": 6,
   "id": "16a5af62-5719-45fb-861b-38dc3d0f0869",
   "metadata": {},
   "outputs": [
    {
     "data": {
      "text/plain": [
       "'n'"
      ]
     },
     "execution_count": 6,
     "metadata": {},
     "output_type": "execute_result"
    }
   ],
   "source": [
    "st[-1]"
   ]
  },
  {
   "cell_type": "code",
   "execution_count": 9,
   "id": "6c2d77fe-ea72-4fa3-b0bc-e51f6d641ab1",
   "metadata": {},
   "outputs": [
    {
     "ename": "IndexError",
     "evalue": "string index out of range",
     "output_type": "error",
     "traceback": [
      "\u001b[1;31m---------------------------------------------------------------------------\u001b[0m",
      "\u001b[1;31mIndexError\u001b[0m                                Traceback (most recent call last)",
      "Cell \u001b[1;32mIn[9], line 1\u001b[0m\n\u001b[1;32m----> 1\u001b[0m st[\u001b[38;5;241m20\u001b[39m]\n",
      "\u001b[1;31mIndexError\u001b[0m: string index out of range"
     ]
    }
   ],
   "source": [
    "st[20]"
   ]
  },
  {
   "cell_type": "code",
   "execution_count": 13,
   "id": "d710c9c3-ac30-4903-b78d-97dc5196c06f",
   "metadata": {},
   "outputs": [
    {
     "data": {
      "text/plain": [
       "'n'"
      ]
     },
     "execution_count": 13,
     "metadata": {},
     "output_type": "execute_result"
    }
   ],
   "source": [
    "st[10]"
   ]
  },
  {
   "cell_type": "code",
   "execution_count": 15,
   "id": "4d73f1e9-4314-49b6-b1d6-32521039d370",
   "metadata": {},
   "outputs": [
    {
     "data": {
      "text/plain": [
       "'hellopython'"
      ]
     },
     "execution_count": 15,
     "metadata": {},
     "output_type": "execute_result"
    }
   ],
   "source": [
    "st"
   ]
  },
  {
   "cell_type": "code",
   "execution_count": 17,
   "id": "f156d0c9-d16b-45d6-a6dd-59bedfe29e23",
   "metadata": {},
   "outputs": [
    {
     "data": {
      "text/plain": [
       "'y'"
      ]
     },
     "execution_count": 17,
     "metadata": {},
     "output_type": "execute_result"
    }
   ],
   "source": [
    "st[6]"
   ]
  },
  {
   "cell_type": "markdown",
   "id": "3f7ab64f-28ee-4200-8770-ed771244445d",
   "metadata": {},
   "source": [
    "## sclicing"
   ]
  },
  {
   "cell_type": "code",
   "execution_count": 20,
   "id": "7c8e9056-f8e0-4a6e-9eb7-ebd81c044939",
   "metadata": {},
   "outputs": [
    {
     "data": {
      "text/plain": [
       "'hellopython'"
      ]
     },
     "execution_count": 20,
     "metadata": {},
     "output_type": "execute_result"
    }
   ],
   "source": [
    "st"
   ]
  },
  {
   "cell_type": "code",
   "execution_count": 24,
   "id": "fe5da5ae-7587-4b7d-bbc9-dc9554eac62d",
   "metadata": {},
   "outputs": [
    {
     "data": {
      "text/plain": [
       "'hellopython'"
      ]
     },
     "execution_count": 24,
     "metadata": {},
     "output_type": "execute_result"
    }
   ],
   "source": [
    "st[:]"
   ]
  },
  {
   "cell_type": "code",
   "execution_count": 26,
   "id": "47dfd5af-fb4f-45fc-b72a-f3f8f4a029fc",
   "metadata": {},
   "outputs": [
    {
     "data": {
      "text/plain": [
       "'pytho'"
      ]
     },
     "execution_count": 26,
     "metadata": {},
     "output_type": "execute_result"
    }
   ],
   "source": [
    "st[5:10]"
   ]
  },
  {
   "cell_type": "code",
   "execution_count": 30,
   "id": "322a6933-5712-4bec-a57d-c50471b15734",
   "metadata": {},
   "outputs": [
    {
     "data": {
      "text/plain": [
       "'python'"
      ]
     },
     "execution_count": 30,
     "metadata": {},
     "output_type": "execute_result"
    }
   ],
   "source": [
    "st[5:11]"
   ]
  },
  {
   "cell_type": "code",
   "execution_count": 32,
   "id": "93399bb5-0c7b-4767-9b14-87b0378f2801",
   "metadata": {},
   "outputs": [
    {
     "data": {
      "text/plain": [
       "'hellopython'"
      ]
     },
     "execution_count": 32,
     "metadata": {},
     "output_type": "execute_result"
    }
   ],
   "source": [
    "st"
   ]
  },
  {
   "cell_type": "code",
   "execution_count": 34,
   "id": "24224906-5377-42d7-bfaa-3064657bce13",
   "metadata": {},
   "outputs": [
    {
     "data": {
      "text/plain": [
       "'hello'"
      ]
     },
     "execution_count": 34,
     "metadata": {},
     "output_type": "execute_result"
    }
   ],
   "source": [
    "st[0:5]"
   ]
  },
  {
   "cell_type": "code",
   "execution_count": 36,
   "id": "2a85f960-bc45-40cc-b5a4-5fdcfb351a23",
   "metadata": {},
   "outputs": [
    {
     "data": {
      "text/plain": [
       "'fine'"
      ]
     },
     "execution_count": 36,
     "metadata": {},
     "output_type": "execute_result"
    }
   ],
   "source": [
    "st1 = 'fine'\n",
    "st1"
   ]
  },
  {
   "cell_type": "code",
   "execution_count": 38,
   "id": "59bfd27f-ef9e-421a-9e28-cf3f957c7a59",
   "metadata": {},
   "outputs": [
    {
     "data": {
      "text/plain": [
       "'dine'"
      ]
     },
     "execution_count": 38,
     "metadata": {},
     "output_type": "execute_result"
    }
   ],
   "source": [
    "'d' + st1[1:]"
   ]
  },
  {
   "cell_type": "code",
   "execution_count": 40,
   "id": "2c6f330f-062f-4804-b294-1e75543688ba",
   "metadata": {},
   "outputs": [
    {
     "data": {
      "text/plain": [
       "'alxblurcat'"
      ]
     },
     "execution_count": 40,
     "metadata": {},
     "output_type": "execute_result"
    }
   ],
   "source": [
    "'alx' + 'blur' + 'cat'"
   ]
  },
  {
   "cell_type": "code",
   "execution_count": 42,
   "id": "3e0d1a5a-da49-4d7f-b7e6-0463cb83215d",
   "metadata": {},
   "outputs": [
    {
     "data": {
      "text/plain": [
       "'nareshit'"
      ]
     },
     "execution_count": 42,
     "metadata": {},
     "output_type": "execute_result"
    }
   ],
   "source": [
    "st2 = 'nareshit'\n",
    "st2"
   ]
  },
  {
   "cell_type": "code",
   "execution_count": 44,
   "id": "65e8f5a4-2682-4d69-a1a0-22e8d7833d36",
   "metadata": {},
   "outputs": [
    {
     "data": {
      "text/plain": [
       "'nareshit'"
      ]
     },
     "execution_count": 44,
     "metadata": {},
     "output_type": "execute_result"
    }
   ],
   "source": [
    "st2[:]"
   ]
  },
  {
   "cell_type": "code",
   "execution_count": 46,
   "id": "d06c947d-4c01-450b-aed9-bde30afe6e99",
   "metadata": {},
   "outputs": [
    {
     "data": {
      "text/plain": [
       "'ares'"
      ]
     },
     "execution_count": 46,
     "metadata": {},
     "output_type": "execute_result"
    }
   ],
   "source": [
    "st2[1:5]"
   ]
  },
  {
   "cell_type": "code",
   "execution_count": 48,
   "id": "835df236-20b2-42be-b8f3-4d758f130243",
   "metadata": {},
   "outputs": [
    {
     "data": {
      "text/plain": [
       "'nareshit'"
      ]
     },
     "execution_count": 48,
     "metadata": {},
     "output_type": "execute_result"
    }
   ],
   "source": [
    "st2"
   ]
  },
  {
   "cell_type": "code",
   "execution_count": 50,
   "id": "ed3a36a3-1e92-482b-8c41-6e09e8946da0",
   "metadata": {},
   "outputs": [
    {
     "name": "stdout",
     "output_type": "stream",
     "text": [
      "nareshit\n"
     ]
    }
   ],
   "source": [
    "print(st2[:])"
   ]
  },
  {
   "cell_type": "code",
   "execution_count": 52,
   "id": "6a0ca193-14ab-4a41-a777-d65651bb6a82",
   "metadata": {},
   "outputs": [
    {
     "name": "stdout",
     "output_type": "stream",
     "text": [
      "res\n"
     ]
    }
   ],
   "source": [
    "print(st2[2:5])"
   ]
  },
  {
   "cell_type": "code",
   "execution_count": 54,
   "id": "05101f03-77c7-44e5-90fa-ef3b9c861a7c",
   "metadata": {},
   "outputs": [
    {
     "name": "stdout",
     "output_type": "stream",
     "text": [
      "nares\n"
     ]
    }
   ],
   "source": [
    "print(st2[:5])"
   ]
  },
  {
   "cell_type": "code",
   "execution_count": 56,
   "id": "4d4e3e98-17d7-47a8-9c01-96c4a32d6bce",
   "metadata": {},
   "outputs": [
    {
     "data": {
      "text/plain": [
       "'nareshit'"
      ]
     },
     "execution_count": 56,
     "metadata": {},
     "output_type": "execute_result"
    }
   ],
   "source": [
    "st2"
   ]
  },
  {
   "cell_type": "code",
   "execution_count": 60,
   "id": "ee987f08-7ac2-40bc-b3f3-02b711be4746",
   "metadata": {},
   "outputs": [
    {
     "name": "stdout",
     "output_type": "stream",
     "text": [
      "hit\n"
     ]
    }
   ],
   "source": [
    "print(st2[5:])"
   ]
  },
  {
   "cell_type": "code",
   "execution_count": 62,
   "id": "48e3b6c3-bae4-4e3c-83c7-66e725868fc2",
   "metadata": {},
   "outputs": [
    {
     "data": {
      "text/plain": [
       "'nareshit'"
      ]
     },
     "execution_count": 62,
     "metadata": {},
     "output_type": "execute_result"
    }
   ],
   "source": [
    "st2"
   ]
  },
  {
   "cell_type": "code",
   "execution_count": 64,
   "id": "f13f385a-1777-4729-8fde-52c4a0a69c5e",
   "metadata": {},
   "outputs": [
    {
     "data": {
      "text/plain": [
       "'tihseran'"
      ]
     },
     "execution_count": 64,
     "metadata": {},
     "output_type": "execute_result"
    }
   ],
   "source": [
    "st2[::-1]"
   ]
  },
  {
   "cell_type": "code",
   "execution_count": 66,
   "id": "3d68ef1a-d3b9-4e05-879d-19c7816e5509",
   "metadata": {},
   "outputs": [
    {
     "data": {
      "text/plain": [
       "'nareshit'"
      ]
     },
     "execution_count": 66,
     "metadata": {},
     "output_type": "execute_result"
    }
   ],
   "source": [
    "st2"
   ]
  },
  {
   "cell_type": "code",
   "execution_count": 68,
   "id": "38ec095e-5984-4287-bf60-6709770fcc42",
   "metadata": {},
   "outputs": [
    {
     "data": {
      "text/plain": [
       "'nrsi'"
      ]
     },
     "execution_count": 68,
     "metadata": {},
     "output_type": "execute_result"
    }
   ],
   "source": [
    "st2[0:8:2]"
   ]
  },
  {
   "cell_type": "code",
   "execution_count": 70,
   "id": "c6b0a014-26cf-479e-8423-89e49c09ad39",
   "metadata": {},
   "outputs": [
    {
     "data": {
      "text/plain": [
       "'hellopython'"
      ]
     },
     "execution_count": 70,
     "metadata": {},
     "output_type": "execute_result"
    }
   ],
   "source": [
    "st"
   ]
  },
  {
   "cell_type": "code",
   "execution_count": 72,
   "id": "79fc9771-e588-49ac-8583-d680118204f5",
   "metadata": {},
   "outputs": [
    {
     "data": {
      "text/plain": [
       "'hellopython'"
      ]
     },
     "execution_count": 72,
     "metadata": {},
     "output_type": "execute_result"
    }
   ],
   "source": [
    "st[:]"
   ]
  },
  {
   "cell_type": "code",
   "execution_count": 74,
   "id": "2a1d8102-aa9b-4bd8-8aec-b1b73da7bf12",
   "metadata": {},
   "outputs": [
    {
     "data": {
      "text/plain": [
       "'hellopyth'"
      ]
     },
     "execution_count": 74,
     "metadata": {},
     "output_type": "execute_result"
    }
   ],
   "source": [
    "st[0:9]"
   ]
  },
  {
   "cell_type": "code",
   "execution_count": 76,
   "id": "5d57dbfd-9427-41ea-8f1b-a12e0cc607f7",
   "metadata": {},
   "outputs": [
    {
     "data": {
      "text/plain": [
       "'hloyh'"
      ]
     },
     "execution_count": 76,
     "metadata": {},
     "output_type": "execute_result"
    }
   ],
   "source": [
    "st[0:9:2]"
   ]
  },
  {
   "cell_type": "code",
   "execution_count": 78,
   "id": "01a91b2a-66d1-42bf-9588-f82a9b223f0f",
   "metadata": {},
   "outputs": [
    {
     "data": {
      "text/plain": [
       "'hellopython'"
      ]
     },
     "execution_count": 78,
     "metadata": {},
     "output_type": "execute_result"
    }
   ],
   "source": [
    "st"
   ]
  },
  {
   "cell_type": "code",
   "execution_count": 80,
   "id": "49cc79df-71a4-4b9c-954d-0b94452b1f75",
   "metadata": {},
   "outputs": [
    {
     "data": {
      "text/plain": [
       "'hly'"
      ]
     },
     "execution_count": 80,
     "metadata": {},
     "output_type": "execute_result"
    }
   ],
   "source": [
    "st[0:9:3]"
   ]
  },
  {
   "cell_type": "code",
   "execution_count": 82,
   "id": "83cdb978-32ea-4c43-9f36-5062993259b0",
   "metadata": {},
   "outputs": [
    {
     "data": {
      "text/plain": [
       "'hellopython'"
      ]
     },
     "execution_count": 82,
     "metadata": {},
     "output_type": "execute_result"
    }
   ],
   "source": [
    "st"
   ]
  },
  {
   "cell_type": "code",
   "execution_count": 84,
   "id": "afea72d0-102b-43d9-a357-53b236a4a26d",
   "metadata": {},
   "outputs": [
    {
     "data": {
      "text/plain": [
       "'nhyolh'"
      ]
     },
     "execution_count": 84,
     "metadata": {},
     "output_type": "execute_result"
    }
   ],
   "source": [
    "st[::-2]"
   ]
  },
  {
   "cell_type": "code",
   "execution_count": 86,
   "id": "b380bda1-4c74-45b1-b491-7ef66d2c9fe1",
   "metadata": {},
   "outputs": [
    {
     "data": {
      "text/plain": [
       "'hellopython'"
      ]
     },
     "execution_count": 86,
     "metadata": {},
     "output_type": "execute_result"
    }
   ],
   "source": [
    "st"
   ]
  },
  {
   "cell_type": "code",
   "execution_count": 88,
   "id": "7d7c669f-f839-4f97-bb81-8e02e3674b39",
   "metadata": {},
   "outputs": [
    {
     "data": {
      "text/plain": [
       "11"
      ]
     },
     "execution_count": 88,
     "metadata": {},
     "output_type": "execute_result"
    }
   ],
   "source": [
    "len(st)"
   ]
  },
  {
   "cell_type": "code",
   "execution_count": 90,
   "id": "504102b5-f473-4993-9356-317993b8e8ba",
   "metadata": {},
   "outputs": [
    {
     "name": "stdout",
     "output_type": "stream",
     "text": [
      "h\n",
      "e\n",
      "l\n",
      "l\n",
      "o\n",
      "p\n",
      "y\n",
      "t\n",
      "h\n",
      "o\n",
      "n\n"
     ]
    }
   ],
   "source": [
    "for i in st:\n",
    "    print(i)"
   ]
  }
 ],
 "metadata": {
  "kernelspec": {
   "display_name": "Python 3 (ipykernel)",
   "language": "python",
   "name": "python3"
  },
  "language_info": {
   "codemirror_mode": {
    "name": "ipython",
    "version": 3
   },
   "file_extension": ".py",
   "mimetype": "text/x-python",
   "name": "python",
   "nbconvert_exporter": "python",
   "pygments_lexer": "ipython3",
   "version": "3.12.7"
  }
 },
 "nbformat": 4,
 "nbformat_minor": 5
}
