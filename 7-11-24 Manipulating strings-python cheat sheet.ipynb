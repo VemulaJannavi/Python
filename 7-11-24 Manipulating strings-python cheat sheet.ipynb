{
 "cells": [
  {
   "cell_type": "markdown",
   "id": "80a5f8e9-1521-4ea5-8a41-867e07172a97",
   "metadata": {},
   "source": [
    "## Manipulating Strings"
   ]
  },
  {
   "cell_type": "markdown",
   "id": "6c6c1450-1c33-417c-80fb-49f52e459b2e",
   "metadata": {},
   "source": [
    "### Escape characters"
   ]
  },
  {
   "cell_type": "markdown",
   "id": "d9b990bc-4f44-4c68-a827-3dc3f9fd3142",
   "metadata": {},
   "source": [
    "#### An escape character is created by typing a backslash `\\`followed by the character you want to insert."
   ]
  },
  {
   "cell_type": "raw",
   "id": "c14863cd-a56e-4671-9e7f-cf1ef5477ccb",
   "metadata": {},
   "source": [
    "Escape character                                    Prints as                               "
   ]
  },
  {
   "cell_type": "raw",
   "id": "3c385658-a8c5-49c3-a535-371e2f7465ba",
   "metadata": {},
   "source": [
    " `\\'`                                               Single quote"
   ]
  },
  {
   "cell_type": "raw",
   "id": "7ed07471-6143-465c-898a-c48ae199e6b9",
   "metadata": {},
   "source": [
    " `\\t`                                               Tab"
   ]
  },
  {
   "cell_type": "raw",
   "id": "f093840c-0df6-4367-a07f-55199a2a0e05",
   "metadata": {},
   "source": [
    " `\\n`                                               Newline (line break)"
   ]
  },
  {
   "cell_type": "raw",
   "id": "0a425d90-1419-4c50-851d-7486f6d4acd6",
   "metadata": {},
   "source": [
    "`\\\\`                                                 Backslash"
   ]
  },
  {
   "cell_type": "raw",
   "id": "d39f4834-5b05-4853-978a-2c18421ec364",
   "metadata": {},
   "source": [
    " `\\b`                                               Backspace"
   ]
  },
  {
   "cell_type": "raw",
   "id": "ddcd2392-7873-45c6-a475-56f4ae097b82",
   "metadata": {},
   "source": [
    " `\\ooo`                                              Octal value"
   ]
  },
  {
   "cell_type": "raw",
   "id": "956397bb-f410-428d-8361-2e40397e4483",
   "metadata": {},
   "source": [
    " `\\r`                                                 Carriage Return"
   ]
  },
  {
   "cell_type": "code",
   "execution_count": 205,
   "id": "3b6e295b-9293-404a-9f2a-3ee7b4d52480",
   "metadata": {},
   "outputs": [
    {
     "name": "stdout",
     "output_type": "stream",
     "text": [
      "Hello there!\n",
      "How are you?\n",
      "I'm doing fine.\n"
     ]
    }
   ],
   "source": [
    " >>> print(\"Hello there!\\nHow are you?\\nI\\'m doing fine.\")"
   ]
  },
  {
   "cell_type": "markdown",
   "id": "cc3cdcab-f10b-44dd-84cc-8ef644370780",
   "metadata": {},
   "source": [
    "#### Raw strings"
   ]
  },
  {
   "cell_type": "markdown",
   "id": "d4fa036d-4c8b-406a-a59a-16ee8675f34b",
   "metadata": {},
   "source": [
    " A raw string entirely ignores all escape characters and prints any backslash that appears\n",
    " in the string."
   ]
  },
  {
   "cell_type": "code",
   "execution_count": 209,
   "id": "bd1d1eda-fc2e-45ca-afcf-acbb4839324f",
   "metadata": {},
   "outputs": [
    {
     "name": "stdout",
     "output_type": "stream",
     "text": [
      "Hello there!\\nHow are you?\\nI\\'m doing fine.\n"
     ]
    }
   ],
   "source": [
    ">>> print(r\"Hello there!\\nHow are you?\\nI\\'m doing fine.\")"
   ]
  },
  {
   "cell_type": "markdown",
   "id": "ba9cae59-e9e5-45b0-bf66-6700b00ab73f",
   "metadata": {},
   "source": [
    "Raw strings are mostly used for regular expression definition."
   ]
  },
  {
   "cell_type": "markdown",
   "id": "73371176-844a-4c2c-9d75-ed5b069b5e7b",
   "metadata": {},
   "source": [
    "## Multiline Strings"
   ]
  },
  {
   "cell_type": "code",
   "execution_count": 213,
   "id": "e5a05ec6-2825-4d3a-acc2-fc5837f62ddd",
   "metadata": {},
   "outputs": [
    {
     "name": "stdout",
     "output_type": "stream",
     "text": [
      "Dear Alice,\n",
      "\n",
      "Eve's cat has been arrested for catnapping,\n",
      "cat burglary, and extortion.\n",
      "\n",
      "Sincerely,\n",
      "Bob\n"
     ]
    }
   ],
   "source": [
    " >>> print(\n",
    " ... \"\"\"Dear Alice,\n",
    " ...\n",
    " ... Eve's cat has been arrested for catnapping,\n",
    " ... cat burglary, and extortion.\n",
    " ...\n",
    " ... Sincerely,\n",
    " ... Bob\"\"\"\n",
    " ... )"
   ]
  },
  {
   "cell_type": "markdown",
   "id": "9c81cef6-e583-489e-9aea-ad47086b78a5",
   "metadata": {},
   "source": [
    "## Indexing and Slicing strings"
   ]
  },
  {
   "cell_type": "raw",
   "id": "a132f2fa-f6a3-4297-a80f-ce8dec3c4b9b",
   "metadata": {},
   "source": [
    "H   e   l   l   o       w   o   r   l   d    !\n",
    " 0  1   2   3   4   5   6   7   8   9   10   11"
   ]
  },
  {
   "cell_type": "markdown",
   "id": "2207ef82-c932-4793-885f-57b009175aed",
   "metadata": {},
   "source": [
    "## Indexing"
   ]
  },
  {
   "cell_type": "code",
   "execution_count": 222,
   "id": "99ba7332-b8e8-48db-8a5f-db161cb9f2a3",
   "metadata": {},
   "outputs": [
    {
     "data": {
      "text/plain": [
       "'H'"
      ]
     },
     "execution_count": 222,
     "metadata": {},
     "output_type": "execute_result"
    }
   ],
   "source": [
    " >>> spam = 'Hello world!'\n",
    " >>> spam[0]"
   ]
  },
  {
   "cell_type": "code",
   "execution_count": 224,
   "id": "a9a46fbc-8c6d-42ce-a7b1-67f0e2e654b6",
   "metadata": {},
   "outputs": [
    {
     "data": {
      "text/plain": [
       "'o'"
      ]
     },
     "execution_count": 224,
     "metadata": {},
     "output_type": "execute_result"
    }
   ],
   "source": [
    " >>> spam[4]"
   ]
  },
  {
   "cell_type": "code",
   "execution_count": 226,
   "id": "e8a902c7-50d0-4b72-be0d-7e0364d0b747",
   "metadata": {},
   "outputs": [
    {
     "data": {
      "text/plain": [
       "'!'"
      ]
     },
     "execution_count": 226,
     "metadata": {},
     "output_type": "execute_result"
    }
   ],
   "source": [
    ">>> spam[-1]"
   ]
  },
  {
   "cell_type": "markdown",
   "id": "7f6870f1-b7ce-44ee-a607-2d43e67ab423",
   "metadata": {},
   "source": [
    " ## Slicing"
   ]
  },
  {
   "cell_type": "code",
   "execution_count": 229,
   "id": "57102e5a-c7a0-46ba-a53e-8b8da94fd85c",
   "metadata": {},
   "outputs": [
    {
     "data": {
      "text/plain": [
       "'Hello'"
      ]
     },
     "execution_count": 229,
     "metadata": {},
     "output_type": "execute_result"
    }
   ],
   "source": [
    " >>> spam = 'Hello world!'\n",
    " >>> spam[0:5]"
   ]
  },
  {
   "cell_type": "code",
   "execution_count": 231,
   "id": "1116c14a-2b4a-488b-a08f-46de6ca8f09b",
   "metadata": {},
   "outputs": [
    {
     "data": {
      "text/plain": [
       "'Hello'"
      ]
     },
     "execution_count": 231,
     "metadata": {},
     "output_type": "execute_result"
    }
   ],
   "source": [
    ">>> spam[:5]"
   ]
  },
  {
   "cell_type": "code",
   "execution_count": 233,
   "id": "b8e19dba-9db1-4350-8d6f-ec565ec0d2a6",
   "metadata": {},
   "outputs": [
    {
     "data": {
      "text/plain": [
       "'world'"
      ]
     },
     "execution_count": 233,
     "metadata": {},
     "output_type": "execute_result"
    }
   ],
   "source": [
    ">>> spam[6:-1]"
   ]
  },
  {
   "cell_type": "code",
   "execution_count": 235,
   "id": "43238926-73e5-4806-8f4a-b07c5a468447",
   "metadata": {},
   "outputs": [
    {
     "data": {
      "text/plain": [
       "'Hello world'"
      ]
     },
     "execution_count": 235,
     "metadata": {},
     "output_type": "execute_result"
    }
   ],
   "source": [
    ">>> spam[:-1]"
   ]
  },
  {
   "cell_type": "code",
   "execution_count": 237,
   "id": "0be5f287-097a-4c43-9601-35f1e954a9d4",
   "metadata": {},
   "outputs": [
    {
     "data": {
      "text/plain": [
       "'!dlrow olleH'"
      ]
     },
     "execution_count": 237,
     "metadata": {},
     "output_type": "execute_result"
    }
   ],
   "source": [
    " spam[::-1]"
   ]
  },
  {
   "cell_type": "code",
   "execution_count": 239,
   "id": "b96696ee-2591-4798-b589-1f536cac9a8d",
   "metadata": {},
   "outputs": [
    {
     "data": {
      "text/plain": [
       "'Hello'"
      ]
     },
     "execution_count": 239,
     "metadata": {},
     "output_type": "execute_result"
    }
   ],
   "source": [
    " >>> fizz = spam[0:5]\n",
    " >>> fizz"
   ]
  },
  {
   "cell_type": "markdown",
   "id": "03da275b-b10c-4067-8568-8b17a2d99212",
   "metadata": {},
   "source": [
    "## The in and not in operators"
   ]
  },
  {
   "cell_type": "code",
   "execution_count": 242,
   "id": "4ed01daa-0001-4a75-a33c-98639548ad29",
   "metadata": {},
   "outputs": [
    {
     "data": {
      "text/plain": [
       "True"
      ]
     },
     "execution_count": 242,
     "metadata": {},
     "output_type": "execute_result"
    }
   ],
   "source": [
    ">>> 'Hello' in 'Hello World'\n",
    " # True"
   ]
  },
  {
   "cell_type": "code",
   "execution_count": 244,
   "id": "ea4cf453-b6de-4f8c-a988-eb54256c6cc0",
   "metadata": {},
   "outputs": [
    {
     "data": {
      "text/plain": [
       "True"
      ]
     },
     "execution_count": 244,
     "metadata": {},
     "output_type": "execute_result"
    }
   ],
   "source": [
    ">>> 'Hello' in 'Hello'\n",
    " # True"
   ]
  },
  {
   "cell_type": "code",
   "execution_count": 246,
   "id": "e55d1738-4e03-4818-bba8-63c46df22d1b",
   "metadata": {},
   "outputs": [
    {
     "data": {
      "text/plain": [
       "False"
      ]
     },
     "execution_count": 246,
     "metadata": {},
     "output_type": "execute_result"
    }
   ],
   "source": [
    " >>> 'HELLO' in 'Hello World'"
   ]
  },
  {
   "cell_type": "code",
   "execution_count": 248,
   "id": "ea93164d-9550-4edc-bc5f-68a0d1d6df7a",
   "metadata": {},
   "outputs": [
    {
     "data": {
      "text/plain": [
       "True"
      ]
     },
     "execution_count": 248,
     "metadata": {},
     "output_type": "execute_result"
    }
   ],
   "source": [
    " >>> '' in 'spam'"
   ]
  },
  {
   "cell_type": "code",
   "execution_count": 250,
   "id": "0f4e5ab9-6203-4a47-aa80-ec34149e3466",
   "metadata": {},
   "outputs": [
    {
     "data": {
      "text/plain": [
       "False"
      ]
     },
     "execution_count": 250,
     "metadata": {},
     "output_type": "execute_result"
    }
   ],
   "source": [
    " >>> 'cats' not in 'cats and dogs'"
   ]
  },
  {
   "cell_type": "markdown",
   "id": "bb27f52e-059f-45c1-afb5-b2ff5b008b39",
   "metadata": {},
   "source": [
    "## upper(), lower() and title()"
   ]
  },
  {
   "cell_type": "markdown",
   "id": "29bbed4c-05af-4d65-857d-b06ef1572724",
   "metadata": {},
   "source": [
    " Transforms a string to upper, lower and title case:"
   ]
  },
  {
   "cell_type": "code",
   "execution_count": 254,
   "id": "0e5f30db-af65-410b-ace5-8600a14d6fbe",
   "metadata": {},
   "outputs": [
    {
     "data": {
      "text/plain": [
       "'HELLO WORLD!'"
      ]
     },
     "execution_count": 254,
     "metadata": {},
     "output_type": "execute_result"
    }
   ],
   "source": [
    " >>> greet = 'Hello world!'\n",
    " >>> greet.upper()"
   ]
  },
  {
   "cell_type": "code",
   "execution_count": 256,
   "id": "a15f806d-6316-4582-af3f-2d54ca16c102",
   "metadata": {},
   "outputs": [
    {
     "data": {
      "text/plain": [
       "'hello world!'"
      ]
     },
     "execution_count": 256,
     "metadata": {},
     "output_type": "execute_result"
    }
   ],
   "source": [
    " >>> greet.lower()"
   ]
  },
  {
   "cell_type": "code",
   "execution_count": 258,
   "id": "518cafcf-ee8c-4fe3-bba6-c6d7ae04b6ed",
   "metadata": {},
   "outputs": [
    {
     "data": {
      "text/plain": [
       "'Hello World!'"
      ]
     },
     "execution_count": 258,
     "metadata": {},
     "output_type": "execute_result"
    }
   ],
   "source": [
    ">>> greet.title()"
   ]
  },
  {
   "cell_type": "markdown",
   "id": "0265aeb6-8871-4352-b57a-afe7ff138583",
   "metadata": {},
   "source": [
    "## isupper() and islower() methods"
   ]
  },
  {
   "cell_type": "markdown",
   "id": "9ab3704e-2a2d-4dbf-ae06-9295fabf1d07",
   "metadata": {},
   "source": [
    "Returns'True' or 'False' after evaluating if a string is in upper or lower case:"
   ]
  },
  {
   "cell_type": "code",
   "execution_count": 262,
   "id": "191bc386-9518-4c49-be90-bdac5252df15",
   "metadata": {},
   "outputs": [
    {
     "data": {
      "text/plain": [
       "False"
      ]
     },
     "execution_count": 262,
     "metadata": {},
     "output_type": "execute_result"
    }
   ],
   "source": [
    ">>> spam = 'Hello world'\n",
    ">>> spam.islower()"
   ]
  },
  {
   "cell_type": "code",
   "execution_count": 264,
   "id": "d20b6fcf-7ceb-47ae-bdea-cd13480e5cab",
   "metadata": {},
   "outputs": [
    {
     "data": {
      "text/plain": [
       "False"
      ]
     },
     "execution_count": 264,
     "metadata": {},
     "output_type": "execute_result"
    }
   ],
   "source": [
    ">>> spam.isupper()"
   ]
  },
  {
   "cell_type": "code",
   "execution_count": 266,
   "id": "549e40b7-e680-4b32-92a1-57a4a99cc792",
   "metadata": {},
   "outputs": [
    {
     "data": {
      "text/plain": [
       "True"
      ]
     },
     "execution_count": 266,
     "metadata": {},
     "output_type": "execute_result"
    }
   ],
   "source": [
    ">>> 'HELLO'.isupper()"
   ]
  },
  {
   "cell_type": "code",
   "execution_count": 268,
   "id": "5b56bffe-899e-48b8-9962-006b8803ebd8",
   "metadata": {},
   "outputs": [
    {
     "data": {
      "text/plain": [
       "True"
      ]
     },
     "execution_count": 268,
     "metadata": {},
     "output_type": "execute_result"
    }
   ],
   "source": [
    ">>> 'abc12345'.islower()"
   ]
  },
  {
   "cell_type": "code",
   "execution_count": 270,
   "id": "a1247827-e999-41dc-9625-47a1aa7e1eb9",
   "metadata": {},
   "outputs": [
    {
     "data": {
      "text/plain": [
       "False"
      ]
     },
     "execution_count": 270,
     "metadata": {},
     "output_type": "execute_result"
    }
   ],
   "source": [
    " >>> '12345'.islower()"
   ]
  },
  {
   "cell_type": "code",
   "execution_count": 272,
   "id": "8f0ae5b4-4929-44ad-96dd-31b85aa2254c",
   "metadata": {},
   "outputs": [
    {
     "data": {
      "text/plain": [
       "False"
      ]
     },
     "execution_count": 272,
     "metadata": {},
     "output_type": "execute_result"
    }
   ],
   "source": [
    " >>> '12345'.isupper()"
   ]
  },
  {
   "cell_type": "markdown",
   "id": "15cb7306-79b1-4a9b-8771-f3cffb000d17",
   "metadata": {},
   "source": [
    "## The isX string methods"
   ]
  },
  {
   "cell_type": "raw",
   "id": "ee74d211-8a5d-4b49-9372-2d918fac93b3",
   "metadata": {},
   "source": [
    " Method          Description"
   ]
  },
  {
   "cell_type": "raw",
   "id": "3099c9d5-d7bf-46c5-afa7-6f04f88e0be2",
   "metadata": {},
   "source": [
    "isalpha()        returns `True` if the string consists only of letters."
   ]
  },
  {
   "cell_type": "raw",
   "id": "722df7d2-21e0-4738-8dfa-e6c4379bc9e6",
   "metadata": {},
   "source": [
    " isalnum()       returns `True` if the string consists only of letters and numbers."
   ]
  },
  {
   "cell_type": "raw",
   "id": "62268053-91e1-4584-9ffe-5baff25547e8",
   "metadata": {},
   "source": [
    "isdecimal()      returns `True` if the string consists only of numbers."
   ]
  },
  {
   "cell_type": "raw",
   "id": "b903981f-5f9e-40d2-aae7-b160a30048fd",
   "metadata": {},
   "source": [
    "isspace()        returns `True` if the string consists only of spaces, tabs, and new-lines."
   ]
  },
  {
   "cell_type": "raw",
   "id": "f1aa7922-58b5-4c71-9475-d9616542cfb0",
   "metadata": {},
   "source": [
    "istitle()        returns `True` if the string consists only of words that begin with an\n",
    "                 uppercase letter followed by only lowercase characters."
   ]
  },
  {
   "cell_type": "markdown",
   "id": "1a776dd6-6088-479d-bbe6-e92e0f62e0f3",
   "metadata": {},
   "source": [
    "## startswith() and endswith()"
   ]
  },
  {
   "cell_type": "code",
   "execution_count": 281,
   "id": "5cc09388-8f05-44cd-9e95-ed15bfc83405",
   "metadata": {},
   "outputs": [
    {
     "data": {
      "text/plain": [
       "True"
      ]
     },
     "execution_count": 281,
     "metadata": {},
     "output_type": "execute_result"
    }
   ],
   "source": [
    ">>> 'Hello world!'.startswith('Hello')"
   ]
  },
  {
   "cell_type": "code",
   "execution_count": 283,
   "id": "85ebf0e0-bfac-417d-b58e-4fa7dfed0960",
   "metadata": {},
   "outputs": [
    {
     "data": {
      "text/plain": [
       "True"
      ]
     },
     "execution_count": 283,
     "metadata": {},
     "output_type": "execute_result"
    }
   ],
   "source": [
    ">>> 'Hello world!'.endswith('world!')"
   ]
  },
  {
   "cell_type": "code",
   "execution_count": 285,
   "id": "a7d9a0d5-0f58-41cd-a80f-74ab81dafdf0",
   "metadata": {},
   "outputs": [
    {
     "data": {
      "text/plain": [
       "False"
      ]
     },
     "execution_count": 285,
     "metadata": {},
     "output_type": "execute_result"
    }
   ],
   "source": [
    " >>> 'abc123'.startswith('abcdef')"
   ]
  },
  {
   "cell_type": "code",
   "execution_count": 287,
   "id": "1d4339a9-8bba-4dd0-98e4-d40c1c12ed29",
   "metadata": {},
   "outputs": [
    {
     "data": {
      "text/plain": [
       "False"
      ]
     },
     "execution_count": 287,
     "metadata": {},
     "output_type": "execute_result"
    }
   ],
   "source": [
    ">>> 'abc123'.endswith('12')"
   ]
  },
  {
   "cell_type": "code",
   "execution_count": 289,
   "id": "26f04906-4e46-499d-b103-55ca42a468e3",
   "metadata": {},
   "outputs": [
    {
     "data": {
      "text/plain": [
       "True"
      ]
     },
     "execution_count": 289,
     "metadata": {},
     "output_type": "execute_result"
    }
   ],
   "source": [
    " >>> 'Hello world!'.startswith('Hello world!')"
   ]
  },
  {
   "cell_type": "code",
   "execution_count": 291,
   "id": "2c0fe31d-c7f3-4292-950f-cd1063556b8a",
   "metadata": {},
   "outputs": [
    {
     "data": {
      "text/plain": [
       "True"
      ]
     },
     "execution_count": 291,
     "metadata": {},
     "output_type": "execute_result"
    }
   ],
   "source": [
    " >>> 'Hello world!'.endswith('Hello world!')"
   ]
  },
  {
   "cell_type": "markdown",
   "id": "f0cf64e6-f5c7-4569-a37e-c6bc53009440",
   "metadata": {},
   "source": [
    "## join() and split()"
   ]
  },
  {
   "cell_type": "markdown",
   "id": "6d049055-4e11-42c8-bb28-cbf5d9020c53",
   "metadata": {},
   "source": [
    "## join()"
   ]
  },
  {
   "cell_type": "markdown",
   "id": "1e22988c-b0c1-4b52-b30d-a691732d7fb3",
   "metadata": {},
   "source": [
    " The \n",
    "`join()`\n",
    " method takes all the items in an iterable, like a list, dictionary, tuple or set,\n",
    " and joins them into a string. You can also specify a separator."
   ]
  },
  {
   "cell_type": "code",
   "execution_count": 296,
   "id": "24f33880-bc24-4343-9e1f-3dce12404b4c",
   "metadata": {},
   "outputs": [
    {
     "data": {
      "text/plain": [
       "'MynameisSimon'"
      ]
     },
     "execution_count": 296,
     "metadata": {},
     "output_type": "execute_result"
    }
   ],
   "source": [
    " >>> ''.join(['My', 'name', 'is', 'Simon'])"
   ]
  },
  {
   "cell_type": "code",
   "execution_count": 298,
   "id": "1aeb0cd4-ba42-425c-8f90-10ff13e4cf83",
   "metadata": {},
   "outputs": [
    {
     "data": {
      "text/plain": [
       "'cats, rats, bats'"
      ]
     },
     "execution_count": 298,
     "metadata": {},
     "output_type": "execute_result"
    }
   ],
   "source": [
    " >>> ', '.join(['cats', 'rats', 'bats'])"
   ]
  },
  {
   "cell_type": "code",
   "execution_count": 300,
   "id": "a6f05f68-1d46-42c7-9b9e-40aeafe0dfa5",
   "metadata": {},
   "outputs": [
    {
     "data": {
      "text/plain": [
       "'My name is Simon'"
      ]
     },
     "execution_count": 300,
     "metadata": {},
     "output_type": "execute_result"
    }
   ],
   "source": [
    " >>> ' '.join(['My', 'name', 'is', 'Simon'])"
   ]
  },
  {
   "cell_type": "code",
   "execution_count": 302,
   "id": "f83f1a79-442d-45a2-a716-9045ff8959a4",
   "metadata": {},
   "outputs": [
    {
     "data": {
      "text/plain": [
       "'MyABCnameABCisABCSimon'"
      ]
     },
     "execution_count": 302,
     "metadata": {},
     "output_type": "execute_result"
    }
   ],
   "source": [
    ">>> 'ABC'.join(['My', 'name', 'is', 'Simon'])"
   ]
  },
  {
   "cell_type": "markdown",
   "id": "16cb2843-4db2-40a4-b982-295f7a6392ad",
   "metadata": {},
   "source": [
    "## split()"
   ]
  },
  {
   "cell_type": "markdown",
   "id": "f9fa944c-ea01-4dff-a838-16a626286c13",
   "metadata": {},
   "source": [
    "The \n",
    "`split()`\n",
    " method splits a \n",
    "`string`\n",
    " into a \n",
    "`list`\n",
    " . By default, it will use whitespace to\n",
    " separate the items, but you can also set another character of choice:"
   ]
  },
  {
   "cell_type": "code",
   "execution_count": 306,
   "id": "b8a1e59f-157a-49eb-9318-a1022ebcec3e",
   "metadata": {},
   "outputs": [
    {
     "data": {
      "text/plain": [
       "['My', 'name', 'is', 'Simon']"
      ]
     },
     "execution_count": 306,
     "metadata": {},
     "output_type": "execute_result"
    }
   ],
   "source": [
    ">>> 'My name is Simon'.split()"
   ]
  },
  {
   "cell_type": "code",
   "execution_count": 308,
   "id": "ece91341-37d3-41a8-8038-ab72712bde66",
   "metadata": {},
   "outputs": [
    {
     "data": {
      "text/plain": [
       "['My', 'name', 'is', 'Simon']"
      ]
     },
     "execution_count": 308,
     "metadata": {},
     "output_type": "execute_result"
    }
   ],
   "source": [
    " >>> 'MyABCnameABCisABCSimon'.split('ABC')"
   ]
  },
  {
   "cell_type": "code",
   "execution_count": 310,
   "id": "231ebeab-9791-43f1-9bb5-667761ad336a",
   "metadata": {},
   "outputs": [
    {
     "data": {
      "text/plain": [
       "['My na', 'e is Si', 'on']"
      ]
     },
     "execution_count": 310,
     "metadata": {},
     "output_type": "execute_result"
    }
   ],
   "source": [
    ">>> 'My name is Simon'.split('m')"
   ]
  },
  {
   "cell_type": "code",
   "execution_count": 312,
   "id": "7e11d782-958c-4d13-b785-dea02339eb47",
   "metadata": {},
   "outputs": [
    {
     "data": {
      "text/plain": [
       "['My', 'name', 'is', 'Simon']"
      ]
     },
     "execution_count": 312,
     "metadata": {},
     "output_type": "execute_result"
    }
   ],
   "source": [
    ">>> ' My  name is  Simon'.split()"
   ]
  },
  {
   "cell_type": "code",
   "execution_count": 314,
   "id": "90f1aef9-a5c6-4958-b134-2e88ef54f1be",
   "metadata": {},
   "outputs": [
    {
     "data": {
      "text/plain": [
       "['', 'My', '', 'name', 'is', '', 'Simon']"
      ]
     },
     "execution_count": 314,
     "metadata": {},
     "output_type": "execute_result"
    }
   ],
   "source": [
    " >>> ' My  name is  Simon'.split(' ')"
   ]
  },
  {
   "cell_type": "markdown",
   "id": "d85329fc-412d-49f0-85cb-317fcea14663",
   "metadata": {},
   "source": [
    "## Justifying text with rjust(), ljust() and center()"
   ]
  },
  {
   "cell_type": "code",
   "execution_count": 317,
   "id": "7d8eb3f1-a002-449b-92ef-c6b3e6457630",
   "metadata": {},
   "outputs": [
    {
     "data": {
      "text/plain": [
       "'     Hello'"
      ]
     },
     "execution_count": 317,
     "metadata": {},
     "output_type": "execute_result"
    }
   ],
   "source": [
    " >>> 'Hello'.rjust(10)"
   ]
  },
  {
   "cell_type": "code",
   "execution_count": 319,
   "id": "962848d6-5216-448b-adeb-6f017a0e787b",
   "metadata": {},
   "outputs": [
    {
     "data": {
      "text/plain": [
       "'               Hello'"
      ]
     },
     "execution_count": 319,
     "metadata": {},
     "output_type": "execute_result"
    }
   ],
   "source": [
    " >>> 'Hello'.rjust(20)"
   ]
  },
  {
   "cell_type": "code",
   "execution_count": 321,
   "id": "56fc133b-206e-4ffd-926c-eca6d9df5cbc",
   "metadata": {},
   "outputs": [
    {
     "data": {
      "text/plain": [
       "'         Hello World'"
      ]
     },
     "execution_count": 321,
     "metadata": {},
     "output_type": "execute_result"
    }
   ],
   "source": [
    ">>> 'Hello World'.rjust(20)"
   ]
  },
  {
   "cell_type": "code",
   "execution_count": 323,
   "id": "59ec893a-41d2-453d-8d35-27b9e33b2d37",
   "metadata": {},
   "outputs": [
    {
     "data": {
      "text/plain": [
       "'Hello     '"
      ]
     },
     "execution_count": 323,
     "metadata": {},
     "output_type": "execute_result"
    }
   ],
   "source": [
    ">>> 'Hello'.ljust(10)"
   ]
  },
  {
   "cell_type": "code",
   "execution_count": 325,
   "id": "667d16a9-56db-452d-863b-a6ba6bfc6065",
   "metadata": {},
   "outputs": [
    {
     "data": {
      "text/plain": [
       "'       Hello        '"
      ]
     },
     "execution_count": 325,
     "metadata": {},
     "output_type": "execute_result"
    }
   ],
   "source": [
    " >>> 'Hello'.center(20)"
   ]
  },
  {
   "cell_type": "markdown",
   "id": "ec46af2e-644a-43b1-971e-c15a2619ac8c",
   "metadata": {},
   "source": [
    " An optional second argument to \n",
    "`rjust()`\n",
    " and \n",
    "`ljust()`\n",
    " will specify a fill character apart\n",
    " from a space character:"
   ]
  },
  {
   "cell_type": "code",
   "execution_count": 328,
   "id": "03167247-d014-4064-963f-8a07cd417b63",
   "metadata": {},
   "outputs": [
    {
     "data": {
      "text/plain": [
       "'***************Hello'"
      ]
     },
     "execution_count": 328,
     "metadata": {},
     "output_type": "execute_result"
    }
   ],
   "source": [
    " >>> 'Hello'.rjust(20, '*')"
   ]
  },
  {
   "cell_type": "code",
   "execution_count": 330,
   "id": "ff96cda4-9b35-4310-9e42-3f79208113f7",
   "metadata": {},
   "outputs": [
    {
     "data": {
      "text/plain": [
       "'Hello---------------'"
      ]
     },
     "execution_count": 330,
     "metadata": {},
     "output_type": "execute_result"
    }
   ],
   "source": [
    " >>> 'Hello'.ljust(20, '-')"
   ]
  },
  {
   "cell_type": "code",
   "execution_count": 332,
   "id": "c6933cc5-0dc2-4233-ae59-35143c65d7f0",
   "metadata": {},
   "outputs": [
    {
     "data": {
      "text/plain": [
       "'=======Hello========'"
      ]
     },
     "execution_count": 332,
     "metadata": {},
     "output_type": "execute_result"
    }
   ],
   "source": [
    " >>> 'Hello'.center(20, '=')"
   ]
  },
  {
   "cell_type": "markdown",
   "id": "13d4154d-1485-45fd-8eee-5be6ef669953",
   "metadata": {},
   "source": [
    "## Removing whitespace with strip(), rstrip(), and lstrip()"
   ]
  },
  {
   "cell_type": "code",
   "execution_count": 335,
   "id": "751118fd-5974-42ae-8533-f7721db9227a",
   "metadata": {},
   "outputs": [
    {
     "data": {
      "text/plain": [
       "'Hello World'"
      ]
     },
     "execution_count": 335,
     "metadata": {},
     "output_type": "execute_result"
    }
   ],
   "source": [
    ">>> spam = '    Hello World     '\n",
    ">>> spam.strip()"
   ]
  },
  {
   "cell_type": "code",
   "execution_count": 337,
   "id": "f51c364c-6697-46cd-964e-18cdd2829d99",
   "metadata": {},
   "outputs": [
    {
     "data": {
      "text/plain": [
       "'Hello World     '"
      ]
     },
     "execution_count": 337,
     "metadata": {},
     "output_type": "execute_result"
    }
   ],
   "source": [
    " >>> spam.lstrip()"
   ]
  },
  {
   "cell_type": "code",
   "execution_count": 339,
   "id": "20438be4-fd23-482e-98d5-affab4d82dc5",
   "metadata": {},
   "outputs": [
    {
     "data": {
      "text/plain": [
       "'    Hello World'"
      ]
     },
     "execution_count": 339,
     "metadata": {},
     "output_type": "execute_result"
    }
   ],
   "source": [
    " >>> spam.rstrip()"
   ]
  },
  {
   "cell_type": "code",
   "execution_count": 341,
   "id": "80c6e6b4-2103-4357-9d37-3b548b4ea937",
   "metadata": {},
   "outputs": [
    {
     "data": {
      "text/plain": [
       "'BaconSpamEggs'"
      ]
     },
     "execution_count": 341,
     "metadata": {},
     "output_type": "execute_result"
    }
   ],
   "source": [
    " >>> spam = 'SpamSpamBaconSpamEggsSpamSpam'\n",
    " >>> spam.strip('ampS')"
   ]
  },
  {
   "cell_type": "markdown",
   "id": "3a47f0be-c0db-4ab9-80a6-9a89977961a3",
   "metadata": {},
   "source": [
    "## The Count Method"
   ]
  },
  {
   "cell_type": "markdown",
   "id": "ab11b296-e671-47a1-8835-0a6f145e6661",
   "metadata": {},
   "source": [
    " Counts the number of occurrences of a given character or substring in the string it is\n",
    " applied to. Can be optionally provided start and end index."
   ]
  },
  {
   "cell_type": "code",
   "execution_count": 345,
   "id": "0174f860-d5ca-46d4-8593-24595536f55e",
   "metadata": {},
   "outputs": [
    {
     "data": {
      "text/plain": [
       "3"
      ]
     },
     "execution_count": 345,
     "metadata": {},
     "output_type": "execute_result"
    }
   ],
   "source": [
    " >>> sentence = 'one sheep two sheep three sheep four'\n",
    " >>> sentence.count('sheep')"
   ]
  },
  {
   "cell_type": "code",
   "execution_count": 347,
   "id": "f799b4ad-a3ae-488a-a434-a6e0da5802fd",
   "metadata": {},
   "outputs": [
    {
     "data": {
      "text/plain": [
       "9"
      ]
     },
     "execution_count": 347,
     "metadata": {},
     "output_type": "execute_result"
    }
   ],
   "source": [
    " >>> sentence.count('e')"
   ]
  },
  {
   "cell_type": "code",
   "execution_count": 349,
   "id": "91393530-b7b7-4746-a187-e2e8faebd0a1",
   "metadata": {},
   "outputs": [
    {
     "data": {
      "text/plain": [
       "8"
      ]
     },
     "execution_count": 349,
     "metadata": {},
     "output_type": "execute_result"
    }
   ],
   "source": [
    " >>> sentence.count('e', 6)"
   ]
  },
  {
   "cell_type": "markdown",
   "id": "45bfe60f-a42b-49c7-870b-74c06088646d",
   "metadata": {},
   "source": [
    "#### returns count of e after 'one sh' i.e 6 chars since beginning of string"
   ]
  },
  {
   "cell_type": "code",
   "execution_count": 352,
   "id": "afe8d1c2-3ffa-44a7-9462-45b8506dcf97",
   "metadata": {},
   "outputs": [
    {
     "data": {
      "text/plain": [
       "7"
      ]
     },
     "execution_count": 352,
     "metadata": {},
     "output_type": "execute_result"
    }
   ],
   "source": [
    " >>> sentence.count('e', 7)"
   ]
  },
  {
   "cell_type": "markdown",
   "id": "7db6476d-b8ef-4f82-b234-8d41714c2144",
   "metadata": {},
   "source": [
    "## Replace Method"
   ]
  },
  {
   "cell_type": "markdown",
   "id": "3200a4a8-2019-4fd2-8ae8-eb88aa4686a8",
   "metadata": {},
   "source": [
    " Replaces all occurences of a given substring with another substring. Can be optionally\n",
    " provided a third argument to limit the number of replacements. Returns a new string."
   ]
  },
  {
   "cell_type": "code",
   "execution_count": 356,
   "id": "4ce3949c-46b1-48e7-abcf-3661f41d98f9",
   "metadata": {},
   "outputs": [
    {
     "data": {
      "text/plain": [
       "'Hello, planet!'"
      ]
     },
     "execution_count": 356,
     "metadata": {},
     "output_type": "execute_result"
    }
   ],
   "source": [
    " >>> text = \"Hello, world!\"\n",
    " >>> text.replace(\"world\", \"planet\")"
   ]
  },
  {
   "cell_type": "code",
   "execution_count": 358,
   "id": "7475f984-9171-447c-a457-8eb4790c2925",
   "metadata": {},
   "outputs": [
    {
     "data": {
      "text/plain": [
       "'orange, banana, cherry, apple'"
      ]
     },
     "execution_count": 358,
     "metadata": {},
     "output_type": "execute_result"
    }
   ],
   "source": [
    " >>> fruits = \"apple, banana, cherry, apple\"\n",
    " >>> fruits.replace(\"apple\", \"orange\", 1)"
   ]
  },
  {
   "cell_type": "code",
   "execution_count": 360,
   "id": "d878c795-4cac-4045-85ff-f34d5e750629",
   "metadata": {},
   "outputs": [
    {
     "data": {
      "text/plain": [
       "'I like oranges, Apples are my favorite fruit'"
      ]
     },
     "execution_count": 360,
     "metadata": {},
     "output_type": "execute_result"
    }
   ],
   "source": [
    " >>> sentence = \"I like apples, Apples are my favorite fruit\"\n",
    " >>> sentence.replace(\"apples\", \"oranges\")"
   ]
  }
 ],
 "metadata": {
  "kernelspec": {
   "display_name": "Python 3 (ipykernel)",
   "language": "python",
   "name": "python3"
  },
  "language_info": {
   "codemirror_mode": {
    "name": "ipython",
    "version": 3
   },
   "file_extension": ".py",
   "mimetype": "text/x-python",
   "name": "python",
   "nbconvert_exporter": "python",
   "pygments_lexer": "ipython3",
   "version": "3.12.7"
  }
 },
 "nbformat": 4,
 "nbformat_minor": 5
}
