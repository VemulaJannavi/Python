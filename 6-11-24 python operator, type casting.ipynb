{
 "cells": [
  {
   "cell_type": "markdown",
   "id": "19aa095d-eb88-430c-9544-183f515eab91",
   "metadata": {},
   "source": [
    "## 6th --> type casting"
   ]
  },
  {
   "cell_type": "markdown",
   "id": "f91f65ef-f7af-4a0a-b87e-1f20a16d7362",
   "metadata": {},
   "source": [
    "#TYPE CAST FROM OTHER DATA TYPE TO INTEGR"
   ]
  },
  {
   "cell_type": "code",
   "execution_count": 2,
   "id": "d5eb111c-6926-4777-8360-3ace0c50f681",
   "metadata": {},
   "outputs": [
    {
     "data": {
      "text/plain": [
       "3"
      ]
     },
     "execution_count": 2,
     "metadata": {},
     "output_type": "execute_result"
    }
   ],
   "source": [
    "int(3.4)"
   ]
  },
  {
   "cell_type": "code",
   "execution_count": 4,
   "id": "6f79bc27-62d4-4f3e-bd78-e87a2e48b09d",
   "metadata": {},
   "outputs": [
    {
     "data": {
      "text/plain": [
       "1"
      ]
     },
     "execution_count": 4,
     "metadata": {},
     "output_type": "execute_result"
    }
   ],
   "source": [
    "int(True)"
   ]
  },
  {
   "cell_type": "code",
   "execution_count": 6,
   "id": "05281810-20ce-4216-b4e7-7ac3eb1ecd27",
   "metadata": {},
   "outputs": [
    {
     "data": {
      "text/plain": [
       "0"
      ]
     },
     "execution_count": 6,
     "metadata": {},
     "output_type": "execute_result"
    }
   ],
   "source": [
    "int(False)"
   ]
  },
  {
   "cell_type": "code",
   "execution_count": 8,
   "id": "8a11c306-d293-4d13-b602-17f32db6a374",
   "metadata": {},
   "outputs": [
    {
     "data": {
      "text/plain": [
       "10"
      ]
     },
     "execution_count": 8,
     "metadata": {},
     "output_type": "execute_result"
    }
   ],
   "source": [
    "int('10')"
   ]
  },
  {
   "cell_type": "code",
   "execution_count": 10,
   "id": "f860ecd0-3eea-437e-b6f5-c69d540b2f57",
   "metadata": {},
   "outputs": [
    {
     "ename": "ValueError",
     "evalue": "invalid literal for int() with base 10: 'ten'",
     "output_type": "error",
     "traceback": [
      "\u001b[1;31m---------------------------------------------------------------------------\u001b[0m",
      "\u001b[1;31mValueError\u001b[0m                                Traceback (most recent call last)",
      "Cell \u001b[1;32mIn[10], line 1\u001b[0m\n\u001b[1;32m----> 1\u001b[0m \u001b[38;5;28mint\u001b[39m(\u001b[38;5;124m'\u001b[39m\u001b[38;5;124mten\u001b[39m\u001b[38;5;124m'\u001b[39m)\n",
      "\u001b[1;31mValueError\u001b[0m: invalid literal for int() with base 10: 'ten'"
     ]
    }
   ],
   "source": [
    "int('ten')"
   ]
  },
  {
   "cell_type": "code",
   "execution_count": 12,
   "id": "69f90735-5b31-4757-b7f4-ecb79cc0d842",
   "metadata": {},
   "outputs": [
    {
     "ename": "TypeError",
     "evalue": "int() argument must be a string, a bytes-like object or a real number, not 'complex'",
     "output_type": "error",
     "traceback": [
      "\u001b[1;31m---------------------------------------------------------------------------\u001b[0m",
      "\u001b[1;31mTypeError\u001b[0m                                 Traceback (most recent call last)",
      "Cell \u001b[1;32mIn[12], line 1\u001b[0m\n\u001b[1;32m----> 1\u001b[0m \u001b[38;5;28mint\u001b[39m(\u001b[38;5;241m1\u001b[39m\u001b[38;5;241m+\u001b[39m\u001b[38;5;241m2\u001b[39mj)\n",
      "\u001b[1;31mTypeError\u001b[0m: int() argument must be a string, a bytes-like object or a real number, not 'complex'"
     ]
    }
   ],
   "source": [
    "int(1+2j)"
   ]
  },
  {
   "cell_type": "markdown",
   "id": "af49f22e-ad07-432d-9029-b7f8f4bc6555",
   "metadata": {},
   "source": [
    "## TYPE CAST FROM OTHER DATA TYPE TO FLOT"
   ]
  },
  {
   "cell_type": "code",
   "execution_count": 15,
   "id": "50bfbdb1-3163-445d-af4b-64305e9b219c",
   "metadata": {},
   "outputs": [
    {
     "data": {
      "text/plain": [
       "34.0"
      ]
     },
     "execution_count": 15,
     "metadata": {},
     "output_type": "execute_result"
    }
   ],
   "source": [
    "float(34)"
   ]
  },
  {
   "cell_type": "code",
   "execution_count": 19,
   "id": "18d25e81-3dd0-45e8-b78a-cef08345c37d",
   "metadata": {},
   "outputs": [
    {
     "data": {
      "text/plain": [
       "1.0"
      ]
     },
     "execution_count": 19,
     "metadata": {},
     "output_type": "execute_result"
    }
   ],
   "source": [
    "float(True)"
   ]
  },
  {
   "cell_type": "code",
   "execution_count": 21,
   "id": "b94ca6c6-b9fb-492d-a855-4ffa2a552bf7",
   "metadata": {},
   "outputs": [
    {
     "data": {
      "text/plain": [
       "0.0"
      ]
     },
     "execution_count": 21,
     "metadata": {},
     "output_type": "execute_result"
    }
   ],
   "source": [
    "float(False)"
   ]
  },
  {
   "cell_type": "code",
   "execution_count": 23,
   "id": "79435291-29b9-4357-8211-4c3c82e437c1",
   "metadata": {},
   "outputs": [
    {
     "data": {
      "text/plain": [
       "10.0"
      ]
     },
     "execution_count": 23,
     "metadata": {},
     "output_type": "execute_result"
    }
   ],
   "source": [
    "float('10')"
   ]
  },
  {
   "cell_type": "code",
   "execution_count": 25,
   "id": "36a75d43-6c79-4dcf-a89f-9220c56f36a9",
   "metadata": {},
   "outputs": [
    {
     "ename": "ValueError",
     "evalue": "could not convert string to float: 'ten'",
     "output_type": "error",
     "traceback": [
      "\u001b[1;31m---------------------------------------------------------------------------\u001b[0m",
      "\u001b[1;31mValueError\u001b[0m                                Traceback (most recent call last)",
      "Cell \u001b[1;32mIn[25], line 1\u001b[0m\n\u001b[1;32m----> 1\u001b[0m \u001b[38;5;28mfloat\u001b[39m(\u001b[38;5;124m'\u001b[39m\u001b[38;5;124mten\u001b[39m\u001b[38;5;124m'\u001b[39m)\n",
      "\u001b[1;31mValueError\u001b[0m: could not convert string to float: 'ten'"
     ]
    }
   ],
   "source": [
    "float('ten')"
   ]
  },
  {
   "cell_type": "code",
   "execution_count": 27,
   "id": "9aa237c0-80de-40a8-8c93-bab44491b8ae",
   "metadata": {},
   "outputs": [
    {
     "ename": "TypeError",
     "evalue": "float() argument must be a string or a real number, not 'complex'",
     "output_type": "error",
     "traceback": [
      "\u001b[1;31m---------------------------------------------------------------------------\u001b[0m",
      "\u001b[1;31mTypeError\u001b[0m                                 Traceback (most recent call last)",
      "Cell \u001b[1;32mIn[27], line 1\u001b[0m\n\u001b[1;32m----> 1\u001b[0m \u001b[38;5;28mfloat\u001b[39m(\u001b[38;5;241m1\u001b[39m\u001b[38;5;241m+\u001b[39m\u001b[38;5;241m2\u001b[39mj)\n",
      "\u001b[1;31mTypeError\u001b[0m: float() argument must be a string or a real number, not 'complex'"
     ]
    }
   ],
   "source": [
    "float(1+2j)"
   ]
  },
  {
   "cell_type": "markdown",
   "id": "fdce0870-cb9c-4509-b591-5e90bece007f",
   "metadata": {},
   "source": [
    "## TYPE CAST FROM OTHER DATA TYPE TO BOOL"
   ]
  },
  {
   "cell_type": "code",
   "execution_count": 30,
   "id": "3aee0b49-3d57-4c27-8aaa-38a2d822208e",
   "metadata": {},
   "outputs": [
    {
     "data": {
      "text/plain": [
       "True"
      ]
     },
     "execution_count": 30,
     "metadata": {},
     "output_type": "execute_result"
    }
   ],
   "source": [
    "bool(56)"
   ]
  },
  {
   "cell_type": "code",
   "execution_count": 34,
   "id": "12bba248-9d19-43f7-ae7c-132210d7d34d",
   "metadata": {},
   "outputs": [
    {
     "data": {
      "text/plain": [
       "True"
      ]
     },
     "execution_count": 34,
     "metadata": {},
     "output_type": "execute_result"
    }
   ],
   "source": [
    "bool(5.6)"
   ]
  },
  {
   "cell_type": "code",
   "execution_count": 36,
   "id": "74a5c4e0-fed6-477c-af86-aad6ba14b519",
   "metadata": {},
   "outputs": [
    {
     "data": {
      "text/plain": [
       "True"
      ]
     },
     "execution_count": 36,
     "metadata": {},
     "output_type": "execute_result"
    }
   ],
   "source": [
    "bool('nit')"
   ]
  },
  {
   "cell_type": "code",
   "execution_count": 38,
   "id": "ca8e060b-f47a-4d4f-86c1-9f50a3df2ae9",
   "metadata": {},
   "outputs": [
    {
     "data": {
      "text/plain": [
       "False"
      ]
     },
     "execution_count": 38,
     "metadata": {},
     "output_type": "execute_result"
    }
   ],
   "source": [
    "bool()"
   ]
  },
  {
   "cell_type": "code",
   "execution_count": 40,
   "id": "88ebd1f5-290b-4545-a888-6147de8d17c2",
   "metadata": {},
   "outputs": [
    {
     "data": {
      "text/plain": [
       "True"
      ]
     },
     "execution_count": 40,
     "metadata": {},
     "output_type": "execute_result"
    }
   ],
   "source": [
    "bool(1+2j)"
   ]
  },
  {
   "cell_type": "code",
   "execution_count": 42,
   "id": "964d7f56-dc3b-4da4-a6df-4cd0c8de938a",
   "metadata": {},
   "outputs": [
    {
     "data": {
      "text/plain": [
       "False"
      ]
     },
     "execution_count": 42,
     "metadata": {},
     "output_type": "execute_result"
    }
   ],
   "source": [
    "bool(0)"
   ]
  },
  {
   "cell_type": "markdown",
   "id": "1d12ff6f-01d3-4588-b03b-6fee3b4c5e59",
   "metadata": {},
   "source": [
    "## Type CAST FROM OTHER DATA TYPE TO STRING"
   ]
  },
  {
   "cell_type": "code",
   "execution_count": 45,
   "id": "95290722-4f0c-40eb-b518-bdef61892052",
   "metadata": {},
   "outputs": [
    {
     "data": {
      "text/plain": [
       "'10'"
      ]
     },
     "execution_count": 45,
     "metadata": {},
     "output_type": "execute_result"
    }
   ],
   "source": [
    "str(10)"
   ]
  },
  {
   "cell_type": "code",
   "execution_count": 49,
   "id": "a10d4b85-9e95-4f31-8c73-584c6e85fd69",
   "metadata": {},
   "outputs": [
    {
     "data": {
      "text/plain": [
       "'10.1'"
      ]
     },
     "execution_count": 49,
     "metadata": {},
     "output_type": "execute_result"
    }
   ],
   "source": [
    "str(10.10)"
   ]
  },
  {
   "cell_type": "code",
   "execution_count": 51,
   "id": "a673ca14-e968-4149-9f24-c8c1a8f2dd1a",
   "metadata": {},
   "outputs": [
    {
     "data": {
      "text/plain": [
       "'10.101'"
      ]
     },
     "execution_count": 51,
     "metadata": {},
     "output_type": "execute_result"
    }
   ],
   "source": [
    "str(10.101)"
   ]
  },
  {
   "cell_type": "code",
   "execution_count": 53,
   "id": "b7d51230-a765-40fb-93d8-3acb6a7579f3",
   "metadata": {},
   "outputs": [
    {
     "data": {
      "text/plain": [
       "'True'"
      ]
     },
     "execution_count": 53,
     "metadata": {},
     "output_type": "execute_result"
    }
   ],
   "source": [
    "str(True)"
   ]
  },
  {
   "cell_type": "code",
   "execution_count": 55,
   "id": "c9d1c422-5e5d-4b74-afdc-9ecfaa8825c5",
   "metadata": {},
   "outputs": [
    {
     "data": {
      "text/plain": [
       "1"
      ]
     },
     "execution_count": 55,
     "metadata": {},
     "output_type": "execute_result"
    }
   ],
   "source": [
    "int(True)"
   ]
  },
  {
   "cell_type": "code",
   "execution_count": 57,
   "id": "23fa22bf-fc39-4a75-a2bf-5fb424fc132a",
   "metadata": {},
   "outputs": [
    {
     "data": {
      "text/plain": [
       "'False'"
      ]
     },
     "execution_count": 57,
     "metadata": {},
     "output_type": "execute_result"
    }
   ],
   "source": [
    "str('False')"
   ]
  },
  {
   "cell_type": "code",
   "execution_count": 59,
   "id": "e2cde7e9-a145-4e62-b9d6-c2ee133e3dad",
   "metadata": {},
   "outputs": [
    {
     "data": {
      "text/plain": [
       "0"
      ]
     },
     "execution_count": 59,
     "metadata": {},
     "output_type": "execute_result"
    }
   ],
   "source": [
    "int(False)"
   ]
  },
  {
   "cell_type": "code",
   "execution_count": 61,
   "id": "659e46f5-830c-4421-a101-c8e26a06237a",
   "metadata": {},
   "outputs": [
    {
     "data": {
      "text/plain": [
       "'(1+2j)'"
      ]
     },
     "execution_count": 61,
     "metadata": {},
     "output_type": "execute_result"
    }
   ],
   "source": [
    "str(1+2j)"
   ]
  },
  {
   "cell_type": "markdown",
   "id": "864e40cc-94ff-4266-906a-3d256a059826",
   "metadata": {},
   "source": [
    "## TYPE CAST FROM OTHER DATA TYPE TO COMPLEX"
   ]
  },
  {
   "cell_type": "code",
   "execution_count": 64,
   "id": "bc1ec160-ad8d-41b4-a2c4-fa661101e64b",
   "metadata": {},
   "outputs": [
    {
     "data": {
      "text/plain": [
       "(10+0j)"
      ]
     },
     "execution_count": 64,
     "metadata": {},
     "output_type": "execute_result"
    }
   ],
   "source": [
    "complex(10)"
   ]
  },
  {
   "cell_type": "code",
   "execution_count": 66,
   "id": "9ff85328-9a9b-4c10-bf76-4404e6780e94",
   "metadata": {},
   "outputs": [
    {
     "data": {
      "text/plain": [
       "(10+20j)"
      ]
     },
     "execution_count": 66,
     "metadata": {},
     "output_type": "execute_result"
    }
   ],
   "source": [
    "complex(10,20)"
   ]
  },
  {
   "cell_type": "code",
   "execution_count": 69,
   "id": "54f7bf92-6bff-4788-bd38-513e16225cb5",
   "metadata": {},
   "outputs": [
    {
     "ename": "TypeError",
     "evalue": "complex() takes at most 2 arguments (3 given)",
     "output_type": "error",
     "traceback": [
      "\u001b[1;31m---------------------------------------------------------------------------\u001b[0m",
      "\u001b[1;31mTypeError\u001b[0m                                 Traceback (most recent call last)",
      "Cell \u001b[1;32mIn[69], line 1\u001b[0m\n\u001b[1;32m----> 1\u001b[0m \u001b[38;5;28mcomplex\u001b[39m(\u001b[38;5;241m10\u001b[39m,\u001b[38;5;241m20\u001b[39m,\u001b[38;5;241m30\u001b[39m)\n",
      "\u001b[1;31mTypeError\u001b[0m: complex() takes at most 2 arguments (3 given)"
     ]
    }
   ],
   "source": [
    "complex(10,20,30)"
   ]
  },
  {
   "cell_type": "code",
   "execution_count": 71,
   "id": "cb80d885-de58-4f0e-8964-4e02c4447268",
   "metadata": {},
   "outputs": [
    {
     "data": {
      "text/plain": [
       "(1.2+3.4j)"
      ]
     },
     "execution_count": 71,
     "metadata": {},
     "output_type": "execute_result"
    }
   ],
   "source": [
    "complex(1.2,3.4)"
   ]
  },
  {
   "cell_type": "code",
   "execution_count": 77,
   "id": "c74093ec-515b-4655-9377-0887bf0d39d2",
   "metadata": {},
   "outputs": [
    {
     "data": {
      "text/plain": [
       "(1+5.6j)"
      ]
     },
     "execution_count": 77,
     "metadata": {},
     "output_type": "execute_result"
    }
   ],
   "source": [
    "complex(1,5.6)"
   ]
  },
  {
   "cell_type": "code",
   "execution_count": 81,
   "id": "1eaab8a2-cba8-4e96-a93c-eae0e0ae24ec",
   "metadata": {},
   "outputs": [
    {
     "data": {
      "text/plain": [
       "(1+0j)"
      ]
     },
     "execution_count": 81,
     "metadata": {},
     "output_type": "execute_result"
    }
   ],
   "source": [
    "complex(True,False)"
   ]
  },
  {
   "cell_type": "code",
   "execution_count": 85,
   "id": "52a9ef6b-64e9-4c1d-9aab-a6b81164eb1a",
   "metadata": {},
   "outputs": [
    {
     "data": {
      "text/plain": [
       "0j"
      ]
     },
     "execution_count": 85,
     "metadata": {},
     "output_type": "execute_result"
    }
   ],
   "source": [
    "complex(False,False)"
   ]
  },
  {
   "cell_type": "code",
   "execution_count": 89,
   "id": "ffb4c13b-f097-429d-96b0-52cb17eb6a9f",
   "metadata": {},
   "outputs": [
    {
     "ename": "TypeError",
     "evalue": "complex() can't take second arg if first is a string",
     "output_type": "error",
     "traceback": [
      "\u001b[1;31m---------------------------------------------------------------------------\u001b[0m",
      "\u001b[1;31mTypeError\u001b[0m                                 Traceback (most recent call last)",
      "Cell \u001b[1;32mIn[89], line 1\u001b[0m\n\u001b[1;32m----> 1\u001b[0m \u001b[38;5;28mcomplex\u001b[39m(\u001b[38;5;124m'\u001b[39m\u001b[38;5;124ma\u001b[39m\u001b[38;5;124m'\u001b[39m,\u001b[38;5;124m'\u001b[39m\u001b[38;5;124mb\u001b[39m\u001b[38;5;124m'\u001b[39m)\n",
      "\u001b[1;31mTypeError\u001b[0m: complex() can't take second arg if first is a string"
     ]
    }
   ],
   "source": [
    "complex('a','b')"
   ]
  },
  {
   "cell_type": "code",
   "execution_count": 91,
   "id": "c6421ed5-71ae-4a37-b7f0-521b55b7565a",
   "metadata": {},
   "outputs": [
    {
     "ename": "TypeError",
     "evalue": "complex() can't take second arg if first is a string",
     "output_type": "error",
     "traceback": [
      "\u001b[1;31m---------------------------------------------------------------------------\u001b[0m",
      "\u001b[1;31mTypeError\u001b[0m                                 Traceback (most recent call last)",
      "Cell \u001b[1;32mIn[91], line 1\u001b[0m\n\u001b[1;32m----> 1\u001b[0m \u001b[38;5;28mcomplex\u001b[39m(\u001b[38;5;124m'\u001b[39m\u001b[38;5;124m10\u001b[39m\u001b[38;5;124m'\u001b[39m,\u001b[38;5;124m'\u001b[39m\u001b[38;5;124m20\u001b[39m\u001b[38;5;124m'\u001b[39m)\n",
      "\u001b[1;31mTypeError\u001b[0m: complex() can't take second arg if first is a string"
     ]
    }
   ],
   "source": [
    "complex('10','20')"
   ]
  },
  {
   "cell_type": "markdown",
   "id": "41d3bfed-b9dd-4796-994e-b17938bb13d1",
   "metadata": {},
   "source": [
    "## TYPE CASTING WE ARE COMPLETED"
   ]
  },
  {
   "cell_type": "code",
   "execution_count": 96,
   "id": "3f4b3aa0-2e0a-4c39-973f-8c39be1a083b",
   "metadata": {},
   "outputs": [],
   "source": [
    "x1, y1 = 10, 5"
   ]
  },
  {
   "cell_type": "code",
   "execution_count": 98,
   "id": "c913cbd1-e06f-4ae6-be01-51f16fa6430f",
   "metadata": {},
   "outputs": [
    {
     "data": {
      "text/plain": [
       "10"
      ]
     },
     "execution_count": 98,
     "metadata": {},
     "output_type": "execute_result"
    }
   ],
   "source": [
    "x1"
   ]
  },
  {
   "cell_type": "code",
   "execution_count": 100,
   "id": "36bfb9b4-e460-4a30-8d2f-bb2b8fa7630e",
   "metadata": {},
   "outputs": [
    {
     "data": {
      "text/plain": [
       "5"
      ]
     },
     "execution_count": 100,
     "metadata": {},
     "output_type": "execute_result"
    }
   ],
   "source": [
    "y1"
   ]
  },
  {
   "cell_type": "markdown",
   "id": "2918349b-5941-4d81-bb98-2891ad947de0",
   "metadata": {},
   "source": [
    "## ===== PYTHON OPERATORS \n",
    "ARITHMETIC OPERATOR (+, -, *, /, //, %, ** ) ASSIGNMENT OPERATOR (=, +=, -=, *=, /=, //=) RELATIONAL OPERATOR ( using this operator for comparing) > < >= <= == != LOGICAL OPERATOR and, or, not UNARY OPERATOR -"
   ]
  }
 ],
 "metadata": {
  "kernelspec": {
   "display_name": "Python 3 (ipykernel)",
   "language": "python",
   "name": "python3"
  },
  "language_info": {
   "codemirror_mode": {
    "name": "ipython",
    "version": 3
   },
   "file_extension": ".py",
   "mimetype": "text/x-python",
   "name": "python",
   "nbconvert_exporter": "python",
   "pygments_lexer": "ipython3",
   "version": "3.12.7"
  }
 },
 "nbformat": 4,
 "nbformat_minor": 5
}
