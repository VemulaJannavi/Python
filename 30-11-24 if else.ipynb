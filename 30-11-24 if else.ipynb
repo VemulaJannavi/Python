{
 "cells": [
  {
   "cell_type": "code",
   "execution_count": 1,
   "id": "b7fb44ad-7db4-465c-8773-c79b2ca4613c",
   "metadata": {},
   "outputs": [
    {
     "name": "stdout",
     "output_type": "stream",
     "text": [
      "Data Science\n"
     ]
    }
   ],
   "source": [
    "if True: # indentiation is always 4 spaces\n",
    "    print('Data Science')"
   ]
  },
  {
   "cell_type": "code",
   "execution_count": 2,
   "id": "5118d670-a47e-4479-8ec6-3fe73e235bed",
   "metadata": {},
   "outputs": [
    {
     "name": "stdout",
     "output_type": "stream",
     "text": [
      "ds\n"
     ]
    }
   ],
   "source": [
    "if True:\n",
    "    print('ds')"
   ]
  },
  {
   "cell_type": "code",
   "execution_count": 3,
   "id": "1ddde5c5-7a1c-4fb3-b061-11e6ec594f83",
   "metadata": {},
   "outputs": [
    {
     "name": "stdout",
     "output_type": "stream",
     "text": [
      "bye for now\n"
     ]
    }
   ],
   "source": [
    "if False:\n",
    "   print('Data Science')\n",
    "print('bye for now')"
   ]
  },
  {
   "cell_type": "code",
   "execution_count": 4,
   "id": "b4d905ed-d850-4982-b9dc-9da2e7576bb0",
   "metadata": {},
   "outputs": [
    {
     "name": "stdout",
     "output_type": "stream",
     "text": [
      "Data Science\n",
      "bye for now\n"
     ]
    }
   ],
   "source": [
    "if True: #imdemtiation is always 4 spaces\n",
    "    print('Data Science')\n",
    "print('bye for now')    "
   ]
  },
  {
   "cell_type": "code",
   "execution_count": 5,
   "id": "7998e019-040d-4bd7-9baf-8fbe93d8a286",
   "metadata": {},
   "outputs": [
    {
     "name": "stdout",
     "output_type": "stream",
     "text": [
      "bye for now\n"
     ]
    }
   ],
   "source": [
    "if False: # imdemtiation is always 4 spaces\n",
    "    print('Data Science')\n",
    "else:\n",
    "    print('bye for now')"
   ]
  },
  {
   "cell_type": "markdown",
   "id": "540f200f-6d1f-4301-bc78-304edf414ea4",
   "metadata": {},
   "source": [
    "Lets do one program as if divide by 2 then reminder is 0 then itis even number if reminder is not 0 than it is odd number"
   ]
  },
  {
   "cell_type": "code",
   "execution_count": 7,
   "id": "2a626043-4b0a-460d-a75b-ab1fdeca69bb",
   "metadata": {},
   "outputs": [
    {
     "name": "stdout",
     "output_type": "stream",
     "text": [
      "Even number\n"
     ]
    }
   ],
   "source": [
    "# to print entry even number\n",
    "x = 4\n",
    "r = x % 2\n",
    "\n",
    "if r == 0:\n",
    "    print('Even number')"
   ]
  },
  {
   "cell_type": "code",
   "execution_count": 8,
   "id": "0ed906f2-5920-4b83-b943-e56e87371cbb",
   "metadata": {},
   "outputs": [
    {
     "name": "stdout",
     "output_type": "stream",
     "text": [
      "odd number\n"
     ]
    }
   ],
   "source": [
    "#  to print only even number\n",
    "x = 5\n",
    "r = x % 2\n",
    "if r == 0:\n",
    "    print('Even number')\n",
    "print('odd number')"
   ]
  },
  {
   "cell_type": "code",
   "execution_count": 9,
   "id": "06c87e78-da70-4035-b4e6-1a5c4a435c2f",
   "metadata": {},
   "outputs": [
    {
     "name": "stdout",
     "output_type": "stream",
     "text": [
      "Even number\n",
      "oddnumber\n"
     ]
    }
   ],
   "source": [
    "x = 6\n",
    "r = x % 2\n",
    "\n",
    "if r == 0:\n",
    "    print('Even number')\n",
    "print('oddnumber')  "
   ]
  },
  {
   "cell_type": "code",
   "execution_count": 10,
   "id": "4e5ca9b5-aeee-4b6b-aa03-d06bcc4de3a1",
   "metadata": {},
   "outputs": [
    {
     "name": "stdout",
     "output_type": "stream",
     "text": [
      "Even number\n"
     ]
    }
   ],
   "source": [
    "x = 10\n",
    "r = x % 2\n",
    "\n",
    "if r == 0:\n",
    "    print('Even number')\n",
    "if r == 1:\n",
    "    print('odd number')    "
   ]
  },
  {
   "cell_type": "code",
   "execution_count": 11,
   "id": "887ca2ac-7d36-4800-92a8-7b15d8c87a03",
   "metadata": {},
   "outputs": [
    {
     "ename": "SyntaxError",
     "evalue": "invalid syntax (3045740963.py, line 1)",
     "output_type": "error",
     "traceback": [
      "\u001b[1;36m  Cell \u001b[1;32mIn[11], line 1\u001b[1;36m\u001b[0m\n\u001b[1;33m    x = 11:\u001b[0m\n\u001b[1;37m          ^\u001b[0m\n\u001b[1;31mSyntaxError\u001b[0m\u001b[1;31m:\u001b[0m invalid syntax\n"
     ]
    }
   ],
   "source": [
    "x = 11:\n",
    "r = x % 2\n",
    "\n",
    "if r == 0:\n",
    "    print('Even number')\n",
    "if r == 1:\n",
    "     print('odd number')"
   ]
  },
  {
   "cell_type": "code",
   "execution_count": 12,
   "id": "6380d901-ccff-4049-8abc-83560ea2ec7d",
   "metadata": {},
   "outputs": [
    {
     "name": "stdout",
     "output_type": "stream",
     "text": [
      "odd number\n"
     ]
    }
   ],
   "source": [
    "x = 11\n",
    "r = x % 2\n",
    "if r ==0:\n",
    "    print('Even number')\n",
    "else:\n",
    "    print('odd number')"
   ]
  },
  {
   "cell_type": "code",
   "execution_count": 14,
   "id": "8aa59eb5-8d3d-45ab-a174-7c049dce1ada",
   "metadata": {},
   "outputs": [
    {
     "name": "stdout",
     "output_type": "stream",
     "text": [
      "Even number\n"
     ]
    }
   ],
   "source": [
    "x = 4\n",
    "r = x % 2\n",
    "if r == 0:\n",
    "    print('Even number')\n",
    "else:\n",
    "    print('odd number')"
   ]
  },
  {
   "cell_type": "code",
   "execution_count": 16,
   "id": "dbf6e810-a2be-4ac2-8cef-822934691fe1",
   "metadata": {},
   "outputs": [
    {
     "name": "stdout",
     "output_type": "stream",
     "text": [
      "odd number\n"
     ]
    }
   ],
   "source": [
    "x = 23\n",
    "r = x % 2\n",
    "if r == 0:\n",
    "    print('Even number')\n",
    "else:\n",
    "    print('odd number')"
   ]
  },
  {
   "cell_type": "code",
   "execution_count": 27,
   "id": "9e18a324-d029-4ca3-a0f2-4848acac5f9f",
   "metadata": {},
   "outputs": [
    {
     "ename": "IndentationError",
     "evalue": "unindent does not match any outer indentation level (<string>, line 6)",
     "output_type": "error",
     "traceback": [
      "\u001b[1;36m  File \u001b[1;32m<string>:6\u001b[1;36m\u001b[0m\n\u001b[1;33m    if r != 1:\u001b[0m\n\u001b[1;37m               ^\u001b[0m\n\u001b[1;31mIndentationError\u001b[0m\u001b[1;31m:\u001b[0m unindent does not match any outer indentation level\n"
     ]
    }
   ],
   "source": [
    "x = 23\n",
    "r = x % 2\n",
    "\n",
    "if r == 0:\n",
    "    print('Even number')\n",
    " if r != 1: \n",
    "     print('odd number')"
   ]
  },
  {
   "cell_type": "code",
   "execution_count": 38,
   "id": "e2aa8050-f4ff-4070-8cdb-0d46ef9c45cd",
   "metadata": {},
   "outputs": [
    {
     "ename": "SyntaxError",
     "evalue": "invalid syntax (3463735597.py, line 6)",
     "output_type": "error",
     "traceback": [
      "\u001b[1;36m  Cell \u001b[1;32mIn[38], line 6\u001b[1;36m\u001b[0m\n\u001b[1;33m    if r 1 != 0:\u001b[0m\n\u001b[1;37m         ^\u001b[0m\n\u001b[1;31mSyntaxError\u001b[0m\u001b[1;31m:\u001b[0m invalid syntax\n"
     ]
    }
   ],
   "source": [
    "x = 17\n",
    "r = x % 2\n",
    "\n",
    "if r == 0:\n",
    "    print('Even number')\n",
    "if r 1 != 0:\n",
    "    print('odd number')"
   ]
  },
  {
   "cell_type": "markdown",
   "id": "e34c948b-0aea-49ee-8323-d334c4136870",
   "metadata": {},
   "source": [
    "if we observe the code its too mony line cuz many of the coder always they wanted to reduce the coder always they wanted to reduce the code lenght which is very good pratice. instead of 2 if we can use if--else"
   ]
  },
  {
   "cell_type": "code",
   "execution_count": null,
   "id": "2d9cbb73-e4dd-46a0-a09c-93e486a86642",
   "metadata": {},
   "outputs": [],
   "source": [
    "x = 5\n",
    "r = x % 2"
   ]
  },
  {
   "cell_type": "code",
   "execution_count": null,
   "id": "c8c9536d-c376-4f30-9c1f-1653cbac5cc4",
   "metadata": {},
   "outputs": [],
   "source": []
  },
  {
   "cell_type": "markdown",
   "id": "38642839-fc37-4936-807d-74f03be06f2a",
   "metadata": {},
   "source": [
    "NESTED IF (if we have 2 condition so we need to implment with nested if)"
   ]
  },
  {
   "cell_type": "code",
   "execution_count": 41,
   "id": "38be1509-2557-49f9-ab8e-805aaec1580f",
   "metadata": {},
   "outputs": [
    {
     "name": "stdout",
     "output_type": "stream",
     "text": [
      "odd number\n"
     ]
    }
   ],
   "source": [
    "x = 3\n",
    "r = x % 2\n",
    "if r ==0:\n",
    "    print('Even number')\n",
    "    if x>5:\n",
    "        print('greater number')\n",
    "else:\n",
    "    print('odd number')"
   ]
  },
  {
   "cell_type": "code",
   "execution_count": 43,
   "id": "cd536c82-0b7c-4ed5-a448-9b9fb1f63c51",
   "metadata": {},
   "outputs": [
    {
     "name": "stdout",
     "output_type": "stream",
     "text": [
      "Even number\n"
     ]
    }
   ],
   "source": [
    "x = 4\n",
    "r = x % 2\n",
    "\n",
    "if r == 0:\n",
    "    print('Even number')\n",
    "    if x>5:\n",
    "        print('greater number')\n",
    "else:\n",
    "    print('odd Number')"
   ]
  },
  {
   "cell_type": "code",
   "execution_count": 50,
   "id": "1e87716c-679b-405d-b29b-5bf224c5b444",
   "metadata": {},
   "outputs": [
    {
     "ename": "IndentationError",
     "evalue": "unindent does not match any outer indentation level (<string>, line 8)",
     "output_type": "error",
     "traceback": [
      "\u001b[1;36m  File \u001b[1;32m<string>:8\u001b[1;36m\u001b[0m\n\u001b[1;33m    else:\u001b[0m\n\u001b[1;37m         ^\u001b[0m\n\u001b[1;31mIndentationError\u001b[0m\u001b[1;31m:\u001b[0m unindent does not match any outer indentation level\n"
     ]
    }
   ],
   "source": [
    "x = 4\n",
    "r = x % 2\n",
    "\n",
    "if r == 0:\n",
    "    print('Even number')\n",
    "    if x>5:\n",
    "        print('grater number')\n",
    " else:\n",
    "     print('smaller number')\n",
    "else:\n",
    "     print('odd number')\n",
    "        "
   ]
  },
  {
   "cell_type": "code",
   "execution_count": 54,
   "id": "38601aca-631c-4b8d-a789-912360ccfd3a",
   "metadata": {},
   "outputs": [
    {
     "ename": "SyntaxError",
     "evalue": "invalid syntax (2172463382.py, line 2)",
     "output_type": "error",
     "traceback": [
      "\u001b[1;36m  Cell \u001b[1;32mIn[54], line 2\u001b[1;36m\u001b[0m\n\u001b[1;33m    r = % 2\u001b[0m\n\u001b[1;37m        ^\u001b[0m\n\u001b[1;31mSyntaxError\u001b[0m\u001b[1;31m:\u001b[0m invalid syntax\n"
     ]
    }
   ],
   "source": [
    "x = 4\n",
    "r = % 2\n",
    "if r == 0:\n",
    "    print('Even number')\n",
    "    if x>5:\n",
    "        print('grater number')\n",
    "else:\n",
    "        print('not greater')\n",
    "else:\n",
    "    print('odd number')"
   ]
  },
  {
   "cell_type": "code",
   "execution_count": 57,
   "id": "4051e8ed-efec-49f0-8e3c-3bc639d95405",
   "metadata": {},
   "outputs": [
    {
     "name": "stdout",
     "output_type": "stream",
     "text": [
      "Even number\n",
      "greater number\n"
     ]
    }
   ],
   "source": [
    "x = 6\n",
    "r = x % 2\n",
    "if r == 0:\n",
    "    print('Even number')\n",
    "    if x>5:\n",
    "        print('greater number')\n",
    "    else:\n",
    "        print('not grater')\n",
    "    else:\n",
    "    print(odd number)"
   ]
  },
  {
   "cell_type": "code",
   "execution_count": 59,
   "id": "9751e8c2-6505-4915-ac07-45590fe2afd5",
   "metadata": {},
   "outputs": [
    {
     "ename": "IndentationError",
     "evalue": "expected an indented block after 'if' statement on line 5 (1075468178.py, line 9)",
     "output_type": "error",
     "traceback": [
      "\u001b[1;36m  Cell \u001b[1;32mIn[59], line 9\u001b[1;36m\u001b[0m\n\u001b[1;33m    else:\u001b[0m\n\u001b[1;37m    ^\u001b[0m\n\u001b[1;31mIndentationError\u001b[0m\u001b[1;31m:\u001b[0m expected an indented block after 'if' statement on line 5\n"
     ]
    }
   ],
   "source": [
    "x = 6\n",
    "r = x % 2\n",
    "if r == 0:\n",
    "    print('Even number')\n",
    "    if x>5:\n",
    "      #  print('greater number')\n",
    "  #  else:\n",
    "     #   print('not grater')\n",
    "    else:\n",
    "        print('odd number')"
   ]
  },
  {
   "cell_type": "markdown",
   "id": "d484ad52-454b-45b5-8564-263eb3b85f65",
   "metadata": {},
   "source": [
    "We do have concept of (IF-ELIF-ELISE)eg i wantto print(1..> one.2..> three.4...> foue,5.five)"
   ]
  },
  {
   "cell_type": "code",
   "execution_count": null,
   "id": "5970d05a-9f02-4e53-9b32-5b1e1c35a39a",
   "metadata": {},
   "outputs": [],
   "source": []
  },
  {
   "cell_type": "code",
   "execution_count": 104,
   "id": "8754c164-0fd6-4db9-8398-acf4cd078b00",
   "metadata": {},
   "outputs": [
    {
     "name": "stdout",
     "output_type": "stream",
     "text": [
      "Two\n"
     ]
    }
   ],
   "source": [
    "x = 2\n",
    "if x == 1:\n",
    "    print('one')\n",
    "if x == 2:\n",
    "    print('Two')\n",
    "if x == 3:\n",
    "    print('Three')\n",
    "if x == 4:\n",
    "    print('four')"
   ]
  },
  {
   "cell_type": "code",
   "execution_count": null,
   "id": "a24f3513-a09f-419e-821f-3021508a2dae",
   "metadata": {},
   "outputs": [],
   "source": []
  },
  {
   "cell_type": "code",
   "execution_count": 106,
   "id": "4368ea67-7a8f-461f-b072-d7069bc23346",
   "metadata": {},
   "outputs": [
    {
     "name": "stdout",
     "output_type": "stream",
     "text": [
      "one\n"
     ]
    }
   ],
   "source": [
    "x = 1\n",
    "if x == 1:\n",
    "    print('one')\n",
    "if x == 2:\n",
    "    print('Two')\n",
    "if x == 3:\n",
    "    print('Three')\n",
    "if x == 4:\n",
    "    print('four')"
   ]
  }
 ],
 "metadata": {
  "kernelspec": {
   "display_name": "Python 3 (ipykernel)",
   "language": "python",
   "name": "python3"
  },
  "language_info": {
   "codemirror_mode": {
    "name": "ipython",
    "version": 3
   },
   "file_extension": ".py",
   "mimetype": "text/x-python",
   "name": "python",
   "nbconvert_exporter": "python",
   "pygments_lexer": "ipython3",
   "version": "3.12.7"
  }
 },
 "nbformat": 4,
 "nbformat_minor": 5
}
