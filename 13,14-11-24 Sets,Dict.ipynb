{
 "cells": [
  {
   "cell_type": "markdown",
   "id": "1a493826-64e4-4948-8bcf-4f914d75770f",
   "metadata": {},
   "source": [
    "## sets"
   ]
  },
  {
   "cell_type": "markdown",
   "id": "e9dfda6c-e741-4a28-80f1-edf271049550",
   "metadata": {},
   "source": [
    "1) Unodered & Unindexed collection of iteams.\n",
    "2) Set elements are unique.Duplicate elements are not allowed.\n",
    "3) Set elements are immutable(cannot be changed).\n",
    "4) Setitself is mutable.we can add or remove items from it."
   ]
  },
  {
   "cell_type": "markdown",
   "id": "0ecdd5a0-4652-44dd-af22-e0d027f02660",
   "metadata": {},
   "source": [
    "## Set Creation"
   ]
  },
  {
   "cell_type": "code",
   "execution_count": 107,
   "id": "3eb11330-b6a8-4049-873f-0085757496d7",
   "metadata": {},
   "outputs": [
    {
     "data": {
      "text/plain": [
       "{1, 2, 3, 4, 5}"
      ]
     },
     "execution_count": 107,
     "metadata": {},
     "output_type": "execute_result"
    }
   ],
   "source": [
    "myset={1,2,3,4,5} # Set of numbers\n",
    "myset"
   ]
  },
  {
   "cell_type": "code",
   "execution_count": 109,
   "id": "5c609da4-d275-418b-9eda-812ddd2f64b5",
   "metadata": {},
   "outputs": [
    {
     "data": {
      "text/plain": [
       "5"
      ]
     },
     "execution_count": 109,
     "metadata": {},
     "output_type": "execute_result"
    }
   ],
   "source": [
    "len(myset) #Lenght of the set"
   ]
  },
  {
   "cell_type": "code",
   "execution_count": 111,
   "id": "288357ed-28c3-4db3-adfd-1aacb422ae5a",
   "metadata": {},
   "outputs": [
    {
     "data": {
      "text/plain": [
       "{1, 2, 3, 4, 5}"
      ]
     },
     "execution_count": 111,
     "metadata": {},
     "output_type": "execute_result"
    }
   ],
   "source": [
    "my_set={1,1,2,2,3,4,5,5} # Duplicate elements are not allowed.\n",
    "my_set"
   ]
  },
  {
   "cell_type": "code",
   "execution_count": 113,
   "id": "c4dce554-a553-48d7-836d-c304cf59e2f6",
   "metadata": {},
   "outputs": [
    {
     "data": {
      "text/plain": [
       "{1.79, 2.08, 3.99, 4.56, 5.45}"
      ]
     },
     "execution_count": 113,
     "metadata": {},
     "output_type": "execute_result"
    }
   ],
   "source": [
    "myset1={1.79,2.08,3.99,4.56,5.45} # Set of float numbers\n",
    "myset1"
   ]
  },
  {
   "cell_type": "code",
   "execution_count": 115,
   "id": "2b34bc9f-aea9-4c70-918d-5535d05119c7",
   "metadata": {},
   "outputs": [
    {
     "data": {
      "text/plain": [
       "{'Asif', 'John', 'Tyrion'}"
      ]
     },
     "execution_count": 115,
     "metadata": {},
     "output_type": "execute_result"
    }
   ],
   "source": [
    "myset2={'Asif','John','Tyrion'} # Set of Strings\n",
    "myset2"
   ]
  },
  {
   "cell_type": "code",
   "execution_count": 117,
   "id": "9d59232b-762c-46a8-9d76-166691d51041",
   "metadata": {},
   "outputs": [
    {
     "data": {
      "text/plain": [
       "{(11, 22, 32), 10, 20, 'Hola'}"
      ]
     },
     "execution_count": 117,
     "metadata": {},
     "output_type": "execute_result"
    }
   ],
   "source": [
    "myset3={10,20,\"Hola\",(11,22,32)} # Mixed datatypes\n",
    "myset3"
   ]
  },
  {
   "cell_type": "code",
   "execution_count": 119,
   "id": "3299fe8b-b30d-4b56-9a20-457cfe81d4c1",
   "metadata": {},
   "outputs": [
    {
     "ename": "TypeError",
     "evalue": "unhashable type: 'list'",
     "output_type": "error",
     "traceback": [
      "\u001b[1;31m---------------------------------------------------------------------------\u001b[0m",
      "\u001b[1;31mTypeError\u001b[0m                                 Traceback (most recent call last)",
      "Cell \u001b[1;32mIn[119], line 1\u001b[0m\n\u001b[1;32m----> 1\u001b[0m myset3\u001b[38;5;241m=\u001b[39m{\u001b[38;5;241m10\u001b[39m,\u001b[38;5;241m20\u001b[39m,\u001b[38;5;124m\"\u001b[39m\u001b[38;5;124mHala\u001b[39m\u001b[38;5;124m\"\u001b[39m,[\u001b[38;5;241m11\u001b[39m,\u001b[38;5;241m22\u001b[39m,\u001b[38;5;241m32\u001b[39m]}\n\u001b[0;32m      2\u001b[0m myset3\n",
      "\u001b[1;31mTypeError\u001b[0m: unhashable type: 'list'"
     ]
    }
   ],
   "source": [
    "myset3={10,20,\"Hala\",[11,22,32]}  # set doesn't allow mutable items like list\n",
    "myset3"
   ]
  },
  {
   "cell_type": "code",
   "execution_count": 123,
   "id": "dfaf8d7e-2b8c-49e0-b478-e150577a7517",
   "metadata": {},
   "outputs": [
    {
     "name": "stdout",
     "output_type": "stream",
     "text": [
      "<class 'set'>\n"
     ]
    }
   ],
   "source": [
    "myset4 = set()  # create an empty set\n",
    "print(type(myset4))"
   ]
  },
  {
   "cell_type": "code",
   "execution_count": 125,
   "id": "ad6b61fb-f885-4732-b46c-33f5abeb02ae",
   "metadata": {},
   "outputs": [
    {
     "data": {
      "text/plain": [
       "{'four', 'one', 'three', 'two'}"
      ]
     },
     "execution_count": 125,
     "metadata": {},
     "output_type": "execute_result"
    }
   ],
   "source": [
    "my_set1=set(('one','two','three','four'))\n",
    "my_set1"
   ]
  },
  {
   "cell_type": "markdown",
   "id": "1d7f5c9d-9752-4a44-a5bb-b177fc116bb9",
   "metadata": {},
   "source": [
    "## Loop through a Set"
   ]
  },
  {
   "cell_type": "code",
   "execution_count": 128,
   "id": "97908100-8d55-4223-a57a-329ee8a0f994",
   "metadata": {},
   "outputs": [
    {
     "name": "stdout",
     "output_type": "stream",
     "text": [
      "six\n",
      "eight\n",
      "two\n",
      "three\n",
      "four\n",
      "seven\n",
      "five\n",
      "one\n"
     ]
    }
   ],
   "source": [
    "myset={'one','two','three','four','five','six','seven','eight'}\n",
    "for i in myset:\n",
    "    print(i)"
   ]
  },
  {
   "cell_type": "code",
   "execution_count": 130,
   "id": "cf675ef2-09e8-41b4-8075-8b6c40a75f10",
   "metadata": {},
   "outputs": [
    {
     "name": "stdout",
     "output_type": "stream",
     "text": [
      "(0, 'six')\n",
      "(1, 'eight')\n",
      "(2, 'two')\n",
      "(3, 'three')\n",
      "(4, 'four')\n",
      "(5, 'seven')\n",
      "(6, 'five')\n",
      "(7, 'one')\n"
     ]
    }
   ],
   "source": [
    "for i in enumerate(myset):\n",
    "    print(i)"
   ]
  },
  {
   "cell_type": "markdown",
   "id": "24001dfe-54f9-47db-a85d-2f29b23bb31d",
   "metadata": {},
   "source": [
    "## set Membership"
   ]
  },
  {
   "cell_type": "code",
   "execution_count": 133,
   "id": "4a231d01-4077-4906-8caa-931183dd23f7",
   "metadata": {},
   "outputs": [
    {
     "data": {
      "text/plain": [
       "{'eight', 'five', 'four', 'one', 'seven', 'six', 'three', 'two'}"
      ]
     },
     "execution_count": 133,
     "metadata": {},
     "output_type": "execute_result"
    }
   ],
   "source": [
    "myset"
   ]
  },
  {
   "cell_type": "code",
   "execution_count": 135,
   "id": "d773bb64-37ef-4e80-9a2a-586ab039696b",
   "metadata": {},
   "outputs": [
    {
     "data": {
      "text/plain": [
       "True"
      ]
     },
     "execution_count": 135,
     "metadata": {},
     "output_type": "execute_result"
    }
   ],
   "source": [
    "'one' in myset # Check if 'one' exist in the set"
   ]
  },
  {
   "cell_type": "code",
   "execution_count": 137,
   "id": "d9b6706e-aebc-43ed-af4b-d16cdba2dc06",
   "metadata": {},
   "outputs": [
    {
     "data": {
      "text/plain": [
       "False"
      ]
     },
     "execution_count": 137,
     "metadata": {},
     "output_type": "execute_result"
    }
   ],
   "source": [
    "'ten' in myset # Check if 'ten' exist in the set"
   ]
  },
  {
   "cell_type": "code",
   "execution_count": 139,
   "id": "34ebe3be-91ca-4055-a96b-ff9d3f2d9274",
   "metadata": {},
   "outputs": [
    {
     "name": "stdout",
     "output_type": "stream",
     "text": [
      "Three is present in the set\n"
     ]
    }
   ],
   "source": [
    "if'three' in myset: # Check if 'three' exist in the set\n",
    "    print('Three is present in the set')"
   ]
  },
  {
   "cell_type": "code",
   "execution_count": 141,
   "id": "96009f85-8f66-4aa5-b012-f071a8dcb673",
   "metadata": {},
   "outputs": [
    {
     "name": "stdout",
     "output_type": "stream",
     "text": [
      "Three is not present in the set\n"
     ]
    }
   ],
   "source": [
    "if 'elven' in myset: # Check if 'eleven' exist in the list\n",
    "    print('Three is present in the set')\n",
    "else:\n",
    "    print('Three is not present in the set')\n"
   ]
  },
  {
   "cell_type": "markdown",
   "id": "6ac4092e-9c76-41cf-a708-c0d7fb592bc0",
   "metadata": {},
   "source": [
    "## Add & Remove list"
   ]
  },
  {
   "cell_type": "code",
   "execution_count": 144,
   "id": "8f1b9b1a-dc72-4b94-a76f-0e09afda9678",
   "metadata": {},
   "outputs": [
    {
     "data": {
      "text/plain": [
       "{'eight', 'five', 'four', 'one', 'seven', 'six', 'three', 'two'}"
      ]
     },
     "execution_count": 144,
     "metadata": {},
     "output_type": "execute_result"
    }
   ],
   "source": [
    "myset"
   ]
  },
  {
   "cell_type": "code",
   "execution_count": 146,
   "id": "2d006593-d5e8-460b-84bc-4c65f57e917d",
   "metadata": {},
   "outputs": [
    {
     "data": {
      "text/plain": [
       "{'NINE', 'eight', 'five', 'four', 'one', 'seven', 'six', 'three', 'two'}"
      ]
     },
     "execution_count": 146,
     "metadata": {},
     "output_type": "execute_result"
    }
   ],
   "source": [
    "myset.add('NINE')  # Add item to a set using add() method\n",
    "myset"
   ]
  },
  {
   "cell_type": "code",
   "execution_count": 148,
   "id": "84b39132-73c2-4341-a589-ab3734d82940",
   "metadata": {},
   "outputs": [
    {
     "data": {
      "text/plain": [
       "{'ELEVEN',\n",
       " 'NINE',\n",
       " 'TEN',\n",
       " 'TWELVE',\n",
       " 'eight',\n",
       " 'five',\n",
       " 'four',\n",
       " 'one',\n",
       " 'seven',\n",
       " 'six',\n",
       " 'three',\n",
       " 'two'}"
      ]
     },
     "execution_count": 148,
     "metadata": {},
     "output_type": "execute_result"
    }
   ],
   "source": [
    "myset.update(['TEN','ELEVEN','TWELVE']) # Add multiple item to a set using \n",
    "myset"
   ]
  },
  {
   "cell_type": "code",
   "execution_count": 150,
   "id": "f79455cb-16b7-4d89-82fe-26b4f5f1446b",
   "metadata": {},
   "outputs": [
    {
     "data": {
      "text/plain": [
       "{'ELEVEN',\n",
       " 'TEN',\n",
       " 'TWELVE',\n",
       " 'eight',\n",
       " 'five',\n",
       " 'four',\n",
       " 'one',\n",
       " 'seven',\n",
       " 'six',\n",
       " 'three',\n",
       " 'two'}"
      ]
     },
     "execution_count": 150,
     "metadata": {},
     "output_type": "execute_result"
    }
   ],
   "source": [
    "myset.remove('NINE')  # remove item in a set using remove() method\n",
    "myset"
   ]
  },
  {
   "cell_type": "code",
   "execution_count": 152,
   "id": "e5513a9a-00a9-4524-abff-11574a9f7ad2",
   "metadata": {},
   "outputs": [
    {
     "data": {
      "text/plain": [
       "{'ELEVEN',\n",
       " 'TWELVE',\n",
       " 'eight',\n",
       " 'five',\n",
       " 'four',\n",
       " 'one',\n",
       " 'seven',\n",
       " 'six',\n",
       " 'three',\n",
       " 'two'}"
      ]
     },
     "execution_count": 152,
     "metadata": {},
     "output_type": "execute_result"
    }
   ],
   "source": [
    "myset.discard('TEN')  # remove item from a set using discard() method\n",
    "myset"
   ]
  },
  {
   "cell_type": "code",
   "execution_count": null,
   "id": "1cdf9e31-3862-4788-9fd1-9c73388d6888",
   "metadata": {},
   "outputs": [],
   "source": [
    "myset.clear()  # Delete all items in a set\n",
    "myset"
   ]
  },
  {
   "cell_type": "code",
   "execution_count": null,
   "id": "cc32e1b4-f253-431a-8e09-eed3db7aa2ff",
   "metadata": {},
   "outputs": [],
   "source": [
    "del myset  # Delete the set object\n",
    "myset"
   ]
  },
  {
   "cell_type": "markdown",
   "id": "250886b7-978e-4bda-a11a-686e21204aa0",
   "metadata": {},
   "source": [
    "## Copy Set"
   ]
  },
  {
   "cell_type": "code",
   "execution_count": 154,
   "id": "a93ced44-e2f6-4147-a0b8-ad412c27cd24",
   "metadata": {},
   "outputs": [
    {
     "data": {
      "text/plain": [
       "{'eight', 'five', 'four', 'one', 'seven', 'six', 'three', 'two'}"
      ]
     },
     "execution_count": 154,
     "metadata": {},
     "output_type": "execute_result"
    }
   ],
   "source": [
    "myset={'one','two','three','four','five','six','seven','eight'}\n",
    "myset"
   ]
  },
  {
   "cell_type": "code",
   "execution_count": 156,
   "id": "62a6289b-8cc7-4d85-8548-d19e75eb4d50",
   "metadata": {},
   "outputs": [
    {
     "data": {
      "text/plain": [
       "{'eight', 'five', 'four', 'one', 'seven', 'six', 'three', 'two'}"
      ]
     },
     "execution_count": 156,
     "metadata": {},
     "output_type": "execute_result"
    }
   ],
   "source": [
    "myset1=myset  # Create a new reference \"myset1\" \n",
    "myset1"
   ]
  },
  {
   "cell_type": "code",
   "execution_count": 160,
   "id": "72758fcc-8c09-4250-9422-6d8e32f21ce1",
   "metadata": {},
   "outputs": [
    {
     "data": {
      "text/plain": [
       "(2288024972288, 2288024972288)"
      ]
     },
     "execution_count": 160,
     "metadata": {},
     "output_type": "execute_result"
    }
   ],
   "source": [
    "id(myset),id(myset1) # The address of both myset & myset1 will be the same as"
   ]
  },
  {
   "cell_type": "code",
   "execution_count": 162,
   "id": "bcf38c6e-0bf9-4af7-8773-c04940e6c01b",
   "metadata": {},
   "outputs": [
    {
     "data": {
      "text/plain": [
       "{'eight', 'five', 'four', 'one', 'seven', 'six', 'three', 'two'}"
      ]
     },
     "execution_count": 162,
     "metadata": {},
     "output_type": "execute_result"
    }
   ],
   "source": [
    "my_set=myset.copy()  # Create a copy of the list\n",
    "myset"
   ]
  },
  {
   "cell_type": "code",
   "execution_count": 164,
   "id": "037adfec-c2c2-4d3a-8c62-070f3887822e",
   "metadata": {},
   "outputs": [
    {
     "data": {
      "text/plain": [
       "2288024968704"
      ]
     },
     "execution_count": 164,
     "metadata": {},
     "output_type": "execute_result"
    }
   ],
   "source": [
    "id(my_set)  # The address of my_set will be different from myset because my_set i"
   ]
  },
  {
   "cell_type": "code",
   "execution_count": 166,
   "id": "66dfcc01-e008-4046-b7a9-2b25460db6d2",
   "metadata": {},
   "outputs": [
    {
     "data": {
      "text/plain": [
       "{'eight', 'five', 'four', 'nine', 'one', 'seven', 'six', 'three', 'two'}"
      ]
     },
     "execution_count": 166,
     "metadata": {},
     "output_type": "execute_result"
    }
   ],
   "source": [
    "myset.add('nine')\n",
    "myset"
   ]
  },
  {
   "cell_type": "code",
   "execution_count": 168,
   "id": "413b467b-f4db-4d1f-8f77-48a501b83589",
   "metadata": {},
   "outputs": [
    {
     "data": {
      "text/plain": [
       "{'eight', 'five', 'four', 'nine', 'one', 'seven', 'six', 'three', 'two'}"
      ]
     },
     "execution_count": 168,
     "metadata": {},
     "output_type": "execute_result"
    }
   ],
   "source": [
    "myset1 # myset1 will be also impacted as it is pointing to the same Set "
   ]
  },
  {
   "cell_type": "code",
   "execution_count": 170,
   "id": "83b39ddf-de7a-492d-b981-8f70419420a4",
   "metadata": {},
   "outputs": [
    {
     "data": {
      "text/plain": [
       "{'eight', 'five', 'four', 'one', 'seven', 'six', 'three', 'two'}"
      ]
     },
     "execution_count": 170,
     "metadata": {},
     "output_type": "execute_result"
    }
   ],
   "source": [
    "my_set # Copy of the set won't be impacted due to changes made on the original Set"
   ]
  },
  {
   "cell_type": "markdown",
   "id": "604d3762-2309-4638-a881-73bc1a2b1e0e",
   "metadata": {},
   "source": [
    "## Set Operation"
   ]
  },
  {
   "cell_type": "markdown",
   "id": "a864a4f9-b4d5-423a-bdd7-28f6c783c4be",
   "metadata": {},
   "source": [
    "###### Union"
   ]
  },
  {
   "cell_type": "code",
   "execution_count": 174,
   "id": "c26c8280-37e6-42e0-9813-7ed9ea18d927",
   "metadata": {},
   "outputs": [],
   "source": [
    "A={1,2,3,4,5}\n",
    "B={4,5,5,6,7,8}\n",
    "C={8,9,10}"
   ]
  },
  {
   "cell_type": "code",
   "execution_count": 176,
   "id": "712eeda7-84e8-4f41-bf47-5bf68b417f36",
   "metadata": {},
   "outputs": [
    {
     "data": {
      "text/plain": [
       "{1, 2, 3, 4, 5, 6, 7, 8}"
      ]
     },
     "execution_count": 176,
     "metadata": {},
     "output_type": "execute_result"
    }
   ],
   "source": [
    "A|B # Union of A and B (All elements from both sets. NO DUPLICATES)"
   ]
  },
  {
   "cell_type": "code",
   "execution_count": 178,
   "id": "f4e37de9-74f8-4eac-8ed7-f204c33f95f7",
   "metadata": {},
   "outputs": [
    {
     "data": {
      "text/plain": [
       "{1, 2, 3, 4, 5, 6, 7, 8}"
      ]
     },
     "execution_count": 178,
     "metadata": {},
     "output_type": "execute_result"
    }
   ],
   "source": [
    "A.union(B) # Union of A and B (All elements from both sets. NO DUPLICATES)"
   ]
  },
  {
   "cell_type": "code",
   "execution_count": 182,
   "id": "349a355a-6491-4c79-9a34-0222c9580a3a",
   "metadata": {},
   "outputs": [
    {
     "data": {
      "text/plain": [
       "{1, 2, 3, 4, 5, 6, 7, 8, 9, 10}"
      ]
     },
     "execution_count": 182,
     "metadata": {},
     "output_type": "execute_result"
    }
   ],
   "source": [
    "A.union(B,C) # Union of A, B and C. # Union of A, B and C"
   ]
  },
  {
   "cell_type": "code",
   "execution_count": 184,
   "id": "78adfd5b-2ce3-4ed4-828d-d06c02304a23",
   "metadata": {},
   "outputs": [
    {
     "data": {
      "text/plain": [
       "{1, 2, 3, 4, 5, 6, 7, 8, 9, 10}"
      ]
     },
     "execution_count": 184,
     "metadata": {},
     "output_type": "execute_result"
    }
   ],
   "source": [
    "\"\"\"\n",
    "updates the set calling the update() method with union of A, B & C.\n",
    "For below example Set A Will be updated with Union of A, B & C.\n",
    "\"\"\"\n",
    "A.update(B,C)\n",
    "A"
   ]
  },
  {
   "cell_type": "markdown",
   "id": "5a77bc7c-bd6e-43dd-8dfe-a8726eab5429",
   "metadata": {},
   "source": [
    "#### Intersecation"
   ]
  },
  {
   "cell_type": "code",
   "execution_count": 187,
   "id": "c7a777cb-e99d-4949-b7e8-f025d255120d",
   "metadata": {},
   "outputs": [],
   "source": [
    "A={1,2,3,4,5}\n",
    "B={4,5,6,7,8}"
   ]
  },
  {
   "cell_type": "code",
   "execution_count": 193,
   "id": "9f77b329-a7ed-4ad6-89a8-baa559087642",
   "metadata": {},
   "outputs": [
    {
     "data": {
      "text/plain": [
       "{4, 5}"
      ]
     },
     "execution_count": 193,
     "metadata": {},
     "output_type": "execute_result"
    }
   ],
   "source": [
    "A & B # Intersection of A and B (Common items in both sets)"
   ]
  },
  {
   "cell_type": "code",
   "execution_count": 195,
   "id": "4d2022f1-f58c-4245-b0f9-86e8df6bc8c2",
   "metadata": {},
   "outputs": [
    {
     "ename": "SyntaxError",
     "evalue": "invalid syntax (3480536986.py, line 1)",
     "output_type": "error",
     "traceback": [
      "\u001b[1;36m  Cell \u001b[1;32mIn[195], line 1\u001b[1;36m\u001b[0m\n\u001b[1;33m    A.intersecation(B) Intersecation of A and B\u001b[0m\n\u001b[1;37m                       ^\u001b[0m\n\u001b[1;31mSyntaxError\u001b[0m\u001b[1;31m:\u001b[0m invalid syntax\n"
     ]
    }
   ],
   "source": [
    "A.intersecation(B) Intersecation of A and B"
   ]
  },
  {
   "cell_type": "code",
   "execution_count": 197,
   "id": "373bbcf0-73d7-4e46-af7f-4ac87f0132ad",
   "metadata": {},
   "outputs": [
    {
     "data": {
      "text/plain": [
       "{4, 5}"
      ]
     },
     "execution_count": 197,
     "metadata": {},
     "output_type": "execute_result"
    }
   ],
   "source": [
    "\"\"\"\n",
    "updates the set calling the intersection_update() method with the intersection o\n",
    "For below example Set A will be updated with the intersection of A & B.\n",
    "\"\"\"\n",
    "A.intersection_update(B)\n",
    "A"
   ]
  },
  {
   "cell_type": "markdown",
   "id": "37006a06-e408-447a-a9af-581b03b7d2f9",
   "metadata": {},
   "source": [
    "#### Dfference"
   ]
  },
  {
   "cell_type": "code",
   "execution_count": 201,
   "id": "544a3ec6-d60a-428e-a6ef-3f47df26df67",
   "metadata": {},
   "outputs": [],
   "source": [
    "A={1,2,3,4,5}\n",
    "B={4,5,6,7,8}"
   ]
  },
  {
   "cell_type": "code",
   "execution_count": 203,
   "id": "e27bf5d6-bc7f-4be4-ade8-cf37ec54b969",
   "metadata": {},
   "outputs": [
    {
     "data": {
      "text/plain": [
       "{1, 2, 3}"
      ]
     },
     "execution_count": 203,
     "metadata": {},
     "output_type": "execute_result"
    }
   ],
   "source": [
    "A-B  # set of elements that are only in A but not in B"
   ]
  },
  {
   "cell_type": "code",
   "execution_count": 205,
   "id": "b5894fab-b9d8-4eaa-8c1f-78205848c59d",
   "metadata": {},
   "outputs": [
    {
     "data": {
      "text/plain": [
       "{1, 2, 3}"
      ]
     },
     "execution_count": 205,
     "metadata": {},
     "output_type": "execute_result"
    }
   ],
   "source": [
    "A.difference(B) # Difference of sets"
   ]
  },
  {
   "cell_type": "code",
   "execution_count": 207,
   "id": "53cb4d9d-6e37-41b8-a586-e45832a1f02b",
   "metadata": {},
   "outputs": [
    {
     "data": {
      "text/plain": [
       "{6, 7, 8}"
      ]
     },
     "execution_count": 207,
     "metadata": {},
     "output_type": "execute_result"
    }
   ],
   "source": [
    "B - A # set of elements that are only in B but not in A"
   ]
  },
  {
   "cell_type": "code",
   "execution_count": 211,
   "id": "3d6e1ccd-44d8-4839-8b3b-7ea5fe05af9b",
   "metadata": {},
   "outputs": [
    {
     "data": {
      "text/plain": [
       "{6, 7, 8}"
      ]
     },
     "execution_count": 211,
     "metadata": {},
     "output_type": "execute_result"
    }
   ],
   "source": [
    "B.difference(A)"
   ]
  },
  {
   "cell_type": "code",
   "execution_count": 209,
   "id": "f6c6312f-e2f3-4a07-a461-3e6b96ac91dc",
   "metadata": {},
   "outputs": [
    {
     "data": {
      "text/plain": [
       "{6, 7, 8}"
      ]
     },
     "execution_count": 209,
     "metadata": {},
     "output_type": "execute_result"
    }
   ],
   "source": [
    "\"\"\"\n",
    "updates the set calling the difference_update() method with the difference of se For below\n",
    "example Set B will be updated with the difference of B & A.\n",
    "\"\"\"\n",
    "B.difference_update(A)\n",
    "B\n"
   ]
  },
  {
   "cell_type": "markdown",
   "id": "bcb0beb2-f9e9-4bcd-9af8-0d5d995a011a",
   "metadata": {},
   "source": [
    "#### Symmetric Difference"
   ]
  },
  {
   "cell_type": "code",
   "execution_count": 213,
   "id": "a036cd39-3de7-44e7-9465-754bd57a36cd",
   "metadata": {},
   "outputs": [],
   "source": [
    "A={1,2,3,4,5}\n",
    "B={4,5,6,7,8}"
   ]
  },
  {
   "cell_type": "code",
   "execution_count": 215,
   "id": "e8c4f1d2-f9d5-4d1f-bcfd-a0b99110e424",
   "metadata": {},
   "outputs": [
    {
     "data": {
      "text/plain": [
       "{1, 2, 3, 6, 7, 8}"
      ]
     },
     "execution_count": 215,
     "metadata": {},
     "output_type": "execute_result"
    }
   ],
   "source": [
    " A ^ B   # Symmetric difference (Set of elements in A and B but not in both. \"EXCLU"
   ]
  },
  {
   "cell_type": "code",
   "execution_count": 217,
   "id": "a68979db-c76c-410d-8b26-1470c15a5fc4",
   "metadata": {},
   "outputs": [
    {
     "data": {
      "text/plain": [
       "{1, 2, 3, 6, 7, 8}"
      ]
     },
     "execution_count": 217,
     "metadata": {},
     "output_type": "execute_result"
    }
   ],
   "source": [
    "A.symmetric_difference(B)  # Symmetric difference (Set of elements in A and B but not in both. \"EXCLU"
   ]
  },
  {
   "cell_type": "code",
   "execution_count": 219,
   "id": "36c4e661-c8b9-45ba-9f7a-a861234d015a",
   "metadata": {},
   "outputs": [
    {
     "data": {
      "text/plain": [
       "{1, 2, 3, 6, 7, 8}"
      ]
     },
     "execution_count": 219,
     "metadata": {},
     "output_type": "execute_result"
    }
   ],
   "source": [
    "\"\"\"\n",
    "updates the set calling the symmetric_update() method with the symmet\n",
    "For below example set A will be updated with the symmetric difference of A & B.\n",
    "\"\"\"\n",
    "A.symmetric_difference_update(B)\n",
    "A\n"
   ]
  },
  {
   "cell_type": "markdown",
   "id": "1d1297c9-10c7-431b-b011-eb30f8dfc0fc",
   "metadata": {},
   "source": [
    "#### subset, Superset & Disjoint"
   ]
  },
  {
   "cell_type": "code",
   "execution_count": 222,
   "id": "da4f611f-55c6-4da3-8fe7-180ea1327f75",
   "metadata": {},
   "outputs": [],
   "source": [
    "A={1,2,3,4,5,6,7,8,9}\n",
    "B={3,4,5,6,7,8}\n",
    "C={10,20,30,40}"
   ]
  },
  {
   "cell_type": "code",
   "execution_count": 224,
   "id": "05f79080-346b-4eb3-b571-ec066c81d52b",
   "metadata": {},
   "outputs": [
    {
     "data": {
      "text/plain": [
       "True"
      ]
     },
     "execution_count": 224,
     "metadata": {},
     "output_type": "execute_result"
    }
   ],
   "source": [
    "B.issubset(A) # Set B is said to be the subset of set A if all elements of B are"
   ]
  },
  {
   "cell_type": "code",
   "execution_count": 226,
   "id": "ae414c7f-7ee6-42ee-a6a9-bb1889f47f71",
   "metadata": {},
   "outputs": [
    {
     "data": {
      "text/plain": [
       "True"
      ]
     },
     "execution_count": 226,
     "metadata": {},
     "output_type": "execute_result"
    }
   ],
   "source": [
    "A.issuperset(B) # Set A is said to be the superset of set B if all elements of B"
   ]
  },
  {
   "cell_type": "code",
   "execution_count": 228,
   "id": "446b41c1-1cc8-4faf-8a1b-3df9e3990acc",
   "metadata": {},
   "outputs": [
    {
     "data": {
      "text/plain": [
       "True"
      ]
     },
     "execution_count": 228,
     "metadata": {},
     "output_type": "execute_result"
    }
   ],
   "source": [
    "C.isdisjoint(A) # Two sets are said to be disjoint sets if they have no common e"
   ]
  },
  {
   "cell_type": "code",
   "execution_count": 230,
   "id": "f61d0b7a-15e0-4e83-9894-d4f58d51b267",
   "metadata": {},
   "outputs": [
    {
     "data": {
      "text/plain": [
       "False"
      ]
     },
     "execution_count": 230,
     "metadata": {},
     "output_type": "execute_result"
    }
   ],
   "source": [
    "B.isdisjoint(A) # Two sets are said to be disjoint sets if they have no common e"
   ]
  },
  {
   "cell_type": "markdown",
   "id": "a65b98c2-c75d-4d6d-b760-c0db1509d9d3",
   "metadata": {},
   "source": [
    "## Other Builtin functions"
   ]
  },
  {
   "cell_type": "code",
   "execution_count": 232,
   "id": "29959436-072c-4d0f-874d-36c18e7b40ae",
   "metadata": {},
   "outputs": [
    {
     "data": {
      "text/plain": [
       "{1, 2, 3, 4, 5, 6, 7, 8, 9}"
      ]
     },
     "execution_count": 232,
     "metadata": {},
     "output_type": "execute_result"
    }
   ],
   "source": [
    "A"
   ]
  },
  {
   "cell_type": "code",
   "execution_count": 234,
   "id": "770d37f4-96b7-4bb4-b041-577881d27482",
   "metadata": {},
   "outputs": [
    {
     "data": {
      "text/plain": [
       "45"
      ]
     },
     "execution_count": 234,
     "metadata": {},
     "output_type": "execute_result"
    }
   ],
   "source": [
    "sum(A)"
   ]
  },
  {
   "cell_type": "code",
   "execution_count": 236,
   "id": "2e82c8db-899e-4e02-abc7-ea6f08ff40c6",
   "metadata": {},
   "outputs": [
    {
     "data": {
      "text/plain": [
       "9"
      ]
     },
     "execution_count": 236,
     "metadata": {},
     "output_type": "execute_result"
    }
   ],
   "source": [
    "max(A)"
   ]
  },
  {
   "cell_type": "code",
   "execution_count": 238,
   "id": "3c59f36f-162b-4ed6-99ea-01a9d261e0fc",
   "metadata": {},
   "outputs": [
    {
     "data": {
      "text/plain": [
       "1"
      ]
     },
     "execution_count": 238,
     "metadata": {},
     "output_type": "execute_result"
    }
   ],
   "source": [
    "min(A)"
   ]
  },
  {
   "cell_type": "code",
   "execution_count": 240,
   "id": "71a09eac-9fd7-476b-97e8-f1075bf0e6a9",
   "metadata": {},
   "outputs": [
    {
     "data": {
      "text/plain": [
       "9"
      ]
     },
     "execution_count": 240,
     "metadata": {},
     "output_type": "execute_result"
    }
   ],
   "source": [
    "len(A)"
   ]
  },
  {
   "cell_type": "code",
   "execution_count": 242,
   "id": "efbd4279-3882-45e2-b3e0-8a35dda81cd3",
   "metadata": {},
   "outputs": [
    {
     "data": {
      "text/plain": [
       "[(0, 1), (1, 2), (2, 3), (3, 4), (4, 5), (5, 6), (6, 7), (7, 8), (8, 9)]"
      ]
     },
     "execution_count": 242,
     "metadata": {},
     "output_type": "execute_result"
    }
   ],
   "source": [
    "list(enumerate(A))"
   ]
  },
  {
   "cell_type": "code",
   "execution_count": 244,
   "id": "b784ff9a-2812-40b5-8ed6-e90ed63b8ff4",
   "metadata": {},
   "outputs": [
    {
     "data": {
      "text/plain": [
       "[9, 8, 7, 6, 5, 4, 3, 2, 1]"
      ]
     },
     "execution_count": 244,
     "metadata": {},
     "output_type": "execute_result"
    }
   ],
   "source": [
    "D= sorted(A,reverse=True)\n",
    "D"
   ]
  },
  {
   "cell_type": "code",
   "execution_count": 246,
   "id": "543bd66c-1e8d-4275-9188-a312bff2978b",
   "metadata": {},
   "outputs": [
    {
     "data": {
      "text/plain": [
       "[1, 2, 3, 4, 5, 6, 7, 8, 9]"
      ]
     },
     "execution_count": 246,
     "metadata": {},
     "output_type": "execute_result"
    }
   ],
   "source": [
    "sorted (D)"
   ]
  },
  {
   "cell_type": "markdown",
   "id": "8a0cd0ae-fe55-448b-8b42-26da4897edc7",
   "metadata": {},
   "source": [
    "## Dicitionary"
   ]
  },
  {
   "cell_type": "markdown",
   "id": "04016038-6417-4e9b-a32b-6d906c42d489",
   "metadata": {},
   "source": [
    ". Dictionary is a mutable data type in python."
   ]
  },
  {
   "cell_type": "markdown",
   "id": "79049171-bd49-4e57-9049-222bf17750dd",
   "metadata": {},
   "source": [
    ". A python dicionary is a collection of key and value pairs separated by a colon(:) &\n",
    "  enclosed in curly braces{}."
   ]
  },
  {
   "cell_type": "markdown",
   "id": "a3022e5d-63ac-46fc-bae9-d7a721d8a346",
   "metadata": {},
   "source": [
    ". keys must be unique in a dictionary, duplicate values are allowed."
   ]
  },
  {
   "cell_type": "markdown",
   "id": "20ab6622-a3bb-4431-9682-f503016086a9",
   "metadata": {},
   "source": [
    "## create Dictionary"
   ]
  },
  {
   "cell_type": "code",
   "execution_count": 254,
   "id": "0a1e88d5-e38e-4e54-abb8-eeaabf6de4c7",
   "metadata": {},
   "outputs": [
    {
     "data": {
      "text/plain": [
       "{}"
      ]
     },
     "execution_count": 254,
     "metadata": {},
     "output_type": "execute_result"
    }
   ],
   "source": [
    "mydict = dict() ) # empty dictionary\n",
    "mydict"
   ]
  },
  {
   "cell_type": "code",
   "execution_count": 256,
   "id": "f3a9c781-4b5b-42f5-82ff-6009ced2dd13",
   "metadata": {},
   "outputs": [
    {
     "data": {
      "text/plain": [
       "{}"
      ]
     },
     "execution_count": 256,
     "metadata": {},
     "output_type": "execute_result"
    }
   ],
   "source": [
    "mydict={} ) # empty dictionary \n",
    "mydict"
   ]
  },
  {
   "cell_type": "code",
   "execution_count": 258,
   "id": "157bf4d3-8402-4984-bfc3-c1bb38a8ac48",
   "metadata": {},
   "outputs": [
    {
     "data": {
      "text/plain": [
       "{1: 'óne', 2: 'two', 3: 'three'}"
      ]
     },
     "execution_count": 258,
     "metadata": {},
     "output_type": "execute_result"
    }
   ],
   "source": [
    "mydict={1:'óne',2:'two',3:'three'} # dictionary with integer keys\n",
    "mydict"
   ]
  },
  {
   "cell_type": "code",
   "execution_count": 1,
   "id": "916e03f5-9c84-4c79-b118-8cc3a2efd0fb",
   "metadata": {},
   "outputs": [
    {
     "data": {
      "text/plain": [
       "{1: 'one', 2: 'two', 3: 'three'}"
      ]
     },
     "execution_count": 1,
     "metadata": {},
     "output_type": "execute_result"
    }
   ],
   "source": [
    "mydict = dict({1:'one' , 2:'two' , 3:'three'}) # Create dictionary using dict() \n",
    "mydict"
   ]
  },
  {
   "cell_type": "code",
   "execution_count": null,
   "id": "1f7dcf22-c172-4010-9e2b-068e7829fcbf",
   "metadata": {},
   "outputs": [],
   "source": []
  },
  {
   "cell_type": "code",
   "execution_count": 3,
   "id": "e5cf64ca-db84-49fa-adea-f3642164b17a",
   "metadata": {},
   "outputs": [
    {
     "data": {
      "text/plain": [
       "{'A': 'one', 'B': 'two', 'C': 'three'}"
      ]
     },
     "execution_count": 3,
     "metadata": {},
     "output_type": "execute_result"
    }
   ],
   "source": [
    "mydict = {'A':'one' , 'B':'two' , 'C':'three'} # dictionary with character keys \n",
    "mydict"
   ]
  },
  {
   "cell_type": "code",
   "execution_count": 262,
   "id": "31f70f03-284d-4d34-a2d7-24b727bdaadf",
   "metadata": {},
   "outputs": [
    {
     "data": {
      "text/plain": [
       "{1: 'one', 'A': 'two', 3: 'three'}"
      ]
     },
     "execution_count": 262,
     "metadata": {},
     "output_type": "execute_result"
    }
   ],
   "source": [
    "mydict={1:'one','A':'two',3:'three'}  # dictionary with mixed keys\n",
    "mydict"
   ]
  },
  {
   "cell_type": "code",
   "execution_count": 264,
   "id": "94c3a89c-2fb1-4743-8ab0-565d4326179e",
   "metadata": {},
   "outputs": [
    {
     "data": {
      "text/plain": [
       "dict_keys([1, 'A', 3])"
      ]
     },
     "execution_count": 264,
     "metadata": {},
     "output_type": "execute_result"
    }
   ],
   "source": [
    "mydict.keys()  # Return Dictionary Keys using keys() method"
   ]
  },
  {
   "cell_type": "code",
   "execution_count": 266,
   "id": "7d4e7ba1-1cb8-4d1e-83f0-6294a5af0f02",
   "metadata": {},
   "outputs": [
    {
     "data": {
      "text/plain": [
       "dict_values(['one', 'two', 'three'])"
      ]
     },
     "execution_count": 266,
     "metadata": {},
     "output_type": "execute_result"
    }
   ],
   "source": [
    "mydict.values()  # Return Dictionary Values using values() method "
   ]
  },
  {
   "cell_type": "code",
   "execution_count": 268,
   "id": "a5a6c189-285f-4501-9887-2c0eac1d443d",
   "metadata": {},
   "outputs": [
    {
     "data": {
      "text/plain": [
       "dict_items([(1, 'one'), ('A', 'two'), (3, 'three')])"
      ]
     },
     "execution_count": 268,
     "metadata": {},
     "output_type": "execute_result"
    }
   ],
   "source": [
    "mydict.items()  # Access each key-value pair within a dictionary"
   ]
  },
  {
   "cell_type": "code",
   "execution_count": 270,
   "id": "e9b9bfdd-eda2-46f1-a7a3-4bbd684721ff",
   "metadata": {},
   "outputs": [
    {
     "data": {
      "text/plain": [
       "{1: 'one', 2: 'two', 'A': ['asif', 'john', 'Maria']}"
      ]
     },
     "execution_count": 270,
     "metadata": {},
     "output_type": "execute_result"
    }
   ],
   "source": [
    "mydict={1:'one',2:'two','A':['asif','john','Maria']} # dictionary with\n",
    "mydict"
   ]
  },
  {
   "cell_type": "code",
   "execution_count": 272,
   "id": "45615710-8175-42a5-8202-3208f82d644a",
   "metadata": {},
   "outputs": [
    {
     "data": {
      "text/plain": [
       "{1: 'one',\n",
       " 2: 'two',\n",
       " 'A': ['asif', 'john', 'Maria'],\n",
       " 'B': ('Bat', 'cat', 'hat')}"
      ]
     },
     "execution_count": 272,
     "metadata": {},
     "output_type": "execute_result"
    }
   ],
   "source": [
    "mydict={1:'one',2:'two','A':['asif','john','Maria'],'B':('Bat','cat','hat')}\n",
    "mydict"
   ]
  },
  {
   "cell_type": "code",
   "execution_count": 274,
   "id": "62ef6470-d957-4d89-8a5c-e441948603d9",
   "metadata": {},
   "outputs": [
    {
     "data": {
      "text/plain": [
       "{1: 'one',\n",
       " 2: 'two',\n",
       " 'A': {'Name': 'asif', 'Age': 20},\n",
       " 'B': ('Bat', 'cat', 'hat')}"
      ]
     },
     "execution_count": 274,
     "metadata": {},
     "output_type": "execute_result"
    }
   ],
   "source": [
    "mydict={1:'one',2:'two','A':{'Name':'asif','Age':20},'B':('Bat','cat','hat')}\n",
    "mydict"
   ]
  },
  {
   "cell_type": "code",
   "execution_count": 276,
   "id": "152e8f7a-4c89-4667-8ee2-470ba44daa8f",
   "metadata": {},
   "outputs": [
    {
     "data": {
      "text/plain": [
       "{'c': None, 'a': None, 'd': None, 'b': None}"
      ]
     },
     "execution_count": 276,
     "metadata": {},
     "output_type": "execute_result"
    }
   ],
   "source": [
    "keys={'a','b','c','d'}\n",
    "mydict3=dict.fromkeys(keys)\n",
    "mydict3"
   ]
  },
  {
   "cell_type": "code",
   "execution_count": 278,
   "id": "39f7be3d-88de-4d21-a9d0-3aa6f1d6a410",
   "metadata": {},
   "outputs": [
    {
     "data": {
      "text/plain": [
       "{'c': 10, 'a': 10, 'd': 10, 'b': 10}"
      ]
     },
     "execution_count": 278,
     "metadata": {},
     "output_type": "execute_result"
    }
   ],
   "source": [
    "keys={'a','b','c','d'}\n",
    "value=10\n",
    "mydict3=dict.fromkeys(keys,value) # Create a dictionary from a sequence of keys\n",
    "mydict3"
   ]
  },
  {
   "cell_type": "code",
   "execution_count": 280,
   "id": "19a2dda1-c0eb-4e3f-ba14-a3d3d305239d",
   "metadata": {},
   "outputs": [
    {
     "data": {
      "text/plain": [
       "{'c': [10, 20, 30], 'a': [10, 20, 30], 'd': [10, 20, 30], 'b': [10, 20, 30]}"
      ]
     },
     "execution_count": 280,
     "metadata": {},
     "output_type": "execute_result"
    }
   ],
   "source": [
    "keys={'a','b','c','d'}\n",
    "value=[10,20,30]\n",
    "mydict3=dict.fromkeys(keys,value) # Create a dictionary from a sequence of\n",
    "mydict3"
   ]
  },
  {
   "cell_type": "code",
   "execution_count": 282,
   "id": "aa811af4-b2ee-4017-b241-d99b31fba415",
   "metadata": {},
   "outputs": [
    {
     "data": {
      "text/plain": [
       "{'c': [10, 20, 30, 40],\n",
       " 'a': [10, 20, 30, 40],\n",
       " 'd': [10, 20, 30, 40],\n",
       " 'b': [10, 20, 30, 40]}"
      ]
     },
     "execution_count": 282,
     "metadata": {},
     "output_type": "execute_result"
    }
   ],
   "source": [
    "value.append(40)\n",
    "mydict3"
   ]
  },
  {
   "cell_type": "markdown",
   "id": "fcad791e-8444-4021-b7be-0682bf38cb75",
   "metadata": {},
   "source": [
    "#### Accessing Items"
   ]
  },
  {
   "cell_type": "code",
   "execution_count": 285,
   "id": "17d4ce02-d168-4de4-b8d1-d953154fdfb4",
   "metadata": {},
   "outputs": [
    {
     "data": {
      "text/plain": [
       "{1: 'one', 2: 'two', 3: 'three', 4: 'four'}"
      ]
     },
     "execution_count": 285,
     "metadata": {},
     "output_type": "execute_result"
    }
   ],
   "source": [
    "mydict={1:'one',2:'two',3:'three',4:'four'}\n",
    "mydict"
   ]
  },
  {
   "cell_type": "code",
   "execution_count": 287,
   "id": "1310a77c-9f4c-4cf5-9119-b97124a2d9fe",
   "metadata": {},
   "outputs": [
    {
     "data": {
      "text/plain": [
       "'one'"
      ]
     },
     "execution_count": 287,
     "metadata": {},
     "output_type": "execute_result"
    }
   ],
   "source": [
    "mydict[1]  # Access item using key"
   ]
  },
  {
   "cell_type": "code",
   "execution_count": 289,
   "id": "bf30da50-92a8-4602-bda4-0b74b9d0d917",
   "metadata": {},
   "outputs": [
    {
     "data": {
      "text/plain": [
       "'one'"
      ]
     },
     "execution_count": 289,
     "metadata": {},
     "output_type": "execute_result"
    }
   ],
   "source": [
    "mydict.get(1) # Access item using get() method"
   ]
  },
  {
   "cell_type": "code",
   "execution_count": 291,
   "id": "a632254e-08d2-4525-9d12-44cd0e7a7fec",
   "metadata": {},
   "outputs": [
    {
     "data": {
      "text/plain": [
       "{'Name': 'Asif', 'ID': 74123, 'DOB': 1991, 'job': 'Analyst'}"
      ]
     },
     "execution_count": 291,
     "metadata": {},
     "output_type": "execute_result"
    }
   ],
   "source": [
    "mydict1={'Name':'Asif','ID':74123,'DOB':1991,'job':'Analyst'}\n",
    "mydict1"
   ]
  },
  {
   "cell_type": "code",
   "execution_count": 293,
   "id": "8c997966-4842-419e-97e3-cd8904923f8c",
   "metadata": {},
   "outputs": [
    {
     "data": {
      "text/plain": [
       "'Asif'"
      ]
     },
     "execution_count": 293,
     "metadata": {},
     "output_type": "execute_result"
    }
   ],
   "source": [
    "mydict1['Name']  # Access item using key\n",
    "'Asif'"
   ]
  },
  {
   "cell_type": "code",
   "execution_count": 295,
   "id": "9a070033-b73a-428a-8012-cfe62e57b91a",
   "metadata": {},
   "outputs": [
    {
     "data": {
      "text/plain": [
       "'Analyst'"
      ]
     },
     "execution_count": 295,
     "metadata": {},
     "output_type": "execute_result"
    }
   ],
   "source": [
    "mydict1.get('job') # Access item using get() method"
   ]
  },
  {
   "cell_type": "markdown",
   "id": "ab6fd9d9-ade4-4e58-9243-dbadf839f38c",
   "metadata": {},
   "source": [
    "## Add,Remove & Change Items"
   ]
  },
  {
   "cell_type": "code",
   "execution_count": 298,
   "id": "11b37c23-c5e9-4668-950b-fdb08cc816cf",
   "metadata": {},
   "outputs": [
    {
     "data": {
      "text/plain": [
       "{'Name': 'Asif', 'ID': 12345, 'DOB': 1991, 'Address': 'Hilsinki'}"
      ]
     },
     "execution_count": 298,
     "metadata": {},
     "output_type": "execute_result"
    }
   ],
   "source": [
    "mydict1={'Name':'Asif','ID':12345,'DOB':1991,'Address':'Hilsinki'}\n",
    "mydict1"
   ]
  },
  {
   "cell_type": "code",
   "execution_count": 300,
   "id": "c4d8e57f-a1a1-406a-815d-a1369c05f970",
   "metadata": {},
   "outputs": [
    {
     "data": {
      "text/plain": [
       "{'Name': 'Asif', 'ID': 12345, 'DOB': 1992, 'Address': 'Delihi'}"
      ]
     },
     "execution_count": 300,
     "metadata": {},
     "output_type": "execute_result"
    }
   ],
   "source": [
    "mydict1['DOB']=1992 # Changing Dictionary Items\n",
    "mydict1['Address']='Delihi'\n",
    "mydict1"
   ]
  },
  {
   "cell_type": "code",
   "execution_count": 304,
   "id": "b078ac50-3ea7-413c-986f-c6e6cfd39459",
   "metadata": {},
   "outputs": [
    {
     "data": {
      "text/plain": [
       "{'Name': 'Asif', 'ID': 12345, 'DOB': 1995, 'Address': 'Delhi'}"
      ]
     },
     "execution_count": 304,
     "metadata": {},
     "output_type": "execute_result"
    }
   ],
   "source": [
    "dict1={'DOB':1995}\n",
    "mydict1.update(dict1)\n",
    "mydict1"
   ]
  },
  {
   "cell_type": "code",
   "execution_count": 306,
   "id": "751cea06-9b3f-4ca1-b312-1475d2e984f6",
   "metadata": {},
   "outputs": [
    {
     "data": {
      "text/plain": [
       "{'Name': 'Asif',\n",
       " 'ID': 12345,\n",
       " 'DOB': 1995,\n",
       " 'Address': 'Delhi',\n",
       " 'Job': 'Analyst'}"
      ]
     },
     "execution_count": 306,
     "metadata": {},
     "output_type": "execute_result"
    }
   ],
   "source": [
    "mydict1['Job']='Analyst' # Adding items in the dictionar\n",
    "mydict1"
   ]
  },
  {
   "cell_type": "code",
   "execution_count": 308,
   "id": "7965b50d-7818-49e9-9216-07d6a18cbc99",
   "metadata": {},
   "outputs": [
    {
     "data": {
      "text/plain": [
       "{'Name': 'Asif', 'ID': 12345, 'DOB': 1995, 'Address': 'Delhi'}"
      ]
     },
     "execution_count": 308,
     "metadata": {},
     "output_type": "execute_result"
    }
   ],
   "source": [
    "mydict1.pop('Job') # Removing items in the dictionary using Pop method\n",
    "mydict1"
   ]
  },
  {
   "cell_type": "code",
   "execution_count": 310,
   "id": "a5ad2666-7ad0-4aaa-80a3-6b67f3f7da85",
   "metadata": {},
   "outputs": [
    {
     "data": {
      "text/plain": [
       "('Address', 'Delhi')"
      ]
     },
     "execution_count": 310,
     "metadata": {},
     "output_type": "execute_result"
    }
   ],
   "source": [
    "mydict1.popitem()  # A random item is removed"
   ]
  },
  {
   "cell_type": "code",
   "execution_count": 312,
   "id": "41e8bd6c-d716-44a4-92e0-d0adb82a642d",
   "metadata": {},
   "outputs": [
    {
     "data": {
      "text/plain": [
       "{'Name': 'Asif', 'ID': 12345, 'DOB': 1995}"
      ]
     },
     "execution_count": 312,
     "metadata": {},
     "output_type": "execute_result"
    }
   ],
   "source": [
    "mydict1"
   ]
  },
  {
   "cell_type": "code",
   "execution_count": 314,
   "id": "637d984a-5ad3-4ebb-b5eb-fa5afe1df47e",
   "metadata": {},
   "outputs": [
    {
     "data": {
      "text/plain": [
       "{'Name': 'Asif', 'DOB': 1995}"
      ]
     },
     "execution_count": 314,
     "metadata": {},
     "output_type": "execute_result"
    }
   ],
   "source": [
    "del[mydict1['ID']] # Removing item using del method\n",
    "mydict1"
   ]
  },
  {
   "cell_type": "code",
   "execution_count": 316,
   "id": "3636b47a-7ae8-4ab5-bd00-d19e2dc6d411",
   "metadata": {},
   "outputs": [
    {
     "data": {
      "text/plain": [
       "{}"
      ]
     },
     "execution_count": 316,
     "metadata": {},
     "output_type": "execute_result"
    }
   ],
   "source": [
    "mydict1.clear() # Delete all items of the dictionary using clear method\n",
    "mydict1"
   ]
  },
  {
   "cell_type": "code",
   "execution_count": 318,
   "id": "d99e86f5-bbe1-4c20-8357-f41e190e2086",
   "metadata": {},
   "outputs": [
    {
     "ename": "NameError",
     "evalue": "name 'mydict1' is not defined",
     "output_type": "error",
     "traceback": [
      "\u001b[1;31m---------------------------------------------------------------------------\u001b[0m",
      "\u001b[1;31mNameError\u001b[0m                                 Traceback (most recent call last)",
      "Cell \u001b[1;32mIn[318], line 2\u001b[0m\n\u001b[0;32m      1\u001b[0m \u001b[38;5;28;01mdel\u001b[39;00m mydict1\n\u001b[1;32m----> 2\u001b[0m mydict1\n",
      "\u001b[1;31mNameError\u001b[0m: name 'mydict1' is not defined"
     ]
    }
   ],
   "source": [
    "del mydict1  # Delete the dictionary object\n",
    "mydict1"
   ]
  },
  {
   "cell_type": "markdown",
   "id": "8790a03d-18eb-4c8d-b4d3-ada76a4f2241",
   "metadata": {},
   "source": [
    "#### Copy Dictionary"
   ]
  },
  {
   "cell_type": "code",
   "execution_count": 321,
   "id": "96997eb1-bd72-4814-8c4c-a403b6e2ef48",
   "metadata": {},
   "outputs": [
    {
     "data": {
      "text/plain": [
       "{'Name': 'Asif', 'ID': 12345, 'DOB': 1991, 'Address': 'Hilsinki'}"
      ]
     },
     "execution_count": 321,
     "metadata": {},
     "output_type": "execute_result"
    }
   ],
   "source": [
    "mydict = {'Name':'Asif','ID':12345,'DOB':1991,'Address':'Hilsinki'}\n",
    "mydict"
   ]
  },
  {
   "cell_type": "code",
   "execution_count": 323,
   "id": "a1696572-4ada-4c0e-a6e7-2b5aafc87cad",
   "metadata": {},
   "outputs": [],
   "source": [
    "mydict1 = mydict  # Create a new reference \"mydict1\""
   ]
  },
  {
   "cell_type": "code",
   "execution_count": 325,
   "id": "3f06c02f-4309-4b83-8462-d1211f524893",
   "metadata": {},
   "outputs": [
    {
     "data": {
      "text/plain": [
       "(2288039070144, 2288039070144)"
      ]
     },
     "execution_count": 325,
     "metadata": {},
     "output_type": "execute_result"
    }
   ],
   "source": [
    "id(mydict),id(mydict1) # The address of both mydict & mydict1 will be the same"
   ]
  },
  {
   "cell_type": "code",
   "execution_count": 327,
   "id": "ab831274-6eaf-4eea-aa9d-2936deef8d1c",
   "metadata": {},
   "outputs": [],
   "source": [
    "mydict2=mydict.copy()  # Create a copy of the dictionary"
   ]
  },
  {
   "cell_type": "code",
   "execution_count": 329,
   "id": "8f3f1ecf-fffc-44aa-bdd6-9f0378507406",
   "metadata": {},
   "outputs": [
    {
     "data": {
      "text/plain": [
       "2288038666624"
      ]
     },
     "execution_count": 329,
     "metadata": {},
     "output_type": "execute_result"
    }
   ],
   "source": [
    "id(mydict2)  # The address of mydict2 will be different from mydict because mydic"
   ]
  },
  {
   "cell_type": "code",
   "execution_count": 331,
   "id": "a4197d25-fb50-4d5d-a271-cfeef9e24903",
   "metadata": {},
   "outputs": [],
   "source": [
    "mydict['Address']='Mumbai'"
   ]
  },
  {
   "cell_type": "code",
   "execution_count": 333,
   "id": "a2042018-7b29-43c7-9940-2937d4dbdf4f",
   "metadata": {},
   "outputs": [
    {
     "data": {
      "text/plain": [
       "{'Name': 'Asif', 'ID': 12345, 'DOB': 1991, 'Address': 'Mumbai'}"
      ]
     },
     "execution_count": 333,
     "metadata": {},
     "output_type": "execute_result"
    }
   ],
   "source": [
    "mydict"
   ]
  },
  {
   "cell_type": "code",
   "execution_count": 335,
   "id": "ba545878-8ecf-4e6c-a668-e80bc2ffad00",
   "metadata": {},
   "outputs": [
    {
     "data": {
      "text/plain": [
       "{'Name': 'Asif', 'ID': 12345, 'DOB': 1991, 'Address': 'Mumbai'}"
      ]
     },
     "execution_count": 335,
     "metadata": {},
     "output_type": "execute_result"
    }
   ],
   "source": [
    "mydict1  # mydict1 will be also impacted as it is pointing to the same dictionary"
   ]
  },
  {
   "cell_type": "code",
   "execution_count": 337,
   "id": "93b4a730-d84f-4e43-ba96-6b9c755d4a03",
   "metadata": {},
   "outputs": [
    {
     "data": {
      "text/plain": [
       "{'Name': 'Asif', 'ID': 12345, 'DOB': 1991, 'Address': 'Hilsinki'}"
      ]
     },
     "execution_count": 337,
     "metadata": {},
     "output_type": "execute_result"
    }
   ],
   "source": [
    "mydict2 # Copy of list won't be impacted due to the changes made in the original"
   ]
  },
  {
   "cell_type": "markdown",
   "id": "5881fef4-7fa0-41c5-a9dc-9b346412dbdc",
   "metadata": {},
   "source": [
    "#### Loop through a Dictionary"
   ]
  },
  {
   "cell_type": "code",
   "execution_count": 340,
   "id": "c223b8c8-bd5e-4e48-8165-73668687718c",
   "metadata": {},
   "outputs": [
    {
     "data": {
      "text/plain": [
       "{'Name': 'Asif',\n",
       " 'ID': 12345,\n",
       " 'DOB': 1991,\n",
       " 'Address': 'Hilsinki',\n",
       " 'Job': 'Analyst'}"
      ]
     },
     "execution_count": 340,
     "metadata": {},
     "output_type": "execute_result"
    }
   ],
   "source": [
    "mydict1={'Name':'Asif','ID':12345,'DOB':1991,'Address':'Hilsinki','Job':'Analyst'}\n",
    "mydict1"
   ]
  },
  {
   "cell_type": "code",
   "execution_count": 342,
   "id": "2065041f-9ad5-428f-999f-3225ca11d490",
   "metadata": {},
   "outputs": [
    {
     "name": "stdout",
     "output_type": "stream",
     "text": [
      "Name : Asif\n",
      "ID : 12345\n",
      "DOB : 1991\n",
      "Address : Hilsinki\n",
      "Job : Analyst\n"
     ]
    }
   ],
   "source": [
    "for i in mydict1:\n",
    "    print(i,':',mydict1[i])  # Key & value pair"
   ]
  },
  {
   "cell_type": "code",
   "execution_count": 344,
   "id": "1f0d1b06-5701-4cb0-ad1f-77fa0bd79663",
   "metadata": {},
   "outputs": [
    {
     "name": "stdout",
     "output_type": "stream",
     "text": [
      "Asif\n",
      "12345\n",
      "1991\n",
      "Hilsinki\n"
     ]
    }
   ],
   "source": [
    "for i in mydict:\n",
    "    print(mydict1[i])  # Dictionary items"
   ]
  },
  {
   "cell_type": "markdown",
   "id": "368fba98-4f77-4fcc-a3ae-f2713c64db06",
   "metadata": {},
   "source": [
    "#### Dictionary Membership"
   ]
  },
  {
   "cell_type": "code",
   "execution_count": 347,
   "id": "897d801b-505c-4c95-bd6c-874716139d27",
   "metadata": {},
   "outputs": [
    {
     "data": {
      "text/plain": [
       "{'Name': 'Asif', 'ID': 12345, 'DOB': 1991, 'Job': 'Anaiyst'}"
      ]
     },
     "execution_count": 347,
     "metadata": {},
     "output_type": "execute_result"
    }
   ],
   "source": [
    "mydict1={'Name':'Asif','ID':12345,'DOB':1991,'Job':'Anaiyst'}\n",
    "mydict1"
   ]
  },
  {
   "cell_type": "code",
   "execution_count": 349,
   "id": "928af98f-8a59-4442-bba0-9d47ce32794f",
   "metadata": {},
   "outputs": [
    {
     "data": {
      "text/plain": [
       "True"
      ]
     },
     "execution_count": 349,
     "metadata": {},
     "output_type": "execute_result"
    }
   ],
   "source": [
    "'Name' in mydict1 # Test if a key is in a dictionary or not."
   ]
  },
  {
   "cell_type": "code",
   "execution_count": 351,
   "id": "2940c8de-ab9f-4d2a-8b6c-0576803f7eea",
   "metadata": {},
   "outputs": [
    {
     "data": {
      "text/plain": [
       "False"
      ]
     },
     "execution_count": 351,
     "metadata": {},
     "output_type": "execute_result"
    }
   ],
   "source": [
    "'Asif'in mydict1"
   ]
  },
  {
   "cell_type": "code",
   "execution_count": 353,
   "id": "7b2e25b2-33b5-4ab4-986c-872237d33a31",
   "metadata": {},
   "outputs": [
    {
     "data": {
      "text/plain": [
       "True"
      ]
     },
     "execution_count": 353,
     "metadata": {},
     "output_type": "execute_result"
    }
   ],
   "source": [
    "'ID' in mydict1"
   ]
  },
  {
   "cell_type": "code",
   "execution_count": 355,
   "id": "8cf68386-35cc-4f9e-84b9-473daa9423ba",
   "metadata": {},
   "outputs": [
    {
     "data": {
      "text/plain": [
       "False"
      ]
     },
     "execution_count": 355,
     "metadata": {},
     "output_type": "execute_result"
    }
   ],
   "source": [
    "'Address' in mydict1"
   ]
  },
  {
   "cell_type": "markdown",
   "id": "85c5a719-a9d5-40b6-b1b0-dc0455bfded9",
   "metadata": {},
   "source": [
    "#### All/Any"
   ]
  },
  {
   "cell_type": "markdown",
   "id": "9c9e32b1-aa70-4237-89f9-bfdccac5aa8a",
   "metadata": {},
   "source": [
    "The all() method returns:"
   ]
  },
  {
   "cell_type": "markdown",
   "id": "2539d25a-2d2c-4a2f-aa52-10fb10dad3cc",
   "metadata": {},
   "source": [
    ". True-If all all keys of the dictionary are true"
   ]
  },
  {
   "cell_type": "markdown",
   "id": "087f4266-e3da-4575-8fcc-00526e2c0196",
   "metadata": {},
   "source": [
    ".False-If any key() function returns True if any key of the dictionary is True.If not.any\n",
    "() returns False."
   ]
  },
  {
   "cell_type": "code",
   "execution_count": 361,
   "id": "c72d5fa6-6c80-4742-b05b-f5f0da1b515f",
   "metadata": {},
   "outputs": [
    {
     "data": {
      "text/plain": [
       "{'Name': 'Asif', 'ID': 12345, 'DOB': 1991, 'Job': 'Analyst'}"
      ]
     },
     "execution_count": 361,
     "metadata": {},
     "output_type": "execute_result"
    }
   ],
   "source": [
    "mydict1={'Name':'Asif','ID':12345,'DOB':1991,'Job':'Analyst'}\n",
    "mydict1"
   ]
  },
  {
   "cell_type": "code",
   "execution_count": 363,
   "id": "6c147e93-72a9-4f0d-8d7a-5c8d1ac8ec08",
   "metadata": {},
   "outputs": [
    {
     "data": {
      "text/plain": [
       "True"
      ]
     },
     "execution_count": 363,
     "metadata": {},
     "output_type": "execute_result"
    }
   ],
   "source": [
    "all(mydict1) # Will Return false as one value is false (Value 0) "
   ]
  },
  {
   "cell_type": "code",
   "execution_count": null,
   "id": "de53d81c-1adb-4f3a-8485-7194832dfecd",
   "metadata": {},
   "outputs": [],
   "source": []
  },
  {
   "cell_type": "code",
   "execution_count": null,
   "id": "98f3a7b8-720b-4524-8f7d-3f04e7fd7f23",
   "metadata": {},
   "outputs": [],
   "source": []
  },
  {
   "cell_type": "code",
   "execution_count": null,
   "id": "bb99d951-dfef-4835-bc6d-8eef61541107",
   "metadata": {},
   "outputs": [],
   "source": []
  },
  {
   "cell_type": "code",
   "execution_count": null,
   "id": "4b1b6a33-3840-4f03-a0d7-29dfc6ee22ca",
   "metadata": {},
   "outputs": [],
   "source": []
  }
 ],
 "metadata": {
  "kernelspec": {
   "display_name": "Python 3 (ipykernel)",
   "language": "python",
   "name": "python3"
  },
  "language_info": {
   "codemirror_mode": {
    "name": "ipython",
    "version": 3
   },
   "file_extension": ".py",
   "mimetype": "text/x-python",
   "name": "python",
   "nbconvert_exporter": "python",
   "pygments_lexer": "ipython3",
   "version": "3.12.7"
  }
 },
 "nbformat": 4,
 "nbformat_minor": 5
}
