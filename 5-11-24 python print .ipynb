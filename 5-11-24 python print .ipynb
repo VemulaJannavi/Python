{
 "cells": [
  {
   "cell_type": "markdown",
   "id": "09946269-f439-4854-9df0-eb75b1d3db94",
   "metadata": {},
   "source": [
    "# print is use for answer"
   ]
  },
  {
   "cell_type": "code",
   "execution_count": 2,
   "id": "03591b59-88dd-4494-9d46-da0455806230",
   "metadata": {},
   "outputs": [
    {
     "data": {
      "text/plain": [
       "20"
      ]
     },
     "execution_count": 2,
     "metadata": {},
     "output_type": "execute_result"
    }
   ],
   "source": [
    "a=10 \n",
    "b=20 \n",
    "a \n",
    "b"
   ]
  },
  {
   "cell_type": "code",
   "execution_count": 3,
   "id": "eaee32f1-4575-4f50-9a82-725efa1b5f40",
   "metadata": {},
   "outputs": [
    {
     "name": "stdout",
     "output_type": "stream",
     "text": [
      "10\n",
      "20\n"
     ]
    }
   ],
   "source": [
    "a=10 \n",
    "b=20 \n",
    "print(a) \n",
    "print(b) "
   ]
  },
  {
   "cell_type": "code",
   "execution_count": 4,
   "id": "f6d8ebc9-0fee-4cb1-8e8f-83c66a21714c",
   "metadata": {},
   "outputs": [
    {
     "name": "stdout",
     "output_type": "stream",
     "text": [
      "10\n",
      "10 20\n",
      "python\n",
      "10 20 python\n"
     ]
    }
   ],
   "source": [
    "print(10) \n",
    "print(10,20) \n",
    "print('python') \n",
    "print(10,20,'python') "
   ]
  },
  {
   "cell_type": "code",
   "execution_count": 5,
   "id": "79627464-eb65-4107-a1c6-65d10e3de2b7",
   "metadata": {},
   "outputs": [
    {
     "name": "stdout",
     "output_type": "stream",
     "text": [
      "50\n"
     ]
    }
   ],
   "source": [
    "num1=20 \n",
    "num2=30 \n",
    "add=num1+num2 \n",
    "print(add) "
   ]
  },
  {
   "cell_type": "markdown",
   "id": "9209654b-3e3c-4eb2-ac46-c7a6ec997bb1",
   "metadata": {},
   "source": [
    "## print result with string"
   ]
  },
  {
   "cell_type": "code",
   "execution_count": 7,
   "id": "c61fa252-b54e-4bb1-9cde-8aaac8ebbb4c",
   "metadata": {},
   "outputs": [
    {
     "name": "stdout",
     "output_type": "stream",
     "text": [
      "The addition of 20 and 30 is= 50\n"
     ]
    }
   ],
   "source": [
    "num1=20 \n",
    "num2=30 \n",
    "add=num1+num2 \n",
    "print('The addition of',num1,'and',num2,'is=',add) "
   ]
  },
  {
   "cell_type": "code",
   "execution_count": 8,
   "id": "4f696b52-7950-4bed-add6-5819f446f3b6",
   "metadata": {},
   "outputs": [],
   "source": [
    "name='Python' \n",
    "age=20 \n",
    "city='hyd' \n",
    "#hellow my name is python and i am 10 year old from hydrabad "
   ]
  },
  {
   "cell_type": "code",
   "execution_count": 9,
   "id": "a9c4815e-5f5f-49d8-a09c-bfc880544e6e",
   "metadata": {},
   "outputs": [
    {
     "name": "stdout",
     "output_type": "stream",
     "text": [
      "My name is Python and i am 20 years old form hyd\n"
     ]
    }
   ],
   "source": [
    "print('My name is',name,'and i am',age,'years old form',city) "
   ]
  },
  {
   "cell_type": "markdown",
   "id": "8f78644e-ee8b-4bd4-b58e-e716e432cea2",
   "metadata": {},
   "source": [
    "#### print Format method"
   ]
  },
  {
   "cell_type": "code",
   "execution_count": 11,
   "id": "db144e75-ff54-4dbe-81a1-a0a1441c8740",
   "metadata": {},
   "outputs": [
    {
     "name": "stdout",
     "output_type": "stream",
     "text": [
      "The addition of 20 and 30 is= 50\n"
     ]
    }
   ],
   "source": [
    "num1=20 \n",
    "num2=30 \n",
    "add=num1+num2 \n",
    "print('The addition of {} and {} is= {}'.format(num1,num2,add))"
   ]
  },
  {
   "cell_type": "markdown",
   "id": "29d89c48-6638-4b1f-9389-96c5f94812b8",
   "metadata": {},
   "source": [
    ". first deside how the print statement should be"
   ]
  },
  {
   "cell_type": "markdown",
   "id": "e6d6b4c9-fe05-4f7a-8dd1-5a15c39c593e",
   "metadata": {},
   "source": [
    ". like:- The addition of 20 and 30 is = 50 "
   ]
  },
  {
   "cell_type": "markdown",
   "id": "6f5acee0-916d-428d-b0e0-ca42f16be112",
   "metadata": {},
   "source": [
    ". then replace the variable position with curly brtacesm { }"
   ]
  },
  {
   "cell_type": "markdown",
   "id": "07548b78-99d3-44a7-84b6-894a0ae9e781",
   "metadata": {},
   "source": [
    ". then appply .format(val1,val2,....val-n methodm"
   ]
  },
  {
   "cell_type": "markdown",
   "id": "00f0ec93-3113-4f98-b734-8bd1c4efce3c",
   "metadata": {},
   "source": [
    "name='Python' \n",
    "age=20 \n",
    "city='hyd' \n",
    "#hellow my name is python and i am 10 year old from hydrabad"
   ]
  },
  {
   "cell_type": "code",
   "execution_count": 18,
   "id": "f5e2e87e-67ba-45d9-9633-431392ffbd5f",
   "metadata": {},
   "outputs": [
    {
     "name": "stdout",
     "output_type": "stream",
     "text": [
      "hello my name is Python, and i am 20 years old from hyd\n"
     ]
    }
   ],
   "source": [
    "print('hello my name is {}, and i am {} years old from {}'\n",
    ".format(name,age,city))"
   ]
  },
  {
   "cell_type": "code",
   "execution_count": 20,
   "id": "8179e39e-d0cb-42de-aa2c-221984889536",
   "metadata": {},
   "outputs": [
    {
     "name": "stdout",
     "output_type": "stream",
     "text": [
      "The avrage of 20, 30, and 333 is= 127.66666666666667 or 127.67\n"
     ]
    }
   ],
   "source": [
    "num1=100 \n",
    "num2=25 \n",
    "num3=333 \n",
    "num1=20 \n",
    "num2=30 \n",
    "avg=(num1+num2+num3)/3 # or we can use avg=round(num1+num2+num3)/3,2) \n",
    "avg1=round((num1+num2+num3)/3,2) \n",
    "# The avrage of num1,num2,num3 is = avg\n",
    "\n",
    "print('The avrage of {}, {}, and {} is= {} or {}'.format(num1,num2,num3, \n",
    "avg,avg1)) # here we can use round(avg,2) also "
   ]
  },
  {
   "cell_type": "code",
   "execution_count": 22,
   "id": "c73b3696-db95-4383-94f6-1059ced14c8a",
   "metadata": {},
   "outputs": [
    {
     "data": {
      "text/plain": [
       "127.67"
      ]
     },
     "execution_count": 22,
     "metadata": {},
     "output_type": "execute_result"
    }
   ],
   "source": [
    "round(avg,2) # round of till 2 digite after decimal"
   ]
  },
  {
   "cell_type": "markdown",
   "id": "3a4d2797-6dd1-42a8-9ddf-a124e67652fb",
   "metadata": {},
   "source": [
    "#### More short format meythod(f string method)"
   ]
  },
  {
   "cell_type": "markdown",
   "id": "25854a12-74ee-41ca-8830-d0e3028c6b69",
   "metadata": {},
   "source": [
    ". variable should be in curly braces"
   ]
  },
  {
   "cell_type": "markdown",
   "id": "27d333aa-2421-4c6a-a0b5-c3c80e635a51",
   "metadata": {},
   "source": [
    ". and write everything inside quots ''"
   ]
  },
  {
   "cell_type": "markdown",
   "id": "825372a8-529b-4cbb-8353-52cbe0d2f3ce",
   "metadata": {},
   "source": [
    ". at starting simpaly add f"
   ]
  },
  {
   "cell_type": "code",
   "execution_count": 27,
   "id": "18ef1f3b-cd0e-41ef-97c6-7ff561789149",
   "metadata": {},
   "outputs": [],
   "source": [
    "num1=20\n",
    "num=30"
   ]
  },
  {
   "cell_type": "code",
   "execution_count": 29,
   "id": "04f2c582-43d0-4a29-9c6b-9aca2d64a685",
   "metadata": {},
   "outputs": [
    {
     "name": "stdout",
     "output_type": "stream",
     "text": [
      "The addition of 20 and 30 is= 50\n"
     ]
    }
   ],
   "source": [
    "add=num1+num2 \n",
    "print(f'The addition of {num1} and {num2} is= {add}') # alwase prefer this"
   ]
  },
  {
   "cell_type": "code",
   "execution_count": 31,
   "id": "639c1b5f-2dd9-415a-9bc2-5e609bbfc06d",
   "metadata": {},
   "outputs": [],
   "source": [
    "name='Python' \n",
    "age=20 \n",
    "city='hyd' \n",
    "#hellow my name is python and i am 10 year old from hydrabad"
   ]
  },
  {
   "cell_type": "code",
   "execution_count": 33,
   "id": "37ede348-23a3-4a4e-a546-d0109d0fe7d3",
   "metadata": {},
   "outputs": [
    {
     "name": "stdout",
     "output_type": "stream",
     "text": [
      "hello my name is Python, and i am 20 year old, from hyd.\n"
     ]
    }
   ],
   "source": [
    "print(f'hello my name is {name}, and i am {age} year old, from {city}.')"
   ]
  },
  {
   "cell_type": "code",
   "execution_count": 35,
   "id": "3ab1a363-0379-4c0c-adf3-26a7b0e82274",
   "metadata": {},
   "outputs": [],
   "source": [
    "num1=100 \n",
    "num2=25 \n",
    "num3=333 \n",
    "avg=round((num1+num2+num3)/3,2) # or we can use avg=round(num1+num2+num3)/3,2) \n",
    "# The avrage of num1,num2,num3 is = avg "
   ]
  },
  {
   "cell_type": "code",
   "execution_count": 37,
   "id": "d3fdc5c1-e70a-40af-a77f-f5dfcad13950",
   "metadata": {},
   "outputs": [
    {
     "name": "stdout",
     "output_type": "stream",
     "text": [
      "The avrage of 100, 25 and 333 is = 152.67\n"
     ]
    }
   ],
   "source": [
    "print(f'The avrage of {num1}, {num2} and {num3} is = {avg}') "
   ]
  },
  {
   "cell_type": "code",
   "execution_count": 39,
   "id": "9983aed0-d4b2-48ae-8e55-9b742e64df8e",
   "metadata": {},
   "outputs": [
    {
     "name": "stdout",
     "output_type": "stream",
     "text": [
      "The addition of 10 and 20 is= 30\n",
      "The addition of 10 and 20 is= 30\n",
      "The addition of 10 and 20 is= 30\n"
     ]
    }
   ],
   "source": [
    "# lete combine all \n",
    "num1=10 \n",
    "num2=20 \n",
    "add = num1+ num2 \n",
    "print('The addition of',num1,'and',num2,'is=',add) \n",
    "print('The addition of {} and {} is= {}'.format(num1,num2,add)) \n",
    "print(f'The addition of {num1} and {num2} is= {add}')"
   ]
  },
  {
   "cell_type": "markdown",
   "id": "9f955077-6142-4ebc-9aa1-4c8c66636de0",
   "metadata": {},
   "source": [
    "## end statement"
   ]
  },
  {
   "cell_type": "code",
   "execution_count": 42,
   "id": "105e2870-8c87-49a7-a7b8-71b5e09f4423",
   "metadata": {},
   "outputs": [
    {
     "name": "stdout",
     "output_type": "stream",
     "text": [
      "hello\n",
      "good moorning\n"
     ]
    }
   ],
   "source": [
    "print('hello') # 1st statement \n",
    "print('good moorning') # 2nd statement) \n",
    "# i want print like:- hellow good morning "
   ]
  },
  {
   "cell_type": "markdown",
   "id": "ec75fe34-4e01-4da2-8703-b834e4c81f25",
   "metadata": {},
   "source": [
    ". Here we will use end statement that joint line from end of one string to starting of other \n",
    "  string"
   ]
  },
  {
   "cell_type": "code",
   "execution_count": 46,
   "id": "06bdf9e3-e0b3-4519-ae86-1b020fdae6e6",
   "metadata": {},
   "outputs": [
    {
     "name": "stdout",
     "output_type": "stream",
     "text": [
      "helloworld good day\n"
     ]
    }
   ],
   "source": [
    "print('hello',end='') # 1st statement\n",
    "print('world good day') # 2nd statement"
   ]
  },
  {
   "cell_type": "markdown",
   "id": "9eb0d3d9-70bf-40ff-97ba-b58defa55a57",
   "metadata": {},
   "source": [
    "## seprator"
   ]
  },
  {
   "cell_type": "markdown",
   "id": "8b3856b1-bd1c-47b4-b62d-40d69c383956",
   "metadata": {},
   "source": [
    ". here one print statement only we use"
   ]
  },
  {
   "cell_type": "markdown",
   "id": "cfce63be-4e9c-403f-a9bd-b12145717d44",
   "metadata": {},
   "source": [
    ". insisde one print statement we have multipal values "
   ]
  },
  {
   "cell_type": "markdown",
   "id": "6512479f-196f-4e1d-b25b-0955f412b995",
   "metadata": {},
   "source": [
    ". we want to seperate these multipal values with anything"
   ]
  },
  {
   "cell_type": "code",
   "execution_count": 49,
   "id": "05f243fa-a026-4c8a-834d-0e227968fbd5",
   "metadata": {},
   "outputs": [
    {
     "name": "stdout",
     "output_type": "stream",
     "text": [
      "hello--->hai--->how are you\n"
     ]
    }
   ],
   "source": [
    "print('hello','hai','how are you',sep='--->')"
   ]
  },
  {
   "cell_type": "code",
   "execution_count": 51,
   "id": "af12cd45-45cf-43ee-b9d9-20d6666cabd6",
   "metadata": {},
   "outputs": [
    {
     "name": "stdout",
     "output_type": "stream",
     "text": [
      "hello&hai&how are you\n"
     ]
    }
   ],
   "source": [
    "print('hello','hai','how are you',sep='&')"
   ]
  },
  {
   "cell_type": "code",
   "execution_count": 53,
   "id": "6d55ec6f-2318-4465-8e06-88ed8a6b72d6",
   "metadata": {},
   "outputs": [
    {
     "name": "stdout",
     "output_type": "stream",
     "text": [
      "hello@hai@how are you\n"
     ]
    }
   ],
   "source": [
    "print('hello','hai','how are you',sep='@')"
   ]
  },
  {
   "cell_type": "code",
   "execution_count": 55,
   "id": "0a28b692-7e1a-4700-9c58-c888a91798e4",
   "metadata": {},
   "outputs": [
    {
     "name": "stdout",
     "output_type": "stream",
     "text": [
      "hello hai how are you\n"
     ]
    }
   ],
   "source": [
    "print('hello','hai','how are you',sep=' ')"
   ]
  },
  {
   "cell_type": "code",
   "execution_count": 57,
   "id": "7a2433d3-7928-4761-a747-dbbb5e65bb05",
   "metadata": {},
   "outputs": [
    {
     "name": "stdout",
     "output_type": "stream",
     "text": [
      "3 .\n"
     ]
    }
   ],
   "source": [
    "print(3,'.') # . is far from 3 so here we will use sep method"
   ]
  },
  {
   "cell_type": "code",
   "execution_count": 59,
   "id": "c8b93d9b-1d6f-4afe-bcaa-3de61939481d",
   "metadata": {},
   "outputs": [
    {
     "name": "stdout",
     "output_type": "stream",
     "text": [
      "3.\n"
     ]
    }
   ],
   "source": [
    "print(3,'.',sep='') # see now space setteld(also use to remove space B/W words"
   ]
  },
  {
   "cell_type": "code",
   "execution_count": 61,
   "id": "27026af1-1c53-43bf-bd02-d55bce4e99d1",
   "metadata": {},
   "outputs": [
    {
     "name": "stdout",
     "output_type": "stream",
     "text": [
      "1 2 3.\n"
     ]
    }
   ],
   "source": [
    "print(1,2,end=' ') \n",
    "print(3,'.',sep='') \n",
    "# will print 1 2 3."
   ]
  }
 ],
 "metadata": {
  "kernelspec": {
   "display_name": "Python 3 (ipykernel)",
   "language": "python",
   "name": "python3"
  },
  "language_info": {
   "codemirror_mode": {
    "name": "ipython",
    "version": 3
   },
   "file_extension": ".py",
   "mimetype": "text/x-python",
   "name": "python",
   "nbconvert_exporter": "python",
   "pygments_lexer": "ipython3",
   "version": "3.12.7"
  }
 },
 "nbformat": 4,
 "nbformat_minor": 5
}
