{
 "cells": [
  {
   "cell_type": "markdown",
   "id": "4ab26631-f4a6-4609-9238-abd6ee55aa1f",
   "metadata": {},
   "source": [
    "## LIST"
   ]
  },
  {
   "cell_type": "code",
   "execution_count": 2,
   "id": "2698fb24-0fd4-40e8-b8f4-605419318d98",
   "metadata": {},
   "outputs": [
    {
     "data": {
      "text/plain": [
       "[]"
      ]
     },
     "execution_count": 2,
     "metadata": {},
     "output_type": "execute_result"
    }
   ],
   "source": [
    "l5 = []\n",
    "l5"
   ]
  },
  {
   "cell_type": "code",
   "execution_count": 3,
   "id": "2f380758-1d87-4383-9ae8-bf7dd8183037",
   "metadata": {},
   "outputs": [
    {
     "data": {
      "text/plain": [
       "0"
      ]
     },
     "execution_count": 3,
     "metadata": {},
     "output_type": "execute_result"
    }
   ],
   "source": [
    "len(l5)"
   ]
  },
  {
   "cell_type": "code",
   "execution_count": 4,
   "id": "b362246b-c999-4de7-985a-16c55f916d43",
   "metadata": {},
   "outputs": [
    {
     "data": {
      "text/plain": [
       "[]"
      ]
     },
     "execution_count": 4,
     "metadata": {},
     "output_type": "execute_result"
    }
   ],
   "source": [
    "l5 = []\n",
    "l5"
   ]
  },
  {
   "cell_type": "code",
   "execution_count": 5,
   "id": "4ae85f26-785a-4372-aeca-635fbecba188",
   "metadata": {},
   "outputs": [
    {
     "data": {
      "text/plain": [
       "0"
      ]
     },
     "execution_count": 5,
     "metadata": {},
     "output_type": "execute_result"
    }
   ],
   "source": [
    "len(l5)"
   ]
  },
  {
   "cell_type": "code",
   "execution_count": 6,
   "id": "0560b6ad-9f1f-4c91-990c-a363ddd59dec",
   "metadata": {},
   "outputs": [],
   "source": [
    "l5.append(10)\n",
    "l5.append(20)\n",
    "l5.append(30)\n",
    "l5.append('nit')\n",
    "l5.append(True)\n",
    "l5.append(1+2j)"
   ]
  },
  {
   "cell_type": "code",
   "execution_count": 7,
   "id": "7e39403c-5bd1-46ca-8d93-60f031297473",
   "metadata": {},
   "outputs": [
    {
     "data": {
      "text/plain": [
       "[10, 20, 30, 'nit', True, (1+2j)]"
      ]
     },
     "execution_count": 7,
     "metadata": {},
     "output_type": "execute_result"
    }
   ],
   "source": [
    "l5"
   ]
  },
  {
   "cell_type": "code",
   "execution_count": 8,
   "id": "21904188-417f-48b6-b965-6d44d1cd2bf7",
   "metadata": {},
   "outputs": [
    {
     "data": {
      "text/plain": [
       "6"
      ]
     },
     "execution_count": 8,
     "metadata": {},
     "output_type": "execute_result"
    }
   ],
   "source": [
    "len(l5)"
   ]
  },
  {
   "cell_type": "code",
   "execution_count": 9,
   "id": "9b07e85a-bf51-43d4-b6da-8d9b5b0b8432",
   "metadata": {},
   "outputs": [
    {
     "name": "stdout",
     "output_type": "stream",
     "text": [
      "10\n",
      "20\n",
      "30\n",
      "nit\n",
      "True\n",
      "(1+2j)\n"
     ]
    }
   ],
   "source": [
    "for i in l5:\n",
    "    print(i)"
   ]
  },
  {
   "cell_type": "code",
   "execution_count": 10,
   "id": "3084cdd9-0ccb-4c08-8b21-3a4904de39d2",
   "metadata": {},
   "outputs": [
    {
     "data": {
      "text/plain": [
       "[10, 20, 30, 'nit', True, (1+2j)]"
      ]
     },
     "execution_count": 10,
     "metadata": {},
     "output_type": "execute_result"
    }
   ],
   "source": [
    "l5"
   ]
  },
  {
   "cell_type": "code",
   "execution_count": 11,
   "id": "3bdb89bb-b2b7-4027-8a5b-13b3ecd2bebb",
   "metadata": {},
   "outputs": [],
   "source": [
    "l5.remove(True)"
   ]
  },
  {
   "cell_type": "code",
   "execution_count": 12,
   "id": "0d009230-33f4-4f20-a0fc-1c95a7366910",
   "metadata": {},
   "outputs": [
    {
     "data": {
      "text/plain": [
       "[10, 20, 30, 'nit', (1+2j)]"
      ]
     },
     "execution_count": 12,
     "metadata": {},
     "output_type": "execute_result"
    }
   ],
   "source": [
    "l5"
   ]
  },
  {
   "cell_type": "code",
   "execution_count": 13,
   "id": "912cdf98-b1c1-44fa-9db5-af6f10e30744",
   "metadata": {},
   "outputs": [],
   "source": [
    "l5.remove(1+2j)"
   ]
  },
  {
   "cell_type": "code",
   "execution_count": 14,
   "id": "ba0294db-819b-402a-b79a-35b5eded1037",
   "metadata": {},
   "outputs": [
    {
     "data": {
      "text/plain": [
       "[10, 20, 30, 'nit']"
      ]
     },
     "execution_count": 14,
     "metadata": {},
     "output_type": "execute_result"
    }
   ],
   "source": [
    "l5"
   ]
  },
  {
   "cell_type": "code",
   "execution_count": 15,
   "id": "3056f2ee-8e19-465b-9f21-2bde566dff63",
   "metadata": {},
   "outputs": [
    {
     "data": {
      "text/plain": [
       "[10, 20, 30, 'nit']"
      ]
     },
     "execution_count": 15,
     "metadata": {},
     "output_type": "execute_result"
    }
   ],
   "source": [
    "l5"
   ]
  },
  {
   "cell_type": "code",
   "execution_count": 16,
   "id": "dd4f747a-0243-4ee5-afc6-0dfe9cbdf5ff",
   "metadata": {},
   "outputs": [],
   "source": [
    "l5.append(10)"
   ]
  },
  {
   "cell_type": "code",
   "execution_count": 17,
   "id": "9b87c9e4-89a7-43ed-abdf-fa87661ea1e1",
   "metadata": {},
   "outputs": [
    {
     "data": {
      "text/plain": [
       "[10, 20, 30, 'nit', 10]"
      ]
     },
     "execution_count": 17,
     "metadata": {},
     "output_type": "execute_result"
    }
   ],
   "source": [
    "l5"
   ]
  },
  {
   "cell_type": "code",
   "execution_count": 18,
   "id": "4c6ef8db-4a69-4b1a-a7f9-1456d7d64d52",
   "metadata": {},
   "outputs": [],
   "source": [
    "l5.remove(10)"
   ]
  },
  {
   "cell_type": "code",
   "execution_count": 19,
   "id": "eab986e6-ee64-48f5-b3b0-7a166f2f7a40",
   "metadata": {},
   "outputs": [
    {
     "data": {
      "text/plain": [
       "[20, 30, 'nit', 10]"
      ]
     },
     "execution_count": 19,
     "metadata": {},
     "output_type": "execute_result"
    }
   ],
   "source": [
    "l5"
   ]
  },
  {
   "cell_type": "code",
   "execution_count": 20,
   "id": "b48bed47-9bef-442f-9a25-0984c36c3699",
   "metadata": {},
   "outputs": [
    {
     "data": {
      "text/plain": [
       "[20, 30, 'nit', 10]"
      ]
     },
     "execution_count": 20,
     "metadata": {},
     "output_type": "execute_result"
    }
   ],
   "source": [
    "l5"
   ]
  },
  {
   "cell_type": "code",
   "execution_count": 21,
   "id": "677e5d2f-3974-41c2-8dac-a7405715baca",
   "metadata": {},
   "outputs": [],
   "source": [
    "l6 = l5.copy()"
   ]
  },
  {
   "cell_type": "code",
   "execution_count": 22,
   "id": "fdf1a92b-61fa-452e-844a-ecc6f138315a",
   "metadata": {},
   "outputs": [
    {
     "data": {
      "text/plain": [
       "[20, 30, 'nit', 10]"
      ]
     },
     "execution_count": 22,
     "metadata": {},
     "output_type": "execute_result"
    }
   ],
   "source": [
    "l6"
   ]
  },
  {
   "cell_type": "code",
   "execution_count": 89,
   "id": "a4f9e6cb-3eb5-4ecf-a2d4-19f5caf4138c",
   "metadata": {},
   "outputs": [
    {
     "data": {
      "text/plain": [
       "[20, 30, 'nit', 10]"
      ]
     },
     "execution_count": 89,
     "metadata": {},
     "output_type": "execute_result"
    }
   ],
   "source": [
    "l5"
   ]
  },
  {
   "cell_type": "code",
   "execution_count": 91,
   "id": "93a0546a-11ea-4156-8d70-13dd733b71c1",
   "metadata": {},
   "outputs": [
    {
     "data": {
      "text/plain": [
       "10"
      ]
     },
     "execution_count": 91,
     "metadata": {},
     "output_type": "execute_result"
    }
   ],
   "source": [
    "l5.pop()"
   ]
  },
  {
   "cell_type": "code",
   "execution_count": 93,
   "id": "1135874c-ceb8-463b-813a-a6a5dfec2ab7",
   "metadata": {},
   "outputs": [
    {
     "data": {
      "text/plain": [
       "[20, 30, 'nit']"
      ]
     },
     "execution_count": 93,
     "metadata": {},
     "output_type": "execute_result"
    }
   ],
   "source": [
    "l5"
   ]
  },
  {
   "cell_type": "code",
   "execution_count": 95,
   "id": "5b0cfb0d-e67d-4b28-a876-41cc892eee6c",
   "metadata": {},
   "outputs": [
    {
     "data": {
      "text/plain": [
       "[20, 30, 'nit', 10]"
      ]
     },
     "execution_count": 95,
     "metadata": {},
     "output_type": "execute_result"
    }
   ],
   "source": [
    "l6"
   ]
  },
  {
   "cell_type": "code",
   "execution_count": 97,
   "id": "2619f870-e217-4907-87de-bc6bab507f11",
   "metadata": {},
   "outputs": [
    {
     "data": {
      "text/plain": [
       "'nit'"
      ]
     },
     "execution_count": 97,
     "metadata": {},
     "output_type": "execute_result"
    }
   ],
   "source": [
    "l6.pop(2)"
   ]
  },
  {
   "cell_type": "code",
   "execution_count": 101,
   "id": "704a7c1b-8b4c-4303-88eb-4645048a3cd4",
   "metadata": {},
   "outputs": [
    {
     "data": {
      "text/plain": [
       "[20, 30, 10]"
      ]
     },
     "execution_count": 101,
     "metadata": {},
     "output_type": "execute_result"
    }
   ],
   "source": [
    "l6"
   ]
  },
  {
   "cell_type": "code",
   "execution_count": 103,
   "id": "df86f2cc-a975-4359-ac46-ea4adccfa9b5",
   "metadata": {},
   "outputs": [
    {
     "data": {
      "text/plain": [
       "[20, 30, 'nit']"
      ]
     },
     "execution_count": 103,
     "metadata": {},
     "output_type": "execute_result"
    }
   ],
   "source": [
    "l5"
   ]
  },
  {
   "cell_type": "code",
   "execution_count": 105,
   "id": "d1f98d0e-428d-4d53-af39-dd75bcae11c6",
   "metadata": {},
   "outputs": [
    {
     "data": {
      "text/plain": [
       "[20, 30, 10]"
      ]
     },
     "execution_count": 105,
     "metadata": {},
     "output_type": "execute_result"
    }
   ],
   "source": [
    "l6"
   ]
  },
  {
   "cell_type": "code",
   "execution_count": 107,
   "id": "2884e0a6-bf6a-472b-9694-ba9b44c5873d",
   "metadata": {},
   "outputs": [],
   "source": [
    "l6.append(5.6)\n",
    "l6.append('nit')\n",
    "l6.append(True)\n",
    "l6.append(False)\n",
    "l6.append(1+5j)"
   ]
  },
  {
   "cell_type": "code",
   "execution_count": 109,
   "id": "04c0ba2e-a24d-4255-8993-2183af9889b3",
   "metadata": {},
   "outputs": [
    {
     "data": {
      "text/plain": [
       "[20, 30, 10, 5.6, 'nit', True, False, (1+5j)]"
      ]
     },
     "execution_count": 109,
     "metadata": {},
     "output_type": "execute_result"
    }
   ],
   "source": [
    "l6"
   ]
  },
  {
   "cell_type": "code",
   "execution_count": 111,
   "id": "029ab347-9d47-468d-9112-01344d3cb24f",
   "metadata": {},
   "outputs": [
    {
     "data": {
      "text/plain": [
       "[20, 30, 10, 5.6, 'nit', True, False, (1+5j)]"
      ]
     },
     "execution_count": 111,
     "metadata": {},
     "output_type": "execute_result"
    }
   ],
   "source": [
    "l6[:]"
   ]
  },
  {
   "cell_type": "code",
   "execution_count": 115,
   "id": "9e1ead3c-56fa-42b6-8aad-04bb8e8e38d5",
   "metadata": {},
   "outputs": [
    {
     "data": {
      "text/plain": [
       "[(1+5j), False, True, 'nit', 5.6, 10, 30, 20]"
      ]
     },
     "execution_count": 115,
     "metadata": {},
     "output_type": "execute_result"
    }
   ],
   "source": [
    "l6[::-1]"
   ]
  },
  {
   "cell_type": "code",
   "execution_count": 117,
   "id": "fc73d5f7-037d-45c4-85ca-44a877f034c1",
   "metadata": {},
   "outputs": [
    {
     "data": {
      "text/plain": [
       "[20, 30, 10, 5.6, 'nit', True, False, (1+5j)]"
      ]
     },
     "execution_count": 117,
     "metadata": {},
     "output_type": "execute_result"
    }
   ],
   "source": [
    "l6"
   ]
  },
  {
   "cell_type": "code",
   "execution_count": 119,
   "id": "c6c7e76a-542a-43c1-8bd0-9eea0b45eb1e",
   "metadata": {},
   "outputs": [
    {
     "data": {
      "text/plain": [
       "20"
      ]
     },
     "execution_count": 119,
     "metadata": {},
     "output_type": "execute_result"
    }
   ],
   "source": [
    "l6[0]"
   ]
  },
  {
   "cell_type": "code",
   "execution_count": 122,
   "id": "c3a0d152-6f30-43a2-a7d1-76f4a2611ee9",
   "metadata": {},
   "outputs": [
    {
     "data": {
      "text/plain": [
       "[20, 30, 10, 5.6, 'nit', True, False, (1+5j)]"
      ]
     },
     "execution_count": 122,
     "metadata": {},
     "output_type": "execute_result"
    }
   ],
   "source": [
    "l6"
   ]
  },
  {
   "cell_type": "code",
   "execution_count": 124,
   "id": "57aba909-1918-4359-af5f-0b4e4510eb89",
   "metadata": {},
   "outputs": [],
   "source": [
    "l6[0] = 100"
   ]
  },
  {
   "cell_type": "code",
   "execution_count": 126,
   "id": "3ba4d728-dbc8-4f30-b654-853268c32351",
   "metadata": {},
   "outputs": [
    {
     "data": {
      "text/plain": [
       "[100, 30, 10, 5.6, 'nit', True, False, (1+5j)]"
      ]
     },
     "execution_count": 126,
     "metadata": {},
     "output_type": "execute_result"
    }
   ],
   "source": [
    "l6"
   ]
  },
  {
   "cell_type": "code",
   "execution_count": 128,
   "id": "dc732ca8-2e58-49f0-9b22-604d5d86e099",
   "metadata": {},
   "outputs": [],
   "source": [
    "l6[-1] = 200"
   ]
  },
  {
   "cell_type": "code",
   "execution_count": 131,
   "id": "14d8044c-8055-4ad0-b0f0-7139b0f0706f",
   "metadata": {},
   "outputs": [
    {
     "data": {
      "text/plain": [
       "[100, 30, 10, 5.6, 'nit', True, False, 200]"
      ]
     },
     "execution_count": 131,
     "metadata": {},
     "output_type": "execute_result"
    }
   ],
   "source": [
    "l6"
   ]
  },
  {
   "cell_type": "code",
   "execution_count": 135,
   "id": "c7e6ae13-a0ab-4a57-9675-99c7cc58dffc",
   "metadata": {},
   "outputs": [
    {
     "ename": "IndexError",
     "evalue": "list index out of range",
     "output_type": "error",
     "traceback": [
      "\u001b[1;31m---------------------------------------------------------------------------\u001b[0m",
      "\u001b[1;31mIndexError\u001b[0m                                Traceback (most recent call last)",
      "Cell \u001b[1;32mIn[135], line 1\u001b[0m\n\u001b[1;32m----> 1\u001b[0m l6[\u001b[38;5;241m10\u001b[39m]\n",
      "\u001b[1;31mIndexError\u001b[0m: list index out of range"
     ]
    }
   ],
   "source": [
    "l6[10]"
   ]
  },
  {
   "cell_type": "code",
   "execution_count": 139,
   "id": "be9096ab-3f64-4069-ac21-526bfea27daf",
   "metadata": {},
   "outputs": [
    {
     "data": {
      "text/plain": [
       "[100, 10, 'nit', False]"
      ]
     },
     "execution_count": 139,
     "metadata": {},
     "output_type": "execute_result"
    }
   ],
   "source": [
    "l6[0:10:2]"
   ]
  },
  {
   "cell_type": "code",
   "execution_count": 141,
   "id": "3d71c739-7cfa-4059-8485-0b4077cb0584",
   "metadata": {},
   "outputs": [
    {
     "data": {
      "text/plain": [
       "[100, 30, 10, 5.6, 'nit', True, False, 200]"
      ]
     },
     "execution_count": 141,
     "metadata": {},
     "output_type": "execute_result"
    }
   ],
   "source": [
    "l6"
   ]
  },
  {
   "cell_type": "code",
   "execution_count": 143,
   "id": "04f12b95-2828-44a2-b3cd-7d54b6cea5e3",
   "metadata": {},
   "outputs": [
    {
     "data": {
      "text/plain": [
       "1"
      ]
     },
     "execution_count": 143,
     "metadata": {},
     "output_type": "execute_result"
    }
   ],
   "source": [
    "l6.count(10)"
   ]
  },
  {
   "cell_type": "code",
   "execution_count": 145,
   "id": "c2cef589-e43d-4c79-8223-e8c38d50082b",
   "metadata": {},
   "outputs": [
    {
     "data": {
      "text/plain": [
       "0"
      ]
     },
     "execution_count": 145,
     "metadata": {},
     "output_type": "execute_result"
    }
   ],
   "source": [
    "l6.count(5)"
   ]
  },
  {
   "cell_type": "code",
   "execution_count": 151,
   "id": "176b1f3f-9942-43b6-8b7d-bd814f70b753",
   "metadata": {},
   "outputs": [],
   "source": [
    "l6.append(10)"
   ]
  },
  {
   "cell_type": "code",
   "execution_count": 153,
   "id": "89f62fc2-a5fe-4c29-ba75-9d1eb985b80e",
   "metadata": {},
   "outputs": [
    {
     "data": {
      "text/plain": [
       "[100, 30, 10, 5.6, 'nit', True, False, 200, 10, 10]"
      ]
     },
     "execution_count": 153,
     "metadata": {},
     "output_type": "execute_result"
    }
   ],
   "source": [
    "l6"
   ]
  },
  {
   "cell_type": "code",
   "execution_count": 155,
   "id": "cec22e87-fd98-4c96-ad32-e6adf5cecd6a",
   "metadata": {},
   "outputs": [
    {
     "data": {
      "text/plain": [
       "3"
      ]
     },
     "execution_count": 155,
     "metadata": {},
     "output_type": "execute_result"
    }
   ],
   "source": [
    "l6.count(10) "
   ]
  },
  {
   "cell_type": "code",
   "execution_count": 157,
   "id": "c12497d0-b728-4687-a2ac-48e91474ed16",
   "metadata": {},
   "outputs": [
    {
     "data": {
      "text/plain": [
       "[20, 30, 'nit']"
      ]
     },
     "execution_count": 157,
     "metadata": {},
     "output_type": "execute_result"
    }
   ],
   "source": [
    "l5"
   ]
  },
  {
   "cell_type": "code",
   "execution_count": 159,
   "id": "6933f19f-2fbe-46a9-a7af-2c143fabecc5",
   "metadata": {},
   "outputs": [
    {
     "data": {
      "text/plain": [
       "[100, 30, 10, 5.6, 'nit', True, False, 200, 10, 10]"
      ]
     },
     "execution_count": 159,
     "metadata": {},
     "output_type": "execute_result"
    }
   ],
   "source": [
    "l6"
   ]
  },
  {
   "cell_type": "code",
   "execution_count": 161,
   "id": "b550a1a4-f6df-4000-aea1-c81694a6e45a",
   "metadata": {},
   "outputs": [],
   "source": [
    "l7 = []"
   ]
  },
  {
   "cell_type": "code",
   "execution_count": 165,
   "id": "cf5c00b0-4bbf-4930-9fd4-a26a6e0518bd",
   "metadata": {},
   "outputs": [],
   "source": [
    "l7 = l7.extend(l6)"
   ]
  },
  {
   "cell_type": "code",
   "execution_count": 167,
   "id": "c85b48ee-f73a-4e14-8122-3777e43aa7e0",
   "metadata": {},
   "outputs": [],
   "source": [
    "l7"
   ]
  },
  {
   "cell_type": "code",
   "execution_count": 171,
   "id": "5c427018-29b3-49fa-85c0-6f872ed4d490",
   "metadata": {},
   "outputs": [],
   "source": [
    "l5.extend(l6)"
   ]
  },
  {
   "cell_type": "code",
   "execution_count": 173,
   "id": "11706c0b-0c78-4f8e-ab27-97b230a46310",
   "metadata": {},
   "outputs": [
    {
     "data": {
      "text/plain": [
       "[20, 30, 'nit', 100, 30, 10, 5.6, 'nit', True, False, 200, 10, 10]"
      ]
     },
     "execution_count": 173,
     "metadata": {},
     "output_type": "execute_result"
    }
   ],
   "source": [
    "l5"
   ]
  },
  {
   "cell_type": "code",
   "execution_count": 177,
   "id": "7c926cd4-8f6d-45d6-930d-b599dcf7190c",
   "metadata": {},
   "outputs": [],
   "source": [
    "l5.extend(l6)"
   ]
  },
  {
   "cell_type": "code",
   "execution_count": 179,
   "id": "b9ec11a9-38cb-404c-b5fd-7a60917b5f9a",
   "metadata": {},
   "outputs": [],
   "source": [
    "l7"
   ]
  },
  {
   "cell_type": "code",
   "execution_count": 181,
   "id": "f58c7abb-1643-42d8-ad6f-0269c565eb0b",
   "metadata": {},
   "outputs": [],
   "source": [
    "l8 = [1,2,3]"
   ]
  },
  {
   "cell_type": "code",
   "execution_count": 183,
   "id": "2e272d64-1fcf-4aea-b0b1-62de00f2c392",
   "metadata": {},
   "outputs": [],
   "source": [
    "l9 = [4,5,6]"
   ]
  },
  {
   "cell_type": "code",
   "execution_count": 185,
   "id": "be758606-ff4a-45f7-83ac-b1cbaf2ae164",
   "metadata": {},
   "outputs": [],
   "source": [
    "l8.extend(l8)"
   ]
  },
  {
   "cell_type": "code",
   "execution_count": 187,
   "id": "b1b5463d-3852-4d20-b35e-2fef5a566dcb",
   "metadata": {},
   "outputs": [
    {
     "data": {
      "text/plain": [
       "[4, 5, 6]"
      ]
     },
     "execution_count": 187,
     "metadata": {},
     "output_type": "execute_result"
    }
   ],
   "source": [
    "l9"
   ]
  },
  {
   "cell_type": "code",
   "execution_count": 189,
   "id": "4573a552-d566-417c-a200-c1a1a4840179",
   "metadata": {},
   "outputs": [],
   "source": [
    "l9.extend(l8)"
   ]
  },
  {
   "cell_type": "code",
   "execution_count": 191,
   "id": "6ec8a3c4-401a-4612-8fc9-8c5bba1164ac",
   "metadata": {},
   "outputs": [
    {
     "data": {
      "text/plain": [
       "[4, 5, 6, 1, 2, 3, 1, 2, 3]"
      ]
     },
     "execution_count": 191,
     "metadata": {},
     "output_type": "execute_result"
    }
   ],
   "source": [
    "l9"
   ]
  },
  {
   "cell_type": "code",
   "execution_count": 193,
   "id": "d83d0cc7-a399-46f6-85ef-19a209255f3a",
   "metadata": {},
   "outputs": [
    {
     "data": {
      "text/plain": [
       "[100, 30, 10, 5.6, 'nit', True, False, 200, 10, 10]"
      ]
     },
     "execution_count": 193,
     "metadata": {},
     "output_type": "execute_result"
    }
   ],
   "source": [
    "l6"
   ]
  },
  {
   "cell_type": "code",
   "execution_count": 195,
   "id": "cf3b6830-0089-4bb0-b128-13f0ecdfb9d1",
   "metadata": {},
   "outputs": [
    {
     "data": {
      "text/plain": [
       "0"
      ]
     },
     "execution_count": 195,
     "metadata": {},
     "output_type": "execute_result"
    }
   ],
   "source": [
    "l6.index(100)"
   ]
  },
  {
   "cell_type": "code",
   "execution_count": 199,
   "id": "9047b04f-f5b1-4494-ae61-9064627a1c90",
   "metadata": {},
   "outputs": [
    {
     "data": {
      "text/plain": [
       "7"
      ]
     },
     "execution_count": 199,
     "metadata": {},
     "output_type": "execute_result"
    }
   ],
   "source": [
    "l6.index(200)"
   ]
  },
  {
   "cell_type": "code",
   "execution_count": 201,
   "id": "68bc61e4-4115-400e-8fc5-bdd48bfa6662",
   "metadata": {},
   "outputs": [
    {
     "data": {
      "text/plain": [
       "[100, 30, 10, 5.6, 'nit', True, False, 200, 10, 10]"
      ]
     },
     "execution_count": 201,
     "metadata": {},
     "output_type": "execute_result"
    }
   ],
   "source": [
    "l6"
   ]
  },
  {
   "cell_type": "code",
   "execution_count": 203,
   "id": "6a393f86-9cc0-4d73-9a64-79e6445747f3",
   "metadata": {},
   "outputs": [
    {
     "data": {
      "text/plain": [
       "10"
      ]
     },
     "execution_count": 203,
     "metadata": {},
     "output_type": "execute_result"
    }
   ],
   "source": [
    "l6[-2]"
   ]
  },
  {
   "cell_type": "code",
   "execution_count": 205,
   "id": "8d262799-dd62-4ca5-ac49-ea45271b1481",
   "metadata": {},
   "outputs": [
    {
     "data": {
      "text/plain": [
       "[100, 30, 10, 5.6, 'nit', True, False, 200, 10, 10]"
      ]
     },
     "execution_count": 205,
     "metadata": {},
     "output_type": "execute_result"
    }
   ],
   "source": [
    "l6"
   ]
  },
  {
   "cell_type": "code",
   "execution_count": 207,
   "id": "591a5a42-c7e9-45d2-9210-37f80eb6ef8b",
   "metadata": {},
   "outputs": [],
   "source": [
    "l6.reverse()"
   ]
  },
  {
   "cell_type": "code",
   "execution_count": 209,
   "id": "2b289394-d10a-419a-a658-77a05125e174",
   "metadata": {},
   "outputs": [
    {
     "data": {
      "text/plain": [
       "[10, 10, 200, False, True, 'nit', 5.6, 10, 30, 100]"
      ]
     },
     "execution_count": 209,
     "metadata": {},
     "output_type": "execute_result"
    }
   ],
   "source": [
    "l6"
   ]
  },
  {
   "cell_type": "code",
   "execution_count": 217,
   "id": "4655c85b-076b-45e6-acdb-8eb5c5711a5a",
   "metadata": {},
   "outputs": [
    {
     "data": {
      "text/plain": [
       "[1, 2, 3]"
      ]
     },
     "execution_count": 217,
     "metadata": {},
     "output_type": "execute_result"
    }
   ],
   "source": [
    "l9 = [1,2,3]\n",
    "l9"
   ]
  },
  {
   "cell_type": "code",
   "execution_count": 221,
   "id": "6582c3d7-d181-4336-8db2-0118f0866cf2",
   "metadata": {},
   "outputs": [],
   "source": [
    "l9.reverse()"
   ]
  },
  {
   "cell_type": "code",
   "execution_count": 223,
   "id": "4fd58b22-d4fb-4b33-b334-bf4277c012ae",
   "metadata": {},
   "outputs": [
    {
     "data": {
      "text/plain": [
       "[3, 2, 1]"
      ]
     },
     "execution_count": 223,
     "metadata": {},
     "output_type": "execute_result"
    }
   ],
   "source": [
    "l9"
   ]
  },
  {
   "cell_type": "code",
   "execution_count": 225,
   "id": "95768f9e-02fc-4f51-92e3-d6aa797dfbf6",
   "metadata": {},
   "outputs": [],
   "source": [
    "l10 = [10,30,40]"
   ]
  },
  {
   "cell_type": "code",
   "execution_count": 229,
   "id": "4d8bbae5-d918-4998-933f-d33552165f3e",
   "metadata": {},
   "outputs": [
    {
     "data": {
      "text/plain": [
       "[10, 30, 40]"
      ]
     },
     "execution_count": 229,
     "metadata": {},
     "output_type": "execute_result"
    }
   ],
   "source": [
    "l10"
   ]
  },
  {
   "cell_type": "code",
   "execution_count": 231,
   "id": "36b6b5f1-aae1-4f3d-9889-79732b6d9220",
   "metadata": {},
   "outputs": [],
   "source": [
    "l10.insert(1,20)"
   ]
  },
  {
   "cell_type": "code",
   "execution_count": 233,
   "id": "574ef6a9-448c-40a9-999c-87a8e39adfd4",
   "metadata": {},
   "outputs": [
    {
     "data": {
      "text/plain": [
       "[10, 20, 30, 40]"
      ]
     },
     "execution_count": 233,
     "metadata": {},
     "output_type": "execute_result"
    }
   ],
   "source": [
    "l10"
   ]
  },
  {
   "cell_type": "code",
   "execution_count": 235,
   "id": "9df22b71-2669-462e-abd0-2bcb8720c333",
   "metadata": {},
   "outputs": [
    {
     "ename": "TypeError",
     "evalue": "insert expected 2 arguments, got 1",
     "output_type": "error",
     "traceback": [
      "\u001b[1;31m---------------------------------------------------------------------------\u001b[0m",
      "\u001b[1;31mTypeError\u001b[0m                                 Traceback (most recent call last)",
      "Cell \u001b[1;32mIn[235], line 1\u001b[0m\n\u001b[1;32m----> 1\u001b[0m l10\u001b[38;5;241m.\u001b[39minsert(\u001b[38;5;241m0\u001b[39m)\n",
      "\u001b[1;31mTypeError\u001b[0m: insert expected 2 arguments, got 1"
     ]
    }
   ],
   "source": [
    "l10.insert(0)"
   ]
  },
  {
   "cell_type": "code",
   "execution_count": 237,
   "id": "26e7e94c-0226-4a3e-9a31-0df18e41c9a9",
   "metadata": {},
   "outputs": [
    {
     "data": {
      "text/plain": [
       "[10, 10, 200, False, True, 'nit', 5.6, 10, 30, 100]"
      ]
     },
     "execution_count": 237,
     "metadata": {},
     "output_type": "execute_result"
    }
   ],
   "source": [
    "l6"
   ]
  },
  {
   "cell_type": "code",
   "execution_count": 239,
   "id": "03871ff5-2166-40bf-9016-9f4a4776bfa1",
   "metadata": {},
   "outputs": [
    {
     "data": {
      "text/plain": [
       "[20,\n",
       " 30,\n",
       " 'nit',\n",
       " 100,\n",
       " 30,\n",
       " 10,\n",
       " 5.6,\n",
       " 'nit',\n",
       " True,\n",
       " False,\n",
       " 200,\n",
       " 10,\n",
       " 10,\n",
       " 100,\n",
       " 30,\n",
       " 10,\n",
       " 5.6,\n",
       " 'nit',\n",
       " True,\n",
       " False,\n",
       " 200,\n",
       " 10,\n",
       " 10]"
      ]
     },
     "execution_count": 239,
     "metadata": {},
     "output_type": "execute_result"
    }
   ],
   "source": [
    "l5"
   ]
  },
  {
   "cell_type": "code",
   "execution_count": 241,
   "id": "2e619751-e314-4c45-8554-c91c9dab3504",
   "metadata": {},
   "outputs": [
    {
     "data": {
      "text/plain": [
       "[3, 2, 1]"
      ]
     },
     "execution_count": 241,
     "metadata": {},
     "output_type": "execute_result"
    }
   ],
   "source": [
    "l9"
   ]
  },
  {
   "cell_type": "code",
   "execution_count": 243,
   "id": "fc73bbdf-d816-4cac-a5b8-c3a267d3bd33",
   "metadata": {},
   "outputs": [
    {
     "data": {
      "text/plain": [
       "[1, 2, 3, 1, 2, 3]"
      ]
     },
     "execution_count": 243,
     "metadata": {},
     "output_type": "execute_result"
    }
   ],
   "source": [
    "l8"
   ]
  },
  {
   "cell_type": "code",
   "execution_count": 245,
   "id": "410c1684-7273-41e7-8c67-7b54a619eb44",
   "metadata": {},
   "outputs": [],
   "source": [
    "l8.reverse()"
   ]
  },
  {
   "cell_type": "code",
   "execution_count": 247,
   "id": "011bd9a9-eccb-4001-9eb7-5683526833a0",
   "metadata": {},
   "outputs": [
    {
     "data": {
      "text/plain": [
       "[3, 2, 1, 3, 2, 1]"
      ]
     },
     "execution_count": 247,
     "metadata": {},
     "output_type": "execute_result"
    }
   ],
   "source": [
    "l8"
   ]
  },
  {
   "cell_type": "code",
   "execution_count": 255,
   "id": "3223946e-3efb-43bb-89fe-10787d4bcfb6",
   "metadata": {},
   "outputs": [
    {
     "data": {
      "text/plain": [
       "[4, 70, 3, 100]"
      ]
     },
     "execution_count": 255,
     "metadata": {},
     "output_type": "execute_result"
    }
   ],
   "source": [
    "l1_ = [4,70,3,100]\n",
    "l1_"
   ]
  },
  {
   "cell_type": "code",
   "execution_count": 257,
   "id": "69849461-7562-4cd6-9d11-40b95db67efa",
   "metadata": {},
   "outputs": [],
   "source": [
    "l1_.sort()"
   ]
  },
  {
   "cell_type": "code",
   "execution_count": 259,
   "id": "17924243-52c6-4fde-987d-1fcfc7ba035a",
   "metadata": {},
   "outputs": [
    {
     "data": {
      "text/plain": [
       "[3, 4, 70, 100]"
      ]
     },
     "execution_count": 259,
     "metadata": {},
     "output_type": "execute_result"
    }
   ],
   "source": [
    "l1_"
   ]
  },
  {
   "cell_type": "code",
   "execution_count": 261,
   "id": "5c083c75-6f2d-405f-93e1-8d0cccea2bbe",
   "metadata": {},
   "outputs": [],
   "source": [
    "l1_.sort(reverse=True)"
   ]
  },
  {
   "cell_type": "code",
   "execution_count": 263,
   "id": "b698dd07-f545-41c9-abbf-6ca472f40566",
   "metadata": {},
   "outputs": [
    {
     "data": {
      "text/plain": [
       "[100, 70, 4, 3]"
      ]
     },
     "execution_count": 263,
     "metadata": {},
     "output_type": "execute_result"
    }
   ],
   "source": [
    "l1_"
   ]
  }
 ],
 "metadata": {
  "kernelspec": {
   "display_name": "Python 3 (ipykernel)",
   "language": "python",
   "name": "python3"
  },
  "language_info": {
   "codemirror_mode": {
    "name": "ipython",
    "version": 3
   },
   "file_extension": ".py",
   "mimetype": "text/x-python",
   "name": "python",
   "nbconvert_exporter": "python",
   "pygments_lexer": "ipython3",
   "version": "3.12.7"
  }
 },
 "nbformat": 4,
 "nbformat_minor": 5
}
